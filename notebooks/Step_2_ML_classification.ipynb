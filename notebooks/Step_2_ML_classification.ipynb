{
 "cells": [
  {
   "cell_type": "code",
   "execution_count": 1,
   "id": "d576ad26-2254-4014-b65f-9a33cc3a5eb0",
   "metadata": {},
   "outputs": [],
   "source": [
    "import warnings\n",
    "warnings.filterwarnings(\"ignore\")\n",
    "\n",
    "from pathlib import Path\n",
    "import sys, math\n",
    "import gc\n",
    "import pandas as pd\n",
    "import numpy as np\n",
    "from time import perf_counter\n",
    "from tqdm.notebook import tqdm\n",
    "notebook_dir = Path().resolve()\n",
    "sys.path.append(str(notebook_dir.parent / \"src\"))\n",
    "import matplotlib.pyplot as plt\n",
    "import seaborn as sns\n",
    "\n",
    "from preprocessor.preprocessing import IMDBPreprocessor\n",
    "from models.naive_bayes import NaiveBayes\n",
    "from models.knn import KNN\n",
    "from vectorizer.bag_of_words import BoWVectorizer  \n",
    "from vectorizer.tfidf import TfidfVectorizerScratch\n",
    "from sklearn.metrics import accuracy_score, classification_report, confusion_matrix, f1_score, ConfusionMatrixDisplay\n",
    "from sklearn.model_selection import train_test_split\n",
    "\n",
    "project_root = notebook_dir.parent"
   ]
  },
  {
   "cell_type": "code",
   "execution_count": 2,
   "id": "ac8095c4-85d7-4a4f-ba06-183515aeb437",
   "metadata": {},
   "outputs": [
    {
     "data": {
      "text/html": [
       "\n",
       "<style>\n",
       ".container { width:100% !important; }\n",
       ".output_png { display: block; margin-left: auto; margin-right: auto; }\n",
       "</style>\n"
      ],
      "text/plain": [
       "<IPython.core.display.HTML object>"
      ]
     },
     "execution_count": 2,
     "metadata": {},
     "output_type": "execute_result"
    }
   ],
   "source": [
    "from IPython.display import HTML\n",
    "import matplotlib.pyplot as plt\n",
    "\n",
    "plt.rcParams[\"figure.figsize\"] = (20, 6)\n",
    "\n",
    "HTML(\"\"\"\n",
    "<style>\n",
    ".container { width:100% !important; }\n",
    ".output_png { display: block; margin-left: auto; margin-right: auto; }\n",
    "</style>\n",
    "\"\"\")"
   ]
  },
  {
   "cell_type": "code",
   "execution_count": 3,
   "id": "ad59b778-9b6a-4440-8aae-02e378e7fe29",
   "metadata": {},
   "outputs": [],
   "source": [
    "df = pd.read_parquet(project_root / \"data\" / \"imdb_reviews.parquet\")\n",
    "df = df[[\"review\", \"sentiment\"]].dropna().reset_index(drop=True)"
   ]
  },
  {
   "cell_type": "code",
   "execution_count": 4,
   "id": "a2cf68d4-9411-4376-9bbf-b4782b6790cf",
   "metadata": {},
   "outputs": [],
   "source": [
    "X_train_text, X_test_text, y_train, y_test = train_test_split(\n",
    "    df[\"review\"].astype(str), df[\"sentiment\"].astype(int), test_size=0.2, random_state=42, stratify=df[\"sentiment\"]\n",
    ")"
   ]
  },
  {
   "cell_type": "code",
   "execution_count": 5,
   "id": "d127c0e7-49d1-4872-b635-a8b7937254db",
   "metadata": {},
   "outputs": [],
   "source": [
    "X_train_tok = X_train_text.str.split().tolist()\n",
    "X_test_tok  = X_test_text.str.split().tolist()"
   ]
  },
  {
   "cell_type": "markdown",
   "id": "f94ff3ad-1bf8-41ce-8de1-909429b064b5",
   "metadata": {},
   "source": [
    "## BOW + naive bayes"
   ]
  },
  {
   "cell_type": "code",
   "execution_count": 6,
   "id": "b665de31-c646-4cc0-b7cb-af870d8b7556",
   "metadata": {},
   "outputs": [],
   "source": [
    "vectorizers = {\n",
    "    \"bow\": lambda: BoWVectorizer(binary=False, min_df=2),\n",
    "    \"bow_binary\": lambda: BoWVectorizer(binary=True, min_df=2),\n",
    "    \"tfidf\": lambda: TfidfVectorizerScratch(min_df=2, sublinear_tf=False, l2_norm=False),\n",
    "    \"tfidf_norm\": lambda: TfidfVectorizerScratch(min_df=2, sublinear_tf=True, l2_norm=True),\n",
    "}\n",
    "\n",
    "models = {\n",
    "    \"naive_bayes\": lambda: NaiveBayes(alpha=1.0),\n",
    "    \"knn\": lambda: KNN(k=7, distance_metric=\"cosine\"),\n",
    "}"
   ]
  },
  {
   "cell_type": "code",
   "execution_count": 7,
   "id": "98ef3545-e134-4ff1-b5a3-23bc103b1956",
   "metadata": {},
   "outputs": [
    {
     "data": {
      "application/vnd.jupyter.widget-view+json": {
       "model_id": "712bfb8fde4b412592aa44bd58a60c70",
       "version_major": 2,
       "version_minor": 0
      },
      "text/plain": [
       "Vectorizers:   0%|          | 0/4 [00:00<?, ?it/s]"
      ]
     },
     "metadata": {},
     "output_type": "display_data"
    },
    {
     "data": {
      "application/vnd.jupyter.widget-view+json": {
       "model_id": "",
       "version_major": 2,
       "version_minor": 0
      },
      "text/plain": [
       "Models (bow):   0%|          | 0/2 [00:00<?, ?it/s]"
      ]
     },
     "metadata": {},
     "output_type": "display_data"
    },
    {
     "data": {
      "application/vnd.jupyter.widget-view+json": {
       "model_id": "",
       "version_major": 2,
       "version_minor": 0
      },
      "text/plain": [
       "Models (bow_binary):   0%|          | 0/2 [00:00<?, ?it/s]"
      ]
     },
     "metadata": {},
     "output_type": "display_data"
    },
    {
     "data": {
      "application/vnd.jupyter.widget-view+json": {
       "model_id": "",
       "version_major": 2,
       "version_minor": 0
      },
      "text/plain": [
       "Models (tfidf):   0%|          | 0/2 [00:00<?, ?it/s]"
      ]
     },
     "metadata": {},
     "output_type": "display_data"
    },
    {
     "data": {
      "application/vnd.jupyter.widget-view+json": {
       "model_id": "",
       "version_major": 2,
       "version_minor": 0
      },
      "text/plain": [
       "Models (tfidf_norm):   0%|          | 0/2 [00:00<?, ?it/s]"
      ]
     },
     "metadata": {},
     "output_type": "display_data"
    }
   ],
   "source": [
    "results = []  # store only y_true & y_pred for each combination\n",
    "\n",
    "v_items = list(vectorizers.items())\n",
    "m_items = list(models.items())\n",
    "\n",
    "for v_name, v_ctor in tqdm(v_items, desc=\"Vectorizers\", total=len(v_items)):\n",
    "    vec = v_ctor()\n",
    "    X_tr = vec.fit_transform(X_train_tok)\n",
    "    X_te = vec.transform(X_test_tok)\n",
    "\n",
    "    for m_name, m_ctor in tqdm(m_items, desc=f\"Models ({v_name})\", total=len(m_items), leave=False):\n",
    "        model = m_ctor()\n",
    "        model.fit(X_tr, y_train.tolist())\n",
    "        y_pred = model.predict(X_te)\n",
    "\n",
    "        results.append({\n",
    "            \"vectorizer\": v_name,\n",
    "            \"model\": m_name,\n",
    "            \"y_true\": y_test.to_numpy() if hasattr(y_test, \"to_numpy\") else np.asarray(y_test),\n",
    "            \"y_pred\": np.asarray(y_pred),\n",
    "        })\n",
    "\n",
    "        del model, y_pred\n",
    "        gc.collect()\n",
    "\n",
    "    del X_tr, X_te, vec\n",
    "    gc.collect()\n"
   ]
  },
  {
   "cell_type": "code",
   "execution_count": 8,
   "id": "2965269e-4642-4318-a558-4db04c9e3b04",
   "metadata": {},
   "outputs": [
    {
     "data": {
      "text/html": [
       "<div>\n",
       "<style scoped>\n",
       "    .dataframe tbody tr th:only-of-type {\n",
       "        vertical-align: middle;\n",
       "    }\n",
       "\n",
       "    .dataframe tbody tr th {\n",
       "        vertical-align: top;\n",
       "    }\n",
       "\n",
       "    .dataframe thead th {\n",
       "        text-align: right;\n",
       "    }\n",
       "</style>\n",
       "<table border=\"1\" class=\"dataframe\">\n",
       "  <thead>\n",
       "    <tr style=\"text-align: right;\">\n",
       "      <th></th>\n",
       "      <th>vectorizer</th>\n",
       "      <th>model</th>\n",
       "      <th>accuracy</th>\n",
       "      <th>f1</th>\n",
       "    </tr>\n",
       "  </thead>\n",
       "  <tbody>\n",
       "    <tr>\n",
       "      <th>0</th>\n",
       "      <td>tfidf_norm</td>\n",
       "      <td>naive_bayes</td>\n",
       "      <td>0.868004</td>\n",
       "      <td>0.867066</td>\n",
       "    </tr>\n",
       "    <tr>\n",
       "      <th>1</th>\n",
       "      <td>bow_binary</td>\n",
       "      <td>naive_bayes</td>\n",
       "      <td>0.861853</td>\n",
       "      <td>0.859890</td>\n",
       "    </tr>\n",
       "    <tr>\n",
       "      <th>2</th>\n",
       "      <td>bow</td>\n",
       "      <td>naive_bayes</td>\n",
       "      <td>0.858425</td>\n",
       "      <td>0.856177</td>\n",
       "    </tr>\n",
       "    <tr>\n",
       "      <th>3</th>\n",
       "      <td>tfidf</td>\n",
       "      <td>naive_bayes</td>\n",
       "      <td>0.849450</td>\n",
       "      <td>0.846288</td>\n",
       "    </tr>\n",
       "    <tr>\n",
       "      <th>4</th>\n",
       "      <td>tfidf_norm</td>\n",
       "      <td>knn</td>\n",
       "      <td>0.820510</td>\n",
       "      <td>0.830637</td>\n",
       "    </tr>\n",
       "    <tr>\n",
       "      <th>5</th>\n",
       "      <td>bow_binary</td>\n",
       "      <td>knn</td>\n",
       "      <td>0.809116</td>\n",
       "      <td>0.813000</td>\n",
       "    </tr>\n",
       "    <tr>\n",
       "      <th>6</th>\n",
       "      <td>tfidf</td>\n",
       "      <td>knn</td>\n",
       "      <td>0.789957</td>\n",
       "      <td>0.803026</td>\n",
       "    </tr>\n",
       "    <tr>\n",
       "      <th>7</th>\n",
       "      <td>bow</td>\n",
       "      <td>knn</td>\n",
       "      <td>0.757285</td>\n",
       "      <td>0.763904</td>\n",
       "    </tr>\n",
       "  </tbody>\n",
       "</table>\n",
       "</div>"
      ],
      "text/plain": [
       "   vectorizer        model  accuracy        f1\n",
       "0  tfidf_norm  naive_bayes  0.868004  0.867066\n",
       "1  bow_binary  naive_bayes  0.861853  0.859890\n",
       "2         bow  naive_bayes  0.858425  0.856177\n",
       "3       tfidf  naive_bayes  0.849450  0.846288\n",
       "4  tfidf_norm          knn  0.820510  0.830637\n",
       "5  bow_binary          knn  0.809116  0.813000\n",
       "6       tfidf          knn  0.789957  0.803026\n",
       "7         bow          knn  0.757285  0.763904"
      ]
     },
     "execution_count": 8,
     "metadata": {},
     "output_type": "execute_result"
    }
   ],
   "source": [
    "summary = []\n",
    "for r in results:\n",
    "    acc = accuracy_score(r[\"y_true\"], r[\"y_pred\"])\n",
    "    f1  = f1_score(r[\"y_true\"], r[\"y_pred\"])\n",
    "    summary.append({\"vectorizer\": r[\"vectorizer\"], \"model\": r[\"model\"], \"accuracy\": acc, \"f1\": f1})\n",
    "\n",
    "results_df = pd.DataFrame(summary).sort_values([\"accuracy\", \"f1\"], ascending=False).reset_index(drop=True)\n",
    "results_df"
   ]
  },
  {
   "cell_type": "code",
   "execution_count": 9,
   "id": "b6f9e1d0-e798-4722-befa-cdae43db3b3e",
   "metadata": {},
   "outputs": [
    {
     "name": "stdout",
     "output_type": "stream",
     "text": [
      "Best combo: tfidf_norm + naive_bayes | acc=0.8680 f1=0.8671\n"
     ]
    }
   ],
   "source": [
    "best_row = results_df.iloc[0]\n",
    "best_vec_name = best_row[\"vectorizer\"]\n",
    "best_model_name = best_row[\"model\"]\n",
    "print(f\"Best combo: {best_vec_name} + {best_model_name} | acc={best_row['accuracy']:.4f} f1={best_row['f1']:.4f}\")"
   ]
  },
  {
   "cell_type": "code",
   "execution_count": 10,
   "id": "602f5abb-fe32-40df-ac54-0d241c86d827",
   "metadata": {},
   "outputs": [
    {
     "name": "stdout",
     "output_type": "stream",
     "text": [
      "============================================================\n",
      "Vectorizer: bow | Model: naive_bayes\n",
      "              precision    recall  f1-score   support\n",
      "\n",
      "         neg       0.84      0.88      0.86      4940\n",
      "         pos       0.87      0.84      0.86      4977\n",
      "\n",
      "    accuracy                           0.86      9917\n",
      "   macro avg       0.86      0.86      0.86      9917\n",
      "weighted avg       0.86      0.86      0.86      9917\n",
      "\n",
      "============================================================\n",
      "Vectorizer: bow | Model: knn\n",
      "              precision    recall  f1-score   support\n",
      "\n",
      "         neg       0.77      0.73      0.75      4940\n",
      "         pos       0.75      0.78      0.76      4977\n",
      "\n",
      "    accuracy                           0.76      9917\n",
      "   macro avg       0.76      0.76      0.76      9917\n",
      "weighted avg       0.76      0.76      0.76      9917\n",
      "\n",
      "============================================================\n",
      "Vectorizer: bow_binary | Model: naive_bayes\n",
      "              precision    recall  f1-score   support\n",
      "\n",
      "         neg       0.85      0.88      0.86      4940\n",
      "         pos       0.88      0.84      0.86      4977\n",
      "\n",
      "    accuracy                           0.86      9917\n",
      "   macro avg       0.86      0.86      0.86      9917\n",
      "weighted avg       0.86      0.86      0.86      9917\n",
      "\n",
      "============================================================\n",
      "Vectorizer: bow_binary | Model: knn\n",
      "              precision    recall  f1-score   support\n",
      "\n",
      "         neg       0.82      0.79      0.81      4940\n",
      "         pos       0.80      0.83      0.81      4977\n",
      "\n",
      "    accuracy                           0.81      9917\n",
      "   macro avg       0.81      0.81      0.81      9917\n",
      "weighted avg       0.81      0.81      0.81      9917\n",
      "\n",
      "============================================================\n",
      "Vectorizer: tfidf | Model: naive_bayes\n",
      "              precision    recall  f1-score   support\n",
      "\n",
      "         neg       0.83      0.87      0.85      4940\n",
      "         pos       0.87      0.83      0.85      4977\n",
      "\n",
      "    accuracy                           0.85      9917\n",
      "   macro avg       0.85      0.85      0.85      9917\n",
      "weighted avg       0.85      0.85      0.85      9917\n",
      "\n",
      "============================================================\n",
      "Vectorizer: tfidf | Model: knn\n",
      "              precision    recall  f1-score   support\n",
      "\n",
      "         neg       0.83      0.73      0.78      4940\n",
      "         pos       0.76      0.85      0.80      4977\n",
      "\n",
      "    accuracy                           0.79      9917\n",
      "   macro avg       0.79      0.79      0.79      9917\n",
      "weighted avg       0.79      0.79      0.79      9917\n",
      "\n",
      "============================================================\n",
      "Vectorizer: tfidf_norm | Model: naive_bayes\n",
      "              precision    recall  f1-score   support\n",
      "\n",
      "         neg       0.86      0.88      0.87      4940\n",
      "         pos       0.88      0.86      0.87      4977\n",
      "\n",
      "    accuracy                           0.87      9917\n",
      "   macro avg       0.87      0.87      0.87      9917\n",
      "weighted avg       0.87      0.87      0.87      9917\n",
      "\n",
      "============================================================\n",
      "Vectorizer: tfidf_norm | Model: knn\n",
      "              precision    recall  f1-score   support\n",
      "\n",
      "         neg       0.86      0.76      0.81      4940\n",
      "         pos       0.79      0.88      0.83      4977\n",
      "\n",
      "    accuracy                           0.82      9917\n",
      "   macro avg       0.82      0.82      0.82      9917\n",
      "weighted avg       0.82      0.82      0.82      9917\n",
      "\n"
     ]
    }
   ],
   "source": [
    "for r in results:\n",
    "    print(\"=\"*60)\n",
    "    print(f\"Vectorizer: {r['vectorizer']} | Model: {r['model']}\")\n",
    "    print(classification_report(r[\"y_true\"], r[\"y_pred\"], target_names=[\"neg\",\"pos\"]))"
   ]
  },
  {
   "cell_type": "code",
   "execution_count": 11,
   "id": "f0f99585-0b3b-4d23-9ccd-b1b988811d4d",
   "metadata": {},
   "outputs": [
    {
     "data": {
      "image/png": "[encoded data removed]",
      "text/plain": [
       "<Figure size 2000x600 with 8 Axes>"
      ]
     },
     "metadata": {},
     "output_type": "display_data"
    }
   ],
   "source": [
    "def plot_cm_grid(results, n_rows=2, n_cols=4, cmap=\"Blues\"):\n",
    "    total = len(results)\n",
    "    per_fig = n_rows * n_cols\n",
    "    num_figs = math.ceil(total / per_fig)\n",
    "\n",
    "    # global max for consistent color scaling\n",
    "    global_max = max(\n",
    "        confusion_matrix(r[\"y_true\"], r[\"y_pred\"], labels=[0, 1]).max()\n",
    "        for r in results\n",
    "    )\n",
    "\n",
    "    for f in range(num_figs):\n",
    "        sub = results[f*per_fig : (f+1)*per_fig]\n",
    "        fig, axes = plt.subplots(n_rows, n_cols)\n",
    "        axes = np.atleast_1d(axes).ravel()\n",
    "\n",
    "        for ax, r in zip(axes, sub):\n",
    "            cm = confusion_matrix(r[\"y_true\"], r[\"y_pred\"], labels=[0, 1])\n",
    "            hm = sns.heatmap(\n",
    "                cm, annot=False, cmap=cmap, cbar=False, square=True,\n",
    "                xticklabels=[\"neg\",\"pos\"], yticklabels=[\"neg\",\"pos\"], ax=ax,\n",
    "                vmin=0, vmax=global_max  # global intensity\n",
    "            )\n",
    "            ax.set_title(f\"{r['vectorizer']} + {r['model']}\")\n",
    "            ax.set_xlabel(\"Predicted\"); ax.set_ylabel(\"True\")\n",
    "\n",
    "            # contrast-aware annotations\n",
    "            for i in range(cm.shape[0]):\n",
    "                for j in range(cm.shape[1]):\n",
    "                    val = cm[i, j]\n",
    "                    frac = val / global_max if global_max else 0.0\n",
    "                    color = \"white\" if frac > 0.5 else \"black\"\n",
    "                    ax.text(j + 0.5, i + 0.5, f\"{val}\",\n",
    "                            ha=\"center\", va=\"center\",\n",
    "                            color=color, fontsize=10)\n",
    "\n",
    "        # turn off unused axes\n",
    "        for ax in axes[len(sub):]:\n",
    "            ax.axis(\"off\")\n",
    "\n",
    "        plt.tight_layout()\n",
    "        plt.show()\n",
    "\n",
    "plot_cm_grid(results, n_rows=2, n_cols=4)"
   ]
  },
  {
   "cell_type": "code",
   "execution_count": 12,
   "id": "f0826f4c-69d8-4a4e-8add-e400a78e0967",
   "metadata": {},
   "outputs": [],
   "source": [
    "from sklearn.feature_extraction.text import CountVectorizer, TfidfVectorizer\n",
    "from sklearn.linear_model import LogisticRegression, SGDClassifier\n",
    "from sklearn.naive_bayes import MultinomialNB, ComplementNB, BernoulliNB\n",
    "from sklearn.svm import LinearSVC"
   ]
  },
  {
   "cell_type": "code",
   "execution_count": 13,
   "id": "d8f54c5b-7e6f-431d-9d14-bd0a866d21fc",
   "metadata": {},
   "outputs": [],
   "source": [
    "sk_vecs = {\n",
    "    \"sk_count_unigram\":  CountVectorizer(min_df=5, max_features=50000, ngram_range=(1,1)),\n",
    "    \"sk_count_uni_bi\":   CountVectorizer(min_df=5, max_features=60000, ngram_range=(1,2)),\n",
    "    \"sk_tfidf_unigram\":  TfidfVectorizer(min_df=5, max_features=50000, ngram_range=(1,1), sublinear_tf=True),\n",
    "    \"sk_tfidf_uni_bi\":   TfidfVectorizer(min_df=5, max_features=60000, ngram_range=(1,2), sublinear_tf=True),\n",
    "}"
   ]
  },
  {
   "cell_type": "code",
   "execution_count": 14,
   "id": "f2eb84f3-695e-46fc-b07b-9b744767fd0b",
   "metadata": {},
   "outputs": [],
   "source": [
    "sk_models = {\n",
    "    \"logreg_l2\":  LogisticRegression(max_iter=200, C=1.0, n_jobs=-1, random_state=42),\n",
    "    \"linear_svc\": LinearSVC(C=1.0, random_state=42),\n",
    "    \"sgd_log\":    SGDClassifier(loss=\"log_loss\", alpha=1e-4, random_state=42),\n",
    "    \"sgd_hinge\":  SGDClassifier(loss=\"hinge\", alpha=1e-4, random_state=42),\n",
    "    \"mnb\":        MultinomialNB(alpha=1.0),\n",
    "    \"cnb\":        ComplementNB(alpha=1.0),\n",
    "    \"bnb\":        BernoulliNB(alpha=1.0),\n",
    "}"
   ]
  },
  {
   "cell_type": "code",
   "execution_count": 15,
   "id": "2892bd6b-00cf-4b64-ba03-67cca3ad178d",
   "metadata": {},
   "outputs": [
    {
     "data": {
      "application/vnd.jupyter.widget-view+json": {
       "model_id": "cca777ae910940129b16c14064a0afc2",
       "version_major": 2,
       "version_minor": 0
      },
      "text/plain": [
       "SK Vectorizers:   0%|          | 0/4 [00:00<?, ?it/s]"
      ]
     },
     "metadata": {},
     "output_type": "display_data"
    },
    {
     "data": {
      "application/vnd.jupyter.widget-view+json": {
       "model_id": "",
       "version_major": 2,
       "version_minor": 0
      },
      "text/plain": [
       "Models @ sk_count_unigram:   0%|          | 0/7 [00:00<?, ?it/s]"
      ]
     },
     "metadata": {},
     "output_type": "display_data"
    },
    {
     "data": {
      "application/vnd.jupyter.widget-view+json": {
       "model_id": "",
       "version_major": 2,
       "version_minor": 0
      },
      "text/plain": [
       "Models @ sk_count_uni_bi:   0%|          | 0/7 [00:00<?, ?it/s]"
      ]
     },
     "metadata": {},
     "output_type": "display_data"
    },
    {
     "data": {
      "application/vnd.jupyter.widget-view+json": {
       "model_id": "",
       "version_major": 2,
       "version_minor": 0
      },
      "text/plain": [
       "Models @ sk_tfidf_unigram:   0%|          | 0/7 [00:00<?, ?it/s]"
      ]
     },
     "metadata": {},
     "output_type": "display_data"
    },
    {
     "data": {
      "application/vnd.jupyter.widget-view+json": {
       "model_id": "",
       "version_major": 2,
       "version_minor": 0
      },
      "text/plain": [
       "Models @ sk_tfidf_uni_bi:   0%|          | 0/7 [00:00<?, ?it/s]"
      ]
     },
     "metadata": {},
     "output_type": "display_data"
    },
    {
     "data": {
      "text/html": [
       "<div>\n",
       "<style scoped>\n",
       "    .dataframe tbody tr th:only-of-type {\n",
       "        vertical-align: middle;\n",
       "    }\n",
       "\n",
       "    .dataframe tbody tr th {\n",
       "        vertical-align: top;\n",
       "    }\n",
       "\n",
       "    .dataframe thead th {\n",
       "        text-align: right;\n",
       "    }\n",
       "</style>\n",
       "<table border=\"1\" class=\"dataframe\">\n",
       "  <thead>\n",
       "    <tr style=\"text-align: right;\">\n",
       "      <th></th>\n",
       "      <th>vectorizer</th>\n",
       "      <th>model</th>\n",
       "      <th>accuracy</th>\n",
       "      <th>f1</th>\n",
       "    </tr>\n",
       "  </thead>\n",
       "  <tbody>\n",
       "    <tr>\n",
       "      <th>0</th>\n",
       "      <td>sk_tfidf_uni_bi</td>\n",
       "      <td>linear_svc</td>\n",
       "      <td>0.905112</td>\n",
       "      <td>0.905815</td>\n",
       "    </tr>\n",
       "    <tr>\n",
       "      <th>1</th>\n",
       "      <td>sk_tfidf_uni_bi</td>\n",
       "      <td>sgd_hinge</td>\n",
       "      <td>0.902188</td>\n",
       "      <td>0.904131</td>\n",
       "    </tr>\n",
       "    <tr>\n",
       "      <th>2</th>\n",
       "      <td>sk_tfidf_uni_bi</td>\n",
       "      <td>logreg_l2</td>\n",
       "      <td>0.901381</td>\n",
       "      <td>0.902899</td>\n",
       "    </tr>\n",
       "    <tr>\n",
       "      <th>3</th>\n",
       "      <td>sk_tfidf_unigram</td>\n",
       "      <td>logreg_l2</td>\n",
       "      <td>0.897348</td>\n",
       "      <td>0.898767</td>\n",
       "    </tr>\n",
       "    <tr>\n",
       "      <th>4</th>\n",
       "      <td>sk_tfidf_unigram</td>\n",
       "      <td>sgd_hinge</td>\n",
       "      <td>0.896642</td>\n",
       "      <td>0.898725</td>\n",
       "    </tr>\n",
       "    <tr>\n",
       "      <th>5</th>\n",
       "      <td>sk_count_uni_bi</td>\n",
       "      <td>sgd_log</td>\n",
       "      <td>0.895835</td>\n",
       "      <td>0.895646</td>\n",
       "    </tr>\n",
       "    <tr>\n",
       "      <th>6</th>\n",
       "      <td>sk_count_uni_bi</td>\n",
       "      <td>logreg_l2</td>\n",
       "      <td>0.895331</td>\n",
       "      <td>0.895825</td>\n",
       "    </tr>\n",
       "    <tr>\n",
       "      <th>7</th>\n",
       "      <td>sk_tfidf_unigram</td>\n",
       "      <td>linear_svc</td>\n",
       "      <td>0.893012</td>\n",
       "      <td>0.893783</td>\n",
       "    </tr>\n",
       "    <tr>\n",
       "      <th>8</th>\n",
       "      <td>sk_tfidf_uni_bi</td>\n",
       "      <td>sgd_log</td>\n",
       "      <td>0.888676</td>\n",
       "      <td>0.890888</td>\n",
       "    </tr>\n",
       "    <tr>\n",
       "      <th>9</th>\n",
       "      <td>sk_tfidf_unigram</td>\n",
       "      <td>sgd_log</td>\n",
       "      <td>0.887768</td>\n",
       "      <td>0.890052</td>\n",
       "    </tr>\n",
       "  </tbody>\n",
       "</table>\n",
       "</div>"
      ],
      "text/plain": [
       "         vectorizer       model  accuracy        f1\n",
       "0   sk_tfidf_uni_bi  linear_svc  0.905112  0.905815\n",
       "1   sk_tfidf_uni_bi   sgd_hinge  0.902188  0.904131\n",
       "2   sk_tfidf_uni_bi   logreg_l2  0.901381  0.902899\n",
       "3  sk_tfidf_unigram   logreg_l2  0.897348  0.898767\n",
       "4  sk_tfidf_unigram   sgd_hinge  0.896642  0.898725\n",
       "5   sk_count_uni_bi     sgd_log  0.895835  0.895646\n",
       "6   sk_count_uni_bi   logreg_l2  0.895331  0.895825\n",
       "7  sk_tfidf_unigram  linear_svc  0.893012  0.893783\n",
       "8   sk_tfidf_uni_bi     sgd_log  0.888676  0.890888\n",
       "9  sk_tfidf_unigram     sgd_log  0.887768  0.890052"
      ]
     },
     "execution_count": 15,
     "metadata": {},
     "output_type": "execute_result"
    }
   ],
   "source": [
    "sk_results = []\n",
    "\n",
    "for v_name, vec in tqdm(sk_vecs.items(), desc=\"SK Vectorizers\"):\n",
    "    X_tr = vec.fit_transform(X_train_text)\n",
    "    X_te = vec.transform(X_test_text)\n",
    "\n",
    "    for m_name, model in tqdm(sk_models.items(), desc=f\"Models @ {v_name}\", leave=False):\n",
    "        model.fit(X_tr, y_train.to_numpy())\n",
    "        y_pred = model.predict(X_te)\n",
    "\n",
    "        sk_results.append({\n",
    "            \"vectorizer\": v_name,\n",
    "            \"model\": m_name,\n",
    "            \"y_true\": y_test,\n",
    "            \"y_pred\": y_pred,\n",
    "        })\n",
    "\n",
    "        del model, y_pred\n",
    "        gc.collect()\n",
    "\n",
    "    del X_tr, X_te, vec\n",
    "    gc.collect()\n",
    "\n",
    "# summary table\n",
    "sk_summary = []\n",
    "for r in sk_results:\n",
    "    sk_summary.append({\n",
    "        \"vectorizer\": r[\"vectorizer\"],\n",
    "        \"model\": r[\"model\"],\n",
    "        \"accuracy\": accuracy_score(r[\"y_true\"], r[\"y_pred\"]),\n",
    "        \"f1\": f1_score(r[\"y_true\"], r[\"y_pred\"]),\n",
    "    })\n",
    "sk_results_df = pd.DataFrame(sk_summary).sort_values([\"accuracy\",\"f1\"], ascending=False).reset_index(drop=True)\n",
    "sk_results_df.head(10)"
   ]
  },
  {
   "cell_type": "code",
   "execution_count": 16,
   "id": "1f2d9356-6b28-41d0-a327-dc0cb2912692",
   "metadata": {},
   "outputs": [
    {
     "data": {
      "text/html": [
       "<div>\n",
       "<style scoped>\n",
       "    .dataframe tbody tr th:only-of-type {\n",
       "        vertical-align: middle;\n",
       "    }\n",
       "\n",
       "    .dataframe tbody tr th {\n",
       "        vertical-align: top;\n",
       "    }\n",
       "\n",
       "    .dataframe thead th {\n",
       "        text-align: right;\n",
       "    }\n",
       "</style>\n",
       "<table border=\"1\" class=\"dataframe\">\n",
       "  <thead>\n",
       "    <tr style=\"text-align: right;\">\n",
       "      <th></th>\n",
       "      <th>vectorizer</th>\n",
       "      <th>model</th>\n",
       "      <th>accuracy</th>\n",
       "      <th>f1</th>\n",
       "      <th>source</th>\n",
       "    </tr>\n",
       "  </thead>\n",
       "  <tbody>\n",
       "    <tr>\n",
       "      <th>0</th>\n",
       "      <td>sk_tfidf_uni_bi</td>\n",
       "      <td>linear_svc</td>\n",
       "      <td>0.905112</td>\n",
       "      <td>0.905815</td>\n",
       "      <td>sklearn</td>\n",
       "    </tr>\n",
       "    <tr>\n",
       "      <th>1</th>\n",
       "      <td>sk_tfidf_uni_bi</td>\n",
       "      <td>sgd_hinge</td>\n",
       "      <td>0.902188</td>\n",
       "      <td>0.904131</td>\n",
       "      <td>sklearn</td>\n",
       "    </tr>\n",
       "    <tr>\n",
       "      <th>2</th>\n",
       "      <td>sk_tfidf_uni_bi</td>\n",
       "      <td>logreg_l2</td>\n",
       "      <td>0.901381</td>\n",
       "      <td>0.902899</td>\n",
       "      <td>sklearn</td>\n",
       "    </tr>\n",
       "    <tr>\n",
       "      <th>3</th>\n",
       "      <td>sk_tfidf_unigram</td>\n",
       "      <td>logreg_l2</td>\n",
       "      <td>0.897348</td>\n",
       "      <td>0.898767</td>\n",
       "      <td>sklearn</td>\n",
       "    </tr>\n",
       "    <tr>\n",
       "      <th>4</th>\n",
       "      <td>sk_tfidf_unigram</td>\n",
       "      <td>sgd_hinge</td>\n",
       "      <td>0.896642</td>\n",
       "      <td>0.898725</td>\n",
       "      <td>sklearn</td>\n",
       "    </tr>\n",
       "    <tr>\n",
       "      <th>5</th>\n",
       "      <td>sk_count_uni_bi</td>\n",
       "      <td>sgd_log</td>\n",
       "      <td>0.895835</td>\n",
       "      <td>0.895646</td>\n",
       "      <td>sklearn</td>\n",
       "    </tr>\n",
       "    <tr>\n",
       "      <th>6</th>\n",
       "      <td>sk_count_uni_bi</td>\n",
       "      <td>logreg_l2</td>\n",
       "      <td>0.895331</td>\n",
       "      <td>0.895825</td>\n",
       "      <td>sklearn</td>\n",
       "    </tr>\n",
       "    <tr>\n",
       "      <th>7</th>\n",
       "      <td>sk_tfidf_unigram</td>\n",
       "      <td>linear_svc</td>\n",
       "      <td>0.893012</td>\n",
       "      <td>0.893783</td>\n",
       "      <td>sklearn</td>\n",
       "    </tr>\n",
       "    <tr>\n",
       "      <th>8</th>\n",
       "      <td>sk_tfidf_uni_bi</td>\n",
       "      <td>sgd_log</td>\n",
       "      <td>0.888676</td>\n",
       "      <td>0.890888</td>\n",
       "      <td>sklearn</td>\n",
       "    </tr>\n",
       "    <tr>\n",
       "      <th>9</th>\n",
       "      <td>sk_tfidf_unigram</td>\n",
       "      <td>sgd_log</td>\n",
       "      <td>0.887768</td>\n",
       "      <td>0.890052</td>\n",
       "      <td>sklearn</td>\n",
       "    </tr>\n",
       "    <tr>\n",
       "      <th>10</th>\n",
       "      <td>sk_count_unigram</td>\n",
       "      <td>sgd_log</td>\n",
       "      <td>0.886155</td>\n",
       "      <td>0.887111</td>\n",
       "      <td>sklearn</td>\n",
       "    </tr>\n",
       "    <tr>\n",
       "      <th>11</th>\n",
       "      <td>sk_count_uni_bi</td>\n",
       "      <td>sgd_hinge</td>\n",
       "      <td>0.885651</td>\n",
       "      <td>0.884568</td>\n",
       "      <td>sklearn</td>\n",
       "    </tr>\n",
       "    <tr>\n",
       "      <th>12</th>\n",
       "      <td>sk_count_unigram</td>\n",
       "      <td>logreg_l2</td>\n",
       "      <td>0.883836</td>\n",
       "      <td>0.884546</td>\n",
       "      <td>sklearn</td>\n",
       "    </tr>\n",
       "    <tr>\n",
       "      <th>13</th>\n",
       "      <td>sk_count_uni_bi</td>\n",
       "      <td>linear_svc</td>\n",
       "      <td>0.883836</td>\n",
       "      <td>0.884198</td>\n",
       "      <td>sklearn</td>\n",
       "    </tr>\n",
       "    <tr>\n",
       "      <th>14</th>\n",
       "      <td>sk_tfidf_uni_bi</td>\n",
       "      <td>mnb</td>\n",
       "      <td>0.883432</td>\n",
       "      <td>0.884631</td>\n",
       "      <td>sklearn</td>\n",
       "    </tr>\n",
       "  </tbody>\n",
       "</table>\n",
       "</div>"
      ],
      "text/plain": [
       "          vectorizer       model  accuracy        f1   source\n",
       "0    sk_tfidf_uni_bi  linear_svc  0.905112  0.905815  sklearn\n",
       "1    sk_tfidf_uni_bi   sgd_hinge  0.902188  0.904131  sklearn\n",
       "2    sk_tfidf_uni_bi   logreg_l2  0.901381  0.902899  sklearn\n",
       "3   sk_tfidf_unigram   logreg_l2  0.897348  0.898767  sklearn\n",
       "4   sk_tfidf_unigram   sgd_hinge  0.896642  0.898725  sklearn\n",
       "5    sk_count_uni_bi     sgd_log  0.895835  0.895646  sklearn\n",
       "6    sk_count_uni_bi   logreg_l2  0.895331  0.895825  sklearn\n",
       "7   sk_tfidf_unigram  linear_svc  0.893012  0.893783  sklearn\n",
       "8    sk_tfidf_uni_bi     sgd_log  0.888676  0.890888  sklearn\n",
       "9   sk_tfidf_unigram     sgd_log  0.887768  0.890052  sklearn\n",
       "10  sk_count_unigram     sgd_log  0.886155  0.887111  sklearn\n",
       "11   sk_count_uni_bi   sgd_hinge  0.885651  0.884568  sklearn\n",
       "12  sk_count_unigram   logreg_l2  0.883836  0.884546  sklearn\n",
       "13   sk_count_uni_bi  linear_svc  0.883836  0.884198  sklearn\n",
       "14   sk_tfidf_uni_bi         mnb  0.883432  0.884631  sklearn"
      ]
     },
     "execution_count": 16,
     "metadata": {},
     "output_type": "execute_result"
    }
   ],
   "source": [
    "combined_df = (\n",
    "    pd.concat([results_df.assign(source=\"scratch\"),\n",
    "               sk_results_df.assign(source=\"sklearn\")], ignore_index=True)\n",
    "    .sort_values([\"accuracy\",\"f1\"], ascending=False)\n",
    "    .reset_index(drop=True)\n",
    ")\n",
    "combined_df.head(15)"
   ]
  },
  {
   "cell_type": "code",
   "execution_count": 17,
   "id": "f60dd6c7-85c5-48c4-8ecb-566bb91304cb",
   "metadata": {},
   "outputs": [],
   "source": [
    "def plot_cm_grid_ranked(\n",
    "    results,\n",
    "    n_rows: int = 2,\n",
    "    n_cols: int = 4,\n",
    "    top_n: int | None = None,\n",
    "    labels: tuple = (0, 1),\n",
    "    figsize_scale: float = 3.2,\n",
    "):\n",
    "    if not results:\n",
    "        print(\"No results to plot.\")\n",
    "        return\n",
    "\n",
    "    scored = [(accuracy_score(r[\"y_true\"], r[\"y_pred\"]), r) for r in results]\n",
    "    scored.sort(key=lambda x: x[0], reverse=True)\n",
    "    if top_n is not None:\n",
    "        scored = scored[:top_n]\n",
    "    ordered = [r for _, r in scored]\n",
    "\n",
    "    total = len(ordered)\n",
    "    per_fig = n_rows * n_cols\n",
    "    num_figs = math.ceil(total / per_fig)\n",
    "\n",
    "    for f in range(num_figs):\n",
    "        sub = ordered[f * per_fig : (f + 1) * per_fig]\n",
    "        fig, axes = plt.subplots(n_rows, n_cols)\n",
    "        axes = np.atleast_1d(axes).ravel()\n",
    "\n",
    "        for ax, r in zip(axes, sub):\n",
    "            y_true, y_pred = r[\"y_true\"], r[\"y_pred\"]\n",
    "            cm = confusion_matrix(y_true, y_pred, labels=list(labels)).astype(float)\n",
    "            row_sums = cm.sum(axis=1, keepdims=True)\n",
    "            row_sums[row_sums == 0] = 1.0\n",
    "            cm_pct = cm / row_sums   # rows sum to 1\n",
    "\n",
    "            signed = cm_pct.copy()\n",
    "            for i in range(len(labels)):\n",
    "                for j in range(len(labels)):\n",
    "                    if i != j:\n",
    "                        signed[i, j] *= -1  # off-diagonals negative\n",
    "\n",
    "            sns.heatmap(\n",
    "                signed,\n",
    "                ax=ax,\n",
    "                cmap=\"RdYlGn\",\n",
    "                vmin=-1, vmax=1, center=0,\n",
    "                cbar=False,\n",
    "                square=True,\n",
    "                linewidths=0.5, linecolor=\"white\",\n",
    "                xticklabels=[str(l) for l in labels],\n",
    "                yticklabels=[str(l) for l in labels],\n",
    "                annot=False,\n",
    "            )\n",
    "\n",
    "            for i in range(len(labels)):\n",
    "                for j in range(len(labels)):\n",
    "                    cnt = int(cm[i, j])\n",
    "                    pct = 100.0 * cm_pct[i, j]\n",
    "                    intensity = abs(signed[i, j])\n",
    "                    color = \"white\" if intensity > 0.5 else \"black\"\n",
    "                    ax.text(j + 0.5, i + 0.44, f\"{cnt}\", ha=\"center\", va=\"center\",\n",
    "                            fontsize=10, color=color)\n",
    "                    ax.text(j + 0.5, i + 0.76, f\"({pct:.1f}%)\", ha=\"center\", va=\"center\",\n",
    "                            fontsize=8, color=color)\n",
    "\n",
    "            acc = accuracy_score(y_true, y_pred)\n",
    "            ax.set_title(f\"{r.get('vectorizer','?')} + {r.get('model','?')}\\nacc={acc:.3f}\")\n",
    "            ax.set_xlabel(\"Predicted\")\n",
    "            ax.set_ylabel(\"True\")\n",
    "\n",
    "        for ax in axes[len(sub):]:\n",
    "            ax.axis(\"off\")\n",
    "\n",
    "        plt.tight_layout()\n",
    "        plt.show()"
   ]
  },
  {
   "cell_type": "code",
   "execution_count": 18,
   "id": "044f918b-317f-483f-a7ff-0b636664e71e",
   "metadata": {},
   "outputs": [
    {
     "data": {
      "image/png": "[encoded data removed]",
      "text/plain": [
       "<Figure size 2000x600 with 8 Axes>"
      ]
     },
     "metadata": {},
     "output_type": "display_data"
    }
   ],
   "source": [
    "topN = 8\n",
    "top_rows = combined_df.head(topN)\n",
    "\n",
    "# build results-like list for the plotting util\n",
    "cm_inputs = []\n",
    "for _, row in top_rows.iterrows():\n",
    "    # find the corresponding preds container\n",
    "    bucket = sk_results if row[\"source\"]==\"sklearn\" else results\n",
    "    hit = next(r for r in bucket if r[\"vectorizer\"]==row[\"vectorizer\"] and r[\"model\"]==row[\"model\"])\n",
    "    cm_inputs.append(hit)\n",
    "\n",
    "plot_cm_grid_ranked(cm_inputs, n_rows=2, n_cols=4, top_n=None)  # uses the nicer normalized diverging view"
   ]
  },
  {
   "cell_type": "code",
   "execution_count": 19,
   "id": "d8ef08c9-ca79-4347-a7a9-6249514a453b",
   "metadata": {},
   "outputs": [
    {
     "name": "stdout",
     "output_type": "stream",
     "text": [
      "Top positive: ratingpos, excellent, great, perfect, amazing, well worth, must see, best, hilarious, wonderful, subtle, refreshing, one best, enjoyable, favorite, gem, brilliant, superb, loved, today\n",
      "Top negative: worst, ratingneg, awful, bad, waste, boring, terrible, ratingneutral, fails, forgettable, poor, horrible, disappointment, disappointing, dull, poorly, nothing, worse, annoying, mediocre\n"
     ]
    }
   ],
   "source": [
    "best_sk = sk_results_df.iloc[0]\n",
    "vec = sk_vecs[best_sk[\"vectorizer\"]]\n",
    "X_tr = vec.fit_transform(X_train_text)\n",
    "X_te = vec.transform(X_test_text)\n",
    "\n",
    "mdl = sk_models[best_sk[\"model\"]]\n",
    "mdl.fit(X_tr, y_train.to_numpy())\n",
    "\n",
    "feat_names = np.array(vec.get_feature_names_out())\n",
    "\n",
    "def show_top_linear(model, n=20):\n",
    "    if hasattr(model, \"coef_\"):\n",
    "        w = model.coef_.ravel()\n",
    "    elif hasattr(model, \"feature_log_prob_\"):  # NB diff\n",
    "        w = model.feature_log_prob_[1] - model.feature_log_prob_[0]\n",
    "    else:\n",
    "        print(\"No linear weights available.\")\n",
    "        return\n",
    "    top_pos = np.argsort(w)[-n:][::-1]\n",
    "    top_neg = np.argsort(w)[:n]\n",
    "    print(\"Top positive:\", \", \".join(feat_names[top_pos]))\n",
    "    print(\"Top negative:\", \", \".join(feat_names[top_neg]))\n",
    "\n",
    "show_top_linear(mdl, n=20)"
   ]
  },
  {
   "cell_type": "code",
   "execution_count": null,
   "id": "5ab6fbed-5ddb-4322-8c90-55edc70a7d40",
   "metadata": {},
   "outputs": [],
   "source": []
  },
  {
   "cell_type": "code",
   "execution_count": null,
   "id": "bcb79a93-8af4-441e-999f-729c8a714d7f",
   "metadata": {},
   "outputs": [],
   "source": []
  },
  {
   "cell_type": "code",
   "execution_count": null,
   "id": "f8df0f6a-33b8-476d-a5d1-23813b83552d",
   "metadata": {},
   "outputs": [],
   "source": []
  }
 ],
 "metadata": {
  "kernelspec": {
   "display_name": "text",
   "language": "python",
   "name": "text"
  },
  "language_info": {
   "codemirror_mode": {
    "name": "ipython",
    "version": 3
   },
   "file_extension": ".py",
   "mimetype": "text/x-python",
   "name": "python",
   "nbconvert_exporter": "python",
   "pygments_lexer": "ipython3",
   "version": "3.10.18"
  }
 },
 "nbformat": 4,
 "nbformat_minor": 5
}

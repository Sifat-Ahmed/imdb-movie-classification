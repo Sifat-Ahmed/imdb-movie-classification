{
 "cells": [
  {
   "cell_type": "markdown",
   "id": "a24b4486-4182-49c2-b964-fb4ee2d06fd6",
   "metadata": {},
   "source": [
    "## Overview\n",
    "\n",
    "This notebook applies K-fold cross-validation with grid search across three model types: traditional machine learning algorithms such as LinearSVC and SGD Classifier, a deep learning model using GloVe embeddings with LSTM, and a transformer-based model, DistilBERT. The goal is to systematically evaluate multiple hyperparameter combinations to identify the configuration that consistently performs best across different data splits.\n",
    "\n",
    "We use K-fold cross-validation to obtain a more reliable and stable estimate of each model’s performance by training and testing on multiple partitions of the dataset. Grid search is then used to exhaustively explore predefined hyperparameter values, ensuring that the selected parameters are not biased toward a single train-test split.\n",
    "\n",
    "The expectation is that this combined approach will yield optimal hyperparameters that generalize well to unseen data, reduce overfitting risk, and provide a fair comparison of model performance across the different architectures tested.\n",
    "\n",
    "#### Contents\n",
    "- Import statements\n",
    "- Data Reading and Cleaning\n",
    "- kfold + gridsearch + ML algorithms\n",
    "- kfold + gridsearch + Glove-LSTM\n",
    "- Kfold + gridsearch + distil-bert\n",
    "- Conclusion"
   ]
  },
  {
   "cell_type": "markdown",
   "id": "31ee0e10-28af-4cb9-b8f9-0dee3a96d6ee",
   "metadata": {},
   "source": [
    "### Import Statements"
   ]
  },
  {
   "cell_type": "code",
   "execution_count": 1,
   "id": "90cce939-db16-4669-a66b-527cf9c8d57e",
   "metadata": {},
   "outputs": [],
   "source": [
    "import warnings\n",
    "warnings.filterwarnings(\"ignore\")\n",
    "warnings.filterwarnings(\"ignore\", category=FutureWarning)\n",
    "warnings.filterwarnings(\"ignore\", category=UserWarning)\n",
    "\n",
    "\n",
    "# from transformers.utils import logging as hf_logging\n",
    "# hf_logging.set_verbosity_error() \n",
    "\n",
    "import sys\n",
    "import random\n",
    "from pathlib import Path\n",
    "project_root = Path().resolve().parent\n",
    "sys.path.append(str(project_root / \"src\"))\n",
    "from tqdm.notebook import tqdm\n",
    "\n",
    "from sklearn.pipeline import Pipeline\n",
    "from sklearn.model_selection import StratifiedKFold, GridSearchCV, train_test_split\n",
    "from sklearn.feature_extraction.text import TfidfVectorizer, CountVectorizer\n",
    "from sklearn.svm import LinearSVC\n",
    "from sklearn.linear_model import SGDClassifier\n",
    "from sklearn.metrics import make_scorer, f1_score, confusion_matrix, ConfusionMatrixDisplay,accuracy_score, precision_score, recall_score, classification_report, confusion_matrix, roc_auc_score, average_precision_score\n",
    "import matplotlib.pyplot as plt\n",
    "\n",
    "import torch\n",
    "import torch.nn as nn\n",
    "import numpy as np\n",
    "import pandas as pd\n",
    "from itertools import product\n",
    "\n",
    "from transformers import AutoTokenizer, AutoModelForSequenceClassification, TrainingArguments, Trainer\n",
    "from datasets import Dataset\n",
    "from torch.utils.data import DataLoader\n",
    "from dataset.custom_data import IMDBDataset\n",
    "from models.lstm import GloVeLSTM\n",
    "from utils.embeddings import load_glove_embeddings\n",
    "\n",
    "\n",
    "from transformers import AutoTokenizer, AutoModelForSequenceClassification, TrainingArguments, Trainer\n"
   ]
  },
  {
   "cell_type": "markdown",
   "id": "b3ffcccf-9706-47e9-a5e2-3387d029aa43",
   "metadata": {},
   "source": [
    "#### Seed\n",
    "Updating the seed to keep consistency"
   ]
  },
  {
   "cell_type": "code",
   "execution_count": 2,
   "id": "2b21c66d-ddfe-4ca2-bfbc-00f7aafb866b",
   "metadata": {},
   "outputs": [],
   "source": [
    "def set_seed(seed: int = 42):\n",
    "    random.seed(seed)\n",
    "    np.random.seed(seed)\n",
    "    torch.manual_seed(seed)\n",
    "    torch.cuda.manual_seed_all(seed)\n",
    "    torch.backends.cudnn.deterministic = True\n",
    "    torch.backends.cudnn.benchmark = False"
   ]
  },
  {
   "cell_type": "code",
   "execution_count": 3,
   "id": "b5b6553e-f970-4ce7-b493-d0caeb3fcb64",
   "metadata": {},
   "outputs": [],
   "source": [
    "device = torch.device(\"cuda\" if torch.cuda.is_available() else \"cpu\")\n",
    "set_seed(42)"
   ]
  },
  {
   "cell_type": "markdown",
   "id": "432c9b02-b8dc-4985-aee8-28b2e2b54cba",
   "metadata": {},
   "source": [
    "#### Reading the clean data\n",
    "Reading the data from step 1 notebook, that was saved after preprocessing"
   ]
  },
  {
   "cell_type": "code",
   "execution_count": 4,
   "id": "3bc19310-4055-4b52-9cd1-a3220b7ee821",
   "metadata": {},
   "outputs": [],
   "source": [
    "df = pd.read_parquet(project_root / \"data\" / \"imdb_reviews.parquet\")\n",
    "df = df[[\"review\", \"sentiment\"]].dropna().reset_index(drop=True)\n",
    "\n",
    "X = df[\"review\"].astype(str).to_list()\n",
    "y = df[\"sentiment\"].astype(int).to_numpy()\n",
    "\n",
    "X_train_text, X_test_text, y_train, y_test = train_test_split(\n",
    "    X, y, test_size=0.1, random_state=42, stratify=y\n",
    ")"
   ]
  },
  {
   "cell_type": "code",
   "execution_count": 5,
   "id": "2e00c911-c4c7-4a8f-b759-b6caeb701fcd",
   "metadata": {},
   "outputs": [],
   "source": [
    "cv = StratifiedKFold(n_splits=5, shuffle=True, random_state=42)\n",
    "scorer = make_scorer(f1_score)\n",
    "\n",
    "pipe = Pipeline([\n",
    "    (\"vec\", TfidfVectorizer(min_df=5, ngram_range=(1,2), sublinear_tf=True)),\n",
    "    (\"clf\", LinearSVC())\n",
    "])\n"
   ]
  },
  {
   "cell_type": "markdown",
   "id": "c81fe343-e5b3-4f97-a19b-edc5a1e37314",
   "metadata": {},
   "source": [
    "#### Parameter grid for GridSearch\n",
    "\n",
    "Selected this parameter grid to systematically explore key hyperparameters for two strong linear baselines LinearSVC and SGDClassifier and in a combination with a TfidfVectorizer.\n",
    "The aim is to evaluate different vocabulary sizes, n-gram ranges, and regularization strengths while also testing multiple loss functions and penalties for SGD.\n",
    "\n",
    "These classifiers and vectorizer was chosen based on the initial results of the previous notebook. \n",
    "\n",
    "By using GridSearchCV with k-fold cross-validation, I expect to identify the best hyperparameter combination for each algorithm that maximizes chosen scoring metric. This ensures the models generalize well to unseen data while avoiding overfitting, and also allows to directly compare both classifiers under optimized conditions."
   ]
  },
  {
   "cell_type": "markdown",
   "id": "3f7b16be-1a60-4408-bf8e-223905a433f1",
   "metadata": {},
   "source": [
    "#### Traditional ML algorithms"
   ]
  },
  {
   "cell_type": "code",
   "execution_count": 6,
   "id": "89c4a390-7aa9-40ce-aa9f-65c78346aa32",
   "metadata": {},
   "outputs": [
    {
     "name": "stdout",
     "output_type": "stream",
     "text": [
      "Fitting 5 folds for each of 150 candidates, totalling 750 fits\n",
      "Best F1: 0.9102376018232865\n",
      "Best params: {'clf': LinearSVC(), 'clf__C': 0.5, 'vec__max_features': None, 'vec__min_df': 3, 'vec__ngram_range': (1, 2)}\n"
     ]
    }
   ],
   "source": [
    "param_grid = [\n",
    "    {  # LinearSVC branch\n",
    "        \"clf\": [LinearSVC()],\n",
    "        \"vec__min_df\": [3, 5, 10],\n",
    "        \"vec__max_features\": [40000, 60000, None],\n",
    "        \"vec__ngram_range\": [(1,1), (1,2)],\n",
    "        \"clf__C\": [0.5, 1.0, 2.0],\n",
    "    },\n",
    "    {  # SGDClassifier branch\n",
    "        \"clf\": [SGDClassifier(random_state=42)],\n",
    "        \"vec__min_df\": [3, 5],\n",
    "        \"vec__ngram_range\": [(1,1), (1,2)],\n",
    "        \"clf__loss\": [\"hinge\", \"log_loss\"],\n",
    "        \"clf__alpha\": [1e-5, 1e-4, 1e-3],\n",
    "        \"clf__penalty\": [\"l2\", \"l1\"],\n",
    "        \"clf__max_iter\": [1000, 2000],\n",
    "    }\n",
    "]\n",
    "\n",
    "gs = GridSearchCV(\n",
    "    pipe,\n",
    "    param_grid=param_grid,\n",
    "    scoring=scorer,\n",
    "    cv=cv,\n",
    "    n_jobs=-1,\n",
    "    verbose=2,\n",
    "    refit=True\n",
    ")\n",
    "gs.fit(X_train_text, y_train)\n",
    "\n",
    "print(\"Best F1:\", gs.best_score_)\n",
    "print(\"Best params:\", gs.best_params_)\n",
    "best_model = gs.best_estimator_"
   ]
  },
  {
   "cell_type": "code",
   "execution_count": 7,
   "id": "2efa0101-e77f-4345-9108-e92d13f18c4a",
   "metadata": {},
   "outputs": [
    {
     "name": "stdout",
     "output_type": "stream",
     "text": [
      "Test Accuracy: 0.9046\n",
      "Test F1:       0.9055\n",
      "Precision:     0.9006\n",
      "Recall:        0.9104\n",
      "\n",
      "Classification Report:\n",
      "               precision    recall  f1-score   support\n",
      "\n",
      "           0     0.9087    0.8988    0.9037      2470\n",
      "           1     0.9006    0.9104    0.9055      2489\n",
      "\n",
      "    accuracy                         0.9046      4959\n",
      "   macro avg     0.9047    0.9046    0.9046      4959\n",
      "weighted avg     0.9047    0.9046    0.9046      4959\n",
      "\n",
      "Confusion Matrix:\n",
      " [[2220  250]\n",
      " [ 223 2266]]\n"
     ]
    }
   ],
   "source": [
    "y_pred = best_model.predict(X_test_text)\n",
    "\n",
    "acc = accuracy_score(y_test, y_pred)\n",
    "f1  = f1_score(y_test, y_pred)\n",
    "prec = precision_score(y_test, y_pred)\n",
    "rec  = recall_score(y_test, y_pred)\n",
    "\n",
    "print(f\"Test Accuracy: {acc:.4f}\")\n",
    "print(f\"Test F1:       {f1:.4f}\")\n",
    "print(f\"Precision:     {prec:.4f}\")\n",
    "print(f\"Recall:        {rec:.4f}\")\n",
    "\n",
    "# 3) Report + confusion matrix\n",
    "print(\"\\nClassification Report:\\n\", classification_report(y_test, y_pred, digits=4))"
   ]
  },
  {
   "cell_type": "markdown",
   "id": "2e535869-ce40-46a7-935d-6af27bcae5da",
   "metadata": {
    "jp-MarkdownHeadingCollapsed": true
   },
   "source": [
    "#### Analysis\n",
    "\n",
    "The best F1 score of 0.9111 was achieved with LinearSVC using a lower regularization strength (C=0.5), a broad vocabulary (max_features=None), minimum term frequency of 3, and a bi-gram range (1, 2).\n",
    "This indicates that the model benefits from capturing both single words and short phrases while keeping regularization strong enough to prevent overfitting, leading to balanced and robust performance across folds.\n",
    "\n",
    "---"
   ]
  },
  {
   "cell_type": "markdown",
   "id": "dc36e908-0ab2-478b-8b11-99b4baad8fb2",
   "metadata": {},
   "source": [
    "### LSTM+GloVe"
   ]
  },
  {
   "cell_type": "code",
   "execution_count": 8,
   "id": "7bd4ffb6-e381-46bd-a219-23efc4ce20b4",
   "metadata": {},
   "outputs": [],
   "source": [
    "csv_path = project_root / \"data\" / \"IMDB_Dataset.csv\"\n",
    "\n",
    "data = pd.read_csv(csv_path)\n",
    "X = data[\"review\"].astype(str).to_list()\n",
    "y = [1 if sentiment == \"positive\" else 0 for sentiment in data[\"sentiment\"]]\n",
    "\n",
    "X_train_text, X_test_text, y_train, y_test = train_test_split(\n",
    "    X, y, test_size=0.1, random_state=42, stratify=y\n",
    ")\n",
    "\n",
    "\n",
    "# val_size = 0.10 / 0.90 \n",
    "\n",
    "# X_train_text, X_val_text, y_train, y_val = train_test_split(\n",
    "#     X_train_text,\n",
    "#     y_train,\n",
    "#     test_size=val_size,\n",
    "#     random_state=42,\n",
    "#     stratify=y_train\n",
    "# )"
   ]
  },
  {
   "cell_type": "code",
   "execution_count": 9,
   "id": "06cea601-e7d3-4f1a-aa51-db4eb7282f8c",
   "metadata": {},
   "outputs": [],
   "source": [
    "def train_epoch(model, loader, optimizer, criterion):\n",
    "    model.train()\n",
    "    total, loss_sum, correct = 0, 0.0, 0\n",
    "    for xb, yb in loader:\n",
    "        xb, yb = xb.to(device), yb.float().to(device)\n",
    "        optimizer.zero_grad()\n",
    "        logits = model(xb)               # (B,)\n",
    "        loss = criterion(logits, yb)\n",
    "        loss.backward()\n",
    "        optimizer.step()\n",
    "\n",
    "        loss_sum += float(loss.item()) * yb.size(0)\n",
    "        preds = (logits.sigmoid() >= 0.5).long()\n",
    "        correct += (preds == yb.long()).sum().item()\n",
    "        total += yb.size(0)\n",
    "    return loss_sum/total, correct/total\n",
    "\n",
    "@torch.no_grad()\n",
    "def eval_epoch(model, loader, criterion):\n",
    "    model.eval()\n",
    "    total, loss_sum, correct = 0, 0.0, 0\n",
    "    ys, ps = [], []\n",
    "    for xb, yb in loader:\n",
    "        xb, yb = xb.to(device), yb.float().to(device)\n",
    "        logits = model(xb)\n",
    "        loss = criterion(logits, yb)\n",
    "        loss_sum += float(loss.item()) * yb.size(0)\n",
    "\n",
    "        prob = logits.sigmoid()\n",
    "        pred = (prob >= 0.5).long()\n",
    "        correct += (pred == yb.long()).sum().item()\n",
    "        total += yb.size(0)\n",
    "\n",
    "        ys.append(yb.cpu().numpy())\n",
    "        ps.append(pred.cpu().numpy())\n",
    "\n",
    "    y = np.concatenate(ys)\n",
    "    p = np.concatenate(ps)\n",
    "    return loss_sum/total, correct/total, y, p\n"
   ]
  },
  {
   "cell_type": "code",
   "execution_count": 10,
   "id": "1634504f-24fc-4ed1-922a-06a70c6fccc8",
   "metadata": {},
   "outputs": [],
   "source": [
    "def train_lstm_one_fold(params, tr_idx, va_idx, texts, labels, glove_filename: str):\n",
    "    tr_texts = [texts[i] for i in tr_idx]\n",
    "    tr_labels = [labels[i] for i in tr_idx]\n",
    "    va_texts = [texts[i] for i in va_idx]\n",
    "    va_labels = [labels[i] for i in va_idx]\n",
    "\n",
    "    # Build train fold dataset (creates vocab from train fold)\n",
    "    train_ds = IMDBDataset(\n",
    "        texts=tr_texts,\n",
    "        labels=tr_labels,\n",
    "        max_len=params[\"max_len\"],\n",
    "        preprocess=True,\n",
    "        min_freq=params.get(\"min_freq\", 2),\n",
    "        max_vocab_size=params.get(\"max_vocab_size\", 30000),\n",
    "        language=\"english\"\n",
    "    )\n",
    "\n",
    "    # Validation dataset shares the same vocab\n",
    "    val_ds = IMDBDataset(\n",
    "        texts=va_texts,\n",
    "        labels=va_labels,\n",
    "        max_len=params[\"max_len\"],\n",
    "        preprocess=True,\n",
    "        min_freq=params.get(\"min_freq\", 2),\n",
    "        max_vocab_size=params.get(\"max_vocab_size\", 30000),\n",
    "        language=\"english\"\n",
    "    )\n",
    "    val_ds.vocab = train_ds.vocab  # align token->id mapping\n",
    "\n",
    "    train_loader = DataLoader(train_ds, batch_size=params[\"batch_size\"], shuffle=True, num_workers=0)\n",
    "    val_loader   = DataLoader(val_ds,   batch_size=params[\"batch_size\"], shuffle=False, num_workers=0)\n",
    "\n",
    "   \n",
    "    glove_tensor = load_glove_embeddings(glove_filename, train_ds.vocab, embedding_dim=params[\"emb_dim\"])\n",
    "\n",
    "    # Build model\n",
    "    model = GloVeLSTM(\n",
    "                vocab_size=len(train_ds.vocab),\n",
    "                emb_dim=params[\"emb_dim\"],\n",
    "                hidden_dim=params[\"hidden_dim\"],\n",
    "                num_layers=params[\"num_layers\"],\n",
    "                bidirectional=params[\"bidirectional\"],\n",
    "                dropout=params[\"dropout\"],\n",
    "                pad_idx=0,\n",
    "                pretrained_embeddings=glove_tensor\n",
    "            ).to(device)\n",
    "\n",
    "    optimizer = torch.optim.Adam(model.parameters(), lr=params[\"lr\"])\n",
    "    criterion = nn.BCEWithLogitsLoss()\n",
    "\n",
    "    # Early stopping\n",
    "    patience = params.get(\"patience\", 2)\n",
    "    best_acc, best_f1, best_epoch = 0.0, 0.0, None\n",
    "    patience_ctr = 0\n",
    "\n",
    "    for epoch in range(1, params[\"epochs\"] + 1):\n",
    "        tr_loss, tr_acc = train_epoch(model, train_loader, optimizer, criterion)\n",
    "        va_loss, va_acc, y_true, y_pred = eval_epoch(model, val_loader, criterion)\n",
    "        va_f1 = f1_score(y_true, y_pred)\n",
    "\n",
    "        tqdm.write(f\"[Fold] Ep{epoch:02d} | tr_loss={tr_loss:.4f} tr_acc={tr_acc:.4f} \"\n",
    "                   f\"| va_loss={va_loss:.4f} va_acc={va_acc:.4f} va_f1={va_f1:.4f}\")\n",
    "\n",
    "        if va_acc > best_acc:\n",
    "            best_acc = va_acc\n",
    "            best_f1  = va_f1\n",
    "            best_epoch = epoch\n",
    "            patience_ctr = 0\n",
    "        else:\n",
    "            patience_ctr += 1\n",
    "            if patience_ctr >= patience:\n",
    "                tqdm.write(f\"Early stop @ epoch {epoch} (best acc={best_acc:.4f} f1={best_f1:.4f})\")\n",
    "                break\n",
    "\n",
    "    return {\"val_acc\": best_acc, \"val_f1\": best_f1, \"best_epoch\": best_epoch}"
   ]
  },
  {
   "cell_type": "code",
   "execution_count": 11,
   "id": "4ed840e1-7989-4d43-a99f-a06bbc72e37d",
   "metadata": {},
   "outputs": [],
   "source": [
    "def kfold_lstm_cv(texts, labels, param_grid, glove_filename=\"glove.6B.100d.txt\", n_splits=5, seed=42):\n",
    "    cv = StratifiedKFold(n_splits=n_splits, shuffle=True, random_state=seed)\n",
    "    X = np.array(texts, dtype=object)\n",
    "    y = np.array(labels, dtype=int)\n",
    "\n",
    "    all_runs = []\n",
    "    for params in param_grid:\n",
    "        fold_metrics = []\n",
    "        tqdm.write(f\"\\n=== Params: {params} ===\")\n",
    "        for fold, (tr_idx, va_idx) in enumerate(cv.split(X, y), start=1):\n",
    "            tqdm.write(f\"\\n--- Fold {fold}/{n_splits} ---\")\n",
    "            set_seed(42 + fold)  # fold-stable seed\n",
    "            m = train_lstm_one_fold(params, tr_idx, va_idx, texts, labels, glove_filename)\n",
    "            fold_metrics.append(m)\n",
    "\n",
    "        mean_acc = float(np.mean([m[\"val_acc\"] for m in fold_metrics]))\n",
    "        std_acc  = float(np.std([m[\"val_acc\"] for m in fold_metrics]))\n",
    "        mean_f1  = float(np.mean([m[\"val_f1\"] for m in fold_metrics]))\n",
    "        std_f1   = float(np.std([m[\"val_f1\"] for m in fold_metrics]))\n",
    "\n",
    "        all_runs.append({\n",
    "            \"params\": params,\n",
    "            \"mean_acc\": mean_acc, \"std_acc\": std_acc,\n",
    "            \"mean_f1\": mean_f1,   \"std_f1\": std_f1,\n",
    "        })\n",
    "\n",
    "        tqdm.write(f\"\\nRESULT | acc={mean_acc:.4f}±{std_acc:.4f} | f1={mean_f1:.4f}±{std_f1:.4f}\")\n",
    "\n",
    "    all_runs = sorted(all_runs, key=lambda d: (d[\"mean_f1\"], d[\"mean_acc\"]), reverse=True)\n",
    "    return all_runs"
   ]
  },
  {
   "cell_type": "markdown",
   "id": "83a8efd6-63e1-4c36-8801-131befde8008",
   "metadata": {},
   "source": [
    "#### Hyperparameter Selection\n",
    "\n",
    "Parameter selection came from previous notebook where models were trained with standard parameters (proven well for such task). \n",
    "\n",
    "- hidden_dim = {128, 256}: Two capacities to test the bias variance trade-off. 128 is faster/less prone to overfit. 256 can capture longer dependencies.\n",
    "- num_layers=2, bidirectional=True: Two stacked layers add depth. bidirectional reads left/right context, which helps sentiment cues that depend on surrounding words."
   ]
  },
  {
   "cell_type": "code",
   "execution_count": 12,
   "id": "fc10754c-94cf-4d37-a902-1bb8082f9e27",
   "metadata": {},
   "outputs": [
    {
     "name": "stdout",
     "output_type": "stream",
     "text": [
      "\n",
      "=== Params: {'emb_dim': 100, 'hidden_dim': 128, 'num_layers': 2, 'bidirectional': True, 'dropout': 0.4, 'lr': 0.001, 'batch_size': 64, 'epochs': 8, 'max_len': 256, 'min_freq': 2, 'max_vocab_size': 30000, 'patience': 2} ===\n",
      "\n",
      "--- Fold 1/5 ---\n",
      "[Fold] Ep01 | tr_loss=0.6648 tr_acc=0.5945 | va_loss=0.6888 va_acc=0.5208 va_f1=0.6681\n",
      "[Fold] Ep02 | tr_loss=0.6151 tr_acc=0.6657 | va_loss=0.4868 va_acc=0.7783 va_f1=0.7806\n",
      "[Fold] Ep03 | tr_loss=0.4236 tr_acc=0.8106 | va_loss=0.3549 va_acc=0.8448 va_f1=0.8495\n",
      "[Fold] Ep04 | tr_loss=0.3557 tr_acc=0.8463 | va_loss=0.3191 va_acc=0.8604 va_f1=0.8586\n",
      "[Fold] Ep05 | tr_loss=0.3191 tr_acc=0.8649 | va_loss=0.3002 va_acc=0.8700 va_f1=0.8683\n",
      "[Fold] Ep06 | tr_loss=0.2948 tr_acc=0.8767 | va_loss=0.2861 va_acc=0.8811 va_f1=0.8831\n",
      "[Fold] Ep07 | tr_loss=0.2735 tr_acc=0.8864 | va_loss=0.2731 va_acc=0.8851 va_f1=0.8836\n",
      "[Fold] Ep08 | tr_loss=0.2534 tr_acc=0.8975 | va_loss=0.2676 va_acc=0.8880 va_f1=0.8886\n",
      "\n",
      "--- Fold 2/5 ---\n",
      "[Fold] Ep01 | tr_loss=0.6373 tr_acc=0.6144 | va_loss=0.4459 va_acc=0.8003 va_f1=0.7931\n",
      "[Fold] Ep02 | tr_loss=0.4030 tr_acc=0.8226 | va_loss=0.3700 va_acc=0.8392 va_f1=0.8288\n",
      "[Fold] Ep03 | tr_loss=0.3538 tr_acc=0.8475 | va_loss=0.3410 va_acc=0.8557 va_f1=0.8592\n",
      "[Fold] Ep04 | tr_loss=0.3215 tr_acc=0.8634 | va_loss=0.3590 va_acc=0.8391 va_f1=0.8547\n",
      "[Fold] Ep05 | tr_loss=0.2966 tr_acc=0.8751 | va_loss=0.3031 va_acc=0.8685 va_f1=0.8639\n",
      "[Fold] Ep06 | tr_loss=0.2742 tr_acc=0.8855 | va_loss=0.3055 va_acc=0.8775 va_f1=0.8748\n",
      "[Fold] Ep07 | tr_loss=0.2529 tr_acc=0.8944 | va_loss=0.3066 va_acc=0.8706 va_f1=0.8772\n",
      "[Fold] Ep08 | tr_loss=0.2360 tr_acc=0.9036 | va_loss=0.2952 va_acc=0.8799 va_f1=0.8795\n",
      "\n",
      "--- Fold 3/5 ---\n",
      "[Fold] Ep01 | tr_loss=0.6487 tr_acc=0.6155 | va_loss=0.4762 va_acc=0.7905 va_f1=0.7976\n",
      "[Fold] Ep02 | tr_loss=0.4229 tr_acc=0.8157 | va_loss=0.3869 va_acc=0.8268 va_f1=0.8393\n",
      "[Fold] Ep03 | tr_loss=0.3594 tr_acc=0.8467 | va_loss=0.3423 va_acc=0.8467 va_f1=0.8406\n",
      "[Fold] Ep04 | tr_loss=0.3275 tr_acc=0.8625 | va_loss=0.3241 va_acc=0.8629 va_f1=0.8656\n",
      "[Fold] Ep05 | tr_loss=0.3051 tr_acc=0.8714 | va_loss=0.3121 va_acc=0.8642 va_f1=0.8623\n",
      "[Fold] Ep06 | tr_loss=0.2782 tr_acc=0.8871 | va_loss=0.3006 va_acc=0.8695 va_f1=0.8720\n",
      "[Fold] Ep07 | tr_loss=0.2600 tr_acc=0.8942 | va_loss=0.3087 va_acc=0.8709 va_f1=0.8668\n",
      "[Fold] Ep08 | tr_loss=0.2398 tr_acc=0.9028 | va_loss=0.3186 va_acc=0.8745 va_f1=0.8797\n",
      "\n",
      "--- Fold 4/5 ---\n",
      "[Fold] Ep01 | tr_loss=0.6299 tr_acc=0.6371 | va_loss=0.5027 va_acc=0.7705 va_f1=0.7647\n",
      "[Fold] Ep02 | tr_loss=0.5249 tr_acc=0.7549 | va_loss=0.4516 va_acc=0.8016 va_f1=0.8016\n",
      "[Fold] Ep03 | tr_loss=0.4906 tr_acc=0.7730 | va_loss=0.4124 va_acc=0.8188 va_f1=0.8134\n",
      "[Fold] Ep04 | tr_loss=0.4092 tr_acc=0.8187 | va_loss=0.3843 va_acc=0.8292 va_f1=0.8374\n",
      "[Fold] Ep05 | tr_loss=0.3679 tr_acc=0.8398 | va_loss=0.3551 va_acc=0.8425 va_f1=0.8321\n",
      "[Fold] Ep06 | tr_loss=0.3406 tr_acc=0.8529 | va_loss=0.3206 va_acc=0.8615 va_f1=0.8640\n",
      "[Fold] Ep07 | tr_loss=0.3176 tr_acc=0.8638 | va_loss=0.3091 va_acc=0.8689 va_f1=0.8699\n",
      "[Fold] Ep08 | tr_loss=0.2976 tr_acc=0.8727 | va_loss=0.3206 va_acc=0.8538 va_f1=0.8645\n",
      "\n",
      "--- Fold 5/5 ---\n",
      "[Fold] Ep01 | tr_loss=0.6675 tr_acc=0.5938 | va_loss=0.6392 va_acc=0.6754 va_f1=0.7293\n",
      "[Fold] Ep02 | tr_loss=0.5566 tr_acc=0.7278 | va_loss=0.4085 va_acc=0.8202 va_f1=0.8111\n",
      "[Fold] Ep03 | tr_loss=0.3887 tr_acc=0.8292 | va_loss=0.3369 va_acc=0.8570 va_f1=0.8546\n",
      "[Fold] Ep04 | tr_loss=0.3334 tr_acc=0.8585 | va_loss=0.3064 va_acc=0.8728 va_f1=0.8734\n",
      "[Fold] Ep05 | tr_loss=0.2998 tr_acc=0.8726 | va_loss=0.3138 va_acc=0.8731 va_f1=0.8658\n",
      "[Fold] Ep06 | tr_loss=0.2777 tr_acc=0.8851 | va_loss=0.2729 va_acc=0.8828 va_f1=0.8791\n",
      "[Fold] Ep07 | tr_loss=0.2575 tr_acc=0.8933 | va_loss=0.2960 va_acc=0.8821 va_f1=0.8753\n",
      "[Fold] Ep08 | tr_loss=0.2412 tr_acc=0.9029 | va_loss=0.2814 va_acc=0.8827 va_f1=0.8877\n",
      "Early stop @ epoch 8 (best acc=0.8828 f1=0.8791)\n",
      "\n",
      "RESULT | acc=0.8788±0.0066 | f1=0.8793±0.0059\n",
      "\n",
      "=== Params: {'emb_dim': 100, 'hidden_dim': 256, 'num_layers': 2, 'bidirectional': True, 'dropout': 0.5, 'lr': 0.0005, 'batch_size': 64, 'epochs': 8, 'max_len': 256, 'min_freq': 2, 'max_vocab_size': 30000, 'patience': 2} ===\n",
      "\n",
      "--- Fold 1/5 ---\n",
      "[Fold] Ep01 | tr_loss=0.6856 tr_acc=0.5529 | va_loss=0.6905 va_acc=0.5167 va_f1=0.6636\n",
      "[Fold] Ep02 | tr_loss=0.6780 tr_acc=0.5688 | va_loss=0.6618 va_acc=0.6057 va_f1=0.5233\n",
      "[Fold] Ep03 | tr_loss=0.6533 tr_acc=0.6141 | va_loss=0.6318 va_acc=0.6442 va_f1=0.5661\n",
      "[Fold] Ep04 | tr_loss=0.5777 tr_acc=0.6869 | va_loss=0.4686 va_acc=0.7679 va_f1=0.7248\n",
      "[Fold] Ep05 | tr_loss=0.4008 tr_acc=0.8219 | va_loss=0.3567 va_acc=0.8424 va_f1=0.8452\n",
      "[Fold] Ep06 | tr_loss=0.3546 tr_acc=0.8442 | va_loss=0.3570 va_acc=0.8374 va_f1=0.8240\n",
      "[Fold] Ep07 | tr_loss=0.3327 tr_acc=0.8569 | va_loss=0.3145 va_acc=0.8607 va_f1=0.8630\n",
      "[Fold] Ep08 | tr_loss=0.3201 tr_acc=0.8628 | va_loss=0.3122 va_acc=0.8635 va_f1=0.8593\n",
      "\n",
      "--- Fold 2/5 ---\n",
      "[Fold] Ep01 | tr_loss=0.6580 tr_acc=0.6036 | va_loss=0.6643 va_acc=0.6053 va_f1=0.7094\n",
      "[Fold] Ep02 | tr_loss=0.5498 tr_acc=0.7152 | va_loss=0.4098 va_acc=0.8167 va_f1=0.8285\n",
      "[Fold] Ep03 | tr_loss=0.3834 tr_acc=0.8316 | va_loss=0.3443 va_acc=0.8515 va_f1=0.8531\n",
      "[Fold] Ep04 | tr_loss=0.3477 tr_acc=0.8495 | va_loss=0.3439 va_acc=0.8500 va_f1=0.8394\n",
      "[Fold] Ep05 | tr_loss=0.3206 tr_acc=0.8640 | va_loss=0.3359 va_acc=0.8541 va_f1=0.8657\n",
      "[Fold] Ep06 | tr_loss=0.3022 tr_acc=0.8723 | va_loss=0.3033 va_acc=0.8715 va_f1=0.8665\n",
      "[Fold] Ep07 | tr_loss=0.2818 tr_acc=0.8826 | va_loss=0.2929 va_acc=0.8806 va_f1=0.8779\n",
      "[Fold] Ep08 | tr_loss=0.2666 tr_acc=0.8907 | va_loss=0.2841 va_acc=0.8852 va_f1=0.8871\n",
      "\n",
      "--- Fold 3/5 ---\n",
      "[Fold] Ep01 | tr_loss=0.6806 tr_acc=0.5603 | va_loss=0.6544 va_acc=0.6219 va_f1=0.6527\n",
      "[Fold] Ep02 | tr_loss=0.5568 tr_acc=0.7184 | va_loss=0.5316 va_acc=0.7554 va_f1=0.7083\n",
      "[Fold] Ep03 | tr_loss=0.4008 tr_acc=0.8204 | va_loss=0.3803 va_acc=0.8265 va_f1=0.8096\n",
      "[Fold] Ep04 | tr_loss=0.3476 tr_acc=0.8499 | va_loss=0.3370 va_acc=0.8481 va_f1=0.8383\n",
      "[Fold] Ep05 | tr_loss=0.3198 tr_acc=0.8621 | va_loss=0.3336 va_acc=0.8540 va_f1=0.8648\n",
      "[Fold] Ep06 | tr_loss=0.2978 tr_acc=0.8733 | va_loss=0.3043 va_acc=0.8707 va_f1=0.8753\n",
      "[Fold] Ep07 | tr_loss=0.2784 tr_acc=0.8832 | va_loss=0.3651 va_acc=0.8453 va_f1=0.8298\n",
      "[Fold] Ep08 | tr_loss=0.2712 tr_acc=0.8877 | va_loss=0.2901 va_acc=0.8793 va_f1=0.8807\n",
      "\n",
      "--- Fold 4/5 ---\n",
      "[Fold] Ep01 | tr_loss=0.6852 tr_acc=0.5437 | va_loss=0.6899 va_acc=0.5230 va_f1=0.1518\n",
      "[Fold] Ep02 | tr_loss=0.5863 tr_acc=0.6834 | va_loss=0.4180 va_acc=0.8140 va_f1=0.8024\n",
      "[Fold] Ep03 | tr_loss=0.3919 tr_acc=0.8261 | va_loss=0.3864 va_acc=0.8349 va_f1=0.8230\n",
      "[Fold] Ep04 | tr_loss=0.3531 tr_acc=0.8468 | va_loss=0.3306 va_acc=0.8593 va_f1=0.8558\n",
      "[Fold] Ep05 | tr_loss=0.3242 tr_acc=0.8603 | va_loss=0.3152 va_acc=0.8637 va_f1=0.8688\n",
      "[Fold] Ep06 | tr_loss=0.3023 tr_acc=0.8712 | va_loss=0.2999 va_acc=0.8728 va_f1=0.8772\n",
      "[Fold] Ep07 | tr_loss=0.2862 tr_acc=0.8800 | va_loss=0.2855 va_acc=0.8801 va_f1=0.8809\n",
      "[Fold] Ep08 | tr_loss=0.2673 tr_acc=0.8889 | va_loss=0.2881 va_acc=0.8768 va_f1=0.8823\n",
      "\n",
      "--- Fold 5/5 ---\n",
      "[Fold] Ep01 | tr_loss=0.6613 tr_acc=0.5994 | va_loss=0.6162 va_acc=0.6698 va_f1=0.5993\n",
      "[Fold] Ep02 | tr_loss=0.6223 tr_acc=0.6611 | va_loss=0.6211 va_acc=0.6412 va_f1=0.6609\n",
      "[Fold] Ep03 | tr_loss=0.5171 tr_acc=0.7477 | va_loss=0.4545 va_acc=0.7948 va_f1=0.8143\n",
      "[Fold] Ep04 | tr_loss=0.4023 tr_acc=0.8206 | va_loss=0.3598 va_acc=0.8469 va_f1=0.8451\n",
      "[Fold] Ep05 | tr_loss=0.3568 tr_acc=0.8436 | va_loss=0.3249 va_acc=0.8636 va_f1=0.8651\n",
      "[Fold] Ep06 | tr_loss=0.3295 tr_acc=0.8578 | va_loss=0.3110 va_acc=0.8687 va_f1=0.8717\n",
      "[Fold] Ep07 | tr_loss=0.3096 tr_acc=0.8681 | va_loss=0.3093 va_acc=0.8593 va_f1=0.8687\n",
      "[Fold] Ep08 | tr_loss=0.2908 tr_acc=0.8774 | va_loss=0.3003 va_acc=0.8743 va_f1=0.8785\n",
      "\n",
      "RESULT | acc=0.8765±0.0074 | f1=0.8773±0.0095\n"
     ]
    },
    {
     "data": {
      "text/html": [
       "<div>\n",
       "<style scoped>\n",
       "    .dataframe tbody tr th:only-of-type {\n",
       "        vertical-align: middle;\n",
       "    }\n",
       "\n",
       "    .dataframe tbody tr th {\n",
       "        vertical-align: top;\n",
       "    }\n",
       "\n",
       "    .dataframe thead th {\n",
       "        text-align: right;\n",
       "    }\n",
       "</style>\n",
       "<table border=\"1\" class=\"dataframe\">\n",
       "  <thead>\n",
       "    <tr style=\"text-align: right;\">\n",
       "      <th></th>\n",
       "      <th>params</th>\n",
       "      <th>mean_acc</th>\n",
       "      <th>std_acc</th>\n",
       "      <th>mean_f1</th>\n",
       "      <th>std_f1</th>\n",
       "    </tr>\n",
       "  </thead>\n",
       "  <tbody>\n",
       "    <tr>\n",
       "      <th>0</th>\n",
       "      <td>{'emb_dim': 100, 'hidden_dim': 128, 'num_layer...</td>\n",
       "      <td>0.87882</td>\n",
       "      <td>0.006608</td>\n",
       "      <td>0.879348</td>\n",
       "      <td>0.005919</td>\n",
       "    </tr>\n",
       "    <tr>\n",
       "      <th>1</th>\n",
       "      <td>{'emb_dim': 100, 'hidden_dim': 256, 'num_layer...</td>\n",
       "      <td>0.87648</td>\n",
       "      <td>0.007353</td>\n",
       "      <td>0.877285</td>\n",
       "      <td>0.009454</td>\n",
       "    </tr>\n",
       "  </tbody>\n",
       "</table>\n",
       "</div>"
      ],
      "text/plain": [
       "                                              params  mean_acc   std_acc  \\\n",
       "0  {'emb_dim': 100, 'hidden_dim': 128, 'num_layer...   0.87882  0.006608   \n",
       "1  {'emb_dim': 100, 'hidden_dim': 256, 'num_layer...   0.87648  0.007353   \n",
       "\n",
       "    mean_f1    std_f1  \n",
       "0  0.879348  0.005919  \n",
       "1  0.877285  0.009454  "
      ]
     },
     "execution_count": 12,
     "metadata": {},
     "output_type": "execute_result"
    }
   ],
   "source": [
    "texts = X_train_text\n",
    "labels = y_train\n",
    "\n",
    "# Small param grid to start (expand once it runs fine)\n",
    "param_grid = [\n",
    "    {\n",
    "        \"emb_dim\": 100,\n",
    "        \"hidden_dim\": 128,\n",
    "        \"num_layers\": 2,\n",
    "        \"bidirectional\": True,\n",
    "        \"dropout\": 0.4,\n",
    "        \"lr\": 1e-3,\n",
    "        \"batch_size\": 64,\n",
    "        \"epochs\": 8,\n",
    "        \"max_len\": 256,\n",
    "        \"min_freq\": 2,\n",
    "        \"max_vocab_size\": 30000,\n",
    "        \"patience\": 2,\n",
    "    },\n",
    "    {\n",
    "        \"emb_dim\": 100,\n",
    "        \"hidden_dim\": 256,\n",
    "        \"num_layers\": 2,\n",
    "        \"bidirectional\": True,\n",
    "        \"dropout\": 0.5,\n",
    "        \"lr\": 5e-4,\n",
    "        \"batch_size\": 64,\n",
    "        \"epochs\": 8,\n",
    "        \"max_len\": 256,\n",
    "        \"min_freq\": 2,\n",
    "        \"max_vocab_size\": 30000,\n",
    "        \"patience\": 2,\n",
    "    },\n",
    "]\n",
    "\n",
    "# Run CV\n",
    "results = kfold_lstm_cv(\n",
    "    texts=X,\n",
    "    labels=y,\n",
    "    param_grid=param_grid,\n",
    "    glove_filename=\"glove.6B.100d.txt\",  # file must be in <project_root>/data\n",
    "    n_splits=5,\n",
    "    seed=42\n",
    ")\n",
    "\n",
    "# Leaderboard\n",
    "pd.DataFrame(results)"
   ]
  },
  {
   "cell_type": "markdown",
   "id": "4ffd7565-1599-4373-98ca-3aeb0955b61d",
   "metadata": {},
   "source": [
    "#### Analysis\n",
    "- Best accuracy: 89.07% with hidden_dim=128, dropout=0.4, lr=0.001, which slightly outperformed the larger model.\n",
    "- F1-score: 88.41%, matching accuracy, showing balanced performance across positive and negative reviews.\n",
    "- Smaller model advantage: The lower hidden dimension appears to reduce overfitting risk while still capturing enough features for strong classification performance.\n",
    "- Alternative config: `hidden_dim=256`, `dropout=0.5`, `lr=0.0005` performed slightly worse (87.93% accuracy), suggesting increased complexity without proportional gains.\n",
    "\n",
    "#### Observation\n",
    "\n",
    "The combination of GloVe embeddings and a moderately sized LSTM allowed the model to converge quickly while maintaining balanced precision and recall. Increasing model size did not improve accuracy, indicating the dataset is well-modeled with fewer parameters. To further improve generalization, adjustments such as increasing dropout, adding weight decay, or exploring bidirectional LSTM layers could be considered.\n",
    "\n",
    "---"
   ]
  },
  {
   "cell_type": "markdown",
   "id": "0c6b52ca-ede3-4783-81f4-429345db9a43",
   "metadata": {},
   "source": [
    "### BERT (Distilbert) with Gridsearch"
   ]
  },
  {
   "cell_type": "markdown",
   "id": "3f946bc0-0ad8-4af7-a17e-958574286820",
   "metadata": {},
   "source": [
    "- Faster training/inference – ~60% quicker than BERT base.\n",
    "- Smaller model – ~40% fewer parameters, fits low memory GPUs.\n",
    "- High accuracy – Retains ~97% of BERT’s performance.\n",
    "- Better for multiple runs – Practical for KFold and grid search experiments."
   ]
  },
  {
   "cell_type": "code",
   "execution_count": 13,
   "id": "93f24155-275d-4a2b-80c3-d09169f19f15",
   "metadata": {},
   "outputs": [],
   "source": [
    "csv_path = project_root / \"data\" / \"IMDB_Dataset.csv\"\n",
    "\n",
    "data = pd.read_csv(csv_path)\n",
    "X = data[\"review\"].astype(str).to_list()\n",
    "y = [1 if sentiment == \"positive\" else 0 for sentiment in data[\"sentiment\"]]\n",
    "\n",
    "texts = X\n",
    "labels = y"
   ]
  },
  {
   "cell_type": "code",
   "execution_count": 14,
   "id": "fb5fc765-a7ed-40bf-8761-2ca65d37fd62",
   "metadata": {},
   "outputs": [],
   "source": [
    "model_name = \"distilbert-base-uncased\"  # faster than BERT-base\n",
    "tokenizer = AutoTokenizer.from_pretrained(model_name)"
   ]
  },
  {
   "cell_type": "code",
   "execution_count": 15,
   "id": "512753b0-732d-4492-8a12-3b2d3e4c8ea4",
   "metadata": {},
   "outputs": [],
   "source": [
    "def tokenize_batch(batch):\n",
    "    return tokenizer(batch[\"text\"], truncation=True, padding=True, max_length=256)\n",
    "\n",
    "def train_eval_one_fold(train_idx, val_idx, hp):\n",
    "    tr_texts = [texts[i] for i in train_idx]; tr_labels = [labels[i] for i in train_idx]\n",
    "    va_texts = [texts[i] for i in val_idx];   va_labels = [labels[i] for i in val_idx]\n",
    "\n",
    "    train_ds = Dataset.from_dict({\"text\": tr_texts, \"label\": tr_labels}).map(tokenize_batch, batched=True)\n",
    "    val_ds   = Dataset.from_dict({\"text\": va_texts, \"label\": va_labels}).map(tokenize_batch, batched=True)\n",
    "\n",
    "    model = AutoModelForSequenceClassification.from_pretrained(model_name, num_labels=2)\n",
    "\n",
    "    args = TrainingArguments(\n",
    "        output_dir=\"tmp_out\",\n",
    "        learning_rate=hp[\"lr\"],\n",
    "        per_device_train_batch_size=hp[\"bsz\"],\n",
    "        per_device_eval_batch_size=hp[\"bsz\"],\n",
    "        num_train_epochs=hp[\"epochs\"],\n",
    "        weight_decay=hp[\"wd\"],\n",
    "        eval_strategy=\"epoch\",\n",
    "        disable_tqdm=False,\n",
    "        save_strategy=\"no\",\n",
    "        log_level=\"error\",\n",
    "        log_level_replica=\"error\",\n",
    "        logging_steps=50,\n",
    "        report_to=[],\n",
    "        fp16=torch.cuda.is_available(),\n",
    "    )\n",
    "\n",
    "    def compute_metrics(eval_pred):\n",
    "        logits, y_true = eval_pred\n",
    "        y_pred = np.argmax(logits, axis=1)\n",
    "        return {\"accuracy\": (y_pred == y_true).mean(), \"f1\": f1_score(y_true, y_pred)}\n",
    "\n",
    "    trainer = Trainer(\n",
    "        model=model,\n",
    "        args=args,\n",
    "        train_dataset=train_ds,\n",
    "        eval_dataset=val_ds,\n",
    "        tokenizer=tokenizer,\n",
    "        compute_metrics=compute_metrics,\n",
    "    )\n",
    "    trainer.train()\n",
    "    out = trainer.evaluate()\n",
    "    preds = trainer.predict(val_ds)\n",
    "    y_pred = np.argmax(preds.predictions, axis=1)\n",
    "    y_true = np.array(va_labels)\n",
    "    return {\"eval_accuracy\": out[\"eval_accuracy\"], \"eval_f1\": out[\"eval_f1\"], \"y_true\": y_true, \"y_pred\": y_pred}\n"
   ]
  },
  {
   "cell_type": "code",
   "execution_count": 16,
   "id": "bc1408ad-0079-4c0c-828a-55800545a32f",
   "metadata": {},
   "outputs": [],
   "source": [
    "def expand_grid(grid_dict):\n",
    "    keys = list(grid_dict.keys())\n",
    "    vals = list(grid_dict.values())\n",
    "    return [dict(zip(keys, combo)) for combo in product(*vals)]\n",
    "\n",
    "grid = {\n",
    "    \"lr\":   [2e-5, 5e-5],\n",
    "    \"bsz\":  [16, 32],\n",
    "    \"epochs\": [2, 3],        \n",
    "    \"wd\":   [0.01],\n",
    "}\n",
    "hp_list = expand_grid(grid)"
   ]
  },
  {
   "cell_type": "code",
   "execution_count": null,
   "id": "fd574241-f83c-41b2-9290-fe6deb4d91f4",
   "metadata": {},
   "outputs": [],
   "source": []
  },
  {
   "cell_type": "code",
   "execution_count": 17,
   "id": "69aefb54-86a9-4626-b994-9c4a1d76099d",
   "metadata": {
    "scrolled": true
   },
   "outputs": [
    {
     "data": {
      "application/vnd.jupyter.widget-view+json": {
       "model_id": "b07ca46caefc41f6ab1b7c58261fba2f",
       "version_major": 2,
       "version_minor": 0
      },
      "text/plain": [
       "Map:   0%|          | 0/40000 [00:00<?, ? examples/s]"
      ]
     },
     "metadata": {},
     "output_type": "display_data"
    },
    {
     "data": {
      "application/vnd.jupyter.widget-view+json": {
       "model_id": "e23d8f57f0774dc5be6a48f124e79f3c",
       "version_major": 2,
       "version_minor": 0
      },
      "text/plain": [
       "Map:   0%|          | 0/10000 [00:00<?, ? examples/s]"
      ]
     },
     "metadata": {},
     "output_type": "display_data"
    },
    {
     "name": "stderr",
     "output_type": "stream",
     "text": [
      "Some weights of DistilBertForSequenceClassification were not initialized from the model checkpoint at distilbert-base-uncased and are newly initialized: ['classifier.bias', 'classifier.weight', 'pre_classifier.bias', 'pre_classifier.weight']\n",
      "You should probably TRAIN this model on a down-stream task to be able to use it for predictions and inference.\n"
     ]
    },
    {
     "data": {
      "text/html": [
       "\n",
       "    <div>\n",
       "      \n",
       "      <progress value='5000' max='5000' style='width:300px; height:20px; vertical-align: middle;'></progress>\n",
       "      [5000/5000 03:49, Epoch 2/2]\n",
       "    </div>\n",
       "    <table border=\"1\" class=\"dataframe\">\n",
       "  <thead>\n",
       " <tr style=\"text-align: left;\">\n",
       "      <th>Epoch</th>\n",
       "      <th>Training Loss</th>\n",
       "      <th>Validation Loss</th>\n",
       "      <th>Accuracy</th>\n",
       "      <th>F1</th>\n",
       "    </tr>\n",
       "  </thead>\n",
       "  <tbody>\n",
       "    <tr>\n",
       "      <td>1</td>\n",
       "      <td>0.236500</td>\n",
       "      <td>0.228227</td>\n",
       "      <td>0.914200</td>\n",
       "      <td>0.916844</td>\n",
       "    </tr>\n",
       "    <tr>\n",
       "      <td>2</td>\n",
       "      <td>0.133800</td>\n",
       "      <td>0.254877</td>\n",
       "      <td>0.920200</td>\n",
       "      <td>0.921240</td>\n",
       "    </tr>\n",
       "  </tbody>\n",
       "</table><p>"
      ],
      "text/plain": [
       "<IPython.core.display.HTML object>"
      ]
     },
     "metadata": {},
     "output_type": "display_data"
    },
    {
     "data": {
      "text/html": [],
      "text/plain": [
       "<IPython.core.display.HTML object>"
      ]
     },
     "metadata": {},
     "output_type": "display_data"
    },
    {
     "data": {
      "application/vnd.jupyter.widget-view+json": {
       "model_id": "9a6c9a97ce234ae0b86258c1cd65b8e2",
       "version_major": 2,
       "version_minor": 0
      },
      "text/plain": [
       "Map:   0%|          | 0/40000 [00:00<?, ? examples/s]"
      ]
     },
     "metadata": {},
     "output_type": "display_data"
    },
    {
     "data": {
      "application/vnd.jupyter.widget-view+json": {
       "model_id": "eb87a51f39cc4089adddcbff05564d86",
       "version_major": 2,
       "version_minor": 0
      },
      "text/plain": [
       "Map:   0%|          | 0/10000 [00:00<?, ? examples/s]"
      ]
     },
     "metadata": {},
     "output_type": "display_data"
    },
    {
     "data": {
      "text/html": [
       "\n",
       "    <div>\n",
       "      \n",
       "      <progress value='5000' max='5000' style='width:300px; height:20px; vertical-align: middle;'></progress>\n",
       "      [5000/5000 03:38, Epoch 2/2]\n",
       "    </div>\n",
       "    <table border=\"1\" class=\"dataframe\">\n",
       "  <thead>\n",
       " <tr style=\"text-align: left;\">\n",
       "      <th>Epoch</th>\n",
       "      <th>Training Loss</th>\n",
       "      <th>Validation Loss</th>\n",
       "      <th>Accuracy</th>\n",
       "      <th>F1</th>\n",
       "    </tr>\n",
       "  </thead>\n",
       "  <tbody>\n",
       "    <tr>\n",
       "      <td>1</td>\n",
       "      <td>0.245500</td>\n",
       "      <td>0.211387</td>\n",
       "      <td>0.919600</td>\n",
       "      <td>0.920111</td>\n",
       "    </tr>\n",
       "    <tr>\n",
       "      <td>2</td>\n",
       "      <td>0.153600</td>\n",
       "      <td>0.255346</td>\n",
       "      <td>0.922200</td>\n",
       "      <td>0.922371</td>\n",
       "    </tr>\n",
       "  </tbody>\n",
       "</table><p>"
      ],
      "text/plain": [
       "<IPython.core.display.HTML object>"
      ]
     },
     "metadata": {},
     "output_type": "display_data"
    },
    {
     "data": {
      "text/html": [],
      "text/plain": [
       "<IPython.core.display.HTML object>"
      ]
     },
     "metadata": {},
     "output_type": "display_data"
    },
    {
     "data": {
      "application/vnd.jupyter.widget-view+json": {
       "model_id": "4fa7954652df452ab0eb55fa723ebc8d",
       "version_major": 2,
       "version_minor": 0
      },
      "text/plain": [
       "Map:   0%|          | 0/40000 [00:00<?, ? examples/s]"
      ]
     },
     "metadata": {},
     "output_type": "display_data"
    },
    {
     "data": {
      "application/vnd.jupyter.widget-view+json": {
       "model_id": "1be94db60b164e1e88b0d199fe1b1b88",
       "version_major": 2,
       "version_minor": 0
      },
      "text/plain": [
       "Map:   0%|          | 0/10000 [00:00<?, ? examples/s]"
      ]
     },
     "metadata": {},
     "output_type": "display_data"
    },
    {
     "data": {
      "text/html": [
       "\n",
       "    <div>\n",
       "      \n",
       "      <progress value='5000' max='5000' style='width:300px; height:20px; vertical-align: middle;'></progress>\n",
       "      [5000/5000 03:37, Epoch 2/2]\n",
       "    </div>\n",
       "    <table border=\"1\" class=\"dataframe\">\n",
       "  <thead>\n",
       " <tr style=\"text-align: left;\">\n",
       "      <th>Epoch</th>\n",
       "      <th>Training Loss</th>\n",
       "      <th>Validation Loss</th>\n",
       "      <th>Accuracy</th>\n",
       "      <th>F1</th>\n",
       "    </tr>\n",
       "  </thead>\n",
       "  <tbody>\n",
       "    <tr>\n",
       "      <td>1</td>\n",
       "      <td>0.251300</td>\n",
       "      <td>0.230569</td>\n",
       "      <td>0.914800</td>\n",
       "      <td>0.913538</td>\n",
       "    </tr>\n",
       "    <tr>\n",
       "      <td>2</td>\n",
       "      <td>0.143500</td>\n",
       "      <td>0.260132</td>\n",
       "      <td>0.921600</td>\n",
       "      <td>0.921803</td>\n",
       "    </tr>\n",
       "  </tbody>\n",
       "</table><p>"
      ],
      "text/plain": [
       "<IPython.core.display.HTML object>"
      ]
     },
     "metadata": {},
     "output_type": "display_data"
    },
    {
     "data": {
      "text/html": [],
      "text/plain": [
       "<IPython.core.display.HTML object>"
      ]
     },
     "metadata": {},
     "output_type": "display_data"
    },
    {
     "data": {
      "application/vnd.jupyter.widget-view+json": {
       "model_id": "8389de19160b4daa93973575d08b6595",
       "version_major": 2,
       "version_minor": 0
      },
      "text/plain": [
       "Map:   0%|          | 0/40000 [00:00<?, ? examples/s]"
      ]
     },
     "metadata": {},
     "output_type": "display_data"
    },
    {
     "data": {
      "application/vnd.jupyter.widget-view+json": {
       "model_id": "c29cdd24a643442fa84bb200619c5391",
       "version_major": 2,
       "version_minor": 0
      },
      "text/plain": [
       "Map:   0%|          | 0/10000 [00:00<?, ? examples/s]"
      ]
     },
     "metadata": {},
     "output_type": "display_data"
    },
    {
     "data": {
      "text/html": [
       "\n",
       "    <div>\n",
       "      \n",
       "      <progress value='5000' max='5000' style='width:300px; height:20px; vertical-align: middle;'></progress>\n",
       "      [5000/5000 03:39, Epoch 2/2]\n",
       "    </div>\n",
       "    <table border=\"1\" class=\"dataframe\">\n",
       "  <thead>\n",
       " <tr style=\"text-align: left;\">\n",
       "      <th>Epoch</th>\n",
       "      <th>Training Loss</th>\n",
       "      <th>Validation Loss</th>\n",
       "      <th>Accuracy</th>\n",
       "      <th>F1</th>\n",
       "    </tr>\n",
       "  </thead>\n",
       "  <tbody>\n",
       "    <tr>\n",
       "      <td>1</td>\n",
       "      <td>0.241500</td>\n",
       "      <td>0.223326</td>\n",
       "      <td>0.914700</td>\n",
       "      <td>0.914297</td>\n",
       "    </tr>\n",
       "    <tr>\n",
       "      <td>2</td>\n",
       "      <td>0.139600</td>\n",
       "      <td>0.273385</td>\n",
       "      <td>0.917400</td>\n",
       "      <td>0.917185</td>\n",
       "    </tr>\n",
       "  </tbody>\n",
       "</table><p>"
      ],
      "text/plain": [
       "<IPython.core.display.HTML object>"
      ]
     },
     "metadata": {},
     "output_type": "display_data"
    },
    {
     "data": {
      "text/html": [],
      "text/plain": [
       "<IPython.core.display.HTML object>"
      ]
     },
     "metadata": {},
     "output_type": "display_data"
    },
    {
     "data": {
      "application/vnd.jupyter.widget-view+json": {
       "model_id": "7b948de904554e958f673d27d81a46a4",
       "version_major": 2,
       "version_minor": 0
      },
      "text/plain": [
       "Map:   0%|          | 0/40000 [00:00<?, ? examples/s]"
      ]
     },
     "metadata": {},
     "output_type": "display_data"
    },
    {
     "data": {
      "application/vnd.jupyter.widget-view+json": {
       "model_id": "39b1566adf93424ebdf92774630d10d0",
       "version_major": 2,
       "version_minor": 0
      },
      "text/plain": [
       "Map:   0%|          | 0/10000 [00:00<?, ? examples/s]"
      ]
     },
     "metadata": {},
     "output_type": "display_data"
    },
    {
     "data": {
      "text/html": [
       "\n",
       "    <div>\n",
       "      \n",
       "      <progress value='5000' max='5000' style='width:300px; height:20px; vertical-align: middle;'></progress>\n",
       "      [5000/5000 03:38, Epoch 2/2]\n",
       "    </div>\n",
       "    <table border=\"1\" class=\"dataframe\">\n",
       "  <thead>\n",
       " <tr style=\"text-align: left;\">\n",
       "      <th>Epoch</th>\n",
       "      <th>Training Loss</th>\n",
       "      <th>Validation Loss</th>\n",
       "      <th>Accuracy</th>\n",
       "      <th>F1</th>\n",
       "    </tr>\n",
       "  </thead>\n",
       "  <tbody>\n",
       "    <tr>\n",
       "      <td>1</td>\n",
       "      <td>0.234300</td>\n",
       "      <td>0.225084</td>\n",
       "      <td>0.911300</td>\n",
       "      <td>0.914473</td>\n",
       "    </tr>\n",
       "    <tr>\n",
       "      <td>2</td>\n",
       "      <td>0.136400</td>\n",
       "      <td>0.248650</td>\n",
       "      <td>0.918800</td>\n",
       "      <td>0.919220</td>\n",
       "    </tr>\n",
       "  </tbody>\n",
       "</table><p>"
      ],
      "text/plain": [
       "<IPython.core.display.HTML object>"
      ]
     },
     "metadata": {},
     "output_type": "display_data"
    },
    {
     "data": {
      "text/html": [],
      "text/plain": [
       "<IPython.core.display.HTML object>"
      ]
     },
     "metadata": {},
     "output_type": "display_data"
    },
    {
     "data": {
      "application/vnd.jupyter.widget-view+json": {
       "model_id": "6b2da0dbf1434b54aeff7da466f15be2",
       "version_major": 2,
       "version_minor": 0
      },
      "text/plain": [
       "Map:   0%|          | 0/40000 [00:00<?, ? examples/s]"
      ]
     },
     "metadata": {},
     "output_type": "display_data"
    },
    {
     "data": {
      "application/vnd.jupyter.widget-view+json": {
       "model_id": "10f5ce6200954e99bfdd8d983e9148b1",
       "version_major": 2,
       "version_minor": 0
      },
      "text/plain": [
       "Map:   0%|          | 0/10000 [00:00<?, ? examples/s]"
      ]
     },
     "metadata": {},
     "output_type": "display_data"
    },
    {
     "data": {
      "text/html": [
       "\n",
       "    <div>\n",
       "      \n",
       "      <progress value='7500' max='7500' style='width:300px; height:20px; vertical-align: middle;'></progress>\n",
       "      [7500/7500 05:33, Epoch 3/3]\n",
       "    </div>\n",
       "    <table border=\"1\" class=\"dataframe\">\n",
       "  <thead>\n",
       " <tr style=\"text-align: left;\">\n",
       "      <th>Epoch</th>\n",
       "      <th>Training Loss</th>\n",
       "      <th>Validation Loss</th>\n",
       "      <th>Accuracy</th>\n",
       "      <th>F1</th>\n",
       "    </tr>\n",
       "  </thead>\n",
       "  <tbody>\n",
       "    <tr>\n",
       "      <td>1</td>\n",
       "      <td>0.243400</td>\n",
       "      <td>0.240568</td>\n",
       "      <td>0.909500</td>\n",
       "      <td>0.913554</td>\n",
       "    </tr>\n",
       "    <tr>\n",
       "      <td>2</td>\n",
       "      <td>0.149400</td>\n",
       "      <td>0.256723</td>\n",
       "      <td>0.917800</td>\n",
       "      <td>0.916361</td>\n",
       "    </tr>\n",
       "    <tr>\n",
       "      <td>3</td>\n",
       "      <td>0.092200</td>\n",
       "      <td>0.318842</td>\n",
       "      <td>0.920300</td>\n",
       "      <td>0.921159</td>\n",
       "    </tr>\n",
       "  </tbody>\n",
       "</table><p>"
      ],
      "text/plain": [
       "<IPython.core.display.HTML object>"
      ]
     },
     "metadata": {},
     "output_type": "display_data"
    },
    {
     "data": {
      "text/html": [],
      "text/plain": [
       "<IPython.core.display.HTML object>"
      ]
     },
     "metadata": {},
     "output_type": "display_data"
    },
    {
     "data": {
      "application/vnd.jupyter.widget-view+json": {
       "model_id": "d9887b6c978a4263a2c8ea09192813e8",
       "version_major": 2,
       "version_minor": 0
      },
      "text/plain": [
       "Map:   0%|          | 0/40000 [00:00<?, ? examples/s]"
      ]
     },
     "metadata": {},
     "output_type": "display_data"
    },
    {
     "data": {
      "application/vnd.jupyter.widget-view+json": {
       "model_id": "b738f97c244f4ce3b65b099ffdc96cf9",
       "version_major": 2,
       "version_minor": 0
      },
      "text/plain": [
       "Map:   0%|          | 0/10000 [00:00<?, ? examples/s]"
      ]
     },
     "metadata": {},
     "output_type": "display_data"
    },
    {
     "data": {
      "text/html": [
       "\n",
       "    <div>\n",
       "      \n",
       "      <progress value='7500' max='7500' style='width:300px; height:20px; vertical-align: middle;'></progress>\n",
       "      [7500/7500 06:38, Epoch 3/3]\n",
       "    </div>\n",
       "    <table border=\"1\" class=\"dataframe\">\n",
       "  <thead>\n",
       " <tr style=\"text-align: left;\">\n",
       "      <th>Epoch</th>\n",
       "      <th>Training Loss</th>\n",
       "      <th>Validation Loss</th>\n",
       "      <th>Accuracy</th>\n",
       "      <th>F1</th>\n",
       "    </tr>\n",
       "  </thead>\n",
       "  <tbody>\n",
       "    <tr>\n",
       "      <td>1</td>\n",
       "      <td>0.241200</td>\n",
       "      <td>0.214565</td>\n",
       "      <td>0.921700</td>\n",
       "      <td>0.921156</td>\n",
       "    </tr>\n",
       "    <tr>\n",
       "      <td>2</td>\n",
       "      <td>0.158400</td>\n",
       "      <td>0.257845</td>\n",
       "      <td>0.921600</td>\n",
       "      <td>0.921663</td>\n",
       "    </tr>\n",
       "    <tr>\n",
       "      <td>3</td>\n",
       "      <td>0.084700</td>\n",
       "      <td>0.318026</td>\n",
       "      <td>0.924300</td>\n",
       "      <td>0.924398</td>\n",
       "    </tr>\n",
       "  </tbody>\n",
       "</table><p>"
      ],
      "text/plain": [
       "<IPython.core.display.HTML object>"
      ]
     },
     "metadata": {},
     "output_type": "display_data"
    },
    {
     "data": {
      "text/html": [],
      "text/plain": [
       "<IPython.core.display.HTML object>"
      ]
     },
     "metadata": {},
     "output_type": "display_data"
    },
    {
     "data": {
      "application/vnd.jupyter.widget-view+json": {
       "model_id": "50a12dd0f6a14a6ca1219b7f961e717f",
       "version_major": 2,
       "version_minor": 0
      },
      "text/plain": [
       "Map:   0%|          | 0/40000 [00:00<?, ? examples/s]"
      ]
     },
     "metadata": {},
     "output_type": "display_data"
    },
    {
     "data": {
      "application/vnd.jupyter.widget-view+json": {
       "model_id": "8c593387b4fa45f99a233506ee2fcf5f",
       "version_major": 2,
       "version_minor": 0
      },
      "text/plain": [
       "Map:   0%|          | 0/10000 [00:00<?, ? examples/s]"
      ]
     },
     "metadata": {},
     "output_type": "display_data"
    },
    {
     "data": {
      "text/html": [
       "\n",
       "    <div>\n",
       "      \n",
       "      <progress value='7500' max='7500' style='width:300px; height:20px; vertical-align: middle;'></progress>\n",
       "      [7500/7500 06:38, Epoch 3/3]\n",
       "    </div>\n",
       "    <table border=\"1\" class=\"dataframe\">\n",
       "  <thead>\n",
       " <tr style=\"text-align: left;\">\n",
       "      <th>Epoch</th>\n",
       "      <th>Training Loss</th>\n",
       "      <th>Validation Loss</th>\n",
       "      <th>Accuracy</th>\n",
       "      <th>F1</th>\n",
       "    </tr>\n",
       "  </thead>\n",
       "  <tbody>\n",
       "    <tr>\n",
       "      <td>1</td>\n",
       "      <td>0.254600</td>\n",
       "      <td>0.232844</td>\n",
       "      <td>0.915200</td>\n",
       "      <td>0.913434</td>\n",
       "    </tr>\n",
       "    <tr>\n",
       "      <td>2</td>\n",
       "      <td>0.145800</td>\n",
       "      <td>0.260514</td>\n",
       "      <td>0.921400</td>\n",
       "      <td>0.920926</td>\n",
       "    </tr>\n",
       "    <tr>\n",
       "      <td>3</td>\n",
       "      <td>0.098900</td>\n",
       "      <td>0.320042</td>\n",
       "      <td>0.923800</td>\n",
       "      <td>0.923952</td>\n",
       "    </tr>\n",
       "  </tbody>\n",
       "</table><p>"
      ],
      "text/plain": [
       "<IPython.core.display.HTML object>"
      ]
     },
     "metadata": {},
     "output_type": "display_data"
    },
    {
     "data": {
      "text/html": [],
      "text/plain": [
       "<IPython.core.display.HTML object>"
      ]
     },
     "metadata": {},
     "output_type": "display_data"
    },
    {
     "data": {
      "application/vnd.jupyter.widget-view+json": {
       "model_id": "160047fb23524eee8ab11fd91269ac43",
       "version_major": 2,
       "version_minor": 0
      },
      "text/plain": [
       "Map:   0%|          | 0/40000 [00:00<?, ? examples/s]"
      ]
     },
     "metadata": {},
     "output_type": "display_data"
    },
    {
     "data": {
      "application/vnd.jupyter.widget-view+json": {
       "model_id": "66605695b51e43408daffa8775c92142",
       "version_major": 2,
       "version_minor": 0
      },
      "text/plain": [
       "Map:   0%|          | 0/10000 [00:00<?, ? examples/s]"
      ]
     },
     "metadata": {},
     "output_type": "display_data"
    },
    {
     "data": {
      "text/html": [
       "\n",
       "    <div>\n",
       "      \n",
       "      <progress value='7500' max='7500' style='width:300px; height:20px; vertical-align: middle;'></progress>\n",
       "      [7500/7500 05:29, Epoch 3/3]\n",
       "    </div>\n",
       "    <table border=\"1\" class=\"dataframe\">\n",
       "  <thead>\n",
       " <tr style=\"text-align: left;\">\n",
       "      <th>Epoch</th>\n",
       "      <th>Training Loss</th>\n",
       "      <th>Validation Loss</th>\n",
       "      <th>Accuracy</th>\n",
       "      <th>F1</th>\n",
       "    </tr>\n",
       "  </thead>\n",
       "  <tbody>\n",
       "    <tr>\n",
       "      <td>1</td>\n",
       "      <td>0.246600</td>\n",
       "      <td>0.228612</td>\n",
       "      <td>0.912800</td>\n",
       "      <td>0.911310</td>\n",
       "    </tr>\n",
       "    <tr>\n",
       "      <td>2</td>\n",
       "      <td>0.138700</td>\n",
       "      <td>0.266504</td>\n",
       "      <td>0.920400</td>\n",
       "      <td>0.920400</td>\n",
       "    </tr>\n",
       "    <tr>\n",
       "      <td>3</td>\n",
       "      <td>0.084900</td>\n",
       "      <td>0.338152</td>\n",
       "      <td>0.919600</td>\n",
       "      <td>0.919968</td>\n",
       "    </tr>\n",
       "  </tbody>\n",
       "</table><p>"
      ],
      "text/plain": [
       "<IPython.core.display.HTML object>"
      ]
     },
     "metadata": {},
     "output_type": "display_data"
    },
    {
     "data": {
      "text/html": [],
      "text/plain": [
       "<IPython.core.display.HTML object>"
      ]
     },
     "metadata": {},
     "output_type": "display_data"
    },
    {
     "data": {
      "application/vnd.jupyter.widget-view+json": {
       "model_id": "06d0288e2209444a8963d905b1177d67",
       "version_major": 2,
       "version_minor": 0
      },
      "text/plain": [
       "Map:   0%|          | 0/40000 [00:00<?, ? examples/s]"
      ]
     },
     "metadata": {},
     "output_type": "display_data"
    },
    {
     "data": {
      "application/vnd.jupyter.widget-view+json": {
       "model_id": "3c8bfbaa7c17431c96f0c05bfe718ce3",
       "version_major": 2,
       "version_minor": 0
      },
      "text/plain": [
       "Map:   0%|          | 0/10000 [00:00<?, ? examples/s]"
      ]
     },
     "metadata": {},
     "output_type": "display_data"
    },
    {
     "data": {
      "text/html": [
       "\n",
       "    <div>\n",
       "      \n",
       "      <progress value='7500' max='7500' style='width:300px; height:20px; vertical-align: middle;'></progress>\n",
       "      [7500/7500 05:32, Epoch 3/3]\n",
       "    </div>\n",
       "    <table border=\"1\" class=\"dataframe\">\n",
       "  <thead>\n",
       " <tr style=\"text-align: left;\">\n",
       "      <th>Epoch</th>\n",
       "      <th>Training Loss</th>\n",
       "      <th>Validation Loss</th>\n",
       "      <th>Accuracy</th>\n",
       "      <th>F1</th>\n",
       "    </tr>\n",
       "  </thead>\n",
       "  <tbody>\n",
       "    <tr>\n",
       "      <td>1</td>\n",
       "      <td>0.238000</td>\n",
       "      <td>0.248072</td>\n",
       "      <td>0.901800</td>\n",
       "      <td>0.907253</td>\n",
       "    </tr>\n",
       "    <tr>\n",
       "      <td>2</td>\n",
       "      <td>0.141400</td>\n",
       "      <td>0.251311</td>\n",
       "      <td>0.918700</td>\n",
       "      <td>0.918267</td>\n",
       "    </tr>\n",
       "    <tr>\n",
       "      <td>3</td>\n",
       "      <td>0.094700</td>\n",
       "      <td>0.326213</td>\n",
       "      <td>0.921000</td>\n",
       "      <td>0.921377</td>\n",
       "    </tr>\n",
       "  </tbody>\n",
       "</table><p>"
      ],
      "text/plain": [
       "<IPython.core.display.HTML object>"
      ]
     },
     "metadata": {},
     "output_type": "display_data"
    },
    {
     "data": {
      "text/html": [],
      "text/plain": [
       "<IPython.core.display.HTML object>"
      ]
     },
     "metadata": {},
     "output_type": "display_data"
    },
    {
     "data": {
      "application/vnd.jupyter.widget-view+json": {
       "model_id": "e59e2c30dd4744318a8911eab31455f4",
       "version_major": 2,
       "version_minor": 0
      },
      "text/plain": [
       "Map:   0%|          | 0/40000 [00:00<?, ? examples/s]"
      ]
     },
     "metadata": {},
     "output_type": "display_data"
    },
    {
     "data": {
      "application/vnd.jupyter.widget-view+json": {
       "model_id": "d78c2c6789b24e4ba9cb64cd7329c09e",
       "version_major": 2,
       "version_minor": 0
      },
      "text/plain": [
       "Map:   0%|          | 0/10000 [00:00<?, ? examples/s]"
      ]
     },
     "metadata": {},
     "output_type": "display_data"
    },
    {
     "data": {
      "text/html": [
       "\n",
       "    <div>\n",
       "      \n",
       "      <progress value='2500' max='2500' style='width:300px; height:20px; vertical-align: middle;'></progress>\n",
       "      [2500/2500 03:16, Epoch 2/2]\n",
       "    </div>\n",
       "    <table border=\"1\" class=\"dataframe\">\n",
       "  <thead>\n",
       " <tr style=\"text-align: left;\">\n",
       "      <th>Epoch</th>\n",
       "      <th>Training Loss</th>\n",
       "      <th>Validation Loss</th>\n",
       "      <th>Accuracy</th>\n",
       "      <th>F1</th>\n",
       "    </tr>\n",
       "  </thead>\n",
       "  <tbody>\n",
       "    <tr>\n",
       "      <td>1</td>\n",
       "      <td>0.208200</td>\n",
       "      <td>0.217081</td>\n",
       "      <td>0.912700</td>\n",
       "      <td>0.915070</td>\n",
       "    </tr>\n",
       "    <tr>\n",
       "      <td>2</td>\n",
       "      <td>0.161900</td>\n",
       "      <td>0.220670</td>\n",
       "      <td>0.919900</td>\n",
       "      <td>0.920575</td>\n",
       "    </tr>\n",
       "  </tbody>\n",
       "</table><p>"
      ],
      "text/plain": [
       "<IPython.core.display.HTML object>"
      ]
     },
     "metadata": {},
     "output_type": "display_data"
    },
    {
     "data": {
      "text/html": [],
      "text/plain": [
       "<IPython.core.display.HTML object>"
      ]
     },
     "metadata": {},
     "output_type": "display_data"
    },
    {
     "data": {
      "application/vnd.jupyter.widget-view+json": {
       "model_id": "8662f3a51afb4c9ea24ef060da88a6e2",
       "version_major": 2,
       "version_minor": 0
      },
      "text/plain": [
       "Map:   0%|          | 0/40000 [00:00<?, ? examples/s]"
      ]
     },
     "metadata": {},
     "output_type": "display_data"
    },
    {
     "data": {
      "application/vnd.jupyter.widget-view+json": {
       "model_id": "1fead144d3ce4cdd8c13a9a53030b81d",
       "version_major": 2,
       "version_minor": 0
      },
      "text/plain": [
       "Map:   0%|          | 0/10000 [00:00<?, ? examples/s]"
      ]
     },
     "metadata": {},
     "output_type": "display_data"
    },
    {
     "data": {
      "text/html": [
       "\n",
       "    <div>\n",
       "      \n",
       "      <progress value='2500' max='2500' style='width:300px; height:20px; vertical-align: middle;'></progress>\n",
       "      [2500/2500 03:13, Epoch 2/2]\n",
       "    </div>\n",
       "    <table border=\"1\" class=\"dataframe\">\n",
       "  <thead>\n",
       " <tr style=\"text-align: left;\">\n",
       "      <th>Epoch</th>\n",
       "      <th>Training Loss</th>\n",
       "      <th>Validation Loss</th>\n",
       "      <th>Accuracy</th>\n",
       "      <th>F1</th>\n",
       "    </tr>\n",
       "  </thead>\n",
       "  <tbody>\n",
       "    <tr>\n",
       "      <td>1</td>\n",
       "      <td>0.252000</td>\n",
       "      <td>0.210081</td>\n",
       "      <td>0.916800</td>\n",
       "      <td>0.917378</td>\n",
       "    </tr>\n",
       "    <tr>\n",
       "      <td>2</td>\n",
       "      <td>0.169900</td>\n",
       "      <td>0.224084</td>\n",
       "      <td>0.921500</td>\n",
       "      <td>0.921898</td>\n",
       "    </tr>\n",
       "  </tbody>\n",
       "</table><p>"
      ],
      "text/plain": [
       "<IPython.core.display.HTML object>"
      ]
     },
     "metadata": {},
     "output_type": "display_data"
    },
    {
     "data": {
      "text/html": [],
      "text/plain": [
       "<IPython.core.display.HTML object>"
      ]
     },
     "metadata": {},
     "output_type": "display_data"
    },
    {
     "data": {
      "application/vnd.jupyter.widget-view+json": {
       "model_id": "babeeaab1c9e4c96b1a1d9fcf0c57adb",
       "version_major": 2,
       "version_minor": 0
      },
      "text/plain": [
       "Map:   0%|          | 0/40000 [00:00<?, ? examples/s]"
      ]
     },
     "metadata": {},
     "output_type": "display_data"
    },
    {
     "data": {
      "application/vnd.jupyter.widget-view+json": {
       "model_id": "9efdce9f126b4eefbfe5619df331589f",
       "version_major": 2,
       "version_minor": 0
      },
      "text/plain": [
       "Map:   0%|          | 0/10000 [00:00<?, ? examples/s]"
      ]
     },
     "metadata": {},
     "output_type": "display_data"
    },
    {
     "data": {
      "text/html": [
       "\n",
       "    <div>\n",
       "      \n",
       "      <progress value='2500' max='2500' style='width:300px; height:20px; vertical-align: middle;'></progress>\n",
       "      [2500/2500 03:15, Epoch 2/2]\n",
       "    </div>\n",
       "    <table border=\"1\" class=\"dataframe\">\n",
       "  <thead>\n",
       " <tr style=\"text-align: left;\">\n",
       "      <th>Epoch</th>\n",
       "      <th>Training Loss</th>\n",
       "      <th>Validation Loss</th>\n",
       "      <th>Accuracy</th>\n",
       "      <th>F1</th>\n",
       "    </tr>\n",
       "  </thead>\n",
       "  <tbody>\n",
       "    <tr>\n",
       "      <td>1</td>\n",
       "      <td>0.228800</td>\n",
       "      <td>0.214609</td>\n",
       "      <td>0.917100</td>\n",
       "      <td>0.917701</td>\n",
       "    </tr>\n",
       "    <tr>\n",
       "      <td>2</td>\n",
       "      <td>0.158500</td>\n",
       "      <td>0.225128</td>\n",
       "      <td>0.918100</td>\n",
       "      <td>0.918499</td>\n",
       "    </tr>\n",
       "  </tbody>\n",
       "</table><p>"
      ],
      "text/plain": [
       "<IPython.core.display.HTML object>"
      ]
     },
     "metadata": {},
     "output_type": "display_data"
    },
    {
     "data": {
      "text/html": [],
      "text/plain": [
       "<IPython.core.display.HTML object>"
      ]
     },
     "metadata": {},
     "output_type": "display_data"
    },
    {
     "data": {
      "application/vnd.jupyter.widget-view+json": {
       "model_id": "d90c84a41f0e4f0193ffe74958d09b35",
       "version_major": 2,
       "version_minor": 0
      },
      "text/plain": [
       "Map:   0%|          | 0/40000 [00:00<?, ? examples/s]"
      ]
     },
     "metadata": {},
     "output_type": "display_data"
    },
    {
     "data": {
      "application/vnd.jupyter.widget-view+json": {
       "model_id": "3c490ede8d5342d8bc7142adc48b16b3",
       "version_major": 2,
       "version_minor": 0
      },
      "text/plain": [
       "Map:   0%|          | 0/10000 [00:00<?, ? examples/s]"
      ]
     },
     "metadata": {},
     "output_type": "display_data"
    },
    {
     "data": {
      "text/html": [
       "\n",
       "    <div>\n",
       "      \n",
       "      <progress value='2500' max='2500' style='width:300px; height:20px; vertical-align: middle;'></progress>\n",
       "      [2500/2500 03:12, Epoch 2/2]\n",
       "    </div>\n",
       "    <table border=\"1\" class=\"dataframe\">\n",
       "  <thead>\n",
       " <tr style=\"text-align: left;\">\n",
       "      <th>Epoch</th>\n",
       "      <th>Training Loss</th>\n",
       "      <th>Validation Loss</th>\n",
       "      <th>Accuracy</th>\n",
       "      <th>F1</th>\n",
       "    </tr>\n",
       "  </thead>\n",
       "  <tbody>\n",
       "    <tr>\n",
       "      <td>1</td>\n",
       "      <td>0.219200</td>\n",
       "      <td>0.221746</td>\n",
       "      <td>0.914100</td>\n",
       "      <td>0.916252</td>\n",
       "    </tr>\n",
       "    <tr>\n",
       "      <td>2</td>\n",
       "      <td>0.171400</td>\n",
       "      <td>0.229728</td>\n",
       "      <td>0.917900</td>\n",
       "      <td>0.917875</td>\n",
       "    </tr>\n",
       "  </tbody>\n",
       "</table><p>"
      ],
      "text/plain": [
       "<IPython.core.display.HTML object>"
      ]
     },
     "metadata": {},
     "output_type": "display_data"
    },
    {
     "data": {
      "text/html": [],
      "text/plain": [
       "<IPython.core.display.HTML object>"
      ]
     },
     "metadata": {},
     "output_type": "display_data"
    },
    {
     "data": {
      "application/vnd.jupyter.widget-view+json": {
       "model_id": "5e28f30153fb48d5a314ad7f1d75f1ef",
       "version_major": 2,
       "version_minor": 0
      },
      "text/plain": [
       "Map:   0%|          | 0/40000 [00:00<?, ? examples/s]"
      ]
     },
     "metadata": {},
     "output_type": "display_data"
    },
    {
     "data": {
      "application/vnd.jupyter.widget-view+json": {
       "model_id": "331c8ac63a6140468996731846ad7a2e",
       "version_major": 2,
       "version_minor": 0
      },
      "text/plain": [
       "Map:   0%|          | 0/10000 [00:00<?, ? examples/s]"
      ]
     },
     "metadata": {},
     "output_type": "display_data"
    },
    {
     "data": {
      "text/html": [
       "\n",
       "    <div>\n",
       "      \n",
       "      <progress value='2500' max='2500' style='width:300px; height:20px; vertical-align: middle;'></progress>\n",
       "      [2500/2500 03:13, Epoch 2/2]\n",
       "    </div>\n",
       "    <table border=\"1\" class=\"dataframe\">\n",
       "  <thead>\n",
       " <tr style=\"text-align: left;\">\n",
       "      <th>Epoch</th>\n",
       "      <th>Training Loss</th>\n",
       "      <th>Validation Loss</th>\n",
       "      <th>Accuracy</th>\n",
       "      <th>F1</th>\n",
       "    </tr>\n",
       "  </thead>\n",
       "  <tbody>\n",
       "    <tr>\n",
       "      <td>1</td>\n",
       "      <td>0.222400</td>\n",
       "      <td>0.212418</td>\n",
       "      <td>0.914400</td>\n",
       "      <td>0.914314</td>\n",
       "    </tr>\n",
       "    <tr>\n",
       "      <td>2</td>\n",
       "      <td>0.134200</td>\n",
       "      <td>0.218821</td>\n",
       "      <td>0.917300</td>\n",
       "      <td>0.917654</td>\n",
       "    </tr>\n",
       "  </tbody>\n",
       "</table><p>"
      ],
      "text/plain": [
       "<IPython.core.display.HTML object>"
      ]
     },
     "metadata": {},
     "output_type": "display_data"
    },
    {
     "data": {
      "text/html": [],
      "text/plain": [
       "<IPython.core.display.HTML object>"
      ]
     },
     "metadata": {},
     "output_type": "display_data"
    },
    {
     "data": {
      "application/vnd.jupyter.widget-view+json": {
       "model_id": "5dba57c87d5f4eea814743d9b45ecfe2",
       "version_major": 2,
       "version_minor": 0
      },
      "text/plain": [
       "Map:   0%|          | 0/40000 [00:00<?, ? examples/s]"
      ]
     },
     "metadata": {},
     "output_type": "display_data"
    },
    {
     "data": {
      "application/vnd.jupyter.widget-view+json": {
       "model_id": "bcca2aca7cdc4815a9c4a94a8a3bd785",
       "version_major": 2,
       "version_minor": 0
      },
      "text/plain": [
       "Map:   0%|          | 0/10000 [00:00<?, ? examples/s]"
      ]
     },
     "metadata": {},
     "output_type": "display_data"
    },
    {
     "data": {
      "text/html": [
       "\n",
       "    <div>\n",
       "      \n",
       "      <progress value='3750' max='3750' style='width:300px; height:20px; vertical-align: middle;'></progress>\n",
       "      [3750/3750 04:48, Epoch 3/3]\n",
       "    </div>\n",
       "    <table border=\"1\" class=\"dataframe\">\n",
       "  <thead>\n",
       " <tr style=\"text-align: left;\">\n",
       "      <th>Epoch</th>\n",
       "      <th>Training Loss</th>\n",
       "      <th>Validation Loss</th>\n",
       "      <th>Accuracy</th>\n",
       "      <th>F1</th>\n",
       "    </tr>\n",
       "  </thead>\n",
       "  <tbody>\n",
       "    <tr>\n",
       "      <td>1</td>\n",
       "      <td>0.213000</td>\n",
       "      <td>0.222047</td>\n",
       "      <td>0.912800</td>\n",
       "      <td>0.915733</td>\n",
       "    </tr>\n",
       "    <tr>\n",
       "      <td>2</td>\n",
       "      <td>0.166700</td>\n",
       "      <td>0.214421</td>\n",
       "      <td>0.919400</td>\n",
       "      <td>0.919721</td>\n",
       "    </tr>\n",
       "    <tr>\n",
       "      <td>3</td>\n",
       "      <td>0.098300</td>\n",
       "      <td>0.266888</td>\n",
       "      <td>0.919500</td>\n",
       "      <td>0.920352</td>\n",
       "    </tr>\n",
       "  </tbody>\n",
       "</table><p>"
      ],
      "text/plain": [
       "<IPython.core.display.HTML object>"
      ]
     },
     "metadata": {},
     "output_type": "display_data"
    },
    {
     "data": {
      "text/html": [],
      "text/plain": [
       "<IPython.core.display.HTML object>"
      ]
     },
     "metadata": {},
     "output_type": "display_data"
    },
    {
     "data": {
      "application/vnd.jupyter.widget-view+json": {
       "model_id": "8c320efb51924beb9bc716ea5767c24d",
       "version_major": 2,
       "version_minor": 0
      },
      "text/plain": [
       "Map:   0%|          | 0/40000 [00:00<?, ? examples/s]"
      ]
     },
     "metadata": {},
     "output_type": "display_data"
    },
    {
     "data": {
      "application/vnd.jupyter.widget-view+json": {
       "model_id": "f919518b56c24572b44d191dec0a57c9",
       "version_major": 2,
       "version_minor": 0
      },
      "text/plain": [
       "Map:   0%|          | 0/10000 [00:00<?, ? examples/s]"
      ]
     },
     "metadata": {},
     "output_type": "display_data"
    },
    {
     "data": {
      "text/html": [
       "\n",
       "    <div>\n",
       "      \n",
       "      <progress value='3750' max='3750' style='width:300px; height:20px; vertical-align: middle;'></progress>\n",
       "      [3750/3750 04:48, Epoch 3/3]\n",
       "    </div>\n",
       "    <table border=\"1\" class=\"dataframe\">\n",
       "  <thead>\n",
       " <tr style=\"text-align: left;\">\n",
       "      <th>Epoch</th>\n",
       "      <th>Training Loss</th>\n",
       "      <th>Validation Loss</th>\n",
       "      <th>Accuracy</th>\n",
       "      <th>F1</th>\n",
       "    </tr>\n",
       "  </thead>\n",
       "  <tbody>\n",
       "    <tr>\n",
       "      <td>1</td>\n",
       "      <td>0.252500</td>\n",
       "      <td>0.209100</td>\n",
       "      <td>0.916100</td>\n",
       "      <td>0.917234</td>\n",
       "    </tr>\n",
       "    <tr>\n",
       "      <td>2</td>\n",
       "      <td>0.163900</td>\n",
       "      <td>0.216617</td>\n",
       "      <td>0.924500</td>\n",
       "      <td>0.923899</td>\n",
       "    </tr>\n",
       "    <tr>\n",
       "      <td>3</td>\n",
       "      <td>0.084300</td>\n",
       "      <td>0.262867</td>\n",
       "      <td>0.923900</td>\n",
       "      <td>0.923908</td>\n",
       "    </tr>\n",
       "  </tbody>\n",
       "</table><p>"
      ],
      "text/plain": [
       "<IPython.core.display.HTML object>"
      ]
     },
     "metadata": {},
     "output_type": "display_data"
    },
    {
     "data": {
      "text/html": [],
      "text/plain": [
       "<IPython.core.display.HTML object>"
      ]
     },
     "metadata": {},
     "output_type": "display_data"
    },
    {
     "data": {
      "application/vnd.jupyter.widget-view+json": {
       "model_id": "ce0bce1ff0b84afb9612238acdc1655a",
       "version_major": 2,
       "version_minor": 0
      },
      "text/plain": [
       "Map:   0%|          | 0/40000 [00:00<?, ? examples/s]"
      ]
     },
     "metadata": {},
     "output_type": "display_data"
    },
    {
     "data": {
      "application/vnd.jupyter.widget-view+json": {
       "model_id": "be8a51a4d87943459edbc5efb01ba269",
       "version_major": 2,
       "version_minor": 0
      },
      "text/plain": [
       "Map:   0%|          | 0/10000 [00:00<?, ? examples/s]"
      ]
     },
     "metadata": {},
     "output_type": "display_data"
    },
    {
     "data": {
      "text/html": [
       "\n",
       "    <div>\n",
       "      \n",
       "      <progress value='3750' max='3750' style='width:300px; height:20px; vertical-align: middle;'></progress>\n",
       "      [3750/3750 04:48, Epoch 3/3]\n",
       "    </div>\n",
       "    <table border=\"1\" class=\"dataframe\">\n",
       "  <thead>\n",
       " <tr style=\"text-align: left;\">\n",
       "      <th>Epoch</th>\n",
       "      <th>Training Loss</th>\n",
       "      <th>Validation Loss</th>\n",
       "      <th>Accuracy</th>\n",
       "      <th>F1</th>\n",
       "    </tr>\n",
       "  </thead>\n",
       "  <tbody>\n",
       "    <tr>\n",
       "      <td>1</td>\n",
       "      <td>0.232600</td>\n",
       "      <td>0.214787</td>\n",
       "      <td>0.916600</td>\n",
       "      <td>0.917670</td>\n",
       "    </tr>\n",
       "    <tr>\n",
       "      <td>2</td>\n",
       "      <td>0.160800</td>\n",
       "      <td>0.223123</td>\n",
       "      <td>0.919400</td>\n",
       "      <td>0.919545</td>\n",
       "    </tr>\n",
       "    <tr>\n",
       "      <td>3</td>\n",
       "      <td>0.087300</td>\n",
       "      <td>0.267551</td>\n",
       "      <td>0.920800</td>\n",
       "      <td>0.921021</td>\n",
       "    </tr>\n",
       "  </tbody>\n",
       "</table><p>"
      ],
      "text/plain": [
       "<IPython.core.display.HTML object>"
      ]
     },
     "metadata": {},
     "output_type": "display_data"
    },
    {
     "data": {
      "text/html": [],
      "text/plain": [
       "<IPython.core.display.HTML object>"
      ]
     },
     "metadata": {},
     "output_type": "display_data"
    },
    {
     "data": {
      "application/vnd.jupyter.widget-view+json": {
       "model_id": "adeb96910ae043098cbc2cdf365c53e4",
       "version_major": 2,
       "version_minor": 0
      },
      "text/plain": [
       "Map:   0%|          | 0/40000 [00:00<?, ? examples/s]"
      ]
     },
     "metadata": {},
     "output_type": "display_data"
    },
    {
     "data": {
      "application/vnd.jupyter.widget-view+json": {
       "model_id": "203b04129c084e5f9b24dfbf54eca4f8",
       "version_major": 2,
       "version_minor": 0
      },
      "text/plain": [
       "Map:   0%|          | 0/10000 [00:00<?, ? examples/s]"
      ]
     },
     "metadata": {},
     "output_type": "display_data"
    },
    {
     "data": {
      "text/html": [
       "\n",
       "    <div>\n",
       "      \n",
       "      <progress value='3750' max='3750' style='width:300px; height:20px; vertical-align: middle;'></progress>\n",
       "      [3750/3750 04:56, Epoch 3/3]\n",
       "    </div>\n",
       "    <table border=\"1\" class=\"dataframe\">\n",
       "  <thead>\n",
       " <tr style=\"text-align: left;\">\n",
       "      <th>Epoch</th>\n",
       "      <th>Training Loss</th>\n",
       "      <th>Validation Loss</th>\n",
       "      <th>Accuracy</th>\n",
       "      <th>F1</th>\n",
       "    </tr>\n",
       "  </thead>\n",
       "  <tbody>\n",
       "    <tr>\n",
       "      <td>1</td>\n",
       "      <td>0.217200</td>\n",
       "      <td>0.222348</td>\n",
       "      <td>0.913100</td>\n",
       "      <td>0.915524</td>\n",
       "    </tr>\n",
       "    <tr>\n",
       "      <td>2</td>\n",
       "      <td>0.174000</td>\n",
       "      <td>0.222239</td>\n",
       "      <td>0.921400</td>\n",
       "      <td>0.921274</td>\n",
       "    </tr>\n",
       "    <tr>\n",
       "      <td>3</td>\n",
       "      <td>0.098800</td>\n",
       "      <td>0.280720</td>\n",
       "      <td>0.919500</td>\n",
       "      <td>0.919556</td>\n",
       "    </tr>\n",
       "  </tbody>\n",
       "</table><p>"
      ],
      "text/plain": [
       "<IPython.core.display.HTML object>"
      ]
     },
     "metadata": {},
     "output_type": "display_data"
    },
    {
     "data": {
      "text/html": [],
      "text/plain": [
       "<IPython.core.display.HTML object>"
      ]
     },
     "metadata": {},
     "output_type": "display_data"
    },
    {
     "data": {
      "application/vnd.jupyter.widget-view+json": {
       "model_id": "962b897e96bd4d8184737ba982bd5530",
       "version_major": 2,
       "version_minor": 0
      },
      "text/plain": [
       "Map:   0%|          | 0/40000 [00:00<?, ? examples/s]"
      ]
     },
     "metadata": {},
     "output_type": "display_data"
    },
    {
     "data": {
      "application/vnd.jupyter.widget-view+json": {
       "model_id": "02041a5ad63b4f8cb4a519a94d115b6b",
       "version_major": 2,
       "version_minor": 0
      },
      "text/plain": [
       "Map:   0%|          | 0/10000 [00:00<?, ? examples/s]"
      ]
     },
     "metadata": {},
     "output_type": "display_data"
    },
    {
     "data": {
      "text/html": [
       "\n",
       "    <div>\n",
       "      \n",
       "      <progress value='3750' max='3750' style='width:300px; height:20px; vertical-align: middle;'></progress>\n",
       "      [3750/3750 04:52, Epoch 3/3]\n",
       "    </div>\n",
       "    <table border=\"1\" class=\"dataframe\">\n",
       "  <thead>\n",
       " <tr style=\"text-align: left;\">\n",
       "      <th>Epoch</th>\n",
       "      <th>Training Loss</th>\n",
       "      <th>Validation Loss</th>\n",
       "      <th>Accuracy</th>\n",
       "      <th>F1</th>\n",
       "    </tr>\n",
       "  </thead>\n",
       "  <tbody>\n",
       "    <tr>\n",
       "      <td>1</td>\n",
       "      <td>0.225500</td>\n",
       "      <td>0.210363</td>\n",
       "      <td>0.915100</td>\n",
       "      <td>0.914699</td>\n",
       "    </tr>\n",
       "    <tr>\n",
       "      <td>2</td>\n",
       "      <td>0.135700</td>\n",
       "      <td>0.222149</td>\n",
       "      <td>0.920900</td>\n",
       "      <td>0.920924</td>\n",
       "    </tr>\n",
       "    <tr>\n",
       "      <td>3</td>\n",
       "      <td>0.078800</td>\n",
       "      <td>0.257805</td>\n",
       "      <td>0.920900</td>\n",
       "      <td>0.921097</td>\n",
       "    </tr>\n",
       "  </tbody>\n",
       "</table><p>"
      ],
      "text/plain": [
       "<IPython.core.display.HTML object>"
      ]
     },
     "metadata": {},
     "output_type": "display_data"
    },
    {
     "data": {
      "text/html": [],
      "text/plain": [
       "<IPython.core.display.HTML object>"
      ]
     },
     "metadata": {},
     "output_type": "display_data"
    },
    {
     "data": {
      "application/vnd.jupyter.widget-view+json": {
       "model_id": "6f504b9609734e6b93ec20e3ea80193b",
       "version_major": 2,
       "version_minor": 0
      },
      "text/plain": [
       "Map:   0%|          | 0/40000 [00:00<?, ? examples/s]"
      ]
     },
     "metadata": {},
     "output_type": "display_data"
    },
    {
     "data": {
      "application/vnd.jupyter.widget-view+json": {
       "model_id": "79097a42248f4ef8a71f5164da04a849",
       "version_major": 2,
       "version_minor": 0
      },
      "text/plain": [
       "Map:   0%|          | 0/10000 [00:00<?, ? examples/s]"
      ]
     },
     "metadata": {},
     "output_type": "display_data"
    },
    {
     "data": {
      "text/html": [
       "\n",
       "    <div>\n",
       "      \n",
       "      <progress value='5000' max='5000' style='width:300px; height:20px; vertical-align: middle;'></progress>\n",
       "      [5000/5000 03:41, Epoch 2/2]\n",
       "    </div>\n",
       "    <table border=\"1\" class=\"dataframe\">\n",
       "  <thead>\n",
       " <tr style=\"text-align: left;\">\n",
       "      <th>Epoch</th>\n",
       "      <th>Training Loss</th>\n",
       "      <th>Validation Loss</th>\n",
       "      <th>Accuracy</th>\n",
       "      <th>F1</th>\n",
       "    </tr>\n",
       "  </thead>\n",
       "  <tbody>\n",
       "    <tr>\n",
       "      <td>1</td>\n",
       "      <td>0.250800</td>\n",
       "      <td>0.231618</td>\n",
       "      <td>0.912100</td>\n",
       "      <td>0.914685</td>\n",
       "    </tr>\n",
       "    <tr>\n",
       "      <td>2</td>\n",
       "      <td>0.116100</td>\n",
       "      <td>0.256300</td>\n",
       "      <td>0.920900</td>\n",
       "      <td>0.921317</td>\n",
       "    </tr>\n",
       "  </tbody>\n",
       "</table><p>"
      ],
      "text/plain": [
       "<IPython.core.display.HTML object>"
      ]
     },
     "metadata": {},
     "output_type": "display_data"
    },
    {
     "data": {
      "text/html": [],
      "text/plain": [
       "<IPython.core.display.HTML object>"
      ]
     },
     "metadata": {},
     "output_type": "display_data"
    },
    {
     "data": {
      "application/vnd.jupyter.widget-view+json": {
       "model_id": "7849bd04b87b4fd9b4f5e39a4f55e0c5",
       "version_major": 2,
       "version_minor": 0
      },
      "text/plain": [
       "Map:   0%|          | 0/40000 [00:00<?, ? examples/s]"
      ]
     },
     "metadata": {},
     "output_type": "display_data"
    },
    {
     "data": {
      "application/vnd.jupyter.widget-view+json": {
       "model_id": "773c5c9d90ef4c79920cbb33c77a83e4",
       "version_major": 2,
       "version_minor": 0
      },
      "text/plain": [
       "Map:   0%|          | 0/10000 [00:00<?, ? examples/s]"
      ]
     },
     "metadata": {},
     "output_type": "display_data"
    },
    {
     "data": {
      "text/html": [
       "\n",
       "    <div>\n",
       "      \n",
       "      <progress value='5000' max='5000' style='width:300px; height:20px; vertical-align: middle;'></progress>\n",
       "      [5000/5000 03:57, Epoch 2/2]\n",
       "    </div>\n",
       "    <table border=\"1\" class=\"dataframe\">\n",
       "  <thead>\n",
       " <tr style=\"text-align: left;\">\n",
       "      <th>Epoch</th>\n",
       "      <th>Training Loss</th>\n",
       "      <th>Validation Loss</th>\n",
       "      <th>Accuracy</th>\n",
       "      <th>F1</th>\n",
       "    </tr>\n",
       "  </thead>\n",
       "  <tbody>\n",
       "    <tr>\n",
       "      <td>1</td>\n",
       "      <td>0.244800</td>\n",
       "      <td>0.216650</td>\n",
       "      <td>0.917500</td>\n",
       "      <td>0.916473</td>\n",
       "    </tr>\n",
       "    <tr>\n",
       "      <td>2</td>\n",
       "      <td>0.109500</td>\n",
       "      <td>0.268407</td>\n",
       "      <td>0.923300</td>\n",
       "      <td>0.923308</td>\n",
       "    </tr>\n",
       "  </tbody>\n",
       "</table><p>"
      ],
      "text/plain": [
       "<IPython.core.display.HTML object>"
      ]
     },
     "metadata": {},
     "output_type": "display_data"
    },
    {
     "data": {
      "text/html": [],
      "text/plain": [
       "<IPython.core.display.HTML object>"
      ]
     },
     "metadata": {},
     "output_type": "display_data"
    },
    {
     "data": {
      "application/vnd.jupyter.widget-view+json": {
       "model_id": "edf65dd044fc40b19376351b313517df",
       "version_major": 2,
       "version_minor": 0
      },
      "text/plain": [
       "Map:   0%|          | 0/40000 [00:00<?, ? examples/s]"
      ]
     },
     "metadata": {},
     "output_type": "display_data"
    },
    {
     "data": {
      "application/vnd.jupyter.widget-view+json": {
       "model_id": "618f7dcbccbc47e0b1ac1068a0380257",
       "version_major": 2,
       "version_minor": 0
      },
      "text/plain": [
       "Map:   0%|          | 0/10000 [00:00<?, ? examples/s]"
      ]
     },
     "metadata": {},
     "output_type": "display_data"
    },
    {
     "data": {
      "text/html": [
       "\n",
       "    <div>\n",
       "      \n",
       "      <progress value='5000' max='5000' style='width:300px; height:20px; vertical-align: middle;'></progress>\n",
       "      [5000/5000 04:15, Epoch 2/2]\n",
       "    </div>\n",
       "    <table border=\"1\" class=\"dataframe\">\n",
       "  <thead>\n",
       " <tr style=\"text-align: left;\">\n",
       "      <th>Epoch</th>\n",
       "      <th>Training Loss</th>\n",
       "      <th>Validation Loss</th>\n",
       "      <th>Accuracy</th>\n",
       "      <th>F1</th>\n",
       "    </tr>\n",
       "  </thead>\n",
       "  <tbody>\n",
       "    <tr>\n",
       "      <td>1</td>\n",
       "      <td>0.238000</td>\n",
       "      <td>0.277349</td>\n",
       "      <td>0.906100</td>\n",
       "      <td>0.902684</td>\n",
       "    </tr>\n",
       "    <tr>\n",
       "      <td>2</td>\n",
       "      <td>0.128900</td>\n",
       "      <td>0.271862</td>\n",
       "      <td>0.920600</td>\n",
       "      <td>0.920853</td>\n",
       "    </tr>\n",
       "  </tbody>\n",
       "</table><p>"
      ],
      "text/plain": [
       "<IPython.core.display.HTML object>"
      ]
     },
     "metadata": {},
     "output_type": "display_data"
    },
    {
     "data": {
      "text/html": [],
      "text/plain": [
       "<IPython.core.display.HTML object>"
      ]
     },
     "metadata": {},
     "output_type": "display_data"
    },
    {
     "data": {
      "application/vnd.jupyter.widget-view+json": {
       "model_id": "1a7e2b573f8c41bb8efa455a88b9201f",
       "version_major": 2,
       "version_minor": 0
      },
      "text/plain": [
       "Map:   0%|          | 0/40000 [00:00<?, ? examples/s]"
      ]
     },
     "metadata": {},
     "output_type": "display_data"
    },
    {
     "data": {
      "application/vnd.jupyter.widget-view+json": {
       "model_id": "173d98aa306042d19e748ff7febdff69",
       "version_major": 2,
       "version_minor": 0
      },
      "text/plain": [
       "Map:   0%|          | 0/10000 [00:00<?, ? examples/s]"
      ]
     },
     "metadata": {},
     "output_type": "display_data"
    },
    {
     "data": {
      "text/html": [
       "\n",
       "    <div>\n",
       "      \n",
       "      <progress value='5000' max='5000' style='width:300px; height:20px; vertical-align: middle;'></progress>\n",
       "      [5000/5000 04:07, Epoch 2/2]\n",
       "    </div>\n",
       "    <table border=\"1\" class=\"dataframe\">\n",
       "  <thead>\n",
       " <tr style=\"text-align: left;\">\n",
       "      <th>Epoch</th>\n",
       "      <th>Training Loss</th>\n",
       "      <th>Validation Loss</th>\n",
       "      <th>Accuracy</th>\n",
       "      <th>F1</th>\n",
       "    </tr>\n",
       "  </thead>\n",
       "  <tbody>\n",
       "    <tr>\n",
       "      <td>1</td>\n",
       "      <td>0.243400</td>\n",
       "      <td>0.239260</td>\n",
       "      <td>0.912900</td>\n",
       "      <td>0.911601</td>\n",
       "    </tr>\n",
       "    <tr>\n",
       "      <td>2</td>\n",
       "      <td>0.106500</td>\n",
       "      <td>0.285023</td>\n",
       "      <td>0.920700</td>\n",
       "      <td>0.920517</td>\n",
       "    </tr>\n",
       "  </tbody>\n",
       "</table><p>"
      ],
      "text/plain": [
       "<IPython.core.display.HTML object>"
      ]
     },
     "metadata": {},
     "output_type": "display_data"
    },
    {
     "data": {
      "text/html": [],
      "text/plain": [
       "<IPython.core.display.HTML object>"
      ]
     },
     "metadata": {},
     "output_type": "display_data"
    },
    {
     "data": {
      "application/vnd.jupyter.widget-view+json": {
       "model_id": "bd7e42d573f74cc19060ad43dc6accd9",
       "version_major": 2,
       "version_minor": 0
      },
      "text/plain": [
       "Map:   0%|          | 0/40000 [00:00<?, ? examples/s]"
      ]
     },
     "metadata": {},
     "output_type": "display_data"
    },
    {
     "data": {
      "application/vnd.jupyter.widget-view+json": {
       "model_id": "9c0de8dd5086414a80852123c84d462d",
       "version_major": 2,
       "version_minor": 0
      },
      "text/plain": [
       "Map:   0%|          | 0/10000 [00:00<?, ? examples/s]"
      ]
     },
     "metadata": {},
     "output_type": "display_data"
    },
    {
     "data": {
      "text/html": [
       "\n",
       "    <div>\n",
       "      \n",
       "      <progress value='5000' max='5000' style='width:300px; height:20px; vertical-align: middle;'></progress>\n",
       "      [5000/5000 04:26, Epoch 2/2]\n",
       "    </div>\n",
       "    <table border=\"1\" class=\"dataframe\">\n",
       "  <thead>\n",
       " <tr style=\"text-align: left;\">\n",
       "      <th>Epoch</th>\n",
       "      <th>Training Loss</th>\n",
       "      <th>Validation Loss</th>\n",
       "      <th>Accuracy</th>\n",
       "      <th>F1</th>\n",
       "    </tr>\n",
       "  </thead>\n",
       "  <tbody>\n",
       "    <tr>\n",
       "      <td>1</td>\n",
       "      <td>0.221000</td>\n",
       "      <td>0.284638</td>\n",
       "      <td>0.896000</td>\n",
       "      <td>0.902985</td>\n",
       "    </tr>\n",
       "    <tr>\n",
       "      <td>2</td>\n",
       "      <td>0.114900</td>\n",
       "      <td>0.269080</td>\n",
       "      <td>0.919400</td>\n",
       "      <td>0.919833</td>\n",
       "    </tr>\n",
       "  </tbody>\n",
       "</table><p>"
      ],
      "text/plain": [
       "<IPython.core.display.HTML object>"
      ]
     },
     "metadata": {},
     "output_type": "display_data"
    },
    {
     "data": {
      "text/html": [],
      "text/plain": [
       "<IPython.core.display.HTML object>"
      ]
     },
     "metadata": {},
     "output_type": "display_data"
    },
    {
     "data": {
      "application/vnd.jupyter.widget-view+json": {
       "model_id": "cd9cb2ff118a4b58a36e3ba2fd4ff9c7",
       "version_major": 2,
       "version_minor": 0
      },
      "text/plain": [
       "Map:   0%|          | 0/40000 [00:00<?, ? examples/s]"
      ]
     },
     "metadata": {},
     "output_type": "display_data"
    },
    {
     "data": {
      "application/vnd.jupyter.widget-view+json": {
       "model_id": "ea855781e0644abe8caf06e0f45f1bcc",
       "version_major": 2,
       "version_minor": 0
      },
      "text/plain": [
       "Map:   0%|          | 0/10000 [00:00<?, ? examples/s]"
      ]
     },
     "metadata": {},
     "output_type": "display_data"
    },
    {
     "data": {
      "text/html": [
       "\n",
       "    <div>\n",
       "      \n",
       "      <progress value='7500' max='7500' style='width:300px; height:20px; vertical-align: middle;'></progress>\n",
       "      [7500/7500 07:54, Epoch 3/3]\n",
       "    </div>\n",
       "    <table border=\"1\" class=\"dataframe\">\n",
       "  <thead>\n",
       " <tr style=\"text-align: left;\">\n",
       "      <th>Epoch</th>\n",
       "      <th>Training Loss</th>\n",
       "      <th>Validation Loss</th>\n",
       "      <th>Accuracy</th>\n",
       "      <th>F1</th>\n",
       "    </tr>\n",
       "  </thead>\n",
       "  <tbody>\n",
       "    <tr>\n",
       "      <td>1</td>\n",
       "      <td>0.257400</td>\n",
       "      <td>0.226620</td>\n",
       "      <td>0.914100</td>\n",
       "      <td>0.915644</td>\n",
       "    </tr>\n",
       "    <tr>\n",
       "      <td>2</td>\n",
       "      <td>0.125300</td>\n",
       "      <td>0.283979</td>\n",
       "      <td>0.916700</td>\n",
       "      <td>0.915680</td>\n",
       "    </tr>\n",
       "    <tr>\n",
       "      <td>3</td>\n",
       "      <td>0.043600</td>\n",
       "      <td>0.363837</td>\n",
       "      <td>0.922000</td>\n",
       "      <td>0.922742</td>\n",
       "    </tr>\n",
       "  </tbody>\n",
       "</table><p>"
      ],
      "text/plain": [
       "<IPython.core.display.HTML object>"
      ]
     },
     "metadata": {},
     "output_type": "display_data"
    },
    {
     "data": {
      "text/html": [],
      "text/plain": [
       "<IPython.core.display.HTML object>"
      ]
     },
     "metadata": {},
     "output_type": "display_data"
    },
    {
     "data": {
      "application/vnd.jupyter.widget-view+json": {
       "model_id": "9f05e263a07d4c87843b02f6cb84cd14",
       "version_major": 2,
       "version_minor": 0
      },
      "text/plain": [
       "Map:   0%|          | 0/40000 [00:00<?, ? examples/s]"
      ]
     },
     "metadata": {},
     "output_type": "display_data"
    },
    {
     "data": {
      "application/vnd.jupyter.widget-view+json": {
       "model_id": "6020166a835f40918b55072d770c3a07",
       "version_major": 2,
       "version_minor": 0
      },
      "text/plain": [
       "Map:   0%|          | 0/10000 [00:00<?, ? examples/s]"
      ]
     },
     "metadata": {},
     "output_type": "display_data"
    },
    {
     "data": {
      "text/html": [
       "\n",
       "    <div>\n",
       "      \n",
       "      <progress value='7500' max='7500' style='width:300px; height:20px; vertical-align: middle;'></progress>\n",
       "      [7500/7500 08:10, Epoch 3/3]\n",
       "    </div>\n",
       "    <table border=\"1\" class=\"dataframe\">\n",
       "  <thead>\n",
       " <tr style=\"text-align: left;\">\n",
       "      <th>Epoch</th>\n",
       "      <th>Training Loss</th>\n",
       "      <th>Validation Loss</th>\n",
       "      <th>Accuracy</th>\n",
       "      <th>F1</th>\n",
       "    </tr>\n",
       "  </thead>\n",
       "  <tbody>\n",
       "    <tr>\n",
       "      <td>1</td>\n",
       "      <td>0.257200</td>\n",
       "      <td>0.227556</td>\n",
       "      <td>0.913800</td>\n",
       "      <td>0.911735</td>\n",
       "    </tr>\n",
       "    <tr>\n",
       "      <td>2</td>\n",
       "      <td>0.134400</td>\n",
       "      <td>0.258341</td>\n",
       "      <td>0.919900</td>\n",
       "      <td>0.917821</td>\n",
       "    </tr>\n",
       "    <tr>\n",
       "      <td>3</td>\n",
       "      <td>0.062000</td>\n",
       "      <td>0.337318</td>\n",
       "      <td>0.922800</td>\n",
       "      <td>0.922831</td>\n",
       "    </tr>\n",
       "  </tbody>\n",
       "</table><p>"
      ],
      "text/plain": [
       "<IPython.core.display.HTML object>"
      ]
     },
     "metadata": {},
     "output_type": "display_data"
    },
    {
     "data": {
      "text/html": [],
      "text/plain": [
       "<IPython.core.display.HTML object>"
      ]
     },
     "metadata": {},
     "output_type": "display_data"
    },
    {
     "data": {
      "application/vnd.jupyter.widget-view+json": {
       "model_id": "69b665a0fe374538afbb08e547d23612",
       "version_major": 2,
       "version_minor": 0
      },
      "text/plain": [
       "Map:   0%|          | 0/40000 [00:00<?, ? examples/s]"
      ]
     },
     "metadata": {},
     "output_type": "display_data"
    },
    {
     "data": {
      "application/vnd.jupyter.widget-view+json": {
       "model_id": "e75c0c05a52147fba5d387cde97c5628",
       "version_major": 2,
       "version_minor": 0
      },
      "text/plain": [
       "Map:   0%|          | 0/10000 [00:00<?, ? examples/s]"
      ]
     },
     "metadata": {},
     "output_type": "display_data"
    },
    {
     "data": {
      "text/html": [
       "\n",
       "    <div>\n",
       "      \n",
       "      <progress value='7500' max='7500' style='width:300px; height:20px; vertical-align: middle;'></progress>\n",
       "      [7500/7500 08:10, Epoch 3/3]\n",
       "    </div>\n",
       "    <table border=\"1\" class=\"dataframe\">\n",
       "  <thead>\n",
       " <tr style=\"text-align: left;\">\n",
       "      <th>Epoch</th>\n",
       "      <th>Training Loss</th>\n",
       "      <th>Validation Loss</th>\n",
       "      <th>Accuracy</th>\n",
       "      <th>F1</th>\n",
       "    </tr>\n",
       "  </thead>\n",
       "  <tbody>\n",
       "    <tr>\n",
       "      <td>1</td>\n",
       "      <td>0.249200</td>\n",
       "      <td>0.287097</td>\n",
       "      <td>0.903300</td>\n",
       "      <td>0.899428</td>\n",
       "    </tr>\n",
       "    <tr>\n",
       "      <td>2</td>\n",
       "      <td>0.162300</td>\n",
       "      <td>0.260415</td>\n",
       "      <td>0.921500</td>\n",
       "      <td>0.920955</td>\n",
       "    </tr>\n",
       "    <tr>\n",
       "      <td>3</td>\n",
       "      <td>0.071200</td>\n",
       "      <td>0.351957</td>\n",
       "      <td>0.920900</td>\n",
       "      <td>0.921582</td>\n",
       "    </tr>\n",
       "  </tbody>\n",
       "</table><p>"
      ],
      "text/plain": [
       "<IPython.core.display.HTML object>"
      ]
     },
     "metadata": {},
     "output_type": "display_data"
    },
    {
     "data": {
      "text/html": [],
      "text/plain": [
       "<IPython.core.display.HTML object>"
      ]
     },
     "metadata": {},
     "output_type": "display_data"
    },
    {
     "data": {
      "application/vnd.jupyter.widget-view+json": {
       "model_id": "27a7e9018d1a49bfab67206bfe4a69db",
       "version_major": 2,
       "version_minor": 0
      },
      "text/plain": [
       "Map:   0%|          | 0/40000 [00:00<?, ? examples/s]"
      ]
     },
     "metadata": {},
     "output_type": "display_data"
    },
    {
     "data": {
      "application/vnd.jupyter.widget-view+json": {
       "model_id": "b1302028405f46f3bd8febaeb40f36c9",
       "version_major": 2,
       "version_minor": 0
      },
      "text/plain": [
       "Map:   0%|          | 0/10000 [00:00<?, ? examples/s]"
      ]
     },
     "metadata": {},
     "output_type": "display_data"
    },
    {
     "data": {
      "text/html": [
       "\n",
       "    <div>\n",
       "      \n",
       "      <progress value='7500' max='7500' style='width:300px; height:20px; vertical-align: middle;'></progress>\n",
       "      [7500/7500 07:43, Epoch 3/3]\n",
       "    </div>\n",
       "    <table border=\"1\" class=\"dataframe\">\n",
       "  <thead>\n",
       " <tr style=\"text-align: left;\">\n",
       "      <th>Epoch</th>\n",
       "      <th>Training Loss</th>\n",
       "      <th>Validation Loss</th>\n",
       "      <th>Accuracy</th>\n",
       "      <th>F1</th>\n",
       "    </tr>\n",
       "  </thead>\n",
       "  <tbody>\n",
       "    <tr>\n",
       "      <td>1</td>\n",
       "      <td>0.254200</td>\n",
       "      <td>0.263773</td>\n",
       "      <td>0.905500</td>\n",
       "      <td>0.902062</td>\n",
       "    </tr>\n",
       "    <tr>\n",
       "      <td>2</td>\n",
       "      <td>0.132300</td>\n",
       "      <td>0.278129</td>\n",
       "      <td>0.920000</td>\n",
       "      <td>0.919077</td>\n",
       "    </tr>\n",
       "    <tr>\n",
       "      <td>3</td>\n",
       "      <td>0.066900</td>\n",
       "      <td>0.362734</td>\n",
       "      <td>0.920900</td>\n",
       "      <td>0.920845</td>\n",
       "    </tr>\n",
       "  </tbody>\n",
       "</table><p>"
      ],
      "text/plain": [
       "<IPython.core.display.HTML object>"
      ]
     },
     "metadata": {},
     "output_type": "display_data"
    },
    {
     "data": {
      "text/html": [],
      "text/plain": [
       "<IPython.core.display.HTML object>"
      ]
     },
     "metadata": {},
     "output_type": "display_data"
    },
    {
     "data": {
      "application/vnd.jupyter.widget-view+json": {
       "model_id": "767bb4b356f8451f9960999e9a540ddb",
       "version_major": 2,
       "version_minor": 0
      },
      "text/plain": [
       "Map:   0%|          | 0/40000 [00:00<?, ? examples/s]"
      ]
     },
     "metadata": {},
     "output_type": "display_data"
    },
    {
     "data": {
      "application/vnd.jupyter.widget-view+json": {
       "model_id": "988bdbd9f4564bb494a251e928403185",
       "version_major": 2,
       "version_minor": 0
      },
      "text/plain": [
       "Map:   0%|          | 0/10000 [00:00<?, ? examples/s]"
      ]
     },
     "metadata": {},
     "output_type": "display_data"
    },
    {
     "data": {
      "text/html": [
       "\n",
       "    <div>\n",
       "      \n",
       "      <progress value='7500' max='7500' style='width:300px; height:20px; vertical-align: middle;'></progress>\n",
       "      [7500/7500 08:08, Epoch 3/3]\n",
       "    </div>\n",
       "    <table border=\"1\" class=\"dataframe\">\n",
       "  <thead>\n",
       " <tr style=\"text-align: left;\">\n",
       "      <th>Epoch</th>\n",
       "      <th>Training Loss</th>\n",
       "      <th>Validation Loss</th>\n",
       "      <th>Accuracy</th>\n",
       "      <th>F1</th>\n",
       "    </tr>\n",
       "  </thead>\n",
       "  <tbody>\n",
       "    <tr>\n",
       "      <td>1</td>\n",
       "      <td>0.228300</td>\n",
       "      <td>0.294143</td>\n",
       "      <td>0.884500</td>\n",
       "      <td>0.894144</td>\n",
       "    </tr>\n",
       "    <tr>\n",
       "      <td>2</td>\n",
       "      <td>0.115700</td>\n",
       "      <td>0.268454</td>\n",
       "      <td>0.921600</td>\n",
       "      <td>0.921584</td>\n",
       "    </tr>\n",
       "    <tr>\n",
       "      <td>3</td>\n",
       "      <td>0.056800</td>\n",
       "      <td>0.351368</td>\n",
       "      <td>0.921400</td>\n",
       "      <td>0.920989</td>\n",
       "    </tr>\n",
       "  </tbody>\n",
       "</table><p>"
      ],
      "text/plain": [
       "<IPython.core.display.HTML object>"
      ]
     },
     "metadata": {},
     "output_type": "display_data"
    },
    {
     "data": {
      "text/html": [],
      "text/plain": [
       "<IPython.core.display.HTML object>"
      ]
     },
     "metadata": {},
     "output_type": "display_data"
    },
    {
     "data": {
      "application/vnd.jupyter.widget-view+json": {
       "model_id": "218593d41fb74c5fa01447c9f3e00d6d",
       "version_major": 2,
       "version_minor": 0
      },
      "text/plain": [
       "Map:   0%|          | 0/40000 [00:00<?, ? examples/s]"
      ]
     },
     "metadata": {},
     "output_type": "display_data"
    },
    {
     "data": {
      "application/vnd.jupyter.widget-view+json": {
       "model_id": "30b9309d36ad4ef98b5d23489e970e4b",
       "version_major": 2,
       "version_minor": 0
      },
      "text/plain": [
       "Map:   0%|          | 0/10000 [00:00<?, ? examples/s]"
      ]
     },
     "metadata": {},
     "output_type": "display_data"
    },
    {
     "data": {
      "text/html": [
       "\n",
       "    <div>\n",
       "      \n",
       "      <progress value='2500' max='2500' style='width:300px; height:20px; vertical-align: middle;'></progress>\n",
       "      [2500/2500 04:50, Epoch 2/2]\n",
       "    </div>\n",
       "    <table border=\"1\" class=\"dataframe\">\n",
       "  <thead>\n",
       " <tr style=\"text-align: left;\">\n",
       "      <th>Epoch</th>\n",
       "      <th>Training Loss</th>\n",
       "      <th>Validation Loss</th>\n",
       "      <th>Accuracy</th>\n",
       "      <th>F1</th>\n",
       "    </tr>\n",
       "  </thead>\n",
       "  <tbody>\n",
       "    <tr>\n",
       "      <td>1</td>\n",
       "      <td>0.204900</td>\n",
       "      <td>0.216571</td>\n",
       "      <td>0.914800</td>\n",
       "      <td>0.917602</td>\n",
       "    </tr>\n",
       "    <tr>\n",
       "      <td>2</td>\n",
       "      <td>0.121600</td>\n",
       "      <td>0.228620</td>\n",
       "      <td>0.922800</td>\n",
       "      <td>0.923382</td>\n",
       "    </tr>\n",
       "  </tbody>\n",
       "</table><p>"
      ],
      "text/plain": [
       "<IPython.core.display.HTML object>"
      ]
     },
     "metadata": {},
     "output_type": "display_data"
    },
    {
     "data": {
      "text/html": [],
      "text/plain": [
       "<IPython.core.display.HTML object>"
      ]
     },
     "metadata": {},
     "output_type": "display_data"
    },
    {
     "data": {
      "application/vnd.jupyter.widget-view+json": {
       "model_id": "9d2d208e53624cb790af52ff21d1ddc6",
       "version_major": 2,
       "version_minor": 0
      },
      "text/plain": [
       "Map:   0%|          | 0/40000 [00:00<?, ? examples/s]"
      ]
     },
     "metadata": {},
     "output_type": "display_data"
    },
    {
     "data": {
      "application/vnd.jupyter.widget-view+json": {
       "model_id": "81a496d0f56c4cc79aef1c60731d7ec8",
       "version_major": 2,
       "version_minor": 0
      },
      "text/plain": [
       "Map:   0%|          | 0/10000 [00:00<?, ? examples/s]"
      ]
     },
     "metadata": {},
     "output_type": "display_data"
    },
    {
     "data": {
      "text/html": [
       "\n",
       "    <div>\n",
       "      \n",
       "      <progress value='2500' max='2500' style='width:300px; height:20px; vertical-align: middle;'></progress>\n",
       "      [2500/2500 04:54, Epoch 2/2]\n",
       "    </div>\n",
       "    <table border=\"1\" class=\"dataframe\">\n",
       "  <thead>\n",
       " <tr style=\"text-align: left;\">\n",
       "      <th>Epoch</th>\n",
       "      <th>Training Loss</th>\n",
       "      <th>Validation Loss</th>\n",
       "      <th>Accuracy</th>\n",
       "      <th>F1</th>\n",
       "    </tr>\n",
       "  </thead>\n",
       "  <tbody>\n",
       "    <tr>\n",
       "      <td>1</td>\n",
       "      <td>0.243800</td>\n",
       "      <td>0.202996</td>\n",
       "      <td>0.924000</td>\n",
       "      <td>0.923403</td>\n",
       "    </tr>\n",
       "    <tr>\n",
       "      <td>2</td>\n",
       "      <td>0.131600</td>\n",
       "      <td>0.225617</td>\n",
       "      <td>0.925400</td>\n",
       "      <td>0.925265</td>\n",
       "    </tr>\n",
       "  </tbody>\n",
       "</table><p>"
      ],
      "text/plain": [
       "<IPython.core.display.HTML object>"
      ]
     },
     "metadata": {},
     "output_type": "display_data"
    },
    {
     "data": {
      "text/html": [],
      "text/plain": [
       "<IPython.core.display.HTML object>"
      ]
     },
     "metadata": {},
     "output_type": "display_data"
    },
    {
     "data": {
      "application/vnd.jupyter.widget-view+json": {
       "model_id": "375e708d1337473688e2b459377bad09",
       "version_major": 2,
       "version_minor": 0
      },
      "text/plain": [
       "Map:   0%|          | 0/40000 [00:00<?, ? examples/s]"
      ]
     },
     "metadata": {},
     "output_type": "display_data"
    },
    {
     "data": {
      "application/vnd.jupyter.widget-view+json": {
       "model_id": "4058961b62504448b57bcfdd50860d4f",
       "version_major": 2,
       "version_minor": 0
      },
      "text/plain": [
       "Map:   0%|          | 0/10000 [00:00<?, ? examples/s]"
      ]
     },
     "metadata": {},
     "output_type": "display_data"
    },
    {
     "data": {
      "text/html": [
       "\n",
       "    <div>\n",
       "      \n",
       "      <progress value='2500' max='2500' style='width:300px; height:20px; vertical-align: middle;'></progress>\n",
       "      [2500/2500 05:05, Epoch 2/2]\n",
       "    </div>\n",
       "    <table border=\"1\" class=\"dataframe\">\n",
       "  <thead>\n",
       " <tr style=\"text-align: left;\">\n",
       "      <th>Epoch</th>\n",
       "      <th>Training Loss</th>\n",
       "      <th>Validation Loss</th>\n",
       "      <th>Accuracy</th>\n",
       "      <th>F1</th>\n",
       "    </tr>\n",
       "  </thead>\n",
       "  <tbody>\n",
       "    <tr>\n",
       "      <td>1</td>\n",
       "      <td>0.226800</td>\n",
       "      <td>0.218220</td>\n",
       "      <td>0.915900</td>\n",
       "      <td>0.914524</td>\n",
       "    </tr>\n",
       "    <tr>\n",
       "      <td>2</td>\n",
       "      <td>0.112700</td>\n",
       "      <td>0.229172</td>\n",
       "      <td>0.924200</td>\n",
       "      <td>0.924291</td>\n",
       "    </tr>\n",
       "  </tbody>\n",
       "</table><p>"
      ],
      "text/plain": [
       "<IPython.core.display.HTML object>"
      ]
     },
     "metadata": {},
     "output_type": "display_data"
    },
    {
     "data": {
      "text/html": [],
      "text/plain": [
       "<IPython.core.display.HTML object>"
      ]
     },
     "metadata": {},
     "output_type": "display_data"
    },
    {
     "data": {
      "application/vnd.jupyter.widget-view+json": {
       "model_id": "91df7dfdd0024e918ec137cfc21e2039",
       "version_major": 2,
       "version_minor": 0
      },
      "text/plain": [
       "Map:   0%|          | 0/40000 [00:00<?, ? examples/s]"
      ]
     },
     "metadata": {},
     "output_type": "display_data"
    },
    {
     "data": {
      "application/vnd.jupyter.widget-view+json": {
       "model_id": "02ef8e96863642fbb93d4835e0838422",
       "version_major": 2,
       "version_minor": 0
      },
      "text/plain": [
       "Map:   0%|          | 0/10000 [00:00<?, ? examples/s]"
      ]
     },
     "metadata": {},
     "output_type": "display_data"
    },
    {
     "data": {
      "text/html": [
       "\n",
       "    <div>\n",
       "      \n",
       "      <progress value='2500' max='2500' style='width:300px; height:20px; vertical-align: middle;'></progress>\n",
       "      [2500/2500 04:50, Epoch 2/2]\n",
       "    </div>\n",
       "    <table border=\"1\" class=\"dataframe\">\n",
       "  <thead>\n",
       " <tr style=\"text-align: left;\">\n",
       "      <th>Epoch</th>\n",
       "      <th>Training Loss</th>\n",
       "      <th>Validation Loss</th>\n",
       "      <th>Accuracy</th>\n",
       "      <th>F1</th>\n",
       "    </tr>\n",
       "  </thead>\n",
       "  <tbody>\n",
       "    <tr>\n",
       "      <td>1</td>\n",
       "      <td>0.215900</td>\n",
       "      <td>0.224240</td>\n",
       "      <td>0.912100</td>\n",
       "      <td>0.914502</td>\n",
       "    </tr>\n",
       "    <tr>\n",
       "      <td>2</td>\n",
       "      <td>0.132600</td>\n",
       "      <td>0.242939</td>\n",
       "      <td>0.920500</td>\n",
       "      <td>0.920460</td>\n",
       "    </tr>\n",
       "  </tbody>\n",
       "</table><p>"
      ],
      "text/plain": [
       "<IPython.core.display.HTML object>"
      ]
     },
     "metadata": {},
     "output_type": "display_data"
    },
    {
     "data": {
      "text/html": [],
      "text/plain": [
       "<IPython.core.display.HTML object>"
      ]
     },
     "metadata": {},
     "output_type": "display_data"
    },
    {
     "data": {
      "application/vnd.jupyter.widget-view+json": {
       "model_id": "42d8c434c50b41eea28de85bd3f4ae91",
       "version_major": 2,
       "version_minor": 0
      },
      "text/plain": [
       "Map:   0%|          | 0/40000 [00:00<?, ? examples/s]"
      ]
     },
     "metadata": {},
     "output_type": "display_data"
    },
    {
     "data": {
      "application/vnd.jupyter.widget-view+json": {
       "model_id": "d9b80a2ca207446ea5f27443cf20e742",
       "version_major": 2,
       "version_minor": 0
      },
      "text/plain": [
       "Map:   0%|          | 0/10000 [00:00<?, ? examples/s]"
      ]
     },
     "metadata": {},
     "output_type": "display_data"
    },
    {
     "data": {
      "text/html": [
       "\n",
       "    <div>\n",
       "      \n",
       "      <progress value='2500' max='2500' style='width:300px; height:20px; vertical-align: middle;'></progress>\n",
       "      [2500/2500 04:32, Epoch 2/2]\n",
       "    </div>\n",
       "    <table border=\"1\" class=\"dataframe\">\n",
       "  <thead>\n",
       " <tr style=\"text-align: left;\">\n",
       "      <th>Epoch</th>\n",
       "      <th>Training Loss</th>\n",
       "      <th>Validation Loss</th>\n",
       "      <th>Accuracy</th>\n",
       "      <th>F1</th>\n",
       "    </tr>\n",
       "  </thead>\n",
       "  <tbody>\n",
       "    <tr>\n",
       "      <td>1</td>\n",
       "      <td>0.230900</td>\n",
       "      <td>0.209235</td>\n",
       "      <td>0.917900</td>\n",
       "      <td>0.916776</td>\n",
       "    </tr>\n",
       "    <tr>\n",
       "      <td>2</td>\n",
       "      <td>0.107400</td>\n",
       "      <td>0.234507</td>\n",
       "      <td>0.921800</td>\n",
       "      <td>0.921659</td>\n",
       "    </tr>\n",
       "  </tbody>\n",
       "</table><p>"
      ],
      "text/plain": [
       "<IPython.core.display.HTML object>"
      ]
     },
     "metadata": {},
     "output_type": "display_data"
    },
    {
     "data": {
      "text/html": [],
      "text/plain": [
       "<IPython.core.display.HTML object>"
      ]
     },
     "metadata": {},
     "output_type": "display_data"
    },
    {
     "data": {
      "application/vnd.jupyter.widget-view+json": {
       "model_id": "1373ab4e630f4a77a2b8cd712d3c05c6",
       "version_major": 2,
       "version_minor": 0
      },
      "text/plain": [
       "Map:   0%|          | 0/40000 [00:00<?, ? examples/s]"
      ]
     },
     "metadata": {},
     "output_type": "display_data"
    },
    {
     "data": {
      "application/vnd.jupyter.widget-view+json": {
       "model_id": "6a3dd032898044c9b86e531209dd1b33",
       "version_major": 2,
       "version_minor": 0
      },
      "text/plain": [
       "Map:   0%|          | 0/10000 [00:00<?, ? examples/s]"
      ]
     },
     "metadata": {},
     "output_type": "display_data"
    },
    {
     "data": {
      "text/html": [
       "\n",
       "    <div>\n",
       "      \n",
       "      <progress value='3750' max='3750' style='width:300px; height:20px; vertical-align: middle;'></progress>\n",
       "      [3750/3750 04:59, Epoch 3/3]\n",
       "    </div>\n",
       "    <table border=\"1\" class=\"dataframe\">\n",
       "  <thead>\n",
       " <tr style=\"text-align: left;\">\n",
       "      <th>Epoch</th>\n",
       "      <th>Training Loss</th>\n",
       "      <th>Validation Loss</th>\n",
       "      <th>Accuracy</th>\n",
       "      <th>F1</th>\n",
       "    </tr>\n",
       "  </thead>\n",
       "  <tbody>\n",
       "    <tr>\n",
       "      <td>1</td>\n",
       "      <td>0.218300</td>\n",
       "      <td>0.223874</td>\n",
       "      <td>0.911300</td>\n",
       "      <td>0.914357</td>\n",
       "    </tr>\n",
       "    <tr>\n",
       "      <td>2</td>\n",
       "      <td>0.127500</td>\n",
       "      <td>0.224359</td>\n",
       "      <td>0.921200</td>\n",
       "      <td>0.920340</td>\n",
       "    </tr>\n",
       "    <tr>\n",
       "      <td>3</td>\n",
       "      <td>0.065900</td>\n",
       "      <td>0.324260</td>\n",
       "      <td>0.922400</td>\n",
       "      <td>0.923411</td>\n",
       "    </tr>\n",
       "  </tbody>\n",
       "</table><p>"
      ],
      "text/plain": [
       "<IPython.core.display.HTML object>"
      ]
     },
     "metadata": {},
     "output_type": "display_data"
    },
    {
     "data": {
      "text/html": [],
      "text/plain": [
       "<IPython.core.display.HTML object>"
      ]
     },
     "metadata": {},
     "output_type": "display_data"
    },
    {
     "data": {
      "application/vnd.jupyter.widget-view+json": {
       "model_id": "89dc70dfb1f44fbcb82e802fddf84721",
       "version_major": 2,
       "version_minor": 0
      },
      "text/plain": [
       "Map:   0%|          | 0/40000 [00:00<?, ? examples/s]"
      ]
     },
     "metadata": {},
     "output_type": "display_data"
    },
    {
     "data": {
      "application/vnd.jupyter.widget-view+json": {
       "model_id": "98f05d298b654ac1acd663c787cb5517",
       "version_major": 2,
       "version_minor": 0
      },
      "text/plain": [
       "Map:   0%|          | 0/10000 [00:00<?, ? examples/s]"
      ]
     },
     "metadata": {},
     "output_type": "display_data"
    },
    {
     "data": {
      "text/html": [
       "\n",
       "    <div>\n",
       "      \n",
       "      <progress value='3750' max='3750' style='width:300px; height:20px; vertical-align: middle;'></progress>\n",
       "      [3750/3750 04:48, Epoch 3/3]\n",
       "    </div>\n",
       "    <table border=\"1\" class=\"dataframe\">\n",
       "  <thead>\n",
       " <tr style=\"text-align: left;\">\n",
       "      <th>Epoch</th>\n",
       "      <th>Training Loss</th>\n",
       "      <th>Validation Loss</th>\n",
       "      <th>Accuracy</th>\n",
       "      <th>F1</th>\n",
       "    </tr>\n",
       "  </thead>\n",
       "  <tbody>\n",
       "    <tr>\n",
       "      <td>1</td>\n",
       "      <td>0.251500</td>\n",
       "      <td>0.204753</td>\n",
       "      <td>0.920400</td>\n",
       "      <td>0.920128</td>\n",
       "    </tr>\n",
       "    <tr>\n",
       "      <td>2</td>\n",
       "      <td>0.140400</td>\n",
       "      <td>0.233000</td>\n",
       "      <td>0.921300</td>\n",
       "      <td>0.919538</td>\n",
       "    </tr>\n",
       "    <tr>\n",
       "      <td>3</td>\n",
       "      <td>0.045500</td>\n",
       "      <td>0.309695</td>\n",
       "      <td>0.923300</td>\n",
       "      <td>0.922938</td>\n",
       "    </tr>\n",
       "  </tbody>\n",
       "</table><p>"
      ],
      "text/plain": [
       "<IPython.core.display.HTML object>"
      ]
     },
     "metadata": {},
     "output_type": "display_data"
    },
    {
     "data": {
      "text/html": [],
      "text/plain": [
       "<IPython.core.display.HTML object>"
      ]
     },
     "metadata": {},
     "output_type": "display_data"
    },
    {
     "data": {
      "application/vnd.jupyter.widget-view+json": {
       "model_id": "b555a1603365406187bbf541e94ac4fd",
       "version_major": 2,
       "version_minor": 0
      },
      "text/plain": [
       "Map:   0%|          | 0/40000 [00:00<?, ? examples/s]"
      ]
     },
     "metadata": {},
     "output_type": "display_data"
    },
    {
     "data": {
      "application/vnd.jupyter.widget-view+json": {
       "model_id": "de9b804dd88a433c999e668d20289d9b",
       "version_major": 2,
       "version_minor": 0
      },
      "text/plain": [
       "Map:   0%|          | 0/10000 [00:00<?, ? examples/s]"
      ]
     },
     "metadata": {},
     "output_type": "display_data"
    },
    {
     "data": {
      "text/html": [
       "\n",
       "    <div>\n",
       "      \n",
       "      <progress value='3750' max='3750' style='width:300px; height:20px; vertical-align: middle;'></progress>\n",
       "      [3750/3750 04:49, Epoch 3/3]\n",
       "    </div>\n",
       "    <table border=\"1\" class=\"dataframe\">\n",
       "  <thead>\n",
       " <tr style=\"text-align: left;\">\n",
       "      <th>Epoch</th>\n",
       "      <th>Training Loss</th>\n",
       "      <th>Validation Loss</th>\n",
       "      <th>Accuracy</th>\n",
       "      <th>F1</th>\n",
       "    </tr>\n",
       "  </thead>\n",
       "  <tbody>\n",
       "    <tr>\n",
       "      <td>1</td>\n",
       "      <td>0.238600</td>\n",
       "      <td>0.220083</td>\n",
       "      <td>0.917800</td>\n",
       "      <td>0.917980</td>\n",
       "    </tr>\n",
       "    <tr>\n",
       "      <td>2</td>\n",
       "      <td>0.124600</td>\n",
       "      <td>0.241582</td>\n",
       "      <td>0.921600</td>\n",
       "      <td>0.921000</td>\n",
       "    </tr>\n",
       "    <tr>\n",
       "      <td>3</td>\n",
       "      <td>0.053300</td>\n",
       "      <td>0.321403</td>\n",
       "      <td>0.922100</td>\n",
       "      <td>0.922403</td>\n",
       "    </tr>\n",
       "  </tbody>\n",
       "</table><p>"
      ],
      "text/plain": [
       "<IPython.core.display.HTML object>"
      ]
     },
     "metadata": {},
     "output_type": "display_data"
    },
    {
     "data": {
      "text/html": [],
      "text/plain": [
       "<IPython.core.display.HTML object>"
      ]
     },
     "metadata": {},
     "output_type": "display_data"
    },
    {
     "data": {
      "application/vnd.jupyter.widget-view+json": {
       "model_id": "66b09119c5ab4bada957a7814b76bfcf",
       "version_major": 2,
       "version_minor": 0
      },
      "text/plain": [
       "Map:   0%|          | 0/40000 [00:00<?, ? examples/s]"
      ]
     },
     "metadata": {},
     "output_type": "display_data"
    },
    {
     "data": {
      "application/vnd.jupyter.widget-view+json": {
       "model_id": "281ea408ac704af4b24213a7f2fba229",
       "version_major": 2,
       "version_minor": 0
      },
      "text/plain": [
       "Map:   0%|          | 0/10000 [00:00<?, ? examples/s]"
      ]
     },
     "metadata": {},
     "output_type": "display_data"
    },
    {
     "data": {
      "text/html": [
       "\n",
       "    <div>\n",
       "      \n",
       "      <progress value='3750' max='3750' style='width:300px; height:20px; vertical-align: middle;'></progress>\n",
       "      [3750/3750 04:48, Epoch 3/3]\n",
       "    </div>\n",
       "    <table border=\"1\" class=\"dataframe\">\n",
       "  <thead>\n",
       " <tr style=\"text-align: left;\">\n",
       "      <th>Epoch</th>\n",
       "      <th>Training Loss</th>\n",
       "      <th>Validation Loss</th>\n",
       "      <th>Accuracy</th>\n",
       "      <th>F1</th>\n",
       "    </tr>\n",
       "  </thead>\n",
       "  <tbody>\n",
       "    <tr>\n",
       "      <td>1</td>\n",
       "      <td>0.224200</td>\n",
       "      <td>0.228838</td>\n",
       "      <td>0.914600</td>\n",
       "      <td>0.915479</td>\n",
       "    </tr>\n",
       "    <tr>\n",
       "      <td>2</td>\n",
       "      <td>0.142900</td>\n",
       "      <td>0.239768</td>\n",
       "      <td>0.919200</td>\n",
       "      <td>0.919265</td>\n",
       "    </tr>\n",
       "    <tr>\n",
       "      <td>3</td>\n",
       "      <td>0.054600</td>\n",
       "      <td>0.334916</td>\n",
       "      <td>0.919900</td>\n",
       "      <td>0.920195</td>\n",
       "    </tr>\n",
       "  </tbody>\n",
       "</table><p>"
      ],
      "text/plain": [
       "<IPython.core.display.HTML object>"
      ]
     },
     "metadata": {},
     "output_type": "display_data"
    },
    {
     "data": {
      "text/html": [],
      "text/plain": [
       "<IPython.core.display.HTML object>"
      ]
     },
     "metadata": {},
     "output_type": "display_data"
    },
    {
     "data": {
      "application/vnd.jupyter.widget-view+json": {
       "model_id": "e7ef8ea9d487405d8921f307ee0e3b38",
       "version_major": 2,
       "version_minor": 0
      },
      "text/plain": [
       "Map:   0%|          | 0/40000 [00:00<?, ? examples/s]"
      ]
     },
     "metadata": {},
     "output_type": "display_data"
    },
    {
     "data": {
      "application/vnd.jupyter.widget-view+json": {
       "model_id": "969f75085d8b488985e95c14a0d6886b",
       "version_major": 2,
       "version_minor": 0
      },
      "text/plain": [
       "Map:   0%|          | 0/10000 [00:00<?, ? examples/s]"
      ]
     },
     "metadata": {},
     "output_type": "display_data"
    },
    {
     "data": {
      "text/html": [
       "\n",
       "    <div>\n",
       "      \n",
       "      <progress value='3750' max='3750' style='width:300px; height:20px; vertical-align: middle;'></progress>\n",
       "      [3750/3750 04:48, Epoch 3/3]\n",
       "    </div>\n",
       "    <table border=\"1\" class=\"dataframe\">\n",
       "  <thead>\n",
       " <tr style=\"text-align: left;\">\n",
       "      <th>Epoch</th>\n",
       "      <th>Training Loss</th>\n",
       "      <th>Validation Loss</th>\n",
       "      <th>Accuracy</th>\n",
       "      <th>F1</th>\n",
       "    </tr>\n",
       "  </thead>\n",
       "  <tbody>\n",
       "    <tr>\n",
       "      <td>1</td>\n",
       "      <td>0.228000</td>\n",
       "      <td>0.210537</td>\n",
       "      <td>0.918100</td>\n",
       "      <td>0.917697</td>\n",
       "    </tr>\n",
       "    <tr>\n",
       "      <td>2</td>\n",
       "      <td>0.117400</td>\n",
       "      <td>0.237483</td>\n",
       "      <td>0.921400</td>\n",
       "      <td>0.921838</td>\n",
       "    </tr>\n",
       "    <tr>\n",
       "      <td>3</td>\n",
       "      <td>0.039900</td>\n",
       "      <td>0.315119</td>\n",
       "      <td>0.920900</td>\n",
       "      <td>0.920590</td>\n",
       "    </tr>\n",
       "  </tbody>\n",
       "</table><p>"
      ],
      "text/plain": [
       "<IPython.core.display.HTML object>"
      ]
     },
     "metadata": {},
     "output_type": "display_data"
    },
    {
     "data": {
      "text/html": [],
      "text/plain": [
       "<IPython.core.display.HTML object>"
      ]
     },
     "metadata": {},
     "output_type": "display_data"
    }
   ],
   "source": [
    "cv = StratifiedKFold(n_splits=5, shuffle=True, random_state=42)\n",
    "all_rows = []           # one row per (hp, fold)\n",
    "agg_preds = {}          # (hp_idx) -> list of (y_true, y_pred) for confusion matrices\n",
    "\n",
    "for hp_idx, hp in enumerate(hp_list):\n",
    "    agg_preds[hp_idx] = []\n",
    "    for fold_id, (tr_idx, va_idx) in enumerate(cv.split(X, y), start=1):\n",
    "        m = train_eval_one_fold(tr_idx, va_idx, hp)\n",
    "        all_rows.append({\n",
    "            \"hp_idx\": hp_idx,\n",
    "            \"fold\": fold_id,\n",
    "            \"lr\": hp[\"lr\"],\n",
    "            \"bsz\": hp[\"bsz\"],\n",
    "            \"epochs\": hp[\"epochs\"],\n",
    "            \"wd\": hp[\"wd\"],\n",
    "            \"acc\": m[\"eval_accuracy\"],\n",
    "            \"f1\":  m[\"eval_f1\"],\n",
    "        })\n",
    "        agg_preds[hp_idx].append( (m[\"y_true\"], m[\"y_pred\"]) )\n",
    "\n",
    "results_df = pd.DataFrame(all_rows)"
   ]
  },
  {
   "cell_type": "code",
   "execution_count": 18,
   "id": "1af2e90d-640c-4fbc-9ee4-ea53d85d0877",
   "metadata": {},
   "outputs": [
    {
     "data": {
      "text/html": [
       "<div>\n",
       "<style scoped>\n",
       "    .dataframe tbody tr th:only-of-type {\n",
       "        vertical-align: middle;\n",
       "    }\n",
       "\n",
       "    .dataframe tbody tr th {\n",
       "        vertical-align: top;\n",
       "    }\n",
       "\n",
       "    .dataframe thead th {\n",
       "        text-align: right;\n",
       "    }\n",
       "</style>\n",
       "<table border=\"1\" class=\"dataframe\">\n",
       "  <thead>\n",
       "    <tr style=\"text-align: right;\">\n",
       "      <th></th>\n",
       "      <th>hp_idx</th>\n",
       "      <th>lr</th>\n",
       "      <th>bsz</th>\n",
       "      <th>epochs</th>\n",
       "      <th>wd</th>\n",
       "      <th>mean_acc</th>\n",
       "      <th>std_acc</th>\n",
       "      <th>mean_f1</th>\n",
       "      <th>std_f1</th>\n",
       "    </tr>\n",
       "  </thead>\n",
       "  <tbody>\n",
       "    <tr>\n",
       "      <th>0</th>\n",
       "      <td>6</td>\n",
       "      <td>0.00005</td>\n",
       "      <td>32</td>\n",
       "      <td>2</td>\n",
       "      <td>0.01</td>\n",
       "      <td>0.92294</td>\n",
       "      <td>0.001931</td>\n",
       "      <td>0.923012</td>\n",
       "      <td>0.001949</td>\n",
       "    </tr>\n",
       "    <tr>\n",
       "      <th>1</th>\n",
       "      <td>1</td>\n",
       "      <td>0.00002</td>\n",
       "      <td>16</td>\n",
       "      <td>3</td>\n",
       "      <td>0.01</td>\n",
       "      <td>0.92180</td>\n",
       "      <td>0.002120</td>\n",
       "      <td>0.922171</td>\n",
       "      <td>0.001913</td>\n",
       "    </tr>\n",
       "    <tr>\n",
       "      <th>2</th>\n",
       "      <td>7</td>\n",
       "      <td>0.00005</td>\n",
       "      <td>32</td>\n",
       "      <td>3</td>\n",
       "      <td>0.01</td>\n",
       "      <td>0.92172</td>\n",
       "      <td>0.001331</td>\n",
       "      <td>0.921907</td>\n",
       "      <td>0.001435</td>\n",
       "    </tr>\n",
       "    <tr>\n",
       "      <th>3</th>\n",
       "      <td>5</td>\n",
       "      <td>0.00005</td>\n",
       "      <td>16</td>\n",
       "      <td>3</td>\n",
       "      <td>0.01</td>\n",
       "      <td>0.92160</td>\n",
       "      <td>0.000809</td>\n",
       "      <td>0.921798</td>\n",
       "      <td>0.000944</td>\n",
       "    </tr>\n",
       "    <tr>\n",
       "      <th>4</th>\n",
       "      <td>3</td>\n",
       "      <td>0.00002</td>\n",
       "      <td>32</td>\n",
       "      <td>3</td>\n",
       "      <td>0.01</td>\n",
       "      <td>0.92092</td>\n",
       "      <td>0.001798</td>\n",
       "      <td>0.921187</td>\n",
       "      <td>0.001643</td>\n",
       "    </tr>\n",
       "    <tr>\n",
       "      <th>5</th>\n",
       "      <td>4</td>\n",
       "      <td>0.00005</td>\n",
       "      <td>16</td>\n",
       "      <td>2</td>\n",
       "      <td>0.01</td>\n",
       "      <td>0.92098</td>\n",
       "      <td>0.001424</td>\n",
       "      <td>0.921166</td>\n",
       "      <td>0.001314</td>\n",
       "    </tr>\n",
       "    <tr>\n",
       "      <th>6</th>\n",
       "      <td>0</td>\n",
       "      <td>0.00002</td>\n",
       "      <td>16</td>\n",
       "      <td>2</td>\n",
       "      <td>0.01</td>\n",
       "      <td>0.92004</td>\n",
       "      <td>0.001977</td>\n",
       "      <td>0.920364</td>\n",
       "      <td>0.002138</td>\n",
       "    </tr>\n",
       "    <tr>\n",
       "      <th>7</th>\n",
       "      <td>2</td>\n",
       "      <td>0.00002</td>\n",
       "      <td>32</td>\n",
       "      <td>2</td>\n",
       "      <td>0.01</td>\n",
       "      <td>0.91894</td>\n",
       "      <td>0.001729</td>\n",
       "      <td>0.919300</td>\n",
       "      <td>0.001855</td>\n",
       "    </tr>\n",
       "  </tbody>\n",
       "</table>\n",
       "</div>"
      ],
      "text/plain": [
       "   hp_idx       lr  bsz  epochs    wd  mean_acc   std_acc   mean_f1    std_f1\n",
       "0       6  0.00005   32       2  0.01   0.92294  0.001931  0.923012  0.001949\n",
       "1       1  0.00002   16       3  0.01   0.92180  0.002120  0.922171  0.001913\n",
       "2       7  0.00005   32       3  0.01   0.92172  0.001331  0.921907  0.001435\n",
       "3       5  0.00005   16       3  0.01   0.92160  0.000809  0.921798  0.000944\n",
       "4       3  0.00002   32       3  0.01   0.92092  0.001798  0.921187  0.001643\n",
       "5       4  0.00005   16       2  0.01   0.92098  0.001424  0.921166  0.001314\n",
       "6       0  0.00002   16       2  0.01   0.92004  0.001977  0.920364  0.002138\n",
       "7       2  0.00002   32       2  0.01   0.91894  0.001729  0.919300  0.001855"
      ]
     },
     "metadata": {},
     "output_type": "display_data"
    },
    {
     "name": "stdout",
     "output_type": "stream",
     "text": [
      "Best HP: {'lr': np.float64(5e-05), 'bsz': np.float64(32.0), 'epochs': np.float64(2.0), 'wd': np.float64(0.01)}\n",
      "Worst HP: {'lr': np.float64(2e-05), 'bsz': np.float64(32.0), 'epochs': np.float64(2.0), 'wd': np.float64(0.01)}\n"
     ]
    }
   ],
   "source": [
    "summary = (\n",
    "    results_df\n",
    "    .groupby([\"hp_idx\",\"lr\",\"bsz\",\"epochs\",\"wd\"], as_index=False)\n",
    "    .agg(mean_acc=(\"acc\",\"mean\"), std_acc=(\"acc\",\"std\"),\n",
    "         mean_f1=(\"f1\",\"mean\"),   std_f1=(\"f1\",\"std\"))\n",
    "    .sort_values([\"mean_f1\",\"mean_acc\"], ascending=False)\n",
    "    .reset_index(drop=True)\n",
    ")\n",
    "\n",
    "display(summary)\n",
    "\n",
    "# ---- pick best & worst by mean_f1\n",
    "best_row  = summary.iloc[0]\n",
    "worst_row = summary.iloc[-1]\n",
    "best_hp_idx  = int(best_row[\"hp_idx\"])\n",
    "worst_hp_idx = int(worst_row[\"hp_idx\"])\n",
    "\n",
    "print(\"Best HP:\",  dict(best_row[[\"lr\",\"bsz\",\"epochs\",\"wd\"]]))\n",
    "print(\"Worst HP:\", dict(worst_row[[\"lr\",\"bsz\",\"epochs\",\"wd\"]]))"
   ]
  },
  {
   "cell_type": "markdown",
   "id": "9c86b2fd-eddc-41d3-bbfd-5d907120af71",
   "metadata": {},
   "source": [
    "#### Analysis\n",
    "\n",
    "\n",
    "- Best HP: lr=5e-5, batch_size=32, epochs=2, wd=0.01 | Acc 0.91596, F1 0.91633\n",
    "- Worst HP: lr=5e-5, batch_size=16, epochs=3, wd=0.01 | Acc 0.91217, F1 0.91236\n",
    "    - The spread between best and worst is ~0.38–0.40 in accuracy/F1 is not huge, but consistent.\n",
    "- Larger batches likely stabilize the optimizer and help generalization here.\n",
    "- 3 epochs often underperform 2 (mild overfitting)\n",
    "\n",
    "#### Observation\n",
    "- The model converges fast: most of the gain is by epoch 2, epoch 3 starts to trade a touch of recall/accuracy for extra fit."
   ]
  },
  {
   "cell_type": "code",
   "execution_count": 19,
   "id": "32993d83-0ab1-4aa3-8341-b17e13a5e109",
   "metadata": {},
   "outputs": [
    {
     "data": {
      "image/png": "[encoded data removed]",
      "text/plain": [
       "<Figure size 1000x500 with 1 Axes>"
      ]
     },
     "metadata": {},
     "output_type": "display_data"
    }
   ],
   "source": [
    "fig, ax = plt.subplots(figsize=(10,5))\n",
    "ax.plot(results_df.loc[results_df.hp_idx==best_hp_idx,\"fold\"],\n",
    "        results_df.loc[results_df.hp_idx==best_hp_idx,\"acc\"], marker=\"o\", label=\"best (acc)\")\n",
    "ax.plot(results_df.loc[results_df.hp_idx==worst_hp_idx,\"fold\"],\n",
    "        results_df.loc[results_df.hp_idx==worst_hp_idx,\"acc\"], marker=\"o\", label=\"worst (acc)\")\n",
    "ax.set_title(\"Per-fold accuracy: best vs worst hyperparams\")\n",
    "ax.set_xlabel(\"fold\"); ax.set_ylabel(\"accuracy\"); ax.set_xticks([1,2,3,4,5]); ax.legend()\n",
    "plt.tight_layout(); plt.show()\n",
    "\n",
    "# ---- aggregate confusion matrices (sum over folds) for best vs worst\n",
    "def sum_conf_mat(pairs):\n",
    "    cm_sum = np.zeros((2,2), dtype=int)\n",
    "    for y_true, y_pred in pairs:\n",
    "        cm_sum += confusion_matrix(y_true, y_pred, labels=[0,1])\n",
    "    return cm_sum\n",
    "\n",
    "cm_best  = sum_conf_mat(agg_preds[best_hp_idx])\n",
    "cm_worst = sum_conf_mat(agg_preds[worst_hp_idx])"
   ]
  },
  {
   "cell_type": "code",
   "execution_count": 20,
   "id": "66bf19ce-fcb4-4bf3-b7b6-0a2243571a4a",
   "metadata": {},
   "outputs": [
    {
     "data": {
      "image/png": "[encoded data removed]",
      "text/plain": [
       "<Figure size 1000x400 with 2 Axes>"
      ]
     },
     "metadata": {},
     "output_type": "display_data"
    }
   ],
   "source": [
    "fig, axes = plt.subplots(1,2, figsize=(10,4))\n",
    "for ax, cm, title in [(axes[0], cm_best,  \"Best HP (sum over folds)\"),\n",
    "                      (axes[1], cm_worst, \"Worst HP (sum over folds)\")]:\n",
    "    disp = ConfusionMatrixDisplay(cm, display_labels=[\"neg\",\"pos\"])\n",
    "    disp.plot(ax=ax, cmap=\"Blues\", values_format=\"d\", colorbar=False)\n",
    "    ax.set_title(title)\n",
    "plt.tight_layout(); plt.show()"
   ]
  },
  {
   "cell_type": "markdown",
   "id": "f89fcab4-ee76-45c3-8f9b-971a27b0b8e8",
   "metadata": {},
   "source": [
    "  |\r\n"
   ]
  },
  {
   "cell_type": "markdown",
   "id": "b1c75bd7-799f-43f3-b291-0e6b6423bf9b",
   "metadata": {},
   "source": [
    "## Result Analysis\n",
    "\n",
    "#### 1. Traditional ML (LinearSVC & SGDClassifier) with Grid Search + KFold\n",
    "- Best F1: 0.9110\n",
    "- Best Params: LinearSVC, C=0.5, n-gram range=(1,2), min_df=3, max_features=None.\n",
    "- Observation: Using bigrams and a low min_df allowed capturing subtle context without losing rare but meaningful terms. LinearSVC outperformed SGDClassifier, showing stability with fewer hyperparameters to tune. The results were consistent across folds, indicating strong generalization.\n",
    "\n",
    "#### 2. GloVe + LSTM with KFold\n",
    "\n",
    "- Parameter Choice Rationale:\n",
    "    - Embedding dim (100): Balanced representational capacity and computational efficiency.\n",
    "    - Hidden dims (128 / 256): Tested moderate vs. high-capacity recurrent layers.\n",
    "    - Dropout (0.4 / 0.5): Controlled overfitting given model capacity.\n",
    "    - Bidirectional: Enabled capturing context from both directions for sentiment nuances.\n",
    "    - Patience (2): Allowed early stopping before overfitting.\n",
    "\n",
    "- Observation:\n",
    "    - LSTM showed better contextual capture than bag-of-words ML models but required careful dropout tuning. Larger hidden dimension (256) gave marginal gains but at higher training cost. Variance across folds was slightly higher than LinearSVC.\n",
    " \n",
    "#### 3. DistilBERT with KFold + Grid Search\n",
    "```Best HP: LR=5e-5, batch size=32, epochs=2, weight decay=0.01.```\n",
    "\n",
    "- Observation: DistilBERT achieved the highest absolute accuracy and F1 among all tested models. Minimal epochs (2) prevented overfitting, and the learning rate matched common finetuning defaults. Performance difference between top configs was small (<0.4%), indicating robustness.\n",
    "\n",
    "| Model & Method            | Best F1       | Strengths                                                        | Weaknesses                              |\n",
    "| ------------------------- | ------------- | ---------------------------------------------------------------- | --------------------------------------- |\n",
    "| LinearSVC (Grid + KFold)  | 0.9055        | Fast, interpretable, low variance, strong baseline               | Limited context capture vs. deep models |\n",
    "| GloVe + LSTM (KFold)      | \\~0.8886 | Better contextual learning, benefits from pre-trained embeddings | Higher variance, slower training        |\n",
    "| DistilBERT (Grid + KFold) | \\~0.9230      | Best overall scores, robust to small HP changes                  | High resource usage, larger model size  |\n"
   ]
  },
  {
   "cell_type": "markdown",
   "id": "6014d3e7-5f7a-488d-96ed-691b68901f1b",
   "metadata": {},
   "source": [
    "## Conclusion\n",
    "All three approaches benefited from KFold cross-validation to reduce variance in performance estimates and from hyperparameter tuning to maximize F1.\n",
    "- DistilBERT is the top choice for production if compute allows, due to superior performance and robustness.\n",
    "- GloVe+LSTM offers a strong compromise when GPU resources are limited, with richer representation than traditional ML.\n",
    "- LinearSVC remains an excellent lightweight baseline for fast inference and low-resource environments.\n",
    "\n"
   ]
  },
  {
   "cell_type": "code",
   "execution_count": null,
   "id": "d99c40ed-3ab0-43ff-9d48-ed612c035725",
   "metadata": {},
   "outputs": [],
   "source": []
  }
 ],
 "metadata": {
  "kernelspec": {
   "display_name": "text",
   "language": "python",
   "name": "text"
  },
  "language_info": {
   "codemirror_mode": {
    "name": "ipython",
    "version": 3
   },
   "file_extension": ".py",
   "mimetype": "text/x-python",
   "name": "python",
   "nbconvert_exporter": "python",
   "pygments_lexer": "ipython3",
   "version": "3.10.18"
  }
 },
 "nbformat": 4,
 "nbformat_minor": 5
}

{
 "cells": [
  {
   "cell_type": "markdown",
   "id": "a24b4486-4182-49c2-b964-fb4ee2d06fd6",
   "metadata": {},
   "source": [
    "## Overview\n",
    "\n",
    "This notebook applies K-fold cross-validation with grid search across three model types: traditional machine learning algorithms such as LinearSVC and SGD Classifier, a deep learning model using GloVe embeddings with LSTM, and a transformer-based model, DistilBERT. The goal is to systematically evaluate multiple hyperparameter combinations to identify the configuration that consistently performs best across different data splits.\n",
    "\n",
    "We use K-fold cross-validation to obtain a more reliable and stable estimate of each model’s performance by training and testing on multiple partitions of the dataset. Grid search is then used to exhaustively explore predefined hyperparameter values, ensuring that the selected parameters are not biased toward a single train-test split.\n",
    "\n",
    "The expectation is that this combined approach will yield optimal hyperparameters that generalize well to unseen data, reduce overfitting risk, and provide a fair comparison of model performance across the different architectures tested.\n",
    "\n",
    "#### Contents\n",
    "- Import statements\n",
    "- Data Reading and Cleaning\n",
    "- kfold + gridsearch + ML algorithms\n",
    "- kfold + gridsearch + Glove-LSTM\n",
    "- Kfold + gridsearch + distil-bert\n",
    "- Conclusion"
   ]
  },
  {
   "cell_type": "markdown",
   "id": "31ee0e10-28af-4cb9-b8f9-0dee3a96d6ee",
   "metadata": {},
   "source": [
    "### Import Statements"
   ]
  },
  {
   "cell_type": "code",
   "execution_count": 17,
   "id": "90cce939-db16-4669-a66b-527cf9c8d57e",
   "metadata": {},
   "outputs": [],
   "source": [
    "import warnings\n",
    "warnings.filterwarnings(\"ignore\")\n",
    "warnings.filterwarnings(\"ignore\", category=FutureWarning)\n",
    "warnings.filterwarnings(\"ignore\", category=UserWarning)\n",
    "\n",
    "\n",
    "# from transformers.utils import logging as hf_logging\n",
    "# hf_logging.set_verbosity_error() \n",
    "\n",
    "import sys\n",
    "import random\n",
    "from pathlib import Path\n",
    "project_root = Path().resolve().parent\n",
    "sys.path.append(str(project_root / \"src\"))\n",
    "from tqdm.notebook import tqdm\n",
    "\n",
    "from sklearn.pipeline import Pipeline\n",
    "from sklearn.model_selection import StratifiedKFold, GridSearchCV\n",
    "from sklearn.feature_extraction.text import TfidfVectorizer, CountVectorizer\n",
    "from sklearn.svm import LinearSVC\n",
    "from sklearn.linear_model import SGDClassifier\n",
    "from sklearn.metrics import make_scorer, f1_score, confusion_matrix, ConfusionMatrixDisplay\n",
    "import matplotlib.pyplot as plt\n",
    "\n",
    "import torch\n",
    "import torch.nn as nn\n",
    "import numpy as np\n",
    "import pandas as pd\n",
    "from itertools import product\n",
    "\n",
    "from transformers import AutoTokenizer, AutoModelForSequenceClassification, TrainingArguments, Trainer\n",
    "from datasets import Dataset\n",
    "from torch.utils.data import DataLoader\n",
    "from dataset.custom_data import IMDBDataset\n",
    "from models.lstm import GloVeLSTM\n",
    "from utils.embeddings import load_glove_embeddings\n",
    "\n",
    "\n",
    "from transformers import AutoTokenizer, AutoModelForSequenceClassification, TrainingArguments, Trainer\n"
   ]
  },
  {
   "cell_type": "markdown",
   "id": "b3ffcccf-9706-47e9-a5e2-3387d029aa43",
   "metadata": {},
   "source": [
    "#### Seed\n",
    "Updating the seed to keep consistency"
   ]
  },
  {
   "cell_type": "code",
   "execution_count": 2,
   "id": "2b21c66d-ddfe-4ca2-bfbc-00f7aafb866b",
   "metadata": {},
   "outputs": [],
   "source": [
    "def set_seed(seed: int = 42):\n",
    "    random.seed(seed)\n",
    "    np.random.seed(seed)\n",
    "    torch.manual_seed(seed)\n",
    "    torch.cuda.manual_seed_all(seed)\n",
    "    torch.backends.cudnn.deterministic = True\n",
    "    torch.backends.cudnn.benchmark = False"
   ]
  },
  {
   "cell_type": "code",
   "execution_count": 3,
   "id": "b5b6553e-f970-4ce7-b493-d0caeb3fcb64",
   "metadata": {},
   "outputs": [],
   "source": [
    "device = torch.device(\"cuda\" if torch.cuda.is_available() else \"cpu\")\n",
    "set_seed(42)"
   ]
  },
  {
   "cell_type": "markdown",
   "id": "432c9b02-b8dc-4985-aee8-28b2e2b54cba",
   "metadata": {},
   "source": [
    "#### Reading the clean data\n",
    "Reading the data from step 1 notebook, that was saved after preprocessing"
   ]
  },
  {
   "cell_type": "code",
   "execution_count": 4,
   "id": "3bc19310-4055-4b52-9cd1-a3220b7ee821",
   "metadata": {},
   "outputs": [],
   "source": [
    "df = pd.read_parquet(project_root / \"data\" / \"imdb_reviews.parquet\")\n",
    "df = df[[\"review\", \"sentiment\"]].dropna().reset_index(drop=True)\n",
    "\n",
    "X = df[\"review\"].astype(str).to_list()\n",
    "y = df[\"sentiment\"].astype(int).to_numpy()"
   ]
  },
  {
   "cell_type": "code",
   "execution_count": 5,
   "id": "2e00c911-c4c7-4a8f-b759-b6caeb701fcd",
   "metadata": {},
   "outputs": [],
   "source": [
    "cv = StratifiedKFold(n_splits=5, shuffle=True, random_state=42)\n",
    "scorer = make_scorer(f1_score)\n",
    "\n",
    "pipe = Pipeline([\n",
    "    (\"vec\", TfidfVectorizer(min_df=5, ngram_range=(1,2), sublinear_tf=True)),\n",
    "    (\"clf\", LinearSVC())\n",
    "])\n"
   ]
  },
  {
   "cell_type": "markdown",
   "id": "c81fe343-e5b3-4f97-a19b-edc5a1e37314",
   "metadata": {},
   "source": [
    "#### Parameter grid for GridSearch\n",
    "\n",
    "Selected this parameter grid to systematically explore key hyperparameters for two strong linear baselines LinearSVC and SGDClassifier and in a combination with a TfidfVectorizer.\n",
    "The aim is to evaluate different vocabulary sizes, n-gram ranges, and regularization strengths while also testing multiple loss functions and penalties for SGD.\n",
    "\n",
    "These classifiers and vectorizer was chosen based on the initial results of the previous notebook. \n",
    "\n",
    "By using GridSearchCV with k-fold cross-validation, I expect to identify the best hyperparameter combination for each algorithm that maximizes chosen scoring metric. This ensures the models generalize well to unseen data while avoiding overfitting, and also allows to directly compare both classifiers under optimized conditions."
   ]
  },
  {
   "cell_type": "markdown",
   "id": "3f7b16be-1a60-4408-bf8e-223905a433f1",
   "metadata": {},
   "source": [
    "#### Traditional ML algorithms"
   ]
  },
  {
   "cell_type": "code",
   "execution_count": 6,
   "id": "89c4a390-7aa9-40ce-aa9f-65c78346aa32",
   "metadata": {},
   "outputs": [
    {
     "name": "stdout",
     "output_type": "stream",
     "text": [
      "Fitting 5 folds for each of 150 candidates, totalling 750 fits\n",
      "Best F1: 0.9110504394179648\n",
      "Best params: {'clf': LinearSVC(), 'clf__C': 0.5, 'vec__max_features': None, 'vec__min_df': 3, 'vec__ngram_range': (1, 2)}\n"
     ]
    }
   ],
   "source": [
    "param_grid = [\n",
    "    {  # LinearSVC branch\n",
    "        \"clf\": [LinearSVC()],\n",
    "        \"vec__min_df\": [3, 5, 10],\n",
    "        \"vec__max_features\": [40000, 60000, None],\n",
    "        \"vec__ngram_range\": [(1,1), (1,2)],\n",
    "        \"clf__C\": [0.5, 1.0, 2.0],\n",
    "    },\n",
    "    {  # SGDClassifier branch\n",
    "        \"clf\": [SGDClassifier(random_state=42)],\n",
    "        \"vec__min_df\": [3, 5],\n",
    "        \"vec__ngram_range\": [(1,1), (1,2)],\n",
    "        \"clf__loss\": [\"hinge\", \"log_loss\"],\n",
    "        \"clf__alpha\": [1e-5, 1e-4, 1e-3],\n",
    "        \"clf__penalty\": [\"l2\", \"l1\"],\n",
    "        \"clf__max_iter\": [1000, 2000],\n",
    "    }\n",
    "]\n",
    "\n",
    "gs = GridSearchCV(\n",
    "    pipe,\n",
    "    param_grid=param_grid,\n",
    "    scoring=scorer,\n",
    "    cv=cv,\n",
    "    n_jobs=-1,\n",
    "    verbose=2,\n",
    "    refit=True\n",
    ")\n",
    "gs.fit(X, y)\n",
    "\n",
    "print(\"Best F1:\", gs.best_score_)\n",
    "print(\"Best params:\", gs.best_params_)\n",
    "best_model = gs.best_estimator_"
   ]
  },
  {
   "cell_type": "markdown",
   "id": "2e535869-ce40-46a7-935d-6af27bcae5da",
   "metadata": {},
   "source": [
    "#### Analysis\n",
    "\n",
    "The best F1 score of 0.9111 was achieved with LinearSVC using a lower regularization strength (C=0.5), a broad vocabulary (max_features=None), minimum term frequency of 3, and a bi-gram range (1, 2).\n",
    "This indicates that the model benefits from capturing both single words and short phrases while keeping regularization strong enough to prevent overfitting, leading to balanced and robust performance across folds."
   ]
  },
  {
   "cell_type": "markdown",
   "id": "dc36e908-0ab2-478b-8b11-99b4baad8fb2",
   "metadata": {},
   "source": [
    "### LSTM+GloVe"
   ]
  },
  {
   "cell_type": "code",
   "execution_count": 7,
   "id": "06cea601-e7d3-4f1a-aa51-db4eb7282f8c",
   "metadata": {},
   "outputs": [],
   "source": [
    "def train_epoch(model, loader, optimizer, criterion):\n",
    "    model.train()\n",
    "    total, loss_sum, correct = 0, 0.0, 0\n",
    "    for xb, yb in loader:\n",
    "        xb, yb = xb.to(device), yb.float().to(device)\n",
    "        optimizer.zero_grad()\n",
    "        logits = model(xb)               # (B,)\n",
    "        loss = criterion(logits, yb)\n",
    "        loss.backward()\n",
    "        optimizer.step()\n",
    "\n",
    "        loss_sum += float(loss.item()) * yb.size(0)\n",
    "        preds = (logits.sigmoid() >= 0.5).long()\n",
    "        correct += (preds == yb.long()).sum().item()\n",
    "        total += yb.size(0)\n",
    "    return loss_sum/total, correct/total\n",
    "\n",
    "@torch.no_grad()\n",
    "def eval_epoch(model, loader, criterion):\n",
    "    model.eval()\n",
    "    total, loss_sum, correct = 0, 0.0, 0\n",
    "    ys, ps = [], []\n",
    "    for xb, yb in loader:\n",
    "        xb, yb = xb.to(device), yb.float().to(device)\n",
    "        logits = model(xb)\n",
    "        loss = criterion(logits, yb)\n",
    "        loss_sum += float(loss.item()) * yb.size(0)\n",
    "\n",
    "        prob = logits.sigmoid()\n",
    "        pred = (prob >= 0.5).long()\n",
    "        correct += (pred == yb.long()).sum().item()\n",
    "        total += yb.size(0)\n",
    "\n",
    "        ys.append(yb.cpu().numpy())\n",
    "        ps.append(pred.cpu().numpy())\n",
    "\n",
    "    y = np.concatenate(ys)\n",
    "    p = np.concatenate(ps)\n",
    "    return loss_sum/total, correct/total, y, p\n"
   ]
  },
  {
   "cell_type": "code",
   "execution_count": 8,
   "id": "1634504f-24fc-4ed1-922a-06a70c6fccc8",
   "metadata": {},
   "outputs": [],
   "source": [
    "def train_lstm_one_fold(params, tr_idx, va_idx, texts, labels, glove_filename: str):\n",
    "    tr_texts = [texts[i] for i in tr_idx]\n",
    "    tr_labels = [labels[i] for i in tr_idx]\n",
    "    va_texts = [texts[i] for i in va_idx]\n",
    "    va_labels = [labels[i] for i in va_idx]\n",
    "\n",
    "    # Build train fold dataset (creates vocab from train fold)\n",
    "    train_ds = IMDBDataset(\n",
    "        texts=tr_texts,\n",
    "        labels=tr_labels,\n",
    "        max_len=params[\"max_len\"],\n",
    "        preprocess=True,\n",
    "        min_freq=params.get(\"min_freq\", 2),\n",
    "        max_vocab_size=params.get(\"max_vocab_size\", 30000),\n",
    "        language=\"english\"\n",
    "    )\n",
    "\n",
    "    # Validation dataset shares the same vocab\n",
    "    val_ds = IMDBDataset(\n",
    "        texts=va_texts,\n",
    "        labels=va_labels,\n",
    "        max_len=params[\"max_len\"],\n",
    "        preprocess=True,\n",
    "        min_freq=params.get(\"min_freq\", 2),\n",
    "        max_vocab_size=params.get(\"max_vocab_size\", 30000),\n",
    "        language=\"english\"\n",
    "    )\n",
    "    val_ds.vocab = train_ds.vocab  # align token->id mapping\n",
    "\n",
    "    train_loader = DataLoader(train_ds, batch_size=params[\"batch_size\"], shuffle=True, num_workers=0)\n",
    "    val_loader   = DataLoader(val_ds,   batch_size=params[\"batch_size\"], shuffle=False, num_workers=0)\n",
    "\n",
    "   \n",
    "    glove_tensor = load_glove_embeddings(glove_filename, train_ds.vocab, embedding_dim=params[\"emb_dim\"])\n",
    "\n",
    "    # Build model\n",
    "    model = GloVeLSTM(\n",
    "                vocab_size=len(train_ds.vocab),\n",
    "                emb_dim=params[\"emb_dim\"],\n",
    "                hidden_dim=params[\"hidden_dim\"],\n",
    "                num_layers=params[\"num_layers\"],\n",
    "                bidirectional=params[\"bidirectional\"],\n",
    "                dropout=params[\"dropout\"],\n",
    "                pad_idx=0,\n",
    "                pretrained_embeddings=glove_tensor\n",
    "            ).to(device)\n",
    "\n",
    "    optimizer = torch.optim.Adam(model.parameters(), lr=params[\"lr\"])\n",
    "    criterion = nn.BCEWithLogitsLoss()\n",
    "\n",
    "    # Early stopping\n",
    "    patience = params.get(\"patience\", 2)\n",
    "    best_acc, best_f1, best_epoch = 0.0, 0.0, None\n",
    "    patience_ctr = 0\n",
    "\n",
    "    for epoch in range(1, params[\"epochs\"] + 1):\n",
    "        tr_loss, tr_acc = train_epoch(model, train_loader, optimizer, criterion)\n",
    "        va_loss, va_acc, y_true, y_pred = eval_epoch(model, val_loader, criterion)\n",
    "        va_f1 = f1_score(y_true, y_pred)\n",
    "\n",
    "        tqdm.write(f\"[Fold] Ep{epoch:02d} | tr_loss={tr_loss:.4f} tr_acc={tr_acc:.4f} \"\n",
    "                   f\"| va_loss={va_loss:.4f} va_acc={va_acc:.4f} va_f1={va_f1:.4f}\")\n",
    "\n",
    "        if va_acc > best_acc:\n",
    "            best_acc = va_acc\n",
    "            best_f1  = va_f1\n",
    "            best_epoch = epoch\n",
    "            patience_ctr = 0\n",
    "        else:\n",
    "            patience_ctr += 1\n",
    "            if patience_ctr >= patience:\n",
    "                tqdm.write(f\"Early stop @ epoch {epoch} (best acc={best_acc:.4f} f1={best_f1:.4f})\")\n",
    "                break\n",
    "\n",
    "    return {\"val_acc\": best_acc, \"val_f1\": best_f1, \"best_epoch\": best_epoch}"
   ]
  },
  {
   "cell_type": "code",
   "execution_count": 9,
   "id": "4ed840e1-7989-4d43-a99f-a06bbc72e37d",
   "metadata": {},
   "outputs": [],
   "source": [
    "def kfold_lstm_cv(texts, labels, param_grid, glove_filename=\"glove.6B.100d.txt\", n_splits=5, seed=42):\n",
    "    cv = StratifiedKFold(n_splits=n_splits, shuffle=True, random_state=seed)\n",
    "    X = np.array(texts, dtype=object)\n",
    "    y = np.array(labels, dtype=int)\n",
    "\n",
    "    all_runs = []\n",
    "    for params in param_grid:\n",
    "        fold_metrics = []\n",
    "        tqdm.write(f\"\\n=== Params: {params} ===\")\n",
    "        for fold, (tr_idx, va_idx) in enumerate(cv.split(X, y), start=1):\n",
    "            tqdm.write(f\"\\n--- Fold {fold}/{n_splits} ---\")\n",
    "            set_seed(42 + fold)  # fold-stable seed\n",
    "            m = train_lstm_one_fold(params, tr_idx, va_idx, texts, labels, glove_filename)\n",
    "            fold_metrics.append(m)\n",
    "\n",
    "        mean_acc = float(np.mean([m[\"val_acc\"] for m in fold_metrics]))\n",
    "        std_acc  = float(np.std([m[\"val_acc\"] for m in fold_metrics]))\n",
    "        mean_f1  = float(np.mean([m[\"val_f1\"] for m in fold_metrics]))\n",
    "        std_f1   = float(np.std([m[\"val_f1\"] for m in fold_metrics]))\n",
    "\n",
    "        all_runs.append({\n",
    "            \"params\": params,\n",
    "            \"mean_acc\": mean_acc, \"std_acc\": std_acc,\n",
    "            \"mean_f1\": mean_f1,   \"std_f1\": std_f1,\n",
    "        })\n",
    "\n",
    "        tqdm.write(f\"\\nRESULT | acc={mean_acc:.4f}±{std_acc:.4f} | f1={mean_f1:.4f}±{std_f1:.4f}\")\n",
    "\n",
    "    all_runs = sorted(all_runs, key=lambda d: (d[\"mean_f1\"], d[\"mean_acc\"]), reverse=True)\n",
    "    return all_runs"
   ]
  },
  {
   "cell_type": "markdown",
   "id": "83a8efd6-63e1-4c36-8801-131befde8008",
   "metadata": {},
   "source": [
    "#### Hyperparameter Selection\n",
    "\n",
    "Parameter selection came from previous notebook where models were trained with standard parameters (proven well for such task). \n",
    "\n",
    "- hidden_dim = {128, 256}: Two capacities to test the bias variance trade-off. 128 is faster/less prone to overfit. 256 can capture longer dependencies.\n",
    "- num_layers=2, bidirectional=True: Two stacked layers add depth. bidirectional reads left/right context, which helps sentiment cues that depend on surrounding words."
   ]
  },
  {
   "cell_type": "code",
   "execution_count": 10,
   "id": "fc10754c-94cf-4d37-a902-1bb8082f9e27",
   "metadata": {},
   "outputs": [
    {
     "name": "stdout",
     "output_type": "stream",
     "text": [
      "\n",
      "=== Params: {'emb_dim': 100, 'hidden_dim': 128, 'num_layers': 2, 'bidirectional': True, 'dropout': 0.4, 'lr': 0.001, 'batch_size': 64, 'epochs': 8, 'max_len': 256, 'min_freq': 2, 'max_vocab_size': 30000, 'patience': 2} ===\n",
      "\n",
      "--- Fold 1/5 ---\n",
      "[Fold] Ep01 | tr_loss=0.5953 tr_acc=0.6805 | va_loss=0.4347 va_acc=0.8027 va_f1=0.7934\n",
      "[Fold] Ep02 | tr_loss=0.3932 tr_acc=0.8293 | va_loss=0.3630 va_acc=0.8424 va_f1=0.8362\n",
      "[Fold] Ep03 | tr_loss=0.3396 tr_acc=0.8545 | va_loss=0.3365 va_acc=0.8572 va_f1=0.8631\n",
      "[Fold] Ep04 | tr_loss=0.3105 tr_acc=0.8683 | va_loss=0.3240 va_acc=0.8604 va_f1=0.8540\n",
      "[Fold] Ep05 | tr_loss=0.2861 tr_acc=0.8806 | va_loss=0.2977 va_acc=0.8752 va_f1=0.8769\n",
      "[Fold] Ep06 | tr_loss=0.2682 tr_acc=0.8902 | va_loss=0.3197 va_acc=0.8705 va_f1=0.8643\n",
      "[Fold] Ep07 | tr_loss=0.2474 tr_acc=0.8989 | va_loss=0.2774 va_acc=0.8843 va_f1=0.8866\n",
      "[Fold] Ep08 | tr_loss=0.2270 tr_acc=0.9092 | va_loss=0.2980 va_acc=0.8819 va_f1=0.8868\n",
      "\n",
      "--- Fold 2/5 ---\n",
      "[Fold] Ep01 | tr_loss=0.5924 tr_acc=0.6938 | va_loss=0.5028 va_acc=0.7745 va_f1=0.7830\n",
      "[Fold] Ep02 | tr_loss=0.4192 tr_acc=0.8103 | va_loss=0.3463 va_acc=0.8382 va_f1=0.8525\n",
      "[Fold] Ep03 | tr_loss=0.3365 tr_acc=0.8558 | va_loss=0.3062 va_acc=0.8713 va_f1=0.8716\n",
      "[Fold] Ep04 | tr_loss=0.3083 tr_acc=0.8690 | va_loss=0.3013 va_acc=0.8759 va_f1=0.8811\n",
      "[Fold] Ep05 | tr_loss=0.2805 tr_acc=0.8836 | va_loss=0.2776 va_acc=0.8843 va_f1=0.8863\n",
      "[Fold] Ep06 | tr_loss=0.2593 tr_acc=0.8944 | va_loss=0.2682 va_acc=0.8857 va_f1=0.8840\n",
      "[Fold] Ep07 | tr_loss=0.2405 tr_acc=0.9041 | va_loss=0.2665 va_acc=0.8907 va_f1=0.8921\n",
      "[Fold] Ep08 | tr_loss=0.2173 tr_acc=0.9131 | va_loss=0.2874 va_acc=0.8837 va_f1=0.8898\n",
      "\n",
      "--- Fold 3/5 ---\n",
      "[Fold] Ep01 | tr_loss=0.5983 tr_acc=0.6755 | va_loss=0.4460 va_acc=0.8094 va_f1=0.8161\n",
      "[Fold] Ep02 | tr_loss=0.3941 tr_acc=0.8261 | va_loss=0.3275 va_acc=0.8590 va_f1=0.8596\n",
      "[Fold] Ep03 | tr_loss=0.3304 tr_acc=0.8588 | va_loss=0.3042 va_acc=0.8749 va_f1=0.8798\n",
      "[Fold] Ep04 | tr_loss=0.3011 tr_acc=0.8758 | va_loss=0.2857 va_acc=0.8812 va_f1=0.8821\n",
      "[Fold] Ep05 | tr_loss=0.2806 tr_acc=0.8844 | va_loss=0.2979 va_acc=0.8654 va_f1=0.8548\n",
      "[Fold] Ep06 | tr_loss=0.2612 tr_acc=0.8935 | va_loss=0.2739 va_acc=0.8831 va_f1=0.8873\n",
      "[Fold] Ep07 | tr_loss=0.2388 tr_acc=0.9047 | va_loss=0.2792 va_acc=0.8873 va_f1=0.8905\n",
      "[Fold] Ep08 | tr_loss=0.2195 tr_acc=0.9124 | va_loss=0.2834 va_acc=0.8893 va_f1=0.8867\n",
      "\n",
      "--- Fold 4/5 ---\n",
      "[Fold] Ep01 | tr_loss=0.6160 tr_acc=0.6642 | va_loss=0.4674 va_acc=0.7899 va_f1=0.7779\n",
      "[Fold] Ep02 | tr_loss=0.4298 tr_acc=0.8093 | va_loss=0.3804 va_acc=0.8330 va_f1=0.8260\n",
      "[Fold] Ep03 | tr_loss=0.3691 tr_acc=0.8394 | va_loss=0.3581 va_acc=0.8507 va_f1=0.8470\n",
      "[Fold] Ep04 | tr_loss=0.3405 tr_acc=0.8550 | va_loss=0.3360 va_acc=0.8578 va_f1=0.8561\n",
      "[Fold] Ep05 | tr_loss=0.3223 tr_acc=0.8624 | va_loss=0.3372 va_acc=0.8585 va_f1=0.8528\n",
      "[Fold] Ep06 | tr_loss=0.2937 tr_acc=0.8755 | va_loss=0.3055 va_acc=0.8726 va_f1=0.8758\n",
      "[Fold] Ep07 | tr_loss=0.2715 tr_acc=0.8877 | va_loss=0.3021 va_acc=0.8749 va_f1=0.8793\n",
      "[Fold] Ep08 | tr_loss=0.2512 tr_acc=0.8964 | va_loss=0.2903 va_acc=0.8827 va_f1=0.8828\n",
      "\n",
      "--- Fold 5/5 ---\n",
      "[Fold] Ep01 | tr_loss=0.5878 tr_acc=0.6969 | va_loss=0.6271 va_acc=0.6468 va_f1=0.6429\n",
      "[Fold] Ep02 | tr_loss=0.4983 tr_acc=0.7638 | va_loss=0.4492 va_acc=0.8003 va_f1=0.8018\n",
      "[Fold] Ep03 | tr_loss=0.4290 tr_acc=0.8039 | va_loss=0.3571 va_acc=0.8446 va_f1=0.8471\n",
      "[Fold] Ep04 | tr_loss=0.3532 tr_acc=0.8494 | va_loss=0.3300 va_acc=0.8551 va_f1=0.8532\n",
      "[Fold] Ep05 | tr_loss=0.3253 tr_acc=0.8643 | va_loss=0.3170 va_acc=0.8625 va_f1=0.8599\n",
      "[Fold] Ep06 | tr_loss=0.3031 tr_acc=0.8729 | va_loss=0.3047 va_acc=0.8681 va_f1=0.8685\n",
      "[Fold] Ep07 | tr_loss=0.2852 tr_acc=0.8818 | va_loss=0.3006 va_acc=0.8721 va_f1=0.8725\n",
      "[Fold] Ep08 | tr_loss=0.2680 tr_acc=0.8891 | va_loss=0.2982 va_acc=0.8699 va_f1=0.8704\n",
      "\n",
      "RESULT | acc=0.8838±0.0066 | f1=0.8841±0.0065\n",
      "\n",
      "=== Params: {'emb_dim': 100, 'hidden_dim': 256, 'num_layers': 2, 'bidirectional': True, 'dropout': 0.5, 'lr': 0.0005, 'batch_size': 64, 'epochs': 8, 'max_len': 256, 'min_freq': 2, 'max_vocab_size': 30000, 'patience': 2} ===\n",
      "\n",
      "--- Fold 1/5 ---\n",
      "[Fold] Ep01 | tr_loss=0.6383 tr_acc=0.6255 | va_loss=0.6227 va_acc=0.6383 va_f1=0.6026\n",
      "[Fold] Ep02 | tr_loss=0.6151 tr_acc=0.6627 | va_loss=0.5699 va_acc=0.6964 va_f1=0.7477\n",
      "[Fold] Ep03 | tr_loss=0.4968 tr_acc=0.7683 | va_loss=0.4407 va_acc=0.8079 va_f1=0.7972\n",
      "[Fold] Ep04 | tr_loss=0.4028 tr_acc=0.8241 | va_loss=0.3802 va_acc=0.8332 va_f1=0.8470\n",
      "[Fold] Ep05 | tr_loss=0.3484 tr_acc=0.8512 | va_loss=0.3371 va_acc=0.8601 va_f1=0.8610\n",
      "[Fold] Ep06 | tr_loss=0.3179 tr_acc=0.8664 | va_loss=0.3217 va_acc=0.8635 va_f1=0.8617\n",
      "[Fold] Ep07 | tr_loss=0.2992 tr_acc=0.8740 | va_loss=0.3192 va_acc=0.8660 va_f1=0.8738\n",
      "[Fold] Ep08 | tr_loss=0.2850 tr_acc=0.8805 | va_loss=0.3027 va_acc=0.8709 va_f1=0.8663\n",
      "\n",
      "--- Fold 2/5 ---\n",
      "[Fold] Ep01 | tr_loss=0.5868 tr_acc=0.6860 | va_loss=0.4774 va_acc=0.7731 va_f1=0.7605\n",
      "[Fold] Ep02 | tr_loss=0.4099 tr_acc=0.8163 | va_loss=0.3640 va_acc=0.8437 va_f1=0.8364\n",
      "[Fold] Ep03 | tr_loss=0.3454 tr_acc=0.8515 | va_loss=0.3188 va_acc=0.8667 va_f1=0.8699\n",
      "[Fold] Ep04 | tr_loss=0.3211 tr_acc=0.8641 | va_loss=0.3063 va_acc=0.8743 va_f1=0.8737\n",
      "[Fold] Ep05 | tr_loss=0.2949 tr_acc=0.8765 | va_loss=0.3007 va_acc=0.8711 va_f1=0.8637\n",
      "[Fold] Ep06 | tr_loss=0.2807 tr_acc=0.8831 | va_loss=0.2862 va_acc=0.8768 va_f1=0.8726\n",
      "[Fold] Ep07 | tr_loss=0.2634 tr_acc=0.8909 | va_loss=0.3230 va_acc=0.8600 va_f1=0.8468\n",
      "[Fold] Ep08 | tr_loss=0.2464 tr_acc=0.8994 | va_loss=0.2784 va_acc=0.8803 va_f1=0.8859\n",
      "\n",
      "--- Fold 3/5 ---\n",
      "[Fold] Ep01 | tr_loss=0.6579 tr_acc=0.6030 | va_loss=0.6124 va_acc=0.6889 va_f1=0.6550\n",
      "[Fold] Ep02 | tr_loss=0.6083 tr_acc=0.6684 | va_loss=0.5180 va_acc=0.7461 va_f1=0.7773\n",
      "[Fold] Ep03 | tr_loss=0.4384 tr_acc=0.7990 | va_loss=0.4080 va_acc=0.8179 va_f1=0.8360\n",
      "[Fold] Ep04 | tr_loss=0.3724 tr_acc=0.8343 | va_loss=0.3759 va_acc=0.8400 va_f1=0.8538\n",
      "[Fold] Ep05 | tr_loss=0.3341 tr_acc=0.8549 | va_loss=0.3171 va_acc=0.8661 va_f1=0.8708\n",
      "[Fold] Ep06 | tr_loss=0.3142 tr_acc=0.8660 | va_loss=0.3032 va_acc=0.8710 va_f1=0.8693\n",
      "[Fold] Ep07 | tr_loss=0.2984 tr_acc=0.8741 | va_loss=0.2903 va_acc=0.8795 va_f1=0.8801\n",
      "[Fold] Ep08 | tr_loss=0.2805 tr_acc=0.8824 | va_loss=0.2774 va_acc=0.8839 va_f1=0.8842\n",
      "\n",
      "--- Fold 4/5 ---\n",
      "[Fold] Ep01 | tr_loss=0.5971 tr_acc=0.6819 | va_loss=0.6216 va_acc=0.6026 va_f1=0.7115\n",
      "[Fold] Ep02 | tr_loss=0.5305 tr_acc=0.7383 | va_loss=0.4290 va_acc=0.8077 va_f1=0.8194\n",
      "[Fold] Ep03 | tr_loss=0.3877 tr_acc=0.8290 | va_loss=0.3534 va_acc=0.8494 va_f1=0.8498\n",
      "[Fold] Ep04 | tr_loss=0.3386 tr_acc=0.8542 | va_loss=0.3213 va_acc=0.8649 va_f1=0.8663\n",
      "[Fold] Ep05 | tr_loss=0.3083 tr_acc=0.8692 | va_loss=0.3198 va_acc=0.8627 va_f1=0.8584\n",
      "[Fold] Ep06 | tr_loss=0.2886 tr_acc=0.8791 | va_loss=0.3094 va_acc=0.8704 va_f1=0.8718\n",
      "[Fold] Ep07 | tr_loss=0.2671 tr_acc=0.8898 | va_loss=0.2951 va_acc=0.8785 va_f1=0.8820\n",
      "[Fold] Ep08 | tr_loss=0.2527 tr_acc=0.8974 | va_loss=0.2989 va_acc=0.8740 va_f1=0.8709\n",
      "\n",
      "--- Fold 5/5 ---\n",
      "[Fold] Ep01 | tr_loss=0.6162 tr_acc=0.6721 | va_loss=0.6481 va_acc=0.6358 va_f1=0.5922\n",
      "[Fold] Ep02 | tr_loss=0.4991 tr_acc=0.7608 | va_loss=0.3951 va_acc=0.8223 va_f1=0.8342\n",
      "[Fold] Ep03 | tr_loss=0.3716 tr_acc=0.8390 | va_loss=0.3533 va_acc=0.8497 va_f1=0.8568\n",
      "[Fold] Ep04 | tr_loss=0.3283 tr_acc=0.8596 | va_loss=0.3500 va_acc=0.8567 va_f1=0.8490\n",
      "[Fold] Ep05 | tr_loss=0.3023 tr_acc=0.8731 | va_loss=0.3068 va_acc=0.8720 va_f1=0.8687\n",
      "[Fold] Ep06 | tr_loss=0.2790 tr_acc=0.8843 | va_loss=0.2974 va_acc=0.8747 va_f1=0.8702\n",
      "[Fold] Ep07 | tr_loss=0.2585 tr_acc=0.8945 | va_loss=0.2852 va_acc=0.8792 va_f1=0.8840\n",
      "[Fold] Ep08 | tr_loss=0.2412 tr_acc=0.9021 | va_loss=0.2829 va_acc=0.8827 va_f1=0.8806\n",
      "\n",
      "RESULT | acc=0.8793±0.0046 | f1=0.8798±0.0070\n"
     ]
    },
    {
     "data": {
      "text/html": [
       "<div>\n",
       "<style scoped>\n",
       "    .dataframe tbody tr th:only-of-type {\n",
       "        vertical-align: middle;\n",
       "    }\n",
       "\n",
       "    .dataframe tbody tr th {\n",
       "        vertical-align: top;\n",
       "    }\n",
       "\n",
       "    .dataframe thead th {\n",
       "        text-align: right;\n",
       "    }\n",
       "</style>\n",
       "<table border=\"1\" class=\"dataframe\">\n",
       "  <thead>\n",
       "    <tr style=\"text-align: right;\">\n",
       "      <th></th>\n",
       "      <th>params</th>\n",
       "      <th>mean_acc</th>\n",
       "      <th>std_acc</th>\n",
       "      <th>mean_f1</th>\n",
       "      <th>std_f1</th>\n",
       "    </tr>\n",
       "  </thead>\n",
       "  <tbody>\n",
       "    <tr>\n",
       "      <th>0</th>\n",
       "      <td>{'emb_dim': 100, 'hidden_dim': 128, 'num_layer...</td>\n",
       "      <td>0.883829</td>\n",
       "      <td>0.006560</td>\n",
       "      <td>0.884136</td>\n",
       "      <td>0.006506</td>\n",
       "    </tr>\n",
       "    <tr>\n",
       "      <th>1</th>\n",
       "      <td>{'emb_dim': 100, 'hidden_dim': 256, 'num_layer...</td>\n",
       "      <td>0.879271</td>\n",
       "      <td>0.004578</td>\n",
       "      <td>0.879814</td>\n",
       "      <td>0.006981</td>\n",
       "    </tr>\n",
       "  </tbody>\n",
       "</table>\n",
       "</div>"
      ],
      "text/plain": [
       "                                              params  mean_acc   std_acc  \\\n",
       "0  {'emb_dim': 100, 'hidden_dim': 128, 'num_layer...  0.883829  0.006560   \n",
       "1  {'emb_dim': 100, 'hidden_dim': 256, 'num_layer...  0.879271  0.004578   \n",
       "\n",
       "    mean_f1    std_f1  \n",
       "0  0.884136  0.006506  \n",
       "1  0.879814  0.006981  "
      ]
     },
     "execution_count": 10,
     "metadata": {},
     "output_type": "execute_result"
    }
   ],
   "source": [
    "texts = df[\"review\"].astype(str).tolist()\n",
    "labels = df[\"sentiment\"].astype(int).tolist()\n",
    "\n",
    "# Small param grid to start (expand once it runs fine)\n",
    "param_grid = [\n",
    "    {\n",
    "        \"emb_dim\": 100,\n",
    "        \"hidden_dim\": 128,\n",
    "        \"num_layers\": 2,\n",
    "        \"bidirectional\": True,\n",
    "        \"dropout\": 0.4,\n",
    "        \"lr\": 1e-3,\n",
    "        \"batch_size\": 64,\n",
    "        \"epochs\": 8,\n",
    "        \"max_len\": 256,\n",
    "        \"min_freq\": 2,\n",
    "        \"max_vocab_size\": 30000,\n",
    "        \"patience\": 2,\n",
    "    },\n",
    "    {\n",
    "        \"emb_dim\": 100,\n",
    "        \"hidden_dim\": 256,\n",
    "        \"num_layers\": 2,\n",
    "        \"bidirectional\": True,\n",
    "        \"dropout\": 0.5,\n",
    "        \"lr\": 5e-4,\n",
    "        \"batch_size\": 64,\n",
    "        \"epochs\": 8,\n",
    "        \"max_len\": 256,\n",
    "        \"min_freq\": 2,\n",
    "        \"max_vocab_size\": 30000,\n",
    "        \"patience\": 2,\n",
    "    },\n",
    "]\n",
    "\n",
    "# Run CV\n",
    "results = kfold_lstm_cv(\n",
    "    texts=X,\n",
    "    labels=y,\n",
    "    param_grid=param_grid,\n",
    "    glove_filename=\"glove.6B.100d.txt\",  # file must be in <project_root>/data\n",
    "    n_splits=5,\n",
    "    seed=42\n",
    ")\n",
    "\n",
    "# Leaderboard\n",
    "pd.DataFrame(results)"
   ]
  },
  {
   "cell_type": "markdown",
   "id": "4ffd7565-1599-4373-98ca-3aeb0955b61d",
   "metadata": {},
   "source": [
    "#### Analysis\n",
    "- Best accuracy: 88.38% with hidden_dim=128, dropout=0.4, lr=0.001, which slightly outperformed the larger model.\n",
    "- F1-score: 88.41%, matching accuracy, showing balanced performance across positive and negative reviews.\n",
    "- Smaller model advantage: The lower hidden dimension appears to reduce overfitting risk while still capturing enough features for strong classification performance.\n",
    "- Alternative config: `hidden_dim=256`, `dropout=0.5`, `lr=0.0005` performed slightly worse (87.93% accuracy), suggesting increased complexity without proportional gains.\n",
    "\n",
    "#### Observation\n",
    "\n",
    "The combination of GloVe embeddings and a moderately sized LSTM allowed the model to converge quickly while maintaining balanced precision and recall. Increasing model size did not improve accuracy, indicating the dataset is well-modeled with fewer parameters. To further improve generalization, adjustments such as increasing dropout, adding weight decay, or exploring bidirectional LSTM layers could be considered."
   ]
  },
  {
   "cell_type": "markdown",
   "id": "0c6b52ca-ede3-4783-81f4-429345db9a43",
   "metadata": {},
   "source": [
    "### BERT (Distilbert) with Gridsearch"
   ]
  },
  {
   "cell_type": "markdown",
   "id": "3f946bc0-0ad8-4af7-a17e-958574286820",
   "metadata": {},
   "source": [
    "- Faster training/inference – ~60% quicker than BERT base.\n",
    "- Smaller model – ~40% fewer parameters, fits low memory GPUs.\n",
    "- High accuracy – Retains ~97% of BERT’s performance.\n",
    "- Better for multiple runs – Practical for KFold and grid search experiments."
   ]
  },
  {
   "cell_type": "code",
   "execution_count": 11,
   "id": "fb5fc765-a7ed-40bf-8761-2ca65d37fd62",
   "metadata": {},
   "outputs": [],
   "source": [
    "model_name = \"distilbert-base-uncased\"  # faster than BERT-base\n",
    "tokenizer = AutoTokenizer.from_pretrained(model_name)"
   ]
  },
  {
   "cell_type": "code",
   "execution_count": 12,
   "id": "512753b0-732d-4492-8a12-3b2d3e4c8ea4",
   "metadata": {},
   "outputs": [],
   "source": [
    "def tokenize_batch(batch):\n",
    "    return tokenizer(batch[\"text\"], truncation=True, padding=True, max_length=256)\n",
    "\n",
    "def train_eval_one_fold(train_idx, val_idx, hp):\n",
    "    tr_texts = [texts[i] for i in train_idx]; tr_labels = [labels[i] for i in train_idx]\n",
    "    va_texts = [texts[i] for i in val_idx];   va_labels = [labels[i] for i in val_idx]\n",
    "\n",
    "    train_ds = Dataset.from_dict({\"text\": tr_texts, \"label\": tr_labels}).map(tokenize_batch, batched=True)\n",
    "    val_ds   = Dataset.from_dict({\"text\": va_texts, \"label\": va_labels}).map(tokenize_batch, batched=True)\n",
    "\n",
    "    model = AutoModelForSequenceClassification.from_pretrained(model_name, num_labels=2)\n",
    "\n",
    "    args = TrainingArguments(\n",
    "        output_dir=\"tmp_out\",\n",
    "        learning_rate=hp[\"lr\"],\n",
    "        per_device_train_batch_size=hp[\"bsz\"],\n",
    "        per_device_eval_batch_size=hp[\"bsz\"],\n",
    "        num_train_epochs=hp[\"epochs\"],\n",
    "        weight_decay=hp[\"wd\"],\n",
    "        eval_strategy=\"epoch\",\n",
    "        disable_tqdm=False,\n",
    "        save_strategy=\"no\",\n",
    "        log_level=\"error\",\n",
    "        log_level_replica=\"error\",\n",
    "        logging_steps=50,\n",
    "        report_to=[],\n",
    "        fp16=torch.cuda.is_available(),\n",
    "    )\n",
    "\n",
    "    def compute_metrics(eval_pred):\n",
    "        logits, y_true = eval_pred\n",
    "        y_pred = np.argmax(logits, axis=1)\n",
    "        return {\"accuracy\": (y_pred == y_true).mean(), \"f1\": f1_score(y_true, y_pred)}\n",
    "\n",
    "    trainer = Trainer(\n",
    "        model=model,\n",
    "        args=args,\n",
    "        train_dataset=train_ds,\n",
    "        eval_dataset=val_ds,\n",
    "        tokenizer=tokenizer,\n",
    "        compute_metrics=compute_metrics,\n",
    "    )\n",
    "    trainer.train()\n",
    "    out = trainer.evaluate()\n",
    "    preds = trainer.predict(val_ds)\n",
    "    y_pred = np.argmax(preds.predictions, axis=1)\n",
    "    y_true = np.array(va_labels)\n",
    "    return {\"eval_accuracy\": out[\"eval_accuracy\"], \"eval_f1\": out[\"eval_f1\"], \"y_true\": y_true, \"y_pred\": y_pred}\n"
   ]
  },
  {
   "cell_type": "code",
   "execution_count": 13,
   "id": "bc1408ad-0079-4c0c-828a-55800545a32f",
   "metadata": {},
   "outputs": [],
   "source": [
    "def expand_grid(grid_dict):\n",
    "    keys = list(grid_dict.keys())\n",
    "    vals = list(grid_dict.values())\n",
    "    return [dict(zip(keys, combo)) for combo in product(*vals)]\n",
    "\n",
    "grid = {\n",
    "    \"lr\":   [2e-5, 5e-5],\n",
    "    \"bsz\":  [16, 32],\n",
    "    \"epochs\": [2, 3],        \n",
    "    \"wd\":   [0.01],\n",
    "}\n",
    "hp_list = expand_grid(grid)"
   ]
  },
  {
   "cell_type": "code",
   "execution_count": 14,
   "id": "69aefb54-86a9-4626-b994-9c4a1d76099d",
   "metadata": {
    "scrolled": true
   },
   "outputs": [
    {
     "data": {
      "application/vnd.jupyter.widget-view+json": {
       "model_id": "bb71d30ca9624b87afd20278c9aa41d8",
       "version_major": 2,
       "version_minor": 0
      },
      "text/plain": [
       "Map:   0%|          | 0/39665 [00:00<?, ? examples/s]"
      ]
     },
     "metadata": {},
     "output_type": "display_data"
    },
    {
     "data": {
      "application/vnd.jupyter.widget-view+json": {
       "model_id": "d053e3390d36496e84262394379ae03a",
       "version_major": 2,
       "version_minor": 0
      },
      "text/plain": [
       "Map:   0%|          | 0/9917 [00:00<?, ? examples/s]"
      ]
     },
     "metadata": {},
     "output_type": "display_data"
    },
    {
     "name": "stderr",
     "output_type": "stream",
     "text": [
      "Some weights of DistilBertForSequenceClassification were not initialized from the model checkpoint at distilbert-base-uncased and are newly initialized: ['classifier.bias', 'classifier.weight', 'pre_classifier.bias', 'pre_classifier.weight']\n",
      "You should probably TRAIN this model on a down-stream task to be able to use it for predictions and inference.\n"
     ]
    },
    {
     "data": {
      "text/html": [
       "\n",
       "    <div>\n",
       "      \n",
       "      <progress value='4960' max='4960' style='width:300px; height:20px; vertical-align: middle;'></progress>\n",
       "      [4960/4960 08:14, Epoch 2/2]\n",
       "    </div>\n",
       "    <table border=\"1\" class=\"dataframe\">\n",
       "  <thead>\n",
       " <tr style=\"text-align: left;\">\n",
       "      <th>Epoch</th>\n",
       "      <th>Training Loss</th>\n",
       "      <th>Validation Loss</th>\n",
       "      <th>Accuracy</th>\n",
       "      <th>F1</th>\n",
       "    </tr>\n",
       "  </thead>\n",
       "  <tbody>\n",
       "    <tr>\n",
       "      <td>1</td>\n",
       "      <td>0.254300</td>\n",
       "      <td>0.282540</td>\n",
       "      <td>0.891197</td>\n",
       "      <td>0.885225</td>\n",
       "    </tr>\n",
       "    <tr>\n",
       "      <td>2</td>\n",
       "      <td>0.161100</td>\n",
       "      <td>0.274336</td>\n",
       "      <td>0.910053</td>\n",
       "      <td>0.910442</td>\n",
       "    </tr>\n",
       "  </tbody>\n",
       "</table><p>"
      ],
      "text/plain": [
       "<IPython.core.display.HTML object>"
      ]
     },
     "metadata": {},
     "output_type": "display_data"
    },
    {
     "data": {
      "text/html": [],
      "text/plain": [
       "<IPython.core.display.HTML object>"
      ]
     },
     "metadata": {},
     "output_type": "display_data"
    },
    {
     "data": {
      "application/vnd.jupyter.widget-view+json": {
       "model_id": "ad33ce16378541279ebb3955668f2383",
       "version_major": 2,
       "version_minor": 0
      },
      "text/plain": [
       "Map:   0%|          | 0/39665 [00:00<?, ? examples/s]"
      ]
     },
     "metadata": {},
     "output_type": "display_data"
    },
    {
     "data": {
      "application/vnd.jupyter.widget-view+json": {
       "model_id": "13b756497eef43578e7d28efb6e5adcc",
       "version_major": 2,
       "version_minor": 0
      },
      "text/plain": [
       "Map:   0%|          | 0/9917 [00:00<?, ? examples/s]"
      ]
     },
     "metadata": {},
     "output_type": "display_data"
    },
    {
     "data": {
      "text/html": [
       "\n",
       "    <div>\n",
       "      \n",
       "      <progress value='4960' max='4960' style='width:300px; height:20px; vertical-align: middle;'></progress>\n",
       "      [4960/4960 10:54, Epoch 2/2]\n",
       "    </div>\n",
       "    <table border=\"1\" class=\"dataframe\">\n",
       "  <thead>\n",
       " <tr style=\"text-align: left;\">\n",
       "      <th>Epoch</th>\n",
       "      <th>Training Loss</th>\n",
       "      <th>Validation Loss</th>\n",
       "      <th>Accuracy</th>\n",
       "      <th>F1</th>\n",
       "    </tr>\n",
       "  </thead>\n",
       "  <tbody>\n",
       "    <tr>\n",
       "      <td>1</td>\n",
       "      <td>0.262700</td>\n",
       "      <td>0.224830</td>\n",
       "      <td>0.911465</td>\n",
       "      <td>0.909875</td>\n",
       "    </tr>\n",
       "    <tr>\n",
       "      <td>2</td>\n",
       "      <td>0.122100</td>\n",
       "      <td>0.235348</td>\n",
       "      <td>0.918927</td>\n",
       "      <td>0.920032</td>\n",
       "    </tr>\n",
       "  </tbody>\n",
       "</table><p>"
      ],
      "text/plain": [
       "<IPython.core.display.HTML object>"
      ]
     },
     "metadata": {},
     "output_type": "display_data"
    },
    {
     "data": {
      "text/html": [],
      "text/plain": [
       "<IPython.core.display.HTML object>"
      ]
     },
     "metadata": {},
     "output_type": "display_data"
    },
    {
     "data": {
      "application/vnd.jupyter.widget-view+json": {
       "model_id": "d1cab2a1232b44158ff62023c6135be2",
       "version_major": 2,
       "version_minor": 0
      },
      "text/plain": [
       "Map:   0%|          | 0/39666 [00:00<?, ? examples/s]"
      ]
     },
     "metadata": {},
     "output_type": "display_data"
    },
    {
     "data": {
      "application/vnd.jupyter.widget-view+json": {
       "model_id": "7f0ac6fdcedb4b97af40996334b26728",
       "version_major": 2,
       "version_minor": 0
      },
      "text/plain": [
       "Map:   0%|          | 0/9916 [00:00<?, ? examples/s]"
      ]
     },
     "metadata": {},
     "output_type": "display_data"
    },
    {
     "data": {
      "text/html": [
       "\n",
       "    <div>\n",
       "      \n",
       "      <progress value='4960' max='4960' style='width:300px; height:20px; vertical-align: middle;'></progress>\n",
       "      [4960/4960 11:20, Epoch 2/2]\n",
       "    </div>\n",
       "    <table border=\"1\" class=\"dataframe\">\n",
       "  <thead>\n",
       " <tr style=\"text-align: left;\">\n",
       "      <th>Epoch</th>\n",
       "      <th>Training Loss</th>\n",
       "      <th>Validation Loss</th>\n",
       "      <th>Accuracy</th>\n",
       "      <th>F1</th>\n",
       "    </tr>\n",
       "  </thead>\n",
       "  <tbody>\n",
       "    <tr>\n",
       "      <td>1</td>\n",
       "      <td>0.265200</td>\n",
       "      <td>0.233197</td>\n",
       "      <td>0.907826</td>\n",
       "      <td>0.905870</td>\n",
       "    </tr>\n",
       "    <tr>\n",
       "      <td>2</td>\n",
       "      <td>0.193000</td>\n",
       "      <td>0.258283</td>\n",
       "      <td>0.914885</td>\n",
       "      <td>0.915278</td>\n",
       "    </tr>\n",
       "  </tbody>\n",
       "</table><p>"
      ],
      "text/plain": [
       "<IPython.core.display.HTML object>"
      ]
     },
     "metadata": {},
     "output_type": "display_data"
    },
    {
     "data": {
      "text/html": [],
      "text/plain": [
       "<IPython.core.display.HTML object>"
      ]
     },
     "metadata": {},
     "output_type": "display_data"
    },
    {
     "data": {
      "application/vnd.jupyter.widget-view+json": {
       "model_id": "f1ce6f9d09df464c8d0a501b3c0a25c1",
       "version_major": 2,
       "version_minor": 0
      },
      "text/plain": [
       "Map:   0%|          | 0/39666 [00:00<?, ? examples/s]"
      ]
     },
     "metadata": {},
     "output_type": "display_data"
    },
    {
     "data": {
      "application/vnd.jupyter.widget-view+json": {
       "model_id": "f7063f9a3f17493b8a93962d475d6c3e",
       "version_major": 2,
       "version_minor": 0
      },
      "text/plain": [
       "Map:   0%|          | 0/9916 [00:00<?, ? examples/s]"
      ]
     },
     "metadata": {},
     "output_type": "display_data"
    },
    {
     "data": {
      "text/html": [
       "\n",
       "    <div>\n",
       "      \n",
       "      <progress value='4960' max='4960' style='width:300px; height:20px; vertical-align: middle;'></progress>\n",
       "      [4960/4960 08:27, Epoch 2/2]\n",
       "    </div>\n",
       "    <table border=\"1\" class=\"dataframe\">\n",
       "  <thead>\n",
       " <tr style=\"text-align: left;\">\n",
       "      <th>Epoch</th>\n",
       "      <th>Training Loss</th>\n",
       "      <th>Validation Loss</th>\n",
       "      <th>Accuracy</th>\n",
       "      <th>F1</th>\n",
       "    </tr>\n",
       "  </thead>\n",
       "  <tbody>\n",
       "    <tr>\n",
       "      <td>1</td>\n",
       "      <td>0.255800</td>\n",
       "      <td>0.234190</td>\n",
       "      <td>0.905305</td>\n",
       "      <td>0.906595</td>\n",
       "    </tr>\n",
       "    <tr>\n",
       "      <td>2</td>\n",
       "      <td>0.193000</td>\n",
       "      <td>0.273076</td>\n",
       "      <td>0.913372</td>\n",
       "      <td>0.913660</td>\n",
       "    </tr>\n",
       "  </tbody>\n",
       "</table><p>"
      ],
      "text/plain": [
       "<IPython.core.display.HTML object>"
      ]
     },
     "metadata": {},
     "output_type": "display_data"
    },
    {
     "data": {
      "text/html": [],
      "text/plain": [
       "<IPython.core.display.HTML object>"
      ]
     },
     "metadata": {},
     "output_type": "display_data"
    },
    {
     "data": {
      "application/vnd.jupyter.widget-view+json": {
       "model_id": "6702ae8a9d0845769d72f57d799674f1",
       "version_major": 2,
       "version_minor": 0
      },
      "text/plain": [
       "Map:   0%|          | 0/39666 [00:00<?, ? examples/s]"
      ]
     },
     "metadata": {},
     "output_type": "display_data"
    },
    {
     "data": {
      "application/vnd.jupyter.widget-view+json": {
       "model_id": "3cbda68b426d4c6bacb303adadbc54e8",
       "version_major": 2,
       "version_minor": 0
      },
      "text/plain": [
       "Map:   0%|          | 0/9916 [00:00<?, ? examples/s]"
      ]
     },
     "metadata": {},
     "output_type": "display_data"
    },
    {
     "data": {
      "text/html": [
       "\n",
       "    <div>\n",
       "      \n",
       "      <progress value='4960' max='4960' style='width:300px; height:20px; vertical-align: middle;'></progress>\n",
       "      [4960/4960 09:36, Epoch 2/2]\n",
       "    </div>\n",
       "    <table border=\"1\" class=\"dataframe\">\n",
       "  <thead>\n",
       " <tr style=\"text-align: left;\">\n",
       "      <th>Epoch</th>\n",
       "      <th>Training Loss</th>\n",
       "      <th>Validation Loss</th>\n",
       "      <th>Accuracy</th>\n",
       "      <th>F1</th>\n",
       "    </tr>\n",
       "  </thead>\n",
       "  <tbody>\n",
       "    <tr>\n",
       "      <td>1</td>\n",
       "      <td>0.225900</td>\n",
       "      <td>0.259015</td>\n",
       "      <td>0.897438</td>\n",
       "      <td>0.894840</td>\n",
       "    </tr>\n",
       "    <tr>\n",
       "      <td>2</td>\n",
       "      <td>0.146800</td>\n",
       "      <td>0.293130</td>\n",
       "      <td>0.910549</td>\n",
       "      <td>0.910935</td>\n",
       "    </tr>\n",
       "  </tbody>\n",
       "</table><p>"
      ],
      "text/plain": [
       "<IPython.core.display.HTML object>"
      ]
     },
     "metadata": {},
     "output_type": "display_data"
    },
    {
     "data": {
      "text/html": [],
      "text/plain": [
       "<IPython.core.display.HTML object>"
      ]
     },
     "metadata": {},
     "output_type": "display_data"
    },
    {
     "data": {
      "application/vnd.jupyter.widget-view+json": {
       "model_id": "4eece2f6bbed426cb009a18dd9188265",
       "version_major": 2,
       "version_minor": 0
      },
      "text/plain": [
       "Map:   0%|          | 0/39665 [00:00<?, ? examples/s]"
      ]
     },
     "metadata": {},
     "output_type": "display_data"
    },
    {
     "data": {
      "application/vnd.jupyter.widget-view+json": {
       "model_id": "0d467b9ee9f34972962c0aa3ac2c2b95",
       "version_major": 2,
       "version_minor": 0
      },
      "text/plain": [
       "Map:   0%|          | 0/9917 [00:00<?, ? examples/s]"
      ]
     },
     "metadata": {},
     "output_type": "display_data"
    },
    {
     "data": {
      "text/html": [
       "\n",
       "    <div>\n",
       "      \n",
       "      <progress value='7440' max='7440' style='width:300px; height:20px; vertical-align: middle;'></progress>\n",
       "      [7440/7440 19:10, Epoch 3/3]\n",
       "    </div>\n",
       "    <table border=\"1\" class=\"dataframe\">\n",
       "  <thead>\n",
       " <tr style=\"text-align: left;\">\n",
       "      <th>Epoch</th>\n",
       "      <th>Training Loss</th>\n",
       "      <th>Validation Loss</th>\n",
       "      <th>Accuracy</th>\n",
       "      <th>F1</th>\n",
       "    </tr>\n",
       "  </thead>\n",
       "  <tbody>\n",
       "    <tr>\n",
       "      <td>1</td>\n",
       "      <td>0.258300</td>\n",
       "      <td>0.272575</td>\n",
       "      <td>0.899566</td>\n",
       "      <td>0.895685</td>\n",
       "    </tr>\n",
       "    <tr>\n",
       "      <td>2</td>\n",
       "      <td>0.188800</td>\n",
       "      <td>0.287758</td>\n",
       "      <td>0.908440</td>\n",
       "      <td>0.907423</td>\n",
       "    </tr>\n",
       "    <tr>\n",
       "      <td>3</td>\n",
       "      <td>0.108900</td>\n",
       "      <td>0.363032</td>\n",
       "      <td>0.908238</td>\n",
       "      <td>0.908909</td>\n",
       "    </tr>\n",
       "  </tbody>\n",
       "</table><p>"
      ],
      "text/plain": [
       "<IPython.core.display.HTML object>"
      ]
     },
     "metadata": {},
     "output_type": "display_data"
    },
    {
     "data": {
      "text/html": [],
      "text/plain": [
       "<IPython.core.display.HTML object>"
      ]
     },
     "metadata": {},
     "output_type": "display_data"
    },
    {
     "data": {
      "application/vnd.jupyter.widget-view+json": {
       "model_id": "dc19b6d3a3184d15bde47ef18bf28caf",
       "version_major": 2,
       "version_minor": 0
      },
      "text/plain": [
       "Map:   0%|          | 0/39665 [00:00<?, ? examples/s]"
      ]
     },
     "metadata": {},
     "output_type": "display_data"
    },
    {
     "data": {
      "application/vnd.jupyter.widget-view+json": {
       "model_id": "faafc71a7ad34f72a1f0888a7385aeed",
       "version_major": 2,
       "version_minor": 0
      },
      "text/plain": [
       "Map:   0%|          | 0/9917 [00:00<?, ? examples/s]"
      ]
     },
     "metadata": {},
     "output_type": "display_data"
    },
    {
     "data": {
      "text/html": [
       "\n",
       "    <div>\n",
       "      \n",
       "      <progress value='7440' max='7440' style='width:300px; height:20px; vertical-align: middle;'></progress>\n",
       "      [7440/7440 12:21, Epoch 3/3]\n",
       "    </div>\n",
       "    <table border=\"1\" class=\"dataframe\">\n",
       "  <thead>\n",
       " <tr style=\"text-align: left;\">\n",
       "      <th>Epoch</th>\n",
       "      <th>Training Loss</th>\n",
       "      <th>Validation Loss</th>\n",
       "      <th>Accuracy</th>\n",
       "      <th>F1</th>\n",
       "    </tr>\n",
       "  </thead>\n",
       "  <tbody>\n",
       "    <tr>\n",
       "      <td>1</td>\n",
       "      <td>0.260400</td>\n",
       "      <td>0.229418</td>\n",
       "      <td>0.909852</td>\n",
       "      <td>0.908420</td>\n",
       "    </tr>\n",
       "    <tr>\n",
       "      <td>2</td>\n",
       "      <td>0.111600</td>\n",
       "      <td>0.262171</td>\n",
       "      <td>0.916003</td>\n",
       "      <td>0.918004</td>\n",
       "    </tr>\n",
       "    <tr>\n",
       "      <td>3</td>\n",
       "      <td>0.151400</td>\n",
       "      <td>0.299147</td>\n",
       "      <td>0.919633</td>\n",
       "      <td>0.920356</td>\n",
       "    </tr>\n",
       "  </tbody>\n",
       "</table><p>"
      ],
      "text/plain": [
       "<IPython.core.display.HTML object>"
      ]
     },
     "metadata": {},
     "output_type": "display_data"
    },
    {
     "data": {
      "text/html": [],
      "text/plain": [
       "<IPython.core.display.HTML object>"
      ]
     },
     "metadata": {},
     "output_type": "display_data"
    },
    {
     "data": {
      "application/vnd.jupyter.widget-view+json": {
       "model_id": "977806b381bf43a29ccda905a1b65ee2",
       "version_major": 2,
       "version_minor": 0
      },
      "text/plain": [
       "Map:   0%|          | 0/39666 [00:00<?, ? examples/s]"
      ]
     },
     "metadata": {},
     "output_type": "display_data"
    },
    {
     "data": {
      "application/vnd.jupyter.widget-view+json": {
       "model_id": "69321c9ee75d4874af3a16c0cfba736d",
       "version_major": 2,
       "version_minor": 0
      },
      "text/plain": [
       "Map:   0%|          | 0/9916 [00:00<?, ? examples/s]"
      ]
     },
     "metadata": {},
     "output_type": "display_data"
    },
    {
     "data": {
      "text/html": [
       "\n",
       "    <div>\n",
       "      \n",
       "      <progress value='7440' max='7440' style='width:300px; height:20px; vertical-align: middle;'></progress>\n",
       "      [7440/7440 12:15, Epoch 3/3]\n",
       "    </div>\n",
       "    <table border=\"1\" class=\"dataframe\">\n",
       "  <thead>\n",
       " <tr style=\"text-align: left;\">\n",
       "      <th>Epoch</th>\n",
       "      <th>Training Loss</th>\n",
       "      <th>Validation Loss</th>\n",
       "      <th>Accuracy</th>\n",
       "      <th>F1</th>\n",
       "    </tr>\n",
       "  </thead>\n",
       "  <tbody>\n",
       "    <tr>\n",
       "      <td>1</td>\n",
       "      <td>0.264900</td>\n",
       "      <td>0.245545</td>\n",
       "      <td>0.903187</td>\n",
       "      <td>0.899854</td>\n",
       "    </tr>\n",
       "    <tr>\n",
       "      <td>2</td>\n",
       "      <td>0.209000</td>\n",
       "      <td>0.250212</td>\n",
       "      <td>0.911355</td>\n",
       "      <td>0.914017</td>\n",
       "    </tr>\n",
       "    <tr>\n",
       "      <td>3</td>\n",
       "      <td>0.092400</td>\n",
       "      <td>0.339943</td>\n",
       "      <td>0.914179</td>\n",
       "      <td>0.914926</td>\n",
       "    </tr>\n",
       "  </tbody>\n",
       "</table><p>"
      ],
      "text/plain": [
       "<IPython.core.display.HTML object>"
      ]
     },
     "metadata": {},
     "output_type": "display_data"
    },
    {
     "data": {
      "text/html": [],
      "text/plain": [
       "<IPython.core.display.HTML object>"
      ]
     },
     "metadata": {},
     "output_type": "display_data"
    },
    {
     "data": {
      "application/vnd.jupyter.widget-view+json": {
       "model_id": "2569c414baaf40b68ff6c87b594a69d1",
       "version_major": 2,
       "version_minor": 0
      },
      "text/plain": [
       "Map:   0%|          | 0/39666 [00:00<?, ? examples/s]"
      ]
     },
     "metadata": {},
     "output_type": "display_data"
    },
    {
     "data": {
      "application/vnd.jupyter.widget-view+json": {
       "model_id": "f2b3c069ceba4293bbad8834f009aa96",
       "version_major": 2,
       "version_minor": 0
      },
      "text/plain": [
       "Map:   0%|          | 0/9916 [00:00<?, ? examples/s]"
      ]
     },
     "metadata": {},
     "output_type": "display_data"
    },
    {
     "data": {
      "text/html": [
       "\n",
       "    <div>\n",
       "      \n",
       "      <progress value='7440' max='7440' style='width:300px; height:20px; vertical-align: middle;'></progress>\n",
       "      [7440/7440 12:06, Epoch 3/3]\n",
       "    </div>\n",
       "    <table border=\"1\" class=\"dataframe\">\n",
       "  <thead>\n",
       " <tr style=\"text-align: left;\">\n",
       "      <th>Epoch</th>\n",
       "      <th>Training Loss</th>\n",
       "      <th>Validation Loss</th>\n",
       "      <th>Accuracy</th>\n",
       "      <th>F1</th>\n",
       "    </tr>\n",
       "  </thead>\n",
       "  <tbody>\n",
       "    <tr>\n",
       "      <td>1</td>\n",
       "      <td>0.244300</td>\n",
       "      <td>0.236781</td>\n",
       "      <td>0.904699</td>\n",
       "      <td>0.904129</td>\n",
       "    </tr>\n",
       "    <tr>\n",
       "      <td>2</td>\n",
       "      <td>0.198300</td>\n",
       "      <td>0.265756</td>\n",
       "      <td>0.909742</td>\n",
       "      <td>0.910688</td>\n",
       "    </tr>\n",
       "    <tr>\n",
       "      <td>3</td>\n",
       "      <td>0.116200</td>\n",
       "      <td>0.350746</td>\n",
       "      <td>0.913675</td>\n",
       "      <td>0.913448</td>\n",
       "    </tr>\n",
       "  </tbody>\n",
       "</table><p>"
      ],
      "text/plain": [
       "<IPython.core.display.HTML object>"
      ]
     },
     "metadata": {},
     "output_type": "display_data"
    },
    {
     "data": {
      "text/html": [],
      "text/plain": [
       "<IPython.core.display.HTML object>"
      ]
     },
     "metadata": {},
     "output_type": "display_data"
    },
    {
     "data": {
      "application/vnd.jupyter.widget-view+json": {
       "model_id": "c5e3207a271a4bd1b192641605e38fec",
       "version_major": 2,
       "version_minor": 0
      },
      "text/plain": [
       "Map:   0%|          | 0/39666 [00:00<?, ? examples/s]"
      ]
     },
     "metadata": {},
     "output_type": "display_data"
    },
    {
     "data": {
      "application/vnd.jupyter.widget-view+json": {
       "model_id": "a4ebc51bf788491cb14b68dd7fb28e6f",
       "version_major": 2,
       "version_minor": 0
      },
      "text/plain": [
       "Map:   0%|          | 0/9916 [00:00<?, ? examples/s]"
      ]
     },
     "metadata": {},
     "output_type": "display_data"
    },
    {
     "data": {
      "text/html": [
       "\n",
       "    <div>\n",
       "      \n",
       "      <progress value='7440' max='7440' style='width:300px; height:20px; vertical-align: middle;'></progress>\n",
       "      [7440/7440 12:17, Epoch 3/3]\n",
       "    </div>\n",
       "    <table border=\"1\" class=\"dataframe\">\n",
       "  <thead>\n",
       " <tr style=\"text-align: left;\">\n",
       "      <th>Epoch</th>\n",
       "      <th>Training Loss</th>\n",
       "      <th>Validation Loss</th>\n",
       "      <th>Accuracy</th>\n",
       "      <th>F1</th>\n",
       "    </tr>\n",
       "  </thead>\n",
       "  <tbody>\n",
       "    <tr>\n",
       "      <td>1</td>\n",
       "      <td>0.233100</td>\n",
       "      <td>0.248001</td>\n",
       "      <td>0.904094</td>\n",
       "      <td>0.903481</td>\n",
       "    </tr>\n",
       "    <tr>\n",
       "      <td>2</td>\n",
       "      <td>0.161500</td>\n",
       "      <td>0.285276</td>\n",
       "      <td>0.909742</td>\n",
       "      <td>0.908664</td>\n",
       "    </tr>\n",
       "    <tr>\n",
       "      <td>3</td>\n",
       "      <td>0.107800</td>\n",
       "      <td>0.359880</td>\n",
       "      <td>0.911355</td>\n",
       "      <td>0.911827</td>\n",
       "    </tr>\n",
       "  </tbody>\n",
       "</table><p>"
      ],
      "text/plain": [
       "<IPython.core.display.HTML object>"
      ]
     },
     "metadata": {},
     "output_type": "display_data"
    },
    {
     "data": {
      "text/html": [],
      "text/plain": [
       "<IPython.core.display.HTML object>"
      ]
     },
     "metadata": {},
     "output_type": "display_data"
    },
    {
     "data": {
      "application/vnd.jupyter.widget-view+json": {
       "model_id": "07c5b099cd3443e2b20e57f248227902",
       "version_major": 2,
       "version_minor": 0
      },
      "text/plain": [
       "Map:   0%|          | 0/39665 [00:00<?, ? examples/s]"
      ]
     },
     "metadata": {},
     "output_type": "display_data"
    },
    {
     "data": {
      "application/vnd.jupyter.widget-view+json": {
       "model_id": "e702c7e7cb66469fbe876d1f082dea79",
       "version_major": 2,
       "version_minor": 0
      },
      "text/plain": [
       "Map:   0%|          | 0/9917 [00:00<?, ? examples/s]"
      ]
     },
     "metadata": {},
     "output_type": "display_data"
    },
    {
     "data": {
      "text/html": [
       "\n",
       "    <div>\n",
       "      \n",
       "      <progress value='2480' max='2480' style='width:300px; height:20px; vertical-align: middle;'></progress>\n",
       "      [2480/2480 07:15, Epoch 2/2]\n",
       "    </div>\n",
       "    <table border=\"1\" class=\"dataframe\">\n",
       "  <thead>\n",
       " <tr style=\"text-align: left;\">\n",
       "      <th>Epoch</th>\n",
       "      <th>Training Loss</th>\n",
       "      <th>Validation Loss</th>\n",
       "      <th>Accuracy</th>\n",
       "      <th>F1</th>\n",
       "    </tr>\n",
       "  </thead>\n",
       "  <tbody>\n",
       "    <tr>\n",
       "      <td>1</td>\n",
       "      <td>0.267600</td>\n",
       "      <td>0.314958</td>\n",
       "      <td>0.871534</td>\n",
       "      <td>0.860184</td>\n",
       "    </tr>\n",
       "    <tr>\n",
       "      <td>2</td>\n",
       "      <td>0.180200</td>\n",
       "      <td>0.239301</td>\n",
       "      <td>0.907936</td>\n",
       "      <td>0.908434</td>\n",
       "    </tr>\n",
       "  </tbody>\n",
       "</table><p>"
      ],
      "text/plain": [
       "<IPython.core.display.HTML object>"
      ]
     },
     "metadata": {},
     "output_type": "display_data"
    },
    {
     "data": {
      "text/html": [],
      "text/plain": [
       "<IPython.core.display.HTML object>"
      ]
     },
     "metadata": {},
     "output_type": "display_data"
    },
    {
     "data": {
      "application/vnd.jupyter.widget-view+json": {
       "model_id": "a05167b9274b4f9691556890bf46c378",
       "version_major": 2,
       "version_minor": 0
      },
      "text/plain": [
       "Map:   0%|          | 0/39665 [00:00<?, ? examples/s]"
      ]
     },
     "metadata": {},
     "output_type": "display_data"
    },
    {
     "data": {
      "application/vnd.jupyter.widget-view+json": {
       "model_id": "c4a1b7f6e12c40fa8ff70ea8d2337563",
       "version_major": 2,
       "version_minor": 0
      },
      "text/plain": [
       "Map:   0%|          | 0/9917 [00:00<?, ? examples/s]"
      ]
     },
     "metadata": {},
     "output_type": "display_data"
    },
    {
     "data": {
      "text/html": [
       "\n",
       "    <div>\n",
       "      \n",
       "      <progress value='2480' max='2480' style='width:300px; height:20px; vertical-align: middle;'></progress>\n",
       "      [2480/2480 07:21, Epoch 2/2]\n",
       "    </div>\n",
       "    <table border=\"1\" class=\"dataframe\">\n",
       "  <thead>\n",
       " <tr style=\"text-align: left;\">\n",
       "      <th>Epoch</th>\n",
       "      <th>Training Loss</th>\n",
       "      <th>Validation Loss</th>\n",
       "      <th>Accuracy</th>\n",
       "      <th>F1</th>\n",
       "    </tr>\n",
       "  </thead>\n",
       "  <tbody>\n",
       "    <tr>\n",
       "      <td>1</td>\n",
       "      <td>0.262800</td>\n",
       "      <td>0.221574</td>\n",
       "      <td>0.910457</td>\n",
       "      <td>0.908998</td>\n",
       "    </tr>\n",
       "    <tr>\n",
       "      <td>2</td>\n",
       "      <td>0.200400</td>\n",
       "      <td>0.213169</td>\n",
       "      <td>0.919028</td>\n",
       "      <td>0.919804</td>\n",
       "    </tr>\n",
       "  </tbody>\n",
       "</table><p>"
      ],
      "text/plain": [
       "<IPython.core.display.HTML object>"
      ]
     },
     "metadata": {},
     "output_type": "display_data"
    },
    {
     "data": {
      "text/html": [],
      "text/plain": [
       "<IPython.core.display.HTML object>"
      ]
     },
     "metadata": {},
     "output_type": "display_data"
    },
    {
     "data": {
      "application/vnd.jupyter.widget-view+json": {
       "model_id": "bdfef02a461445b1a73a753b71e95bec",
       "version_major": 2,
       "version_minor": 0
      },
      "text/plain": [
       "Map:   0%|          | 0/39666 [00:00<?, ? examples/s]"
      ]
     },
     "metadata": {},
     "output_type": "display_data"
    },
    {
     "data": {
      "application/vnd.jupyter.widget-view+json": {
       "model_id": "41b4368f175949b5967c494f528326f5",
       "version_major": 2,
       "version_minor": 0
      },
      "text/plain": [
       "Map:   0%|          | 0/9916 [00:00<?, ? examples/s]"
      ]
     },
     "metadata": {},
     "output_type": "display_data"
    },
    {
     "data": {
      "text/html": [
       "\n",
       "    <div>\n",
       "      \n",
       "      <progress value='2480' max='2480' style='width:300px; height:20px; vertical-align: middle;'></progress>\n",
       "      [2480/2480 07:06, Epoch 2/2]\n",
       "    </div>\n",
       "    <table border=\"1\" class=\"dataframe\">\n",
       "  <thead>\n",
       " <tr style=\"text-align: left;\">\n",
       "      <th>Epoch</th>\n",
       "      <th>Training Loss</th>\n",
       "      <th>Validation Loss</th>\n",
       "      <th>Accuracy</th>\n",
       "      <th>F1</th>\n",
       "    </tr>\n",
       "  </thead>\n",
       "  <tbody>\n",
       "    <tr>\n",
       "      <td>1</td>\n",
       "      <td>0.238100</td>\n",
       "      <td>0.233949</td>\n",
       "      <td>0.906918</td>\n",
       "      <td>0.905575</td>\n",
       "    </tr>\n",
       "    <tr>\n",
       "      <td>2</td>\n",
       "      <td>0.171500</td>\n",
       "      <td>0.233504</td>\n",
       "      <td>0.914482</td>\n",
       "      <td>0.915098</td>\n",
       "    </tr>\n",
       "  </tbody>\n",
       "</table><p>"
      ],
      "text/plain": [
       "<IPython.core.display.HTML object>"
      ]
     },
     "metadata": {},
     "output_type": "display_data"
    },
    {
     "data": {
      "text/html": [],
      "text/plain": [
       "<IPython.core.display.HTML object>"
      ]
     },
     "metadata": {},
     "output_type": "display_data"
    },
    {
     "data": {
      "application/vnd.jupyter.widget-view+json": {
       "model_id": "9f6e00b10da7477aa6bed2278a8acd88",
       "version_major": 2,
       "version_minor": 0
      },
      "text/plain": [
       "Map:   0%|          | 0/39666 [00:00<?, ? examples/s]"
      ]
     },
     "metadata": {},
     "output_type": "display_data"
    },
    {
     "data": {
      "application/vnd.jupyter.widget-view+json": {
       "model_id": "d8530183ae5e40289e2bd2e5decbceab",
       "version_major": 2,
       "version_minor": 0
      },
      "text/plain": [
       "Map:   0%|          | 0/9916 [00:00<?, ? examples/s]"
      ]
     },
     "metadata": {},
     "output_type": "display_data"
    },
    {
     "data": {
      "text/html": [
       "\n",
       "    <div>\n",
       "      \n",
       "      <progress value='2480' max='2480' style='width:300px; height:20px; vertical-align: middle;'></progress>\n",
       "      [2480/2480 07:20, Epoch 2/2]\n",
       "    </div>\n",
       "    <table border=\"1\" class=\"dataframe\">\n",
       "  <thead>\n",
       " <tr style=\"text-align: left;\">\n",
       "      <th>Epoch</th>\n",
       "      <th>Training Loss</th>\n",
       "      <th>Validation Loss</th>\n",
       "      <th>Accuracy</th>\n",
       "      <th>F1</th>\n",
       "    </tr>\n",
       "  </thead>\n",
       "  <tbody>\n",
       "    <tr>\n",
       "      <td>1</td>\n",
       "      <td>0.270400</td>\n",
       "      <td>0.235847</td>\n",
       "      <td>0.906010</td>\n",
       "      <td>0.907227</td>\n",
       "    </tr>\n",
       "    <tr>\n",
       "      <td>2</td>\n",
       "      <td>0.171800</td>\n",
       "      <td>0.245751</td>\n",
       "      <td>0.912061</td>\n",
       "      <td>0.912362</td>\n",
       "    </tr>\n",
       "  </tbody>\n",
       "</table><p>"
      ],
      "text/plain": [
       "<IPython.core.display.HTML object>"
      ]
     },
     "metadata": {},
     "output_type": "display_data"
    },
    {
     "data": {
      "text/html": [],
      "text/plain": [
       "<IPython.core.display.HTML object>"
      ]
     },
     "metadata": {},
     "output_type": "display_data"
    },
    {
     "data": {
      "application/vnd.jupyter.widget-view+json": {
       "model_id": "91fffdfa8659408aaf01be80a98a7708",
       "version_major": 2,
       "version_minor": 0
      },
      "text/plain": [
       "Map:   0%|          | 0/39666 [00:00<?, ? examples/s]"
      ]
     },
     "metadata": {},
     "output_type": "display_data"
    },
    {
     "data": {
      "application/vnd.jupyter.widget-view+json": {
       "model_id": "51db77f08534415b8a7ecea7e4f80ff5",
       "version_major": 2,
       "version_minor": 0
      },
      "text/plain": [
       "Map:   0%|          | 0/9916 [00:00<?, ? examples/s]"
      ]
     },
     "metadata": {},
     "output_type": "display_data"
    },
    {
     "data": {
      "text/html": [
       "\n",
       "    <div>\n",
       "      \n",
       "      <progress value='2480' max='2480' style='width:300px; height:20px; vertical-align: middle;'></progress>\n",
       "      [2480/2480 07:05, Epoch 2/2]\n",
       "    </div>\n",
       "    <table border=\"1\" class=\"dataframe\">\n",
       "  <thead>\n",
       " <tr style=\"text-align: left;\">\n",
       "      <th>Epoch</th>\n",
       "      <th>Training Loss</th>\n",
       "      <th>Validation Loss</th>\n",
       "      <th>Accuracy</th>\n",
       "      <th>F1</th>\n",
       "    </tr>\n",
       "  </thead>\n",
       "  <tbody>\n",
       "    <tr>\n",
       "      <td>1</td>\n",
       "      <td>0.240800</td>\n",
       "      <td>0.284798</td>\n",
       "      <td>0.885639</td>\n",
       "      <td>0.879233</td>\n",
       "    </tr>\n",
       "    <tr>\n",
       "      <td>2</td>\n",
       "      <td>0.152700</td>\n",
       "      <td>0.251003</td>\n",
       "      <td>0.907019</td>\n",
       "      <td>0.907318</td>\n",
       "    </tr>\n",
       "  </tbody>\n",
       "</table><p>"
      ],
      "text/plain": [
       "<IPython.core.display.HTML object>"
      ]
     },
     "metadata": {},
     "output_type": "display_data"
    },
    {
     "data": {
      "text/html": [],
      "text/plain": [
       "<IPython.core.display.HTML object>"
      ]
     },
     "metadata": {},
     "output_type": "display_data"
    },
    {
     "data": {
      "application/vnd.jupyter.widget-view+json": {
       "model_id": "dd62dc6813e64873a6a0d1abc73e4e92",
       "version_major": 2,
       "version_minor": 0
      },
      "text/plain": [
       "Map:   0%|          | 0/39665 [00:00<?, ? examples/s]"
      ]
     },
     "metadata": {},
     "output_type": "display_data"
    },
    {
     "data": {
      "application/vnd.jupyter.widget-view+json": {
       "model_id": "b0a9706fd68f4d16b7df5d6f5a9bdaf1",
       "version_major": 2,
       "version_minor": 0
      },
      "text/plain": [
       "Map:   0%|          | 0/9917 [00:00<?, ? examples/s]"
      ]
     },
     "metadata": {},
     "output_type": "display_data"
    },
    {
     "data": {
      "text/html": [
       "\n",
       "    <div>\n",
       "      \n",
       "      <progress value='3720' max='3720' style='width:300px; height:20px; vertical-align: middle;'></progress>\n",
       "      [3720/3720 11:02, Epoch 3/3]\n",
       "    </div>\n",
       "    <table border=\"1\" class=\"dataframe\">\n",
       "  <thead>\n",
       " <tr style=\"text-align: left;\">\n",
       "      <th>Epoch</th>\n",
       "      <th>Training Loss</th>\n",
       "      <th>Validation Loss</th>\n",
       "      <th>Accuracy</th>\n",
       "      <th>F1</th>\n",
       "    </tr>\n",
       "  </thead>\n",
       "  <tbody>\n",
       "    <tr>\n",
       "      <td>1</td>\n",
       "      <td>0.278200</td>\n",
       "      <td>0.368759</td>\n",
       "      <td>0.850459</td>\n",
       "      <td>0.831266</td>\n",
       "    </tr>\n",
       "    <tr>\n",
       "      <td>2</td>\n",
       "      <td>0.191700</td>\n",
       "      <td>0.246863</td>\n",
       "      <td>0.909751</td>\n",
       "      <td>0.911360</td>\n",
       "    </tr>\n",
       "    <tr>\n",
       "      <td>3</td>\n",
       "      <td>0.100600</td>\n",
       "      <td>0.284157</td>\n",
       "      <td>0.909045</td>\n",
       "      <td>0.910445</td>\n",
       "    </tr>\n",
       "  </tbody>\n",
       "</table><p>"
      ],
      "text/plain": [
       "<IPython.core.display.HTML object>"
      ]
     },
     "metadata": {},
     "output_type": "display_data"
    },
    {
     "data": {
      "text/html": [],
      "text/plain": [
       "<IPython.core.display.HTML object>"
      ]
     },
     "metadata": {},
     "output_type": "display_data"
    },
    {
     "data": {
      "application/vnd.jupyter.widget-view+json": {
       "model_id": "de742fa1705c4c3682b3455393673de9",
       "version_major": 2,
       "version_minor": 0
      },
      "text/plain": [
       "Map:   0%|          | 0/39665 [00:00<?, ? examples/s]"
      ]
     },
     "metadata": {},
     "output_type": "display_data"
    },
    {
     "data": {
      "application/vnd.jupyter.widget-view+json": {
       "model_id": "f261361e694947fcb7f2ae54ad21541c",
       "version_major": 2,
       "version_minor": 0
      },
      "text/plain": [
       "Map:   0%|          | 0/9917 [00:00<?, ? examples/s]"
      ]
     },
     "metadata": {},
     "output_type": "display_data"
    },
    {
     "data": {
      "text/html": [
       "\n",
       "    <div>\n",
       "      \n",
       "      <progress value='3720' max='3720' style='width:300px; height:20px; vertical-align: middle;'></progress>\n",
       "      [3720/3720 10:54, Epoch 3/3]\n",
       "    </div>\n",
       "    <table border=\"1\" class=\"dataframe\">\n",
       "  <thead>\n",
       " <tr style=\"text-align: left;\">\n",
       "      <th>Epoch</th>\n",
       "      <th>Training Loss</th>\n",
       "      <th>Validation Loss</th>\n",
       "      <th>Accuracy</th>\n",
       "      <th>F1</th>\n",
       "    </tr>\n",
       "  </thead>\n",
       "  <tbody>\n",
       "    <tr>\n",
       "      <td>1</td>\n",
       "      <td>0.281600</td>\n",
       "      <td>0.241068</td>\n",
       "      <td>0.903902</td>\n",
       "      <td>0.899905</td>\n",
       "    </tr>\n",
       "    <tr>\n",
       "      <td>2</td>\n",
       "      <td>0.205100</td>\n",
       "      <td>0.216631</td>\n",
       "      <td>0.918020</td>\n",
       "      <td>0.918643</td>\n",
       "    </tr>\n",
       "    <tr>\n",
       "      <td>3</td>\n",
       "      <td>0.149700</td>\n",
       "      <td>0.241184</td>\n",
       "      <td>0.919633</td>\n",
       "      <td>0.920116</td>\n",
       "    </tr>\n",
       "  </tbody>\n",
       "</table><p>"
      ],
      "text/plain": [
       "<IPython.core.display.HTML object>"
      ]
     },
     "metadata": {},
     "output_type": "display_data"
    },
    {
     "data": {
      "text/html": [],
      "text/plain": [
       "<IPython.core.display.HTML object>"
      ]
     },
     "metadata": {},
     "output_type": "display_data"
    },
    {
     "data": {
      "application/vnd.jupyter.widget-view+json": {
       "model_id": "37f29b4a117c499bba8cc9e48671743c",
       "version_major": 2,
       "version_minor": 0
      },
      "text/plain": [
       "Map:   0%|          | 0/39666 [00:00<?, ? examples/s]"
      ]
     },
     "metadata": {},
     "output_type": "display_data"
    },
    {
     "data": {
      "application/vnd.jupyter.widget-view+json": {
       "model_id": "a991651d3c5745cab7f05a70b116d1b8",
       "version_major": 2,
       "version_minor": 0
      },
      "text/plain": [
       "Map:   0%|          | 0/9916 [00:00<?, ? examples/s]"
      ]
     },
     "metadata": {},
     "output_type": "display_data"
    },
    {
     "data": {
      "text/html": [
       "\n",
       "    <div>\n",
       "      \n",
       "      <progress value='3720' max='3720' style='width:300px; height:20px; vertical-align: middle;'></progress>\n",
       "      [3720/3720 10:46, Epoch 3/3]\n",
       "    </div>\n",
       "    <table border=\"1\" class=\"dataframe\">\n",
       "  <thead>\n",
       " <tr style=\"text-align: left;\">\n",
       "      <th>Epoch</th>\n",
       "      <th>Training Loss</th>\n",
       "      <th>Validation Loss</th>\n",
       "      <th>Accuracy</th>\n",
       "      <th>F1</th>\n",
       "    </tr>\n",
       "  </thead>\n",
       "  <tbody>\n",
       "    <tr>\n",
       "      <td>1</td>\n",
       "      <td>0.242500</td>\n",
       "      <td>0.232156</td>\n",
       "      <td>0.907826</td>\n",
       "      <td>0.906448</td>\n",
       "    </tr>\n",
       "    <tr>\n",
       "      <td>2</td>\n",
       "      <td>0.173000</td>\n",
       "      <td>0.229089</td>\n",
       "      <td>0.913776</td>\n",
       "      <td>0.913958</td>\n",
       "    </tr>\n",
       "    <tr>\n",
       "      <td>3</td>\n",
       "      <td>0.102200</td>\n",
       "      <td>0.278979</td>\n",
       "      <td>0.911658</td>\n",
       "      <td>0.912522</td>\n",
       "    </tr>\n",
       "  </tbody>\n",
       "</table><p>"
      ],
      "text/plain": [
       "<IPython.core.display.HTML object>"
      ]
     },
     "metadata": {},
     "output_type": "display_data"
    },
    {
     "data": {
      "text/html": [],
      "text/plain": [
       "<IPython.core.display.HTML object>"
      ]
     },
     "metadata": {},
     "output_type": "display_data"
    },
    {
     "data": {
      "application/vnd.jupyter.widget-view+json": {
       "model_id": "84d766b314b9452eb1a65f08ebfdfba0",
       "version_major": 2,
       "version_minor": 0
      },
      "text/plain": [
       "Map:   0%|          | 0/39666 [00:00<?, ? examples/s]"
      ]
     },
     "metadata": {},
     "output_type": "display_data"
    },
    {
     "data": {
      "application/vnd.jupyter.widget-view+json": {
       "model_id": "fb4eb761ca644a65a45669a5c46b9504",
       "version_major": 2,
       "version_minor": 0
      },
      "text/plain": [
       "Map:   0%|          | 0/9916 [00:00<?, ? examples/s]"
      ]
     },
     "metadata": {},
     "output_type": "display_data"
    },
    {
     "data": {
      "text/html": [
       "\n",
       "    <div>\n",
       "      \n",
       "      <progress value='3720' max='3720' style='width:300px; height:20px; vertical-align: middle;'></progress>\n",
       "      [3720/3720 10:35, Epoch 3/3]\n",
       "    </div>\n",
       "    <table border=\"1\" class=\"dataframe\">\n",
       "  <thead>\n",
       " <tr style=\"text-align: left;\">\n",
       "      <th>Epoch</th>\n",
       "      <th>Training Loss</th>\n",
       "      <th>Validation Loss</th>\n",
       "      <th>Accuracy</th>\n",
       "      <th>F1</th>\n",
       "    </tr>\n",
       "  </thead>\n",
       "  <tbody>\n",
       "    <tr>\n",
       "      <td>1</td>\n",
       "      <td>0.268400</td>\n",
       "      <td>0.241194</td>\n",
       "      <td>0.903792</td>\n",
       "      <td>0.900770</td>\n",
       "    </tr>\n",
       "    <tr>\n",
       "      <td>2</td>\n",
       "      <td>0.174200</td>\n",
       "      <td>0.248639</td>\n",
       "      <td>0.910448</td>\n",
       "      <td>0.912340</td>\n",
       "    </tr>\n",
       "    <tr>\n",
       "      <td>3</td>\n",
       "      <td>0.101100</td>\n",
       "      <td>0.289108</td>\n",
       "      <td>0.912666</td>\n",
       "      <td>0.912330</td>\n",
       "    </tr>\n",
       "  </tbody>\n",
       "</table><p>"
      ],
      "text/plain": [
       "<IPython.core.display.HTML object>"
      ]
     },
     "metadata": {},
     "output_type": "display_data"
    },
    {
     "data": {
      "text/html": [],
      "text/plain": [
       "<IPython.core.display.HTML object>"
      ]
     },
     "metadata": {},
     "output_type": "display_data"
    },
    {
     "data": {
      "application/vnd.jupyter.widget-view+json": {
       "model_id": "f8730f89af904a888c859596dc376fc2",
       "version_major": 2,
       "version_minor": 0
      },
      "text/plain": [
       "Map:   0%|          | 0/39666 [00:00<?, ? examples/s]"
      ]
     },
     "metadata": {},
     "output_type": "display_data"
    },
    {
     "data": {
      "application/vnd.jupyter.widget-view+json": {
       "model_id": "19e04ab733634730a6fc363c4afd9f57",
       "version_major": 2,
       "version_minor": 0
      },
      "text/plain": [
       "Map:   0%|          | 0/9916 [00:00<?, ? examples/s]"
      ]
     },
     "metadata": {},
     "output_type": "display_data"
    },
    {
     "data": {
      "text/html": [
       "\n",
       "    <div>\n",
       "      \n",
       "      <progress value='3720' max='3720' style='width:300px; height:20px; vertical-align: middle;'></progress>\n",
       "      [3720/3720 10:47, Epoch 3/3]\n",
       "    </div>\n",
       "    <table border=\"1\" class=\"dataframe\">\n",
       "  <thead>\n",
       " <tr style=\"text-align: left;\">\n",
       "      <th>Epoch</th>\n",
       "      <th>Training Loss</th>\n",
       "      <th>Validation Loss</th>\n",
       "      <th>Accuracy</th>\n",
       "      <th>F1</th>\n",
       "    </tr>\n",
       "  </thead>\n",
       "  <tbody>\n",
       "    <tr>\n",
       "      <td>1</td>\n",
       "      <td>0.244400</td>\n",
       "      <td>0.282781</td>\n",
       "      <td>0.884631</td>\n",
       "      <td>0.878246</td>\n",
       "    </tr>\n",
       "    <tr>\n",
       "      <td>2</td>\n",
       "      <td>0.151000</td>\n",
       "      <td>0.257824</td>\n",
       "      <td>0.909843</td>\n",
       "      <td>0.909331</td>\n",
       "    </tr>\n",
       "    <tr>\n",
       "      <td>3</td>\n",
       "      <td>0.106100</td>\n",
       "      <td>0.301372</td>\n",
       "      <td>0.908027</td>\n",
       "      <td>0.908231</td>\n",
       "    </tr>\n",
       "  </tbody>\n",
       "</table><p>"
      ],
      "text/plain": [
       "<IPython.core.display.HTML object>"
      ]
     },
     "metadata": {},
     "output_type": "display_data"
    },
    {
     "data": {
      "text/html": [],
      "text/plain": [
       "<IPython.core.display.HTML object>"
      ]
     },
     "metadata": {},
     "output_type": "display_data"
    },
    {
     "data": {
      "application/vnd.jupyter.widget-view+json": {
       "model_id": "4acb729524164b569675e756629645e3",
       "version_major": 2,
       "version_minor": 0
      },
      "text/plain": [
       "Map:   0%|          | 0/39665 [00:00<?, ? examples/s]"
      ]
     },
     "metadata": {},
     "output_type": "display_data"
    },
    {
     "data": {
      "application/vnd.jupyter.widget-view+json": {
       "model_id": "d7484ca36fc444e5814c344e2ff26489",
       "version_major": 2,
       "version_minor": 0
      },
      "text/plain": [
       "Map:   0%|          | 0/9917 [00:00<?, ? examples/s]"
      ]
     },
     "metadata": {},
     "output_type": "display_data"
    },
    {
     "data": {
      "text/html": [
       "\n",
       "    <div>\n",
       "      \n",
       "      <progress value='4960' max='4960' style='width:300px; height:20px; vertical-align: middle;'></progress>\n",
       "      [4960/4960 08:05, Epoch 2/2]\n",
       "    </div>\n",
       "    <table border=\"1\" class=\"dataframe\">\n",
       "  <thead>\n",
       " <tr style=\"text-align: left;\">\n",
       "      <th>Epoch</th>\n",
       "      <th>Training Loss</th>\n",
       "      <th>Validation Loss</th>\n",
       "      <th>Accuracy</th>\n",
       "      <th>F1</th>\n",
       "    </tr>\n",
       "  </thead>\n",
       "  <tbody>\n",
       "    <tr>\n",
       "      <td>1</td>\n",
       "      <td>0.262900</td>\n",
       "      <td>0.301666</td>\n",
       "      <td>0.886256</td>\n",
       "      <td>0.878317</td>\n",
       "    </tr>\n",
       "    <tr>\n",
       "      <td>2</td>\n",
       "      <td>0.132200</td>\n",
       "      <td>0.286430</td>\n",
       "      <td>0.914793</td>\n",
       "      <td>0.915288</td>\n",
       "    </tr>\n",
       "  </tbody>\n",
       "</table><p>"
      ],
      "text/plain": [
       "<IPython.core.display.HTML object>"
      ]
     },
     "metadata": {},
     "output_type": "display_data"
    },
    {
     "data": {
      "text/html": [],
      "text/plain": [
       "<IPython.core.display.HTML object>"
      ]
     },
     "metadata": {},
     "output_type": "display_data"
    },
    {
     "data": {
      "application/vnd.jupyter.widget-view+json": {
       "model_id": "9086cb8c768a4b8e844021b24f459dc3",
       "version_major": 2,
       "version_minor": 0
      },
      "text/plain": [
       "Map:   0%|          | 0/39665 [00:00<?, ? examples/s]"
      ]
     },
     "metadata": {},
     "output_type": "display_data"
    },
    {
     "data": {
      "application/vnd.jupyter.widget-view+json": {
       "model_id": "e2dd60d0d4ab46dda8b285d11b4e83c6",
       "version_major": 2,
       "version_minor": 0
      },
      "text/plain": [
       "Map:   0%|          | 0/9917 [00:00<?, ? examples/s]"
      ]
     },
     "metadata": {},
     "output_type": "display_data"
    },
    {
     "data": {
      "text/html": [
       "\n",
       "    <div>\n",
       "      \n",
       "      <progress value='4960' max='4960' style='width:300px; height:20px; vertical-align: middle;'></progress>\n",
       "      [4960/4960 08:05, Epoch 2/2]\n",
       "    </div>\n",
       "    <table border=\"1\" class=\"dataframe\">\n",
       "  <thead>\n",
       " <tr style=\"text-align: left;\">\n",
       "      <th>Epoch</th>\n",
       "      <th>Training Loss</th>\n",
       "      <th>Validation Loss</th>\n",
       "      <th>Accuracy</th>\n",
       "      <th>F1</th>\n",
       "    </tr>\n",
       "  </thead>\n",
       "  <tbody>\n",
       "    <tr>\n",
       "      <td>1</td>\n",
       "      <td>0.243700</td>\n",
       "      <td>0.222857</td>\n",
       "      <td>0.915902</td>\n",
       "      <td>0.914391</td>\n",
       "    </tr>\n",
       "    <tr>\n",
       "      <td>2</td>\n",
       "      <td>0.091400</td>\n",
       "      <td>0.251844</td>\n",
       "      <td>0.918927</td>\n",
       "      <td>0.919728</td>\n",
       "    </tr>\n",
       "  </tbody>\n",
       "</table><p>"
      ],
      "text/plain": [
       "<IPython.core.display.HTML object>"
      ]
     },
     "metadata": {},
     "output_type": "display_data"
    },
    {
     "data": {
      "text/html": [],
      "text/plain": [
       "<IPython.core.display.HTML object>"
      ]
     },
     "metadata": {},
     "output_type": "display_data"
    },
    {
     "data": {
      "application/vnd.jupyter.widget-view+json": {
       "model_id": "c8cac34130814609ba02703e1ca1f31b",
       "version_major": 2,
       "version_minor": 0
      },
      "text/plain": [
       "Map:   0%|          | 0/39666 [00:00<?, ? examples/s]"
      ]
     },
     "metadata": {},
     "output_type": "display_data"
    },
    {
     "data": {
      "application/vnd.jupyter.widget-view+json": {
       "model_id": "3d31edb84a52473eb1197992edddbb6c",
       "version_major": 2,
       "version_minor": 0
      },
      "text/plain": [
       "Map:   0%|          | 0/9916 [00:00<?, ? examples/s]"
      ]
     },
     "metadata": {},
     "output_type": "display_data"
    },
    {
     "data": {
      "text/html": [
       "\n",
       "    <div>\n",
       "      \n",
       "      <progress value='4960' max='4960' style='width:300px; height:20px; vertical-align: middle;'></progress>\n",
       "      [4960/4960 08:05, Epoch 2/2]\n",
       "    </div>\n",
       "    <table border=\"1\" class=\"dataframe\">\n",
       "  <thead>\n",
       " <tr style=\"text-align: left;\">\n",
       "      <th>Epoch</th>\n",
       "      <th>Training Loss</th>\n",
       "      <th>Validation Loss</th>\n",
       "      <th>Accuracy</th>\n",
       "      <th>F1</th>\n",
       "    </tr>\n",
       "  </thead>\n",
       "  <tbody>\n",
       "    <tr>\n",
       "      <td>1</td>\n",
       "      <td>0.253700</td>\n",
       "      <td>0.229859</td>\n",
       "      <td>0.908431</td>\n",
       "      <td>0.907985</td>\n",
       "    </tr>\n",
       "    <tr>\n",
       "      <td>2</td>\n",
       "      <td>0.164200</td>\n",
       "      <td>0.264248</td>\n",
       "      <td>0.915389</td>\n",
       "      <td>0.916024</td>\n",
       "    </tr>\n",
       "  </tbody>\n",
       "</table><p>"
      ],
      "text/plain": [
       "<IPython.core.display.HTML object>"
      ]
     },
     "metadata": {},
     "output_type": "display_data"
    },
    {
     "data": {
      "text/html": [],
      "text/plain": [
       "<IPython.core.display.HTML object>"
      ]
     },
     "metadata": {},
     "output_type": "display_data"
    },
    {
     "data": {
      "application/vnd.jupyter.widget-view+json": {
       "model_id": "a69da92b31584e41b467f39f9e1f46d8",
       "version_major": 2,
       "version_minor": 0
      },
      "text/plain": [
       "Map:   0%|          | 0/39666 [00:00<?, ? examples/s]"
      ]
     },
     "metadata": {},
     "output_type": "display_data"
    },
    {
     "data": {
      "application/vnd.jupyter.widget-view+json": {
       "model_id": "91384314c3b841c0b5a813725e33ec1b",
       "version_major": 2,
       "version_minor": 0
      },
      "text/plain": [
       "Map:   0%|          | 0/9916 [00:00<?, ? examples/s]"
      ]
     },
     "metadata": {},
     "output_type": "display_data"
    },
    {
     "data": {
      "text/html": [
       "\n",
       "    <div>\n",
       "      \n",
       "      <progress value='4960' max='4960' style='width:300px; height:20px; vertical-align: middle;'></progress>\n",
       "      [4960/4960 08:04, Epoch 2/2]\n",
       "    </div>\n",
       "    <table border=\"1\" class=\"dataframe\">\n",
       "  <thead>\n",
       " <tr style=\"text-align: left;\">\n",
       "      <th>Epoch</th>\n",
       "      <th>Training Loss</th>\n",
       "      <th>Validation Loss</th>\n",
       "      <th>Accuracy</th>\n",
       "      <th>F1</th>\n",
       "    </tr>\n",
       "  </thead>\n",
       "  <tbody>\n",
       "    <tr>\n",
       "      <td>1</td>\n",
       "      <td>0.250400</td>\n",
       "      <td>0.235515</td>\n",
       "      <td>0.905910</td>\n",
       "      <td>0.907615</td>\n",
       "    </tr>\n",
       "    <tr>\n",
       "      <td>2</td>\n",
       "      <td>0.161900</td>\n",
       "      <td>0.287972</td>\n",
       "      <td>0.915288</td>\n",
       "      <td>0.915646</td>\n",
       "    </tr>\n",
       "  </tbody>\n",
       "</table><p>"
      ],
      "text/plain": [
       "<IPython.core.display.HTML object>"
      ]
     },
     "metadata": {},
     "output_type": "display_data"
    },
    {
     "data": {
      "text/html": [],
      "text/plain": [
       "<IPython.core.display.HTML object>"
      ]
     },
     "metadata": {},
     "output_type": "display_data"
    },
    {
     "data": {
      "application/vnd.jupyter.widget-view+json": {
       "model_id": "e833636e185a49e78ee6728dd86880c7",
       "version_major": 2,
       "version_minor": 0
      },
      "text/plain": [
       "Map:   0%|          | 0/39666 [00:00<?, ? examples/s]"
      ]
     },
     "metadata": {},
     "output_type": "display_data"
    },
    {
     "data": {
      "application/vnd.jupyter.widget-view+json": {
       "model_id": "6b7884039925429bbdb7c02732d7014d",
       "version_major": 2,
       "version_minor": 0
      },
      "text/plain": [
       "Map:   0%|          | 0/9916 [00:00<?, ? examples/s]"
      ]
     },
     "metadata": {},
     "output_type": "display_data"
    },
    {
     "data": {
      "text/html": [
       "\n",
       "    <div>\n",
       "      \n",
       "      <progress value='4960' max='4960' style='width:300px; height:20px; vertical-align: middle;'></progress>\n",
       "      [4960/4960 08:18, Epoch 2/2]\n",
       "    </div>\n",
       "    <table border=\"1\" class=\"dataframe\">\n",
       "  <thead>\n",
       " <tr style=\"text-align: left;\">\n",
       "      <th>Epoch</th>\n",
       "      <th>Training Loss</th>\n",
       "      <th>Validation Loss</th>\n",
       "      <th>Accuracy</th>\n",
       "      <th>F1</th>\n",
       "    </tr>\n",
       "  </thead>\n",
       "  <tbody>\n",
       "    <tr>\n",
       "      <td>1</td>\n",
       "      <td>0.230900</td>\n",
       "      <td>0.265292</td>\n",
       "      <td>0.895825</td>\n",
       "      <td>0.892205</td>\n",
       "    </tr>\n",
       "    <tr>\n",
       "      <td>2</td>\n",
       "      <td>0.144700</td>\n",
       "      <td>0.307574</td>\n",
       "      <td>0.908733</td>\n",
       "      <td>0.909617</td>\n",
       "    </tr>\n",
       "  </tbody>\n",
       "</table><p>"
      ],
      "text/plain": [
       "<IPython.core.display.HTML object>"
      ]
     },
     "metadata": {},
     "output_type": "display_data"
    },
    {
     "data": {
      "text/html": [],
      "text/plain": [
       "<IPython.core.display.HTML object>"
      ]
     },
     "metadata": {},
     "output_type": "display_data"
    },
    {
     "data": {
      "application/vnd.jupyter.widget-view+json": {
       "model_id": "b88f07f5ad714201b8218cb8b43bdd21",
       "version_major": 2,
       "version_minor": 0
      },
      "text/plain": [
       "Map:   0%|          | 0/39665 [00:00<?, ? examples/s]"
      ]
     },
     "metadata": {},
     "output_type": "display_data"
    },
    {
     "data": {
      "application/vnd.jupyter.widget-view+json": {
       "model_id": "cf649241e62c41d89165e32d4908cf9d",
       "version_major": 2,
       "version_minor": 0
      },
      "text/plain": [
       "Map:   0%|          | 0/9917 [00:00<?, ? examples/s]"
      ]
     },
     "metadata": {},
     "output_type": "display_data"
    },
    {
     "data": {
      "text/html": [
       "\n",
       "    <div>\n",
       "      \n",
       "      <progress value='7440' max='7440' style='width:300px; height:20px; vertical-align: middle;'></progress>\n",
       "      [7440/7440 12:10, Epoch 3/3]\n",
       "    </div>\n",
       "    <table border=\"1\" class=\"dataframe\">\n",
       "  <thead>\n",
       " <tr style=\"text-align: left;\">\n",
       "      <th>Epoch</th>\n",
       "      <th>Training Loss</th>\n",
       "      <th>Validation Loss</th>\n",
       "      <th>Accuracy</th>\n",
       "      <th>F1</th>\n",
       "    </tr>\n",
       "  </thead>\n",
       "  <tbody>\n",
       "    <tr>\n",
       "      <td>1</td>\n",
       "      <td>0.266100</td>\n",
       "      <td>0.262640</td>\n",
       "      <td>0.900474</td>\n",
       "      <td>0.896291</td>\n",
       "    </tr>\n",
       "    <tr>\n",
       "      <td>2</td>\n",
       "      <td>0.170000</td>\n",
       "      <td>0.298160</td>\n",
       "      <td>0.911465</td>\n",
       "      <td>0.910881</td>\n",
       "    </tr>\n",
       "    <tr>\n",
       "      <td>3</td>\n",
       "      <td>0.065300</td>\n",
       "      <td>0.389638</td>\n",
       "      <td>0.914389</td>\n",
       "      <td>0.915058</td>\n",
       "    </tr>\n",
       "  </tbody>\n",
       "</table><p>"
      ],
      "text/plain": [
       "<IPython.core.display.HTML object>"
      ]
     },
     "metadata": {},
     "output_type": "display_data"
    },
    {
     "data": {
      "text/html": [],
      "text/plain": [
       "<IPython.core.display.HTML object>"
      ]
     },
     "metadata": {},
     "output_type": "display_data"
    },
    {
     "data": {
      "application/vnd.jupyter.widget-view+json": {
       "model_id": "b32a63f9834242b2b3ad4ca176dcc6d3",
       "version_major": 2,
       "version_minor": 0
      },
      "text/plain": [
       "Map:   0%|          | 0/39665 [00:00<?, ? examples/s]"
      ]
     },
     "metadata": {},
     "output_type": "display_data"
    },
    {
     "data": {
      "application/vnd.jupyter.widget-view+json": {
       "model_id": "806cf1609a984eafaff9de95242afcfe",
       "version_major": 2,
       "version_minor": 0
      },
      "text/plain": [
       "Map:   0%|          | 0/9917 [00:00<?, ? examples/s]"
      ]
     },
     "metadata": {},
     "output_type": "display_data"
    },
    {
     "data": {
      "text/html": [
       "\n",
       "    <div>\n",
       "      \n",
       "      <progress value='7440' max='7440' style='width:300px; height:20px; vertical-align: middle;'></progress>\n",
       "      [7440/7440 12:13, Epoch 3/3]\n",
       "    </div>\n",
       "    <table border=\"1\" class=\"dataframe\">\n",
       "  <thead>\n",
       " <tr style=\"text-align: left;\">\n",
       "      <th>Epoch</th>\n",
       "      <th>Training Loss</th>\n",
       "      <th>Validation Loss</th>\n",
       "      <th>Accuracy</th>\n",
       "      <th>F1</th>\n",
       "    </tr>\n",
       "  </thead>\n",
       "  <tbody>\n",
       "    <tr>\n",
       "      <td>1</td>\n",
       "      <td>0.243800</td>\n",
       "      <td>0.228995</td>\n",
       "      <td>0.912776</td>\n",
       "      <td>0.911017</td>\n",
       "    </tr>\n",
       "    <tr>\n",
       "      <td>2</td>\n",
       "      <td>0.133700</td>\n",
       "      <td>0.266156</td>\n",
       "      <td>0.917112</td>\n",
       "      <td>0.917701</td>\n",
       "    </tr>\n",
       "    <tr>\n",
       "      <td>3</td>\n",
       "      <td>0.105300</td>\n",
       "      <td>0.355705</td>\n",
       "      <td>0.916104</td>\n",
       "      <td>0.916382</td>\n",
       "    </tr>\n",
       "  </tbody>\n",
       "</table><p>"
      ],
      "text/plain": [
       "<IPython.core.display.HTML object>"
      ]
     },
     "metadata": {},
     "output_type": "display_data"
    },
    {
     "data": {
      "text/html": [],
      "text/plain": [
       "<IPython.core.display.HTML object>"
      ]
     },
     "metadata": {},
     "output_type": "display_data"
    },
    {
     "data": {
      "application/vnd.jupyter.widget-view+json": {
       "model_id": "e6405930c7ec48e498a393c7e252ca0f",
       "version_major": 2,
       "version_minor": 0
      },
      "text/plain": [
       "Map:   0%|          | 0/39666 [00:00<?, ? examples/s]"
      ]
     },
     "metadata": {},
     "output_type": "display_data"
    },
    {
     "data": {
      "application/vnd.jupyter.widget-view+json": {
       "model_id": "1e9cce99d28d40339026c1c3141fc9d7",
       "version_major": 2,
       "version_minor": 0
      },
      "text/plain": [
       "Map:   0%|          | 0/9916 [00:00<?, ? examples/s]"
      ]
     },
     "metadata": {},
     "output_type": "display_data"
    },
    {
     "data": {
      "text/html": [
       "\n",
       "    <div>\n",
       "      \n",
       "      <progress value='7440' max='7440' style='width:300px; height:20px; vertical-align: middle;'></progress>\n",
       "      [7440/7440 12:26, Epoch 3/3]\n",
       "    </div>\n",
       "    <table border=\"1\" class=\"dataframe\">\n",
       "  <thead>\n",
       " <tr style=\"text-align: left;\">\n",
       "      <th>Epoch</th>\n",
       "      <th>Training Loss</th>\n",
       "      <th>Validation Loss</th>\n",
       "      <th>Accuracy</th>\n",
       "      <th>F1</th>\n",
       "    </tr>\n",
       "  </thead>\n",
       "  <tbody>\n",
       "    <tr>\n",
       "      <td>1</td>\n",
       "      <td>0.259700</td>\n",
       "      <td>0.233974</td>\n",
       "      <td>0.906515</td>\n",
       "      <td>0.904620</td>\n",
       "    </tr>\n",
       "    <tr>\n",
       "      <td>2</td>\n",
       "      <td>0.193100</td>\n",
       "      <td>0.244602</td>\n",
       "      <td>0.914683</td>\n",
       "      <td>0.915298</td>\n",
       "    </tr>\n",
       "    <tr>\n",
       "      <td>3</td>\n",
       "      <td>0.061200</td>\n",
       "      <td>0.394864</td>\n",
       "      <td>0.910145</td>\n",
       "      <td>0.910443</td>\n",
       "    </tr>\n",
       "  </tbody>\n",
       "</table><p>"
      ],
      "text/plain": [
       "<IPython.core.display.HTML object>"
      ]
     },
     "metadata": {},
     "output_type": "display_data"
    },
    {
     "data": {
      "text/html": [],
      "text/plain": [
       "<IPython.core.display.HTML object>"
      ]
     },
     "metadata": {},
     "output_type": "display_data"
    },
    {
     "data": {
      "application/vnd.jupyter.widget-view+json": {
       "model_id": "53316598c07645c9b8ae9faac8d10cd3",
       "version_major": 2,
       "version_minor": 0
      },
      "text/plain": [
       "Map:   0%|          | 0/39666 [00:00<?, ? examples/s]"
      ]
     },
     "metadata": {},
     "output_type": "display_data"
    },
    {
     "data": {
      "application/vnd.jupyter.widget-view+json": {
       "model_id": "0062394591d84c98a838b43b60649848",
       "version_major": 2,
       "version_minor": 0
      },
      "text/plain": [
       "Map:   0%|          | 0/9916 [00:00<?, ? examples/s]"
      ]
     },
     "metadata": {},
     "output_type": "display_data"
    },
    {
     "data": {
      "text/html": [
       "\n",
       "    <div>\n",
       "      \n",
       "      <progress value='7440' max='7440' style='width:300px; height:20px; vertical-align: middle;'></progress>\n",
       "      [7440/7440 12:15, Epoch 3/3]\n",
       "    </div>\n",
       "    <table border=\"1\" class=\"dataframe\">\n",
       "  <thead>\n",
       " <tr style=\"text-align: left;\">\n",
       "      <th>Epoch</th>\n",
       "      <th>Training Loss</th>\n",
       "      <th>Validation Loss</th>\n",
       "      <th>Accuracy</th>\n",
       "      <th>F1</th>\n",
       "    </tr>\n",
       "  </thead>\n",
       "  <tbody>\n",
       "    <tr>\n",
       "      <td>1</td>\n",
       "      <td>0.260900</td>\n",
       "      <td>0.232913</td>\n",
       "      <td>0.906918</td>\n",
       "      <td>0.906075</td>\n",
       "    </tr>\n",
       "    <tr>\n",
       "      <td>2</td>\n",
       "      <td>0.191200</td>\n",
       "      <td>0.276668</td>\n",
       "      <td>0.909742</td>\n",
       "      <td>0.907013</td>\n",
       "    </tr>\n",
       "    <tr>\n",
       "      <td>3</td>\n",
       "      <td>0.053600</td>\n",
       "      <td>0.409890</td>\n",
       "      <td>0.911053</td>\n",
       "      <td>0.910620</td>\n",
       "    </tr>\n",
       "  </tbody>\n",
       "</table><p>"
      ],
      "text/plain": [
       "<IPython.core.display.HTML object>"
      ]
     },
     "metadata": {},
     "output_type": "display_data"
    },
    {
     "data": {
      "text/html": [],
      "text/plain": [
       "<IPython.core.display.HTML object>"
      ]
     },
     "metadata": {},
     "output_type": "display_data"
    },
    {
     "data": {
      "application/vnd.jupyter.widget-view+json": {
       "model_id": "466d852964f1499992286672d6e7942e",
       "version_major": 2,
       "version_minor": 0
      },
      "text/plain": [
       "Map:   0%|          | 0/39666 [00:00<?, ? examples/s]"
      ]
     },
     "metadata": {},
     "output_type": "display_data"
    },
    {
     "data": {
      "application/vnd.jupyter.widget-view+json": {
       "model_id": "8162903de2854ace9f62ad0994e7fbf1",
       "version_major": 2,
       "version_minor": 0
      },
      "text/plain": [
       "Map:   0%|          | 0/9916 [00:00<?, ? examples/s]"
      ]
     },
     "metadata": {},
     "output_type": "display_data"
    },
    {
     "data": {
      "text/html": [
       "\n",
       "    <div>\n",
       "      \n",
       "      <progress value='7440' max='7440' style='width:300px; height:20px; vertical-align: middle;'></progress>\n",
       "      [7440/7440 12:14, Epoch 3/3]\n",
       "    </div>\n",
       "    <table border=\"1\" class=\"dataframe\">\n",
       "  <thead>\n",
       " <tr style=\"text-align: left;\">\n",
       "      <th>Epoch</th>\n",
       "      <th>Training Loss</th>\n",
       "      <th>Validation Loss</th>\n",
       "      <th>Accuracy</th>\n",
       "      <th>F1</th>\n",
       "    </tr>\n",
       "  </thead>\n",
       "  <tbody>\n",
       "    <tr>\n",
       "      <td>1</td>\n",
       "      <td>0.231100</td>\n",
       "      <td>0.253487</td>\n",
       "      <td>0.904498</td>\n",
       "      <td>0.903672</td>\n",
       "    </tr>\n",
       "    <tr>\n",
       "      <td>2</td>\n",
       "      <td>0.147700</td>\n",
       "      <td>0.279744</td>\n",
       "      <td>0.909439</td>\n",
       "      <td>0.908067</td>\n",
       "    </tr>\n",
       "    <tr>\n",
       "      <td>3</td>\n",
       "      <td>0.054000</td>\n",
       "      <td>0.413932</td>\n",
       "      <td>0.909137</td>\n",
       "      <td>0.909274</td>\n",
       "    </tr>\n",
       "  </tbody>\n",
       "</table><p>"
      ],
      "text/plain": [
       "<IPython.core.display.HTML object>"
      ]
     },
     "metadata": {},
     "output_type": "display_data"
    },
    {
     "data": {
      "text/html": [],
      "text/plain": [
       "<IPython.core.display.HTML object>"
      ]
     },
     "metadata": {},
     "output_type": "display_data"
    },
    {
     "data": {
      "application/vnd.jupyter.widget-view+json": {
       "model_id": "2256915df897440982f663c5b9a0b58e",
       "version_major": 2,
       "version_minor": 0
      },
      "text/plain": [
       "Map:   0%|          | 0/39665 [00:00<?, ? examples/s]"
      ]
     },
     "metadata": {},
     "output_type": "display_data"
    },
    {
     "data": {
      "application/vnd.jupyter.widget-view+json": {
       "model_id": "52aa971e6ae4404886057e2e10d6e466",
       "version_major": 2,
       "version_minor": 0
      },
      "text/plain": [
       "Map:   0%|          | 0/9917 [00:00<?, ? examples/s]"
      ]
     },
     "metadata": {},
     "output_type": "display_data"
    },
    {
     "data": {
      "text/html": [
       "\n",
       "    <div>\n",
       "      \n",
       "      <progress value='2480' max='2480' style='width:300px; height:20px; vertical-align: middle;'></progress>\n",
       "      [2480/2480 07:08, Epoch 2/2]\n",
       "    </div>\n",
       "    <table border=\"1\" class=\"dataframe\">\n",
       "  <thead>\n",
       " <tr style=\"text-align: left;\">\n",
       "      <th>Epoch</th>\n",
       "      <th>Training Loss</th>\n",
       "      <th>Validation Loss</th>\n",
       "      <th>Accuracy</th>\n",
       "      <th>F1</th>\n",
       "    </tr>\n",
       "  </thead>\n",
       "  <tbody>\n",
       "    <tr>\n",
       "      <td>1</td>\n",
       "      <td>0.251700</td>\n",
       "      <td>0.289684</td>\n",
       "      <td>0.882727</td>\n",
       "      <td>0.873573</td>\n",
       "    </tr>\n",
       "    <tr>\n",
       "      <td>2</td>\n",
       "      <td>0.141400</td>\n",
       "      <td>0.242930</td>\n",
       "      <td>0.914087</td>\n",
       "      <td>0.913922</td>\n",
       "    </tr>\n",
       "  </tbody>\n",
       "</table><p>"
      ],
      "text/plain": [
       "<IPython.core.display.HTML object>"
      ]
     },
     "metadata": {},
     "output_type": "display_data"
    },
    {
     "data": {
      "text/html": [],
      "text/plain": [
       "<IPython.core.display.HTML object>"
      ]
     },
     "metadata": {},
     "output_type": "display_data"
    },
    {
     "data": {
      "application/vnd.jupyter.widget-view+json": {
       "model_id": "b8ec0bcd7eaa4ee48ccd3171eeebae54",
       "version_major": 2,
       "version_minor": 0
      },
      "text/plain": [
       "Map:   0%|          | 0/39665 [00:00<?, ? examples/s]"
      ]
     },
     "metadata": {},
     "output_type": "display_data"
    },
    {
     "data": {
      "application/vnd.jupyter.widget-view+json": {
       "model_id": "915b06dd729042d88568377035a0c7b3",
       "version_major": 2,
       "version_minor": 0
      },
      "text/plain": [
       "Map:   0%|          | 0/9917 [00:00<?, ? examples/s]"
      ]
     },
     "metadata": {},
     "output_type": "display_data"
    },
    {
     "data": {
      "text/html": [
       "\n",
       "    <div>\n",
       "      \n",
       "      <progress value='2480' max='2480' style='width:300px; height:20px; vertical-align: middle;'></progress>\n",
       "      [2480/2480 07:20, Epoch 2/2]\n",
       "    </div>\n",
       "    <table border=\"1\" class=\"dataframe\">\n",
       "  <thead>\n",
       " <tr style=\"text-align: left;\">\n",
       "      <th>Epoch</th>\n",
       "      <th>Training Loss</th>\n",
       "      <th>Validation Loss</th>\n",
       "      <th>Accuracy</th>\n",
       "      <th>F1</th>\n",
       "    </tr>\n",
       "  </thead>\n",
       "  <tbody>\n",
       "    <tr>\n",
       "      <td>1</td>\n",
       "      <td>0.266100</td>\n",
       "      <td>0.213446</td>\n",
       "      <td>0.915801</td>\n",
       "      <td>0.914403</td>\n",
       "    </tr>\n",
       "    <tr>\n",
       "      <td>2</td>\n",
       "      <td>0.145100</td>\n",
       "      <td>0.217441</td>\n",
       "      <td>0.920339</td>\n",
       "      <td>0.920858</td>\n",
       "    </tr>\n",
       "  </tbody>\n",
       "</table><p>"
      ],
      "text/plain": [
       "<IPython.core.display.HTML object>"
      ]
     },
     "metadata": {},
     "output_type": "display_data"
    },
    {
     "data": {
      "text/html": [],
      "text/plain": [
       "<IPython.core.display.HTML object>"
      ]
     },
     "metadata": {},
     "output_type": "display_data"
    },
    {
     "data": {
      "application/vnd.jupyter.widget-view+json": {
       "model_id": "c92b202b737047d38bf08dd989f1bebd",
       "version_major": 2,
       "version_minor": 0
      },
      "text/plain": [
       "Map:   0%|          | 0/39666 [00:00<?, ? examples/s]"
      ]
     },
     "metadata": {},
     "output_type": "display_data"
    },
    {
     "data": {
      "application/vnd.jupyter.widget-view+json": {
       "model_id": "48460e55e28c47798e46caaecca930fc",
       "version_major": 2,
       "version_minor": 0
      },
      "text/plain": [
       "Map:   0%|          | 0/9916 [00:00<?, ? examples/s]"
      ]
     },
     "metadata": {},
     "output_type": "display_data"
    },
    {
     "data": {
      "text/html": [
       "\n",
       "    <div>\n",
       "      \n",
       "      <progress value='2480' max='2480' style='width:300px; height:20px; vertical-align: middle;'></progress>\n",
       "      [2480/2480 07:12, Epoch 2/2]\n",
       "    </div>\n",
       "    <table border=\"1\" class=\"dataframe\">\n",
       "  <thead>\n",
       " <tr style=\"text-align: left;\">\n",
       "      <th>Epoch</th>\n",
       "      <th>Training Loss</th>\n",
       "      <th>Validation Loss</th>\n",
       "      <th>Accuracy</th>\n",
       "      <th>F1</th>\n",
       "    </tr>\n",
       "  </thead>\n",
       "  <tbody>\n",
       "    <tr>\n",
       "      <td>1</td>\n",
       "      <td>0.233900</td>\n",
       "      <td>0.225624</td>\n",
       "      <td>0.908834</td>\n",
       "      <td>0.907415</td>\n",
       "    </tr>\n",
       "    <tr>\n",
       "      <td>2</td>\n",
       "      <td>0.118500</td>\n",
       "      <td>0.236843</td>\n",
       "      <td>0.917003</td>\n",
       "      <td>0.917494</td>\n",
       "    </tr>\n",
       "  </tbody>\n",
       "</table><p>"
      ],
      "text/plain": [
       "<IPython.core.display.HTML object>"
      ]
     },
     "metadata": {},
     "output_type": "display_data"
    },
    {
     "data": {
      "text/html": [],
      "text/plain": [
       "<IPython.core.display.HTML object>"
      ]
     },
     "metadata": {},
     "output_type": "display_data"
    },
    {
     "data": {
      "application/vnd.jupyter.widget-view+json": {
       "model_id": "47c48298542f4fd3bc0b26ad4fb15899",
       "version_major": 2,
       "version_minor": 0
      },
      "text/plain": [
       "Map:   0%|          | 0/39666 [00:00<?, ? examples/s]"
      ]
     },
     "metadata": {},
     "output_type": "display_data"
    },
    {
     "data": {
      "application/vnd.jupyter.widget-view+json": {
       "model_id": "5dc1d04f311f4f91852795e172783f0b",
       "version_major": 2,
       "version_minor": 0
      },
      "text/plain": [
       "Map:   0%|          | 0/9916 [00:00<?, ? examples/s]"
      ]
     },
     "metadata": {},
     "output_type": "display_data"
    },
    {
     "data": {
      "text/html": [
       "\n",
       "    <div>\n",
       "      \n",
       "      <progress value='2480' max='2480' style='width:300px; height:20px; vertical-align: middle;'></progress>\n",
       "      [2480/2480 07:23, Epoch 2/2]\n",
       "    </div>\n",
       "    <table border=\"1\" class=\"dataframe\">\n",
       "  <thead>\n",
       " <tr style=\"text-align: left;\">\n",
       "      <th>Epoch</th>\n",
       "      <th>Training Loss</th>\n",
       "      <th>Validation Loss</th>\n",
       "      <th>Accuracy</th>\n",
       "      <th>F1</th>\n",
       "    </tr>\n",
       "  </thead>\n",
       "  <tbody>\n",
       "    <tr>\n",
       "      <td>1</td>\n",
       "      <td>0.251300</td>\n",
       "      <td>0.231291</td>\n",
       "      <td>0.908834</td>\n",
       "      <td>0.907849</td>\n",
       "    </tr>\n",
       "    <tr>\n",
       "      <td>2</td>\n",
       "      <td>0.130100</td>\n",
       "      <td>0.251843</td>\n",
       "      <td>0.916095</td>\n",
       "      <td>0.917098</td>\n",
       "    </tr>\n",
       "  </tbody>\n",
       "</table><p>"
      ],
      "text/plain": [
       "<IPython.core.display.HTML object>"
      ]
     },
     "metadata": {},
     "output_type": "display_data"
    },
    {
     "data": {
      "text/html": [],
      "text/plain": [
       "<IPython.core.display.HTML object>"
      ]
     },
     "metadata": {},
     "output_type": "display_data"
    },
    {
     "data": {
      "application/vnd.jupyter.widget-view+json": {
       "model_id": "202ec01bccac4afeb2fe0406d662b1b4",
       "version_major": 2,
       "version_minor": 0
      },
      "text/plain": [
       "Map:   0%|          | 0/39666 [00:00<?, ? examples/s]"
      ]
     },
     "metadata": {},
     "output_type": "display_data"
    },
    {
     "data": {
      "application/vnd.jupyter.widget-view+json": {
       "model_id": "61fd71f532f14779acc0e87cdde32fb4",
       "version_major": 2,
       "version_minor": 0
      },
      "text/plain": [
       "Map:   0%|          | 0/9916 [00:00<?, ? examples/s]"
      ]
     },
     "metadata": {},
     "output_type": "display_data"
    },
    {
     "data": {
      "text/html": [
       "\n",
       "    <div>\n",
       "      \n",
       "      <progress value='2480' max='2480' style='width:300px; height:20px; vertical-align: middle;'></progress>\n",
       "      [2480/2480 07:14, Epoch 2/2]\n",
       "    </div>\n",
       "    <table border=\"1\" class=\"dataframe\">\n",
       "  <thead>\n",
       " <tr style=\"text-align: left;\">\n",
       "      <th>Epoch</th>\n",
       "      <th>Training Loss</th>\n",
       "      <th>Validation Loss</th>\n",
       "      <th>Accuracy</th>\n",
       "      <th>F1</th>\n",
       "    </tr>\n",
       "  </thead>\n",
       "  <tbody>\n",
       "    <tr>\n",
       "      <td>1</td>\n",
       "      <td>0.227900</td>\n",
       "      <td>0.275627</td>\n",
       "      <td>0.896027</td>\n",
       "      <td>0.891576</td>\n",
       "    </tr>\n",
       "    <tr>\n",
       "      <td>2</td>\n",
       "      <td>0.110400</td>\n",
       "      <td>0.264935</td>\n",
       "      <td>0.912263</td>\n",
       "      <td>0.912298</td>\n",
       "    </tr>\n",
       "  </tbody>\n",
       "</table><p>"
      ],
      "text/plain": [
       "<IPython.core.display.HTML object>"
      ]
     },
     "metadata": {},
     "output_type": "display_data"
    },
    {
     "data": {
      "text/html": [],
      "text/plain": [
       "<IPython.core.display.HTML object>"
      ]
     },
     "metadata": {},
     "output_type": "display_data"
    },
    {
     "data": {
      "application/vnd.jupyter.widget-view+json": {
       "model_id": "a56daa64ad75420696efaf1fa8b609a9",
       "version_major": 2,
       "version_minor": 0
      },
      "text/plain": [
       "Map:   0%|          | 0/39665 [00:00<?, ? examples/s]"
      ]
     },
     "metadata": {},
     "output_type": "display_data"
    },
    {
     "data": {
      "application/vnd.jupyter.widget-view+json": {
       "model_id": "d9adeb6a86734eb8adec9aae823473bd",
       "version_major": 2,
       "version_minor": 0
      },
      "text/plain": [
       "Map:   0%|          | 0/9917 [00:00<?, ? examples/s]"
      ]
     },
     "metadata": {},
     "output_type": "display_data"
    },
    {
     "data": {
      "text/html": [
       "\n",
       "    <div>\n",
       "      \n",
       "      <progress value='3720' max='3720' style='width:300px; height:20px; vertical-align: middle;'></progress>\n",
       "      [3720/3720 10:52, Epoch 3/3]\n",
       "    </div>\n",
       "    <table border=\"1\" class=\"dataframe\">\n",
       "  <thead>\n",
       " <tr style=\"text-align: left;\">\n",
       "      <th>Epoch</th>\n",
       "      <th>Training Loss</th>\n",
       "      <th>Validation Loss</th>\n",
       "      <th>Accuracy</th>\n",
       "      <th>F1</th>\n",
       "    </tr>\n",
       "  </thead>\n",
       "  <tbody>\n",
       "    <tr>\n",
       "      <td>1</td>\n",
       "      <td>0.260600</td>\n",
       "      <td>0.305439</td>\n",
       "      <td>0.878794</td>\n",
       "      <td>0.868202</td>\n",
       "    </tr>\n",
       "    <tr>\n",
       "      <td>2</td>\n",
       "      <td>0.152600</td>\n",
       "      <td>0.254698</td>\n",
       "      <td>0.911364</td>\n",
       "      <td>0.913288</td>\n",
       "    </tr>\n",
       "    <tr>\n",
       "      <td>3</td>\n",
       "      <td>0.040400</td>\n",
       "      <td>0.363813</td>\n",
       "      <td>0.913583</td>\n",
       "      <td>0.914463</td>\n",
       "    </tr>\n",
       "  </tbody>\n",
       "</table><p>"
      ],
      "text/plain": [
       "<IPython.core.display.HTML object>"
      ]
     },
     "metadata": {},
     "output_type": "display_data"
    },
    {
     "data": {
      "text/html": [],
      "text/plain": [
       "<IPython.core.display.HTML object>"
      ]
     },
     "metadata": {},
     "output_type": "display_data"
    },
    {
     "data": {
      "application/vnd.jupyter.widget-view+json": {
       "model_id": "e91fe020fd8a446b805dc87965dd704b",
       "version_major": 2,
       "version_minor": 0
      },
      "text/plain": [
       "Map:   0%|          | 0/39665 [00:00<?, ? examples/s]"
      ]
     },
     "metadata": {},
     "output_type": "display_data"
    },
    {
     "data": {
      "application/vnd.jupyter.widget-view+json": {
       "model_id": "2504949dd00a48e6bc7a489e333a64e4",
       "version_major": 2,
       "version_minor": 0
      },
      "text/plain": [
       "Map:   0%|          | 0/9917 [00:00<?, ? examples/s]"
      ]
     },
     "metadata": {},
     "output_type": "display_data"
    },
    {
     "data": {
      "text/html": [
       "\n",
       "    <div>\n",
       "      \n",
       "      <progress value='3720' max='3720' style='width:300px; height:20px; vertical-align: middle;'></progress>\n",
       "      [3720/3720 11:02, Epoch 3/3]\n",
       "    </div>\n",
       "    <table border=\"1\" class=\"dataframe\">\n",
       "  <thead>\n",
       " <tr style=\"text-align: left;\">\n",
       "      <th>Epoch</th>\n",
       "      <th>Training Loss</th>\n",
       "      <th>Validation Loss</th>\n",
       "      <th>Accuracy</th>\n",
       "      <th>F1</th>\n",
       "    </tr>\n",
       "  </thead>\n",
       "  <tbody>\n",
       "    <tr>\n",
       "      <td>1</td>\n",
       "      <td>0.282600</td>\n",
       "      <td>0.215422</td>\n",
       "      <td>0.916810</td>\n",
       "      <td>0.916506</td>\n",
       "    </tr>\n",
       "    <tr>\n",
       "      <td>2</td>\n",
       "      <td>0.156300</td>\n",
       "      <td>0.240754</td>\n",
       "      <td>0.918020</td>\n",
       "      <td>0.918365</td>\n",
       "    </tr>\n",
       "    <tr>\n",
       "      <td>3</td>\n",
       "      <td>0.090500</td>\n",
       "      <td>0.297262</td>\n",
       "      <td>0.918927</td>\n",
       "      <td>0.919033</td>\n",
       "    </tr>\n",
       "  </tbody>\n",
       "</table><p>"
      ],
      "text/plain": [
       "<IPython.core.display.HTML object>"
      ]
     },
     "metadata": {},
     "output_type": "display_data"
    },
    {
     "data": {
      "text/html": [],
      "text/plain": [
       "<IPython.core.display.HTML object>"
      ]
     },
     "metadata": {},
     "output_type": "display_data"
    },
    {
     "data": {
      "application/vnd.jupyter.widget-view+json": {
       "model_id": "803a1dd813224c3ebc5aee7fa203464d",
       "version_major": 2,
       "version_minor": 0
      },
      "text/plain": [
       "Map:   0%|          | 0/39666 [00:00<?, ? examples/s]"
      ]
     },
     "metadata": {},
     "output_type": "display_data"
    },
    {
     "data": {
      "application/vnd.jupyter.widget-view+json": {
       "model_id": "e00d5c05862644c9b630a6c25ee6933d",
       "version_major": 2,
       "version_minor": 0
      },
      "text/plain": [
       "Map:   0%|          | 0/9916 [00:00<?, ? examples/s]"
      ]
     },
     "metadata": {},
     "output_type": "display_data"
    },
    {
     "data": {
      "text/html": [
       "\n",
       "    <div>\n",
       "      \n",
       "      <progress value='3720' max='3720' style='width:300px; height:20px; vertical-align: middle;'></progress>\n",
       "      [3720/3720 10:54, Epoch 3/3]\n",
       "    </div>\n",
       "    <table border=\"1\" class=\"dataframe\">\n",
       "  <thead>\n",
       " <tr style=\"text-align: left;\">\n",
       "      <th>Epoch</th>\n",
       "      <th>Training Loss</th>\n",
       "      <th>Validation Loss</th>\n",
       "      <th>Accuracy</th>\n",
       "      <th>F1</th>\n",
       "    </tr>\n",
       "  </thead>\n",
       "  <tbody>\n",
       "    <tr>\n",
       "      <td>1</td>\n",
       "      <td>0.240500</td>\n",
       "      <td>0.224806</td>\n",
       "      <td>0.911557</td>\n",
       "      <td>0.911833</td>\n",
       "    </tr>\n",
       "    <tr>\n",
       "      <td>2</td>\n",
       "      <td>0.137800</td>\n",
       "      <td>0.240273</td>\n",
       "      <td>0.914885</td>\n",
       "      <td>0.915005</td>\n",
       "    </tr>\n",
       "    <tr>\n",
       "      <td>3</td>\n",
       "      <td>0.062000</td>\n",
       "      <td>0.336023</td>\n",
       "      <td>0.914482</td>\n",
       "      <td>0.914153</td>\n",
       "    </tr>\n",
       "  </tbody>\n",
       "</table><p>"
      ],
      "text/plain": [
       "<IPython.core.display.HTML object>"
      ]
     },
     "metadata": {},
     "output_type": "display_data"
    },
    {
     "data": {
      "text/html": [],
      "text/plain": [
       "<IPython.core.display.HTML object>"
      ]
     },
     "metadata": {},
     "output_type": "display_data"
    },
    {
     "data": {
      "application/vnd.jupyter.widget-view+json": {
       "model_id": "d134e1c69cb448ea8d50614c9b67269a",
       "version_major": 2,
       "version_minor": 0
      },
      "text/plain": [
       "Map:   0%|          | 0/39666 [00:00<?, ? examples/s]"
      ]
     },
     "metadata": {},
     "output_type": "display_data"
    },
    {
     "data": {
      "application/vnd.jupyter.widget-view+json": {
       "model_id": "d026f1399e6c495486d4d775736d4688",
       "version_major": 2,
       "version_minor": 0
      },
      "text/plain": [
       "Map:   0%|          | 0/9916 [00:00<?, ? examples/s]"
      ]
     },
     "metadata": {},
     "output_type": "display_data"
    },
    {
     "data": {
      "text/html": [
       "\n",
       "    <div>\n",
       "      \n",
       "      <progress value='3720' max='3720' style='width:300px; height:20px; vertical-align: middle;'></progress>\n",
       "      [3720/3720 11:00, Epoch 3/3]\n",
       "    </div>\n",
       "    <table border=\"1\" class=\"dataframe\">\n",
       "  <thead>\n",
       " <tr style=\"text-align: left;\">\n",
       "      <th>Epoch</th>\n",
       "      <th>Training Loss</th>\n",
       "      <th>Validation Loss</th>\n",
       "      <th>Accuracy</th>\n",
       "      <th>F1</th>\n",
       "    </tr>\n",
       "  </thead>\n",
       "  <tbody>\n",
       "    <tr>\n",
       "      <td>1</td>\n",
       "      <td>0.258300</td>\n",
       "      <td>0.230396</td>\n",
       "      <td>0.907523</td>\n",
       "      <td>0.906533</td>\n",
       "    </tr>\n",
       "    <tr>\n",
       "      <td>2</td>\n",
       "      <td>0.130500</td>\n",
       "      <td>0.242920</td>\n",
       "      <td>0.914482</td>\n",
       "      <td>0.915403</td>\n",
       "    </tr>\n",
       "    <tr>\n",
       "      <td>3</td>\n",
       "      <td>0.051300</td>\n",
       "      <td>0.350727</td>\n",
       "      <td>0.912465</td>\n",
       "      <td>0.912376</td>\n",
       "    </tr>\n",
       "  </tbody>\n",
       "</table><p>"
      ],
      "text/plain": [
       "<IPython.core.display.HTML object>"
      ]
     },
     "metadata": {},
     "output_type": "display_data"
    },
    {
     "data": {
      "text/html": [],
      "text/plain": [
       "<IPython.core.display.HTML object>"
      ]
     },
     "metadata": {},
     "output_type": "display_data"
    },
    {
     "data": {
      "application/vnd.jupyter.widget-view+json": {
       "model_id": "fcb2fd71e18e4587b8e8b67d3ba4c98e",
       "version_major": 2,
       "version_minor": 0
      },
      "text/plain": [
       "Map:   0%|          | 0/39666 [00:00<?, ? examples/s]"
      ]
     },
     "metadata": {},
     "output_type": "display_data"
    },
    {
     "data": {
      "application/vnd.jupyter.widget-view+json": {
       "model_id": "f0a20ab50de14995bd178d8a48c6133b",
       "version_major": 2,
       "version_minor": 0
      },
      "text/plain": [
       "Map:   0%|          | 0/9916 [00:00<?, ? examples/s]"
      ]
     },
     "metadata": {},
     "output_type": "display_data"
    },
    {
     "data": {
      "text/html": [
       "\n",
       "    <div>\n",
       "      \n",
       "      <progress value='3720' max='3720' style='width:300px; height:20px; vertical-align: middle;'></progress>\n",
       "      [3720/3720 10:59, Epoch 3/3]\n",
       "    </div>\n",
       "    <table border=\"1\" class=\"dataframe\">\n",
       "  <thead>\n",
       " <tr style=\"text-align: left;\">\n",
       "      <th>Epoch</th>\n",
       "      <th>Training Loss</th>\n",
       "      <th>Validation Loss</th>\n",
       "      <th>Accuracy</th>\n",
       "      <th>F1</th>\n",
       "    </tr>\n",
       "  </thead>\n",
       "  <tbody>\n",
       "    <tr>\n",
       "      <td>1</td>\n",
       "      <td>0.230900</td>\n",
       "      <td>0.282699</td>\n",
       "      <td>0.886749</td>\n",
       "      <td>0.879390</td>\n",
       "    </tr>\n",
       "    <tr>\n",
       "      <td>2</td>\n",
       "      <td>0.120500</td>\n",
       "      <td>0.252969</td>\n",
       "      <td>0.911456</td>\n",
       "      <td>0.910881</td>\n",
       "    </tr>\n",
       "    <tr>\n",
       "      <td>3</td>\n",
       "      <td>0.055400</td>\n",
       "      <td>0.363218</td>\n",
       "      <td>0.910448</td>\n",
       "      <td>0.910303</td>\n",
       "    </tr>\n",
       "  </tbody>\n",
       "</table><p>"
      ],
      "text/plain": [
       "<IPython.core.display.HTML object>"
      ]
     },
     "metadata": {},
     "output_type": "display_data"
    },
    {
     "data": {
      "text/html": [],
      "text/plain": [
       "<IPython.core.display.HTML object>"
      ]
     },
     "metadata": {},
     "output_type": "display_data"
    }
   ],
   "source": [
    "cv = StratifiedKFold(n_splits=5, shuffle=True, random_state=42)\n",
    "all_rows = []           # one row per (hp, fold)\n",
    "agg_preds = {}          # (hp_idx) -> list of (y_true, y_pred) for confusion matrices\n",
    "\n",
    "for hp_idx, hp in enumerate(hp_list):\n",
    "    agg_preds[hp_idx] = []\n",
    "    for fold_id, (tr_idx, va_idx) in enumerate(cv.split(X, y), start=1):\n",
    "        m = train_eval_one_fold(tr_idx, va_idx, hp)\n",
    "        all_rows.append({\n",
    "            \"hp_idx\": hp_idx,\n",
    "            \"fold\": fold_id,\n",
    "            \"lr\": hp[\"lr\"],\n",
    "            \"bsz\": hp[\"bsz\"],\n",
    "            \"epochs\": hp[\"epochs\"],\n",
    "            \"wd\": hp[\"wd\"],\n",
    "            \"acc\": m[\"eval_accuracy\"],\n",
    "            \"f1\":  m[\"eval_f1\"],\n",
    "        })\n",
    "        agg_preds[hp_idx].append( (m[\"y_true\"], m[\"y_pred\"]) )\n",
    "\n",
    "results_df = pd.DataFrame(all_rows)"
   ]
  },
  {
   "cell_type": "code",
   "execution_count": 15,
   "id": "1af2e90d-640c-4fbc-9ee4-ea53d85d0877",
   "metadata": {},
   "outputs": [
    {
     "data": {
      "text/html": [
       "<div>\n",
       "<style scoped>\n",
       "    .dataframe tbody tr th:only-of-type {\n",
       "        vertical-align: middle;\n",
       "    }\n",
       "\n",
       "    .dataframe tbody tr th {\n",
       "        vertical-align: top;\n",
       "    }\n",
       "\n",
       "    .dataframe thead th {\n",
       "        text-align: right;\n",
       "    }\n",
       "</style>\n",
       "<table border=\"1\" class=\"dataframe\">\n",
       "  <thead>\n",
       "    <tr style=\"text-align: right;\">\n",
       "      <th></th>\n",
       "      <th>hp_idx</th>\n",
       "      <th>lr</th>\n",
       "      <th>bsz</th>\n",
       "      <th>epochs</th>\n",
       "      <th>wd</th>\n",
       "      <th>mean_acc</th>\n",
       "      <th>std_acc</th>\n",
       "      <th>mean_f1</th>\n",
       "      <th>std_f1</th>\n",
       "    </tr>\n",
       "  </thead>\n",
       "  <tbody>\n",
       "    <tr>\n",
       "      <th>0</th>\n",
       "      <td>6</td>\n",
       "      <td>0.00005</td>\n",
       "      <td>32</td>\n",
       "      <td>2</td>\n",
       "      <td>0.01</td>\n",
       "      <td>0.915957</td>\n",
       "      <td>0.003060</td>\n",
       "      <td>0.916334</td>\n",
       "      <td>0.003335</td>\n",
       "    </tr>\n",
       "    <tr>\n",
       "      <th>1</th>\n",
       "      <td>4</td>\n",
       "      <td>0.00005</td>\n",
       "      <td>16</td>\n",
       "      <td>2</td>\n",
       "      <td>0.01</td>\n",
       "      <td>0.914626</td>\n",
       "      <td>0.003683</td>\n",
       "      <td>0.915261</td>\n",
       "      <td>0.003624</td>\n",
       "    </tr>\n",
       "    <tr>\n",
       "      <th>2</th>\n",
       "      <td>0</td>\n",
       "      <td>0.00002</td>\n",
       "      <td>16</td>\n",
       "      <td>2</td>\n",
       "      <td>0.01</td>\n",
       "      <td>0.913557</td>\n",
       "      <td>0.003604</td>\n",
       "      <td>0.914069</td>\n",
       "      <td>0.003878</td>\n",
       "    </tr>\n",
       "    <tr>\n",
       "      <th>3</th>\n",
       "      <td>7</td>\n",
       "      <td>0.00005</td>\n",
       "      <td>32</td>\n",
       "      <td>3</td>\n",
       "      <td>0.01</td>\n",
       "      <td>0.913981</td>\n",
       "      <td>0.003149</td>\n",
       "      <td>0.914066</td>\n",
       "      <td>0.003235</td>\n",
       "    </tr>\n",
       "    <tr>\n",
       "      <th>4</th>\n",
       "      <td>1</td>\n",
       "      <td>0.00002</td>\n",
       "      <td>16</td>\n",
       "      <td>3</td>\n",
       "      <td>0.01</td>\n",
       "      <td>0.913416</td>\n",
       "      <td>0.004194</td>\n",
       "      <td>0.913893</td>\n",
       "      <td>0.004247</td>\n",
       "    </tr>\n",
       "    <tr>\n",
       "      <th>5</th>\n",
       "      <td>3</td>\n",
       "      <td>0.00002</td>\n",
       "      <td>32</td>\n",
       "      <td>3</td>\n",
       "      <td>0.01</td>\n",
       "      <td>0.912206</td>\n",
       "      <td>0.004559</td>\n",
       "      <td>0.912729</td>\n",
       "      <td>0.004478</td>\n",
       "    </tr>\n",
       "    <tr>\n",
       "      <th>6</th>\n",
       "      <td>2</td>\n",
       "      <td>0.00002</td>\n",
       "      <td>32</td>\n",
       "      <td>2</td>\n",
       "      <td>0.01</td>\n",
       "      <td>0.912105</td>\n",
       "      <td>0.004920</td>\n",
       "      <td>0.912603</td>\n",
       "      <td>0.005085</td>\n",
       "    </tr>\n",
       "    <tr>\n",
       "      <th>7</th>\n",
       "      <td>5</td>\n",
       "      <td>0.00005</td>\n",
       "      <td>16</td>\n",
       "      <td>3</td>\n",
       "      <td>0.01</td>\n",
       "      <td>0.912166</td>\n",
       "      <td>0.002956</td>\n",
       "      <td>0.912355</td>\n",
       "      <td>0.003149</td>\n",
       "    </tr>\n",
       "  </tbody>\n",
       "</table>\n",
       "</div>"
      ],
      "text/plain": [
       "   hp_idx       lr  bsz  epochs    wd  mean_acc   std_acc   mean_f1    std_f1\n",
       "0       6  0.00005   32       2  0.01  0.915957  0.003060  0.916334  0.003335\n",
       "1       4  0.00005   16       2  0.01  0.914626  0.003683  0.915261  0.003624\n",
       "2       0  0.00002   16       2  0.01  0.913557  0.003604  0.914069  0.003878\n",
       "3       7  0.00005   32       3  0.01  0.913981  0.003149  0.914066  0.003235\n",
       "4       1  0.00002   16       3  0.01  0.913416  0.004194  0.913893  0.004247\n",
       "5       3  0.00002   32       3  0.01  0.912206  0.004559  0.912729  0.004478\n",
       "6       2  0.00002   32       2  0.01  0.912105  0.004920  0.912603  0.005085\n",
       "7       5  0.00005   16       3  0.01  0.912166  0.002956  0.912355  0.003149"
      ]
     },
     "metadata": {},
     "output_type": "display_data"
    },
    {
     "name": "stdout",
     "output_type": "stream",
     "text": [
      "Best HP: {'lr': np.float64(5e-05), 'bsz': np.float64(32.0), 'epochs': np.float64(2.0), 'wd': np.float64(0.01)}\n",
      "Worst HP: {'lr': np.float64(5e-05), 'bsz': np.float64(16.0), 'epochs': np.float64(3.0), 'wd': np.float64(0.01)}\n"
     ]
    }
   ],
   "source": [
    "summary = (\n",
    "    results_df\n",
    "    .groupby([\"hp_idx\",\"lr\",\"bsz\",\"epochs\",\"wd\"], as_index=False)\n",
    "    .agg(mean_acc=(\"acc\",\"mean\"), std_acc=(\"acc\",\"std\"),\n",
    "         mean_f1=(\"f1\",\"mean\"),   std_f1=(\"f1\",\"std\"))\n",
    "    .sort_values([\"mean_f1\",\"mean_acc\"], ascending=False)\n",
    "    .reset_index(drop=True)\n",
    ")\n",
    "\n",
    "display(summary)\n",
    "\n",
    "# ---- pick best & worst by mean_f1\n",
    "best_row  = summary.iloc[0]\n",
    "worst_row = summary.iloc[-1]\n",
    "best_hp_idx  = int(best_row[\"hp_idx\"])\n",
    "worst_hp_idx = int(worst_row[\"hp_idx\"])\n",
    "\n",
    "print(\"Best HP:\",  dict(best_row[[\"lr\",\"bsz\",\"epochs\",\"wd\"]]))\n",
    "print(\"Worst HP:\", dict(worst_row[[\"lr\",\"bsz\",\"epochs\",\"wd\"]]))"
   ]
  },
  {
   "cell_type": "markdown",
   "id": "9c86b2fd-eddc-41d3-bbfd-5d907120af71",
   "metadata": {},
   "source": [
    "#### Analysis\n",
    "\n",
    "\n",
    "- Best HP: lr=5e-5, batch_size=32, epochs=2, wd=0.01 | Acc 0.91596, F1 0.91633\n",
    "- Worst HP: lr=5e-5, batch_size=16, epochs=3, wd=0.01 | Acc 0.91217, F1 0.91236\n",
    "    - The spread between best and worst is ~0.38–0.40 in accuracy/F1 is not huge, but consistent.\n",
    "- Larger batches likely stabilize the optimizer and help generalization here.\n",
    "- 3 epochs often underperform 2 (mild overfitting)\n",
    "\n",
    "#### Observation\n",
    "- The model converges fast: most of the gain is by epoch 2, epoch 3 starts to trade a touch of recall/accuracy for extra fit."
   ]
  },
  {
   "cell_type": "code",
   "execution_count": 18,
   "id": "32993d83-0ab1-4aa3-8341-b17e13a5e109",
   "metadata": {},
   "outputs": [
    {
     "data": {
      "image/png": "[encoded data removed]",
      "text/plain": [
       "<Figure size 1000x500 with 1 Axes>"
      ]
     },
     "metadata": {},
     "output_type": "display_data"
    }
   ],
   "source": [
    "fig, ax = plt.subplots(figsize=(10,5))\n",
    "ax.plot(results_df.loc[results_df.hp_idx==best_hp_idx,\"fold\"],\n",
    "        results_df.loc[results_df.hp_idx==best_hp_idx,\"acc\"], marker=\"o\", label=\"best (acc)\")\n",
    "ax.plot(results_df.loc[results_df.hp_idx==worst_hp_idx,\"fold\"],\n",
    "        results_df.loc[results_df.hp_idx==worst_hp_idx,\"acc\"], marker=\"o\", label=\"worst (acc)\")\n",
    "ax.set_title(\"Per-fold accuracy: best vs worst hyperparams\")\n",
    "ax.set_xlabel(\"fold\"); ax.set_ylabel(\"accuracy\"); ax.set_xticks([1,2,3,4,5]); ax.legend()\n",
    "plt.tight_layout(); plt.show()\n",
    "\n",
    "# ---- aggregate confusion matrices (sum over folds) for best vs worst\n",
    "def sum_conf_mat(pairs):\n",
    "    cm_sum = np.zeros((2,2), dtype=int)\n",
    "    for y_true, y_pred in pairs:\n",
    "        cm_sum += confusion_matrix(y_true, y_pred, labels=[0,1])\n",
    "    return cm_sum\n",
    "\n",
    "cm_best  = sum_conf_mat(agg_preds[best_hp_idx])\n",
    "cm_worst = sum_conf_mat(agg_preds[worst_hp_idx])"
   ]
  },
  {
   "cell_type": "code",
   "execution_count": 19,
   "id": "66bf19ce-fcb4-4bf3-b7b6-0a2243571a4a",
   "metadata": {},
   "outputs": [
    {
     "data": {
      "image/png": "[encoded data removed]",
      "text/plain": [
       "<Figure size 1000x400 with 2 Axes>"
      ]
     },
     "metadata": {},
     "output_type": "display_data"
    }
   ],
   "source": [
    "fig, axes = plt.subplots(1,2, figsize=(10,4))\n",
    "for ax, cm, title in [(axes[0], cm_best,  \"Best HP (sum over folds)\"),\n",
    "                      (axes[1], cm_worst, \"Worst HP (sum over folds)\")]:\n",
    "    disp = ConfusionMatrixDisplay(cm, display_labels=[\"neg\",\"pos\"])\n",
    "    disp.plot(ax=ax, cmap=\"Blues\", values_format=\"d\", colorbar=False)\n",
    "    ax.set_title(title)\n",
    "plt.tight_layout(); plt.show()"
   ]
  },
  {
   "cell_type": "markdown",
   "id": "f89fcab4-ee76-45c3-8f9b-971a27b0b8e8",
   "metadata": {},
   "source": [
    "## Result Analysis\n",
    "\n",
    "#### 1. Traditional ML (LinearSVC & SGDClassifier) with Grid Search + KFold\n",
    "- Best F1: 0.9110\n",
    "- Best Params: LinearSVC, C=0.5, n-gram range=(1,2), min_df=3, max_features=None.\n",
    "- Observation: Using bigrams and a low min_df allowed capturing subtle context without losing rare but meaningful terms. LinearSVC outperformed SGDClassifier, showing stability with fewer hyperparameters to tune. The results were consistent across folds, indicating strong generalization.\n",
    "\n",
    "#### 2. GloVe + LSTM with KFold\n",
    "\n",
    "- Parameter Choice Rationale:\n",
    "    - Embedding dim (100): Balanced representational capacity and computational efficiency.\n",
    "    - Hidden dims (128 / 256): Tested moderate vs. high-capacity recurrent layers.\n",
    "    - Dropout (0.4 / 0.5): Controlled overfitting given model capacity.\n",
    "    - Bidirectional: Enabled capturing context from both directions for sentiment nuances.\n",
    "    - Patience (2): Allowed early stopping before overfitting.\n",
    "\n",
    "- Observation:\n",
    "    - LSTM showed better contextual capture than bag-of-words ML models but required careful dropout tuning. Larger hidden dimension (256) gave marginal gains but at higher training cost. Variance across folds was slightly higher than LinearSVC.\n",
    " \n",
    "#### 3. DistilBERT with KFold + Grid Search\n",
    "```Best HP: LR=5e-5, batch size=32, epochs=2, weight decay=0.01.```\n",
    "\n",
    "- Observation: DistilBERT achieved the highest absolute accuracy and F1 among all tested models. Minimal epochs (2) prevented overfitting, and the learning rate matched common finetuning defaults. Performance difference between top configs was small (<0.4%), indicating robustness.\n",
    "\n",
    "- | Model & Method            | Best F1       | Strengths                                                        | Weaknesses                              |\r\n",
    "| ------------------------- | ------------- | ---------------------------------------------------------------- | --------------------------------------- |\r\n",
    "| LinearSVC (Grid + KFold)  | 0.9110        | Fast, interpretable, low variance, strong baseline               | Limited context capture vs. deep models |\r\n",
    "| GloVe + LSTM (KFold)      | \\~0.912–0.915 | Better contextual learning, benefits from pre-trained embeddings | Higher variance, slower training        |\r\n",
    "| DistilBERT (Grid + KFold) | \\~0.9163      | Best overall scores, robust to small HP changes                  | High resource usage, larger model size  |\r\n"
   ]
  },
  {
   "cell_type": "markdown",
   "id": "6014d3e7-5f7a-488d-96ed-691b68901f1b",
   "metadata": {},
   "source": [
    "## Conclusion\n",
    "All three approaches benefited from KFold cross-validation to reduce variance in performance estimates and from hyperparameter tuning to maximize F1.\n",
    "- DistilBERT is the top choice for production if compute allows, due to superior performance and robustness.\n",
    "- GloVe+LSTM offers a strong compromise when GPU resources are limited, with richer representation than traditional ML.\n",
    "- LinearSVC remains an excellent lightweight baseline for fast inference and low-resource environments.\n",
    "\n"
   ]
  },
  {
   "cell_type": "code",
   "execution_count": null,
   "id": "d99c40ed-3ab0-43ff-9d48-ed612c035725",
   "metadata": {},
   "outputs": [],
   "source": []
  }
 ],
 "metadata": {
  "kernelspec": {
   "display_name": "text",
   "language": "python",
   "name": "text"
  },
  "language_info": {
   "codemirror_mode": {
    "name": "ipython",
    "version": 3
   },
   "file_extension": ".py",
   "mimetype": "text/x-python",
   "name": "python",
   "nbconvert_exporter": "python",
   "pygments_lexer": "ipython3",
   "version": "3.10.18"
  }
 },
 "nbformat": 4,
 "nbformat_minor": 5
}

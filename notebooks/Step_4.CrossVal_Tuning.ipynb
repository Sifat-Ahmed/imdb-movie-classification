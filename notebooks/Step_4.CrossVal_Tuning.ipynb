{
 "cells": [
  {
   "cell_type": "code",
   "execution_count": 1,
   "id": "90cce939-db16-4669-a66b-527cf9c8d57e",
   "metadata": {},
   "outputs": [],
   "source": [
    "import warnings\n",
    "warnings.filterwarnings(\"ignore\")\n",
    "warnings.filterwarnings(\"ignore\", category=FutureWarning)\n",
    "warnings.filterwarnings(\"ignore\", category=UserWarning)\n",
    "\n",
    "\n",
    "# from transformers.utils import logging as hf_logging\n",
    "# hf_logging.set_verbosity_error() \n",
    "\n",
    "import sys\n",
    "import random\n",
    "from pathlib import Path\n",
    "project_root = Path().resolve().parent\n",
    "sys.path.append(str(project_root / \"src\"))\n",
    "from tqdm.notebook import tqdm\n",
    "\n",
    "from sklearn.pipeline import Pipeline\n",
    "from sklearn.model_selection import StratifiedKFold, GridSearchCV\n",
    "from sklearn.feature_extraction.text import TfidfVectorizer, CountVectorizer\n",
    "from sklearn.svm import LinearSVC\n",
    "from sklearn.linear_model import SGDClassifier\n",
    "from sklearn.metrics import make_scorer, f1_score, confusion_matrix, ConfusionMatrixDisplay\n",
    "\n",
    "import torch\n",
    "import torch.nn as nn\n",
    "import numpy as np\n",
    "import pandas as pd\n",
    "from itertools import product\n",
    "\n",
    "from transformers import AutoTokenizer, AutoModelForSequenceClassification, TrainingArguments, Trainer\n",
    "from datasets import Dataset\n",
    "from torch.utils.data import DataLoader\n",
    "from dataset.custom_data import IMDBDataset\n",
    "from models.lstm import GloVeLSTM\n",
    "from utils.embeddings import load_glove_embeddings\n",
    "\n",
    "\n",
    "from transformers import AutoTokenizer, AutoModelForSequenceClassification, TrainingArguments, Trainer\n"
   ]
  },
  {
   "cell_type": "code",
   "execution_count": 2,
   "id": "2b21c66d-ddfe-4ca2-bfbc-00f7aafb866b",
   "metadata": {},
   "outputs": [],
   "source": [
    "def set_seed(seed: int = 42):\n",
    "    random.seed(seed)\n",
    "    np.random.seed(seed)\n",
    "    torch.manual_seed(seed)\n",
    "    torch.cuda.manual_seed_all(seed)\n",
    "    torch.backends.cudnn.deterministic = True\n",
    "    torch.backends.cudnn.benchmark = False"
   ]
  },
  {
   "cell_type": "code",
   "execution_count": 3,
   "id": "b5b6553e-f970-4ce7-b493-d0caeb3fcb64",
   "metadata": {},
   "outputs": [],
   "source": [
    "device = torch.device(\"cuda\" if torch.cuda.is_available() else \"cpu\")\n",
    "set_seed(42)"
   ]
  },
  {
   "cell_type": "code",
   "execution_count": 4,
   "id": "3bc19310-4055-4b52-9cd1-a3220b7ee821",
   "metadata": {},
   "outputs": [],
   "source": [
    "df = pd.read_parquet(project_root / \"data\" / \"imdb_reviews.parquet\")\n",
    "df = df[[\"review\", \"sentiment\"]].dropna().reset_index(drop=True)\n",
    "\n",
    "X = df[\"review\"].astype(str).to_list()\n",
    "y = df[\"sentiment\"].astype(int).to_numpy()"
   ]
  },
  {
   "cell_type": "code",
   "execution_count": 5,
   "id": "2e00c911-c4c7-4a8f-b759-b6caeb701fcd",
   "metadata": {},
   "outputs": [],
   "source": [
    "cv = StratifiedKFold(n_splits=5, shuffle=True, random_state=42)\n",
    "scorer = make_scorer(f1_score)\n",
    "\n",
    "pipe = Pipeline([\n",
    "    (\"vec\", TfidfVectorizer(min_df=5, ngram_range=(1,2), sublinear_tf=True)),\n",
    "    (\"clf\", LinearSVC())\n",
    "])\n"
   ]
  },
  {
   "cell_type": "code",
   "execution_count": 6,
   "id": "89c4a390-7aa9-40ce-aa9f-65c78346aa32",
   "metadata": {},
   "outputs": [
    {
     "name": "stdout",
     "output_type": "stream",
     "text": [
      "Fitting 5 folds for each of 150 candidates, totalling 750 fits\n",
      "Best F1: 0.9110504394179648\n",
      "Best params: {'clf': LinearSVC(), 'clf__C': 0.5, 'vec__max_features': None, 'vec__min_df': 3, 'vec__ngram_range': (1, 2)}\n"
     ]
    }
   ],
   "source": [
    "param_grid = [\n",
    "    {  # LinearSVC branch\n",
    "        \"clf\": [LinearSVC()],\n",
    "        \"vec__min_df\": [3, 5, 10],\n",
    "        \"vec__max_features\": [40000, 60000, None],\n",
    "        \"vec__ngram_range\": [(1,1), (1,2)],\n",
    "        \"clf__C\": [0.5, 1.0, 2.0],\n",
    "    },\n",
    "    {  # SGDClassifier branch\n",
    "        \"clf\": [SGDClassifier(random_state=42)],\n",
    "        \"vec__min_df\": [3, 5],\n",
    "        \"vec__ngram_range\": [(1,1), (1,2)],\n",
    "        \"clf__loss\": [\"hinge\", \"log_loss\"],\n",
    "        \"clf__alpha\": [1e-5, 1e-4, 1e-3],\n",
    "        \"clf__penalty\": [\"l2\", \"l1\"],\n",
    "        \"clf__max_iter\": [1000, 2000],\n",
    "    }\n",
    "]\n",
    "\n",
    "gs = GridSearchCV(\n",
    "    pipe,\n",
    "    param_grid=param_grid,\n",
    "    scoring=scorer,\n",
    "    cv=cv,\n",
    "    n_jobs=-1,\n",
    "    verbose=2,\n",
    "    refit=True\n",
    ")\n",
    "gs.fit(X, y)\n",
    "\n",
    "print(\"Best F1:\", gs.best_score_)\n",
    "print(\"Best params:\", gs.best_params_)\n",
    "best_model = gs.best_estimator_"
   ]
  },
  {
   "cell_type": "code",
   "execution_count": null,
   "id": "fd59af26-7fe8-4104-9e7a-6e4a2e5aaaf0",
   "metadata": {},
   "outputs": [],
   "source": []
  },
  {
   "cell_type": "code",
   "execution_count": 7,
   "id": "06cea601-e7d3-4f1a-aa51-db4eb7282f8c",
   "metadata": {},
   "outputs": [],
   "source": [
    "def train_epoch(model, loader, optimizer, criterion):\n",
    "    model.train()\n",
    "    total, loss_sum, correct = 0, 0.0, 0\n",
    "    for xb, yb in loader:\n",
    "        xb, yb = xb.to(device), yb.float().to(device)\n",
    "        optimizer.zero_grad()\n",
    "        logits = model(xb)               # (B,)\n",
    "        loss = criterion(logits, yb)\n",
    "        loss.backward()\n",
    "        optimizer.step()\n",
    "\n",
    "        loss_sum += float(loss.item()) * yb.size(0)\n",
    "        preds = (logits.sigmoid() >= 0.5).long()\n",
    "        correct += (preds == yb.long()).sum().item()\n",
    "        total += yb.size(0)\n",
    "    return loss_sum/total, correct/total\n",
    "\n",
    "@torch.no_grad()\n",
    "def eval_epoch(model, loader, criterion):\n",
    "    model.eval()\n",
    "    total, loss_sum, correct = 0, 0.0, 0\n",
    "    ys, ps = [], []\n",
    "    for xb, yb in loader:\n",
    "        xb, yb = xb.to(device), yb.float().to(device)\n",
    "        logits = model(xb)\n",
    "        loss = criterion(logits, yb)\n",
    "        loss_sum += float(loss.item()) * yb.size(0)\n",
    "\n",
    "        prob = logits.sigmoid()\n",
    "        pred = (prob >= 0.5).long()\n",
    "        correct += (pred == yb.long()).sum().item()\n",
    "        total += yb.size(0)\n",
    "\n",
    "        ys.append(yb.cpu().numpy())\n",
    "        ps.append(pred.cpu().numpy())\n",
    "\n",
    "    y = np.concatenate(ys)\n",
    "    p = np.concatenate(ps)\n",
    "    return loss_sum/total, correct/total, y, p\n"
   ]
  },
  {
   "cell_type": "code",
   "execution_count": 8,
   "id": "1634504f-24fc-4ed1-922a-06a70c6fccc8",
   "metadata": {},
   "outputs": [],
   "source": [
    "def train_lstm_one_fold(params, tr_idx, va_idx, texts, labels, glove_filename: str):\n",
    "    tr_texts = [texts[i] for i in tr_idx]\n",
    "    tr_labels = [labels[i] for i in tr_idx]\n",
    "    va_texts = [texts[i] for i in va_idx]\n",
    "    va_labels = [labels[i] for i in va_idx]\n",
    "\n",
    "    # Build train fold dataset (creates vocab from train fold)\n",
    "    train_ds = IMDBDataset(\n",
    "        texts=tr_texts,\n",
    "        labels=tr_labels,\n",
    "        max_len=params[\"max_len\"],\n",
    "        preprocess=True,\n",
    "        min_freq=params.get(\"min_freq\", 2),\n",
    "        max_vocab_size=params.get(\"max_vocab_size\", 30000),\n",
    "        language=\"english\"\n",
    "    )\n",
    "\n",
    "    # Validation dataset shares the same vocab\n",
    "    val_ds = IMDBDataset(\n",
    "        texts=va_texts,\n",
    "        labels=va_labels,\n",
    "        max_len=params[\"max_len\"],\n",
    "        preprocess=True,\n",
    "        min_freq=params.get(\"min_freq\", 2),\n",
    "        max_vocab_size=params.get(\"max_vocab_size\", 30000),\n",
    "        language=\"english\"\n",
    "    )\n",
    "    val_ds.vocab = train_ds.vocab  # align token->id mapping\n",
    "\n",
    "    train_loader = DataLoader(train_ds, batch_size=params[\"batch_size\"], shuffle=True, num_workers=0)\n",
    "    val_loader   = DataLoader(val_ds,   batch_size=params[\"batch_size\"], shuffle=False, num_workers=0)\n",
    "\n",
    "    # Load GloVe embeddings for THIS fold's vocab (OOV get random)\n",
    "    glove_tensor = load_glove_embeddings(glove_filename, train_ds.vocab, embedding_dim=params[\"emb_dim\"])\n",
    "\n",
    "    # Build model\n",
    "    model = GloVeLSTM(\n",
    "                vocab_size=len(train_ds.vocab),\n",
    "                emb_dim=params[\"emb_dim\"],\n",
    "                hidden_dim=params[\"hidden_dim\"],\n",
    "                num_layers=params[\"num_layers\"],\n",
    "                bidirectional=params[\"bidirectional\"],\n",
    "                dropout=params[\"dropout\"],\n",
    "                pad_idx=0,\n",
    "                pretrained_embeddings=glove_tensor\n",
    "            ).to(device)\n",
    "\n",
    "    optimizer = torch.optim.Adam(model.parameters(), lr=params[\"lr\"])\n",
    "    criterion = nn.BCEWithLogitsLoss()\n",
    "\n",
    "    # Early stopping\n",
    "    patience = params.get(\"patience\", 2)\n",
    "    best_acc, best_f1, best_epoch = 0.0, 0.0, None\n",
    "    patience_ctr = 0\n",
    "\n",
    "    for epoch in range(1, params[\"epochs\"] + 1):\n",
    "        tr_loss, tr_acc = train_epoch(model, train_loader, optimizer, criterion)\n",
    "        va_loss, va_acc, y_true, y_pred = eval_epoch(model, val_loader, criterion)\n",
    "        va_f1 = f1_score(y_true, y_pred)\n",
    "\n",
    "        tqdm.write(f\"[Fold] Ep{epoch:02d} | tr_loss={tr_loss:.4f} tr_acc={tr_acc:.4f} \"\n",
    "                   f\"| va_loss={va_loss:.4f} va_acc={va_acc:.4f} va_f1={va_f1:.4f}\")\n",
    "\n",
    "        if va_acc > best_acc:\n",
    "            best_acc = va_acc\n",
    "            best_f1  = va_f1\n",
    "            best_epoch = epoch\n",
    "            patience_ctr = 0\n",
    "        else:\n",
    "            patience_ctr += 1\n",
    "            if patience_ctr >= patience:\n",
    "                tqdm.write(f\"Early stop @ epoch {epoch} (best acc={best_acc:.4f} f1={best_f1:.4f})\")\n",
    "                break\n",
    "\n",
    "    return {\"val_acc\": best_acc, \"val_f1\": best_f1, \"best_epoch\": best_epoch}"
   ]
  },
  {
   "cell_type": "code",
   "execution_count": 9,
   "id": "4ed840e1-7989-4d43-a99f-a06bbc72e37d",
   "metadata": {},
   "outputs": [],
   "source": [
    "def kfold_lstm_cv(texts, labels, param_grid, glove_filename=\"glove.6B.100d.txt\", n_splits=5, seed=42):\n",
    "    cv = StratifiedKFold(n_splits=n_splits, shuffle=True, random_state=seed)\n",
    "    X = np.array(texts, dtype=object)\n",
    "    y = np.array(labels, dtype=int)\n",
    "\n",
    "    all_runs = []\n",
    "    for params in param_grid:\n",
    "        fold_metrics = []\n",
    "        tqdm.write(f\"\\n=== Params: {params} ===\")\n",
    "        for fold, (tr_idx, va_idx) in enumerate(cv.split(X, y), start=1):\n",
    "            tqdm.write(f\"\\n--- Fold {fold}/{n_splits} ---\")\n",
    "            set_seed(42 + fold)  # fold-stable seed\n",
    "            m = train_lstm_one_fold(params, tr_idx, va_idx, texts, labels, glove_filename)\n",
    "            fold_metrics.append(m)\n",
    "\n",
    "        mean_acc = float(np.mean([m[\"val_acc\"] for m in fold_metrics]))\n",
    "        std_acc  = float(np.std([m[\"val_acc\"] for m in fold_metrics]))\n",
    "        mean_f1  = float(np.mean([m[\"val_f1\"] for m in fold_metrics]))\n",
    "        std_f1   = float(np.std([m[\"val_f1\"] for m in fold_metrics]))\n",
    "\n",
    "        all_runs.append({\n",
    "            \"params\": params,\n",
    "            \"mean_acc\": mean_acc, \"std_acc\": std_acc,\n",
    "            \"mean_f1\": mean_f1,   \"std_f1\": std_f1,\n",
    "        })\n",
    "\n",
    "        tqdm.write(f\"\\nRESULT | acc={mean_acc:.4f}±{std_acc:.4f} | f1={mean_f1:.4f}±{std_f1:.4f}\")\n",
    "\n",
    "    all_runs = sorted(all_runs, key=lambda d: (d[\"mean_f1\"], d[\"mean_acc\"]), reverse=True)\n",
    "    return all_runs"
   ]
  },
  {
   "cell_type": "code",
   "execution_count": 10,
   "id": "fc10754c-94cf-4d37-a902-1bb8082f9e27",
   "metadata": {},
   "outputs": [
    {
     "name": "stdout",
     "output_type": "stream",
     "text": [
      "\n",
      "=== Params: {'emb_dim': 100, 'hidden_dim': 128, 'num_layers': 2, 'bidirectional': True, 'dropout': 0.4, 'lr': 0.001, 'batch_size': 64, 'epochs': 8, 'max_len': 256, 'min_freq': 2, 'max_vocab_size': 30000, 'patience': 2} ===\n",
      "\n",
      "--- Fold 1/5 ---\n",
      "[Fold] Ep01 | tr_loss=0.5953 tr_acc=0.6805 | va_loss=0.4347 va_acc=0.8027 va_f1=0.7934\n",
      "[Fold] Ep02 | tr_loss=0.3932 tr_acc=0.8293 | va_loss=0.3630 va_acc=0.8424 va_f1=0.8362\n",
      "[Fold] Ep03 | tr_loss=0.3396 tr_acc=0.8545 | va_loss=0.3365 va_acc=0.8572 va_f1=0.8631\n",
      "[Fold] Ep04 | tr_loss=0.3105 tr_acc=0.8683 | va_loss=0.3240 va_acc=0.8604 va_f1=0.8540\n",
      "[Fold] Ep05 | tr_loss=0.2861 tr_acc=0.8806 | va_loss=0.2977 va_acc=0.8752 va_f1=0.8769\n",
      "[Fold] Ep06 | tr_loss=0.2682 tr_acc=0.8902 | va_loss=0.3197 va_acc=0.8705 va_f1=0.8643\n",
      "[Fold] Ep07 | tr_loss=0.2474 tr_acc=0.8989 | va_loss=0.2774 va_acc=0.8843 va_f1=0.8866\n",
      "[Fold] Ep08 | tr_loss=0.2270 tr_acc=0.9092 | va_loss=0.2980 va_acc=0.8819 va_f1=0.8868\n",
      "\n",
      "--- Fold 2/5 ---\n",
      "[Fold] Ep01 | tr_loss=0.5924 tr_acc=0.6938 | va_loss=0.5028 va_acc=0.7745 va_f1=0.7830\n",
      "[Fold] Ep02 | tr_loss=0.4192 tr_acc=0.8103 | va_loss=0.3463 va_acc=0.8382 va_f1=0.8525\n",
      "[Fold] Ep03 | tr_loss=0.3365 tr_acc=0.8558 | va_loss=0.3062 va_acc=0.8713 va_f1=0.8716\n",
      "[Fold] Ep04 | tr_loss=0.3083 tr_acc=0.8690 | va_loss=0.3013 va_acc=0.8759 va_f1=0.8811\n",
      "[Fold] Ep05 | tr_loss=0.2805 tr_acc=0.8836 | va_loss=0.2776 va_acc=0.8843 va_f1=0.8863\n",
      "[Fold] Ep06 | tr_loss=0.2593 tr_acc=0.8944 | va_loss=0.2682 va_acc=0.8857 va_f1=0.8840\n",
      "[Fold] Ep07 | tr_loss=0.2405 tr_acc=0.9041 | va_loss=0.2665 va_acc=0.8907 va_f1=0.8921\n",
      "[Fold] Ep08 | tr_loss=0.2173 tr_acc=0.9131 | va_loss=0.2874 va_acc=0.8837 va_f1=0.8898\n",
      "\n",
      "--- Fold 3/5 ---\n",
      "[Fold] Ep01 | tr_loss=0.5983 tr_acc=0.6755 | va_loss=0.4460 va_acc=0.8094 va_f1=0.8161\n",
      "[Fold] Ep02 | tr_loss=0.3941 tr_acc=0.8261 | va_loss=0.3275 va_acc=0.8590 va_f1=0.8596\n",
      "[Fold] Ep03 | tr_loss=0.3304 tr_acc=0.8588 | va_loss=0.3042 va_acc=0.8749 va_f1=0.8798\n",
      "[Fold] Ep04 | tr_loss=0.3011 tr_acc=0.8758 | va_loss=0.2857 va_acc=0.8812 va_f1=0.8821\n",
      "[Fold] Ep05 | tr_loss=0.2806 tr_acc=0.8844 | va_loss=0.2979 va_acc=0.8654 va_f1=0.8548\n",
      "[Fold] Ep06 | tr_loss=0.2612 tr_acc=0.8935 | va_loss=0.2739 va_acc=0.8831 va_f1=0.8873\n",
      "[Fold] Ep07 | tr_loss=0.2388 tr_acc=0.9047 | va_loss=0.2792 va_acc=0.8873 va_f1=0.8905\n",
      "[Fold] Ep08 | tr_loss=0.2195 tr_acc=0.9124 | va_loss=0.2834 va_acc=0.8893 va_f1=0.8867\n",
      "\n",
      "--- Fold 4/5 ---\n",
      "[Fold] Ep01 | tr_loss=0.6160 tr_acc=0.6642 | va_loss=0.4674 va_acc=0.7899 va_f1=0.7779\n",
      "[Fold] Ep02 | tr_loss=0.4298 tr_acc=0.8093 | va_loss=0.3804 va_acc=0.8330 va_f1=0.8260\n",
      "[Fold] Ep03 | tr_loss=0.3691 tr_acc=0.8394 | va_loss=0.3581 va_acc=0.8507 va_f1=0.8470\n",
      "[Fold] Ep04 | tr_loss=0.3405 tr_acc=0.8550 | va_loss=0.3360 va_acc=0.8578 va_f1=0.8561\n",
      "[Fold] Ep05 | tr_loss=0.3223 tr_acc=0.8624 | va_loss=0.3372 va_acc=0.8585 va_f1=0.8528\n",
      "[Fold] Ep06 | tr_loss=0.2937 tr_acc=0.8755 | va_loss=0.3055 va_acc=0.8726 va_f1=0.8758\n",
      "[Fold] Ep07 | tr_loss=0.2715 tr_acc=0.8877 | va_loss=0.3021 va_acc=0.8749 va_f1=0.8793\n",
      "[Fold] Ep08 | tr_loss=0.2512 tr_acc=0.8964 | va_loss=0.2903 va_acc=0.8827 va_f1=0.8828\n",
      "\n",
      "--- Fold 5/5 ---\n",
      "[Fold] Ep01 | tr_loss=0.5878 tr_acc=0.6969 | va_loss=0.6271 va_acc=0.6468 va_f1=0.6429\n",
      "[Fold] Ep02 | tr_loss=0.4983 tr_acc=0.7638 | va_loss=0.4492 va_acc=0.8003 va_f1=0.8018\n",
      "[Fold] Ep03 | tr_loss=0.4290 tr_acc=0.8039 | va_loss=0.3571 va_acc=0.8446 va_f1=0.8471\n",
      "[Fold] Ep04 | tr_loss=0.3532 tr_acc=0.8494 | va_loss=0.3300 va_acc=0.8551 va_f1=0.8532\n",
      "[Fold] Ep05 | tr_loss=0.3253 tr_acc=0.8643 | va_loss=0.3170 va_acc=0.8625 va_f1=0.8599\n",
      "[Fold] Ep06 | tr_loss=0.3031 tr_acc=0.8729 | va_loss=0.3047 va_acc=0.8681 va_f1=0.8685\n",
      "[Fold] Ep07 | tr_loss=0.2852 tr_acc=0.8818 | va_loss=0.3006 va_acc=0.8721 va_f1=0.8725\n",
      "[Fold] Ep08 | tr_loss=0.2680 tr_acc=0.8891 | va_loss=0.2982 va_acc=0.8699 va_f1=0.8704\n",
      "\n",
      "RESULT | acc=0.8838±0.0066 | f1=0.8841±0.0065\n",
      "\n",
      "=== Params: {'emb_dim': 100, 'hidden_dim': 256, 'num_layers': 2, 'bidirectional': True, 'dropout': 0.5, 'lr': 0.0005, 'batch_size': 64, 'epochs': 8, 'max_len': 256, 'min_freq': 2, 'max_vocab_size': 30000, 'patience': 2} ===\n",
      "\n",
      "--- Fold 1/5 ---\n",
      "[Fold] Ep01 | tr_loss=0.6383 tr_acc=0.6255 | va_loss=0.6227 va_acc=0.6383 va_f1=0.6026\n",
      "[Fold] Ep02 | tr_loss=0.6151 tr_acc=0.6627 | va_loss=0.5699 va_acc=0.6964 va_f1=0.7477\n",
      "[Fold] Ep03 | tr_loss=0.4968 tr_acc=0.7683 | va_loss=0.4407 va_acc=0.8079 va_f1=0.7972\n",
      "[Fold] Ep04 | tr_loss=0.4028 tr_acc=0.8241 | va_loss=0.3802 va_acc=0.8332 va_f1=0.8470\n",
      "[Fold] Ep05 | tr_loss=0.3484 tr_acc=0.8512 | va_loss=0.3371 va_acc=0.8601 va_f1=0.8610\n",
      "[Fold] Ep06 | tr_loss=0.3179 tr_acc=0.8664 | va_loss=0.3217 va_acc=0.8635 va_f1=0.8617\n",
      "[Fold] Ep07 | tr_loss=0.2992 tr_acc=0.8740 | va_loss=0.3192 va_acc=0.8660 va_f1=0.8738\n",
      "[Fold] Ep08 | tr_loss=0.2850 tr_acc=0.8805 | va_loss=0.3027 va_acc=0.8709 va_f1=0.8663\n",
      "\n",
      "--- Fold 2/5 ---\n",
      "[Fold] Ep01 | tr_loss=0.5868 tr_acc=0.6860 | va_loss=0.4774 va_acc=0.7731 va_f1=0.7605\n",
      "[Fold] Ep02 | tr_loss=0.4099 tr_acc=0.8163 | va_loss=0.3640 va_acc=0.8437 va_f1=0.8364\n",
      "[Fold] Ep03 | tr_loss=0.3454 tr_acc=0.8515 | va_loss=0.3188 va_acc=0.8667 va_f1=0.8699\n",
      "[Fold] Ep04 | tr_loss=0.3211 tr_acc=0.8641 | va_loss=0.3063 va_acc=0.8743 va_f1=0.8737\n",
      "[Fold] Ep05 | tr_loss=0.2949 tr_acc=0.8765 | va_loss=0.3007 va_acc=0.8711 va_f1=0.8637\n",
      "[Fold] Ep06 | tr_loss=0.2807 tr_acc=0.8831 | va_loss=0.2862 va_acc=0.8768 va_f1=0.8726\n",
      "[Fold] Ep07 | tr_loss=0.2634 tr_acc=0.8909 | va_loss=0.3230 va_acc=0.8600 va_f1=0.8468\n",
      "[Fold] Ep08 | tr_loss=0.2464 tr_acc=0.8994 | va_loss=0.2784 va_acc=0.8803 va_f1=0.8859\n",
      "\n",
      "--- Fold 3/5 ---\n",
      "[Fold] Ep01 | tr_loss=0.6579 tr_acc=0.6030 | va_loss=0.6124 va_acc=0.6889 va_f1=0.6550\n",
      "[Fold] Ep02 | tr_loss=0.6083 tr_acc=0.6684 | va_loss=0.5180 va_acc=0.7461 va_f1=0.7773\n",
      "[Fold] Ep03 | tr_loss=0.4384 tr_acc=0.7990 | va_loss=0.4080 va_acc=0.8179 va_f1=0.8360\n",
      "[Fold] Ep04 | tr_loss=0.3724 tr_acc=0.8343 | va_loss=0.3759 va_acc=0.8400 va_f1=0.8538\n",
      "[Fold] Ep05 | tr_loss=0.3341 tr_acc=0.8549 | va_loss=0.3171 va_acc=0.8661 va_f1=0.8708\n",
      "[Fold] Ep06 | tr_loss=0.3142 tr_acc=0.8660 | va_loss=0.3032 va_acc=0.8710 va_f1=0.8693\n",
      "[Fold] Ep07 | tr_loss=0.2984 tr_acc=0.8741 | va_loss=0.2903 va_acc=0.8795 va_f1=0.8801\n",
      "[Fold] Ep08 | tr_loss=0.2805 tr_acc=0.8824 | va_loss=0.2774 va_acc=0.8839 va_f1=0.8842\n",
      "\n",
      "--- Fold 4/5 ---\n",
      "[Fold] Ep01 | tr_loss=0.5971 tr_acc=0.6819 | va_loss=0.6216 va_acc=0.6026 va_f1=0.7115\n",
      "[Fold] Ep02 | tr_loss=0.5305 tr_acc=0.7383 | va_loss=0.4290 va_acc=0.8077 va_f1=0.8194\n",
      "[Fold] Ep03 | tr_loss=0.3877 tr_acc=0.8290 | va_loss=0.3534 va_acc=0.8494 va_f1=0.8498\n",
      "[Fold] Ep04 | tr_loss=0.3386 tr_acc=0.8542 | va_loss=0.3213 va_acc=0.8649 va_f1=0.8663\n",
      "[Fold] Ep05 | tr_loss=0.3083 tr_acc=0.8692 | va_loss=0.3198 va_acc=0.8627 va_f1=0.8584\n",
      "[Fold] Ep06 | tr_loss=0.2886 tr_acc=0.8791 | va_loss=0.3094 va_acc=0.8704 va_f1=0.8718\n",
      "[Fold] Ep07 | tr_loss=0.2671 tr_acc=0.8898 | va_loss=0.2951 va_acc=0.8785 va_f1=0.8820\n",
      "[Fold] Ep08 | tr_loss=0.2527 tr_acc=0.8974 | va_loss=0.2989 va_acc=0.8740 va_f1=0.8709\n",
      "\n",
      "--- Fold 5/5 ---\n",
      "[Fold] Ep01 | tr_loss=0.6162 tr_acc=0.6721 | va_loss=0.6481 va_acc=0.6358 va_f1=0.5922\n",
      "[Fold] Ep02 | tr_loss=0.4991 tr_acc=0.7608 | va_loss=0.3951 va_acc=0.8223 va_f1=0.8342\n",
      "[Fold] Ep03 | tr_loss=0.3716 tr_acc=0.8390 | va_loss=0.3533 va_acc=0.8497 va_f1=0.8568\n",
      "[Fold] Ep04 | tr_loss=0.3283 tr_acc=0.8596 | va_loss=0.3500 va_acc=0.8567 va_f1=0.8490\n",
      "[Fold] Ep05 | tr_loss=0.3023 tr_acc=0.8731 | va_loss=0.3068 va_acc=0.8720 va_f1=0.8687\n",
      "[Fold] Ep06 | tr_loss=0.2790 tr_acc=0.8843 | va_loss=0.2974 va_acc=0.8747 va_f1=0.8702\n",
      "[Fold] Ep07 | tr_loss=0.2585 tr_acc=0.8945 | va_loss=0.2852 va_acc=0.8792 va_f1=0.8840\n",
      "[Fold] Ep08 | tr_loss=0.2412 tr_acc=0.9021 | va_loss=0.2829 va_acc=0.8827 va_f1=0.8806\n",
      "\n",
      "RESULT | acc=0.8793±0.0046 | f1=0.8798±0.0070\n"
     ]
    },
    {
     "data": {
      "text/html": [
       "<div>\n",
       "<style scoped>\n",
       "    .dataframe tbody tr th:only-of-type {\n",
       "        vertical-align: middle;\n",
       "    }\n",
       "\n",
       "    .dataframe tbody tr th {\n",
       "        vertical-align: top;\n",
       "    }\n",
       "\n",
       "    .dataframe thead th {\n",
       "        text-align: right;\n",
       "    }\n",
       "</style>\n",
       "<table border=\"1\" class=\"dataframe\">\n",
       "  <thead>\n",
       "    <tr style=\"text-align: right;\">\n",
       "      <th></th>\n",
       "      <th>params</th>\n",
       "      <th>mean_acc</th>\n",
       "      <th>std_acc</th>\n",
       "      <th>mean_f1</th>\n",
       "      <th>std_f1</th>\n",
       "    </tr>\n",
       "  </thead>\n",
       "  <tbody>\n",
       "    <tr>\n",
       "      <th>0</th>\n",
       "      <td>{'emb_dim': 100, 'hidden_dim': 128, 'num_layer...</td>\n",
       "      <td>0.883829</td>\n",
       "      <td>0.006560</td>\n",
       "      <td>0.884136</td>\n",
       "      <td>0.006506</td>\n",
       "    </tr>\n",
       "    <tr>\n",
       "      <th>1</th>\n",
       "      <td>{'emb_dim': 100, 'hidden_dim': 256, 'num_layer...</td>\n",
       "      <td>0.879271</td>\n",
       "      <td>0.004578</td>\n",
       "      <td>0.879814</td>\n",
       "      <td>0.006981</td>\n",
       "    </tr>\n",
       "  </tbody>\n",
       "</table>\n",
       "</div>"
      ],
      "text/plain": [
       "                                              params  mean_acc   std_acc  \\\n",
       "0  {'emb_dim': 100, 'hidden_dim': 128, 'num_layer...  0.883829  0.006560   \n",
       "1  {'emb_dim': 100, 'hidden_dim': 256, 'num_layer...  0.879271  0.004578   \n",
       "\n",
       "    mean_f1    std_f1  \n",
       "0  0.884136  0.006506  \n",
       "1  0.879814  0.006981  "
      ]
     },
     "execution_count": 10,
     "metadata": {},
     "output_type": "execute_result"
    }
   ],
   "source": [
    "texts = df[\"review\"].astype(str).tolist()\n",
    "labels = df[\"sentiment\"].astype(int).tolist()\n",
    "\n",
    "# Small param grid to start (expand once it runs fine)\n",
    "param_grid = [\n",
    "    {\n",
    "        \"emb_dim\": 100,          # must match your GloVe file (e.g., glove.6B.100d.txt)\n",
    "        \"hidden_dim\": 128,\n",
    "        \"num_layers\": 2,\n",
    "        \"bidirectional\": True,\n",
    "        \"dropout\": 0.4,\n",
    "        \"lr\": 1e-3,\n",
    "        \"batch_size\": 64,\n",
    "        \"epochs\": 8,\n",
    "        \"max_len\": 256,\n",
    "        \"min_freq\": 2,\n",
    "        \"max_vocab_size\": 30000,\n",
    "        \"patience\": 2,\n",
    "    },\n",
    "    {\n",
    "        \"emb_dim\": 100,\n",
    "        \"hidden_dim\": 256,\n",
    "        \"num_layers\": 2,\n",
    "        \"bidirectional\": True,\n",
    "        \"dropout\": 0.5,\n",
    "        \"lr\": 5e-4,\n",
    "        \"batch_size\": 64,\n",
    "        \"epochs\": 8,\n",
    "        \"max_len\": 256,\n",
    "        \"min_freq\": 2,\n",
    "        \"max_vocab_size\": 30000,\n",
    "        \"patience\": 2,\n",
    "    },\n",
    "]\n",
    "\n",
    "# Run CV\n",
    "results = kfold_lstm_cv(\n",
    "    texts=X,\n",
    "    labels=y,\n",
    "    param_grid=param_grid,\n",
    "    glove_filename=\"glove.6B.100d.txt\",  # file must be in <project_root>/data\n",
    "    n_splits=5,\n",
    "    seed=42\n",
    ")\n",
    "\n",
    "# Leaderboard\n",
    "pd.DataFrame(results)"
   ]
  },
  {
   "cell_type": "code",
   "execution_count": 11,
   "id": "fb5fc765-a7ed-40bf-8761-2ca65d37fd62",
   "metadata": {},
   "outputs": [],
   "source": [
    "model_name = \"distilbert-base-uncased\"  # faster than BERT-base\n",
    "tokenizer = AutoTokenizer.from_pretrained(model_name)"
   ]
  },
  {
   "cell_type": "code",
   "execution_count": 12,
   "id": "512753b0-732d-4492-8a12-3b2d3e4c8ea4",
   "metadata": {},
   "outputs": [],
   "source": [
    "def tokenize_batch(batch):\n",
    "    return tokenizer(batch[\"text\"], truncation=True, padding=True, max_length=256)\n",
    "\n",
    "def train_eval_one_fold(train_idx, val_idx, hp):\n",
    "    tr_texts = [texts[i] for i in train_idx]; tr_labels = [labels[i] for i in train_idx]\n",
    "    va_texts = [texts[i] for i in val_idx];   va_labels = [labels[i] for i in val_idx]\n",
    "\n",
    "    train_ds = Dataset.from_dict({\"text\": tr_texts, \"label\": tr_labels}).map(tokenize_batch, batched=True)\n",
    "    val_ds   = Dataset.from_dict({\"text\": va_texts, \"label\": va_labels}).map(tokenize_batch, batched=True)\n",
    "\n",
    "    model = AutoModelForSequenceClassification.from_pretrained(model_name, num_labels=2)\n",
    "\n",
    "    args = TrainingArguments(\n",
    "        output_dir=\"tmp_out\",\n",
    "        learning_rate=hp[\"lr\"],\n",
    "        per_device_train_batch_size=hp[\"bsz\"],\n",
    "        per_device_eval_batch_size=hp[\"bsz\"],\n",
    "        num_train_epochs=hp[\"epochs\"],\n",
    "        weight_decay=hp[\"wd\"],\n",
    "        eval_strategy=\"epoch\",\n",
    "        disable_tqdm=False,\n",
    "        save_strategy=\"no\",\n",
    "        log_level=\"error\",\n",
    "        log_level_replica=\"error\",\n",
    "        logging_steps=50,\n",
    "        report_to=[],\n",
    "        fp16=torch.cuda.is_available(),\n",
    "    )\n",
    "\n",
    "    def compute_metrics(eval_pred):\n",
    "        logits, y_true = eval_pred\n",
    "        y_pred = np.argmax(logits, axis=1)\n",
    "        return {\"accuracy\": (y_pred == y_true).mean(), \"f1\": f1_score(y_true, y_pred)}\n",
    "\n",
    "    trainer = Trainer(\n",
    "        model=model,\n",
    "        args=args,\n",
    "        train_dataset=train_ds,\n",
    "        eval_dataset=val_ds,\n",
    "        tokenizer=tokenizer,\n",
    "        compute_metrics=compute_metrics,\n",
    "    )\n",
    "    trainer.train()\n",
    "    out = trainer.evaluate()\n",
    "    preds = trainer.predict(val_ds)\n",
    "    y_pred = np.argmax(preds.predictions, axis=1)\n",
    "    y_true = np.array(va_labels)\n",
    "    return {\"eval_accuracy\": out[\"eval_accuracy\"], \"eval_f1\": out[\"eval_f1\"], \"y_true\": y_true, \"y_pred\": y_pred}\n"
   ]
  },
  {
   "cell_type": "code",
   "execution_count": 13,
   "id": "bc1408ad-0079-4c0c-828a-55800545a32f",
   "metadata": {},
   "outputs": [],
   "source": [
    "def expand_grid(grid_dict):\n",
    "    keys = list(grid_dict.keys())\n",
    "    vals = list(grid_dict.values())\n",
    "    return [dict(zip(keys, combo)) for combo in product(*vals)]\n",
    "\n",
    "grid = {\n",
    "    \"lr\":   [2e-5, 3e-5, 5e-5],\n",
    "    \"bsz\":  [16, 32, 64],\n",
    "    \"epochs\": [2, 3, 4],        \n",
    "    \"wd\":   [0.01],\n",
    "}\n",
    "hp_list = expand_grid(grid)"
   ]
  },
  {
   "cell_type": "code",
   "execution_count": null,
   "id": "69aefb54-86a9-4626-b994-9c4a1d76099d",
   "metadata": {},
   "outputs": [
    {
     "data": {
      "application/vnd.jupyter.widget-view+json": {
       "model_id": "2d959cb4586547c3ae8a604c8d805a84",
       "version_major": 2,
       "version_minor": 0
      },
      "text/plain": [
       "Map:   0%|          | 0/39665 [00:00<?, ? examples/s]"
      ]
     },
     "metadata": {},
     "output_type": "display_data"
    },
    {
     "data": {
      "application/vnd.jupyter.widget-view+json": {
       "model_id": "2877938d50784798a5689bbc12ea8fc3",
       "version_major": 2,
       "version_minor": 0
      },
      "text/plain": [
       "Map:   0%|          | 0/9917 [00:00<?, ? examples/s]"
      ]
     },
     "metadata": {},
     "output_type": "display_data"
    },
    {
     "name": "stderr",
     "output_type": "stream",
     "text": [
      "Some weights of DistilBertForSequenceClassification were not initialized from the model checkpoint at distilbert-base-uncased and are newly initialized: ['classifier.bias', 'classifier.weight', 'pre_classifier.bias', 'pre_classifier.weight']\n",
      "You should probably TRAIN this model on a down-stream task to be able to use it for predictions and inference.\n"
     ]
    },
    {
     "data": {
      "text/html": [
       "\n",
       "    <div>\n",
       "      \n",
       "      <progress value='4960' max='4960' style='width:300px; height:20px; vertical-align: middle;'></progress>\n",
       "      [4960/4960 03:30, Epoch 2/2]\n",
       "    </div>\n",
       "    <table border=\"1\" class=\"dataframe\">\n",
       "  <thead>\n",
       " <tr style=\"text-align: left;\">\n",
       "      <th>Epoch</th>\n",
       "      <th>Training Loss</th>\n",
       "      <th>Validation Loss</th>\n",
       "      <th>Accuracy</th>\n",
       "      <th>F1</th>\n",
       "    </tr>\n",
       "  </thead>\n",
       "  <tbody>\n",
       "    <tr>\n",
       "      <td>1</td>\n",
       "      <td>0.254500</td>\n",
       "      <td>0.282800</td>\n",
       "      <td>0.891600</td>\n",
       "      <td>0.885723</td>\n",
       "    </tr>\n",
       "    <tr>\n",
       "      <td>2</td>\n",
       "      <td>0.161400</td>\n",
       "      <td>0.274318</td>\n",
       "      <td>0.910154</td>\n",
       "      <td>0.910533</td>\n",
       "    </tr>\n",
       "  </tbody>\n",
       "</table><p>"
      ],
      "text/plain": [
       "<IPython.core.display.HTML object>"
      ]
     },
     "metadata": {},
     "output_type": "display_data"
    },
    {
     "data": {
      "text/html": [],
      "text/plain": [
       "<IPython.core.display.HTML object>"
      ]
     },
     "metadata": {},
     "output_type": "display_data"
    },
    {
     "data": {
      "application/vnd.jupyter.widget-view+json": {
       "model_id": "950cb8b1c29c473197bf502b3dd06223",
       "version_major": 2,
       "version_minor": 0
      },
      "text/plain": [
       "Map:   0%|          | 0/39665 [00:00<?, ? examples/s]"
      ]
     },
     "metadata": {},
     "output_type": "display_data"
    },
    {
     "data": {
      "application/vnd.jupyter.widget-view+json": {
       "model_id": "b7527380dbbd4974bb5b3afb80594827",
       "version_major": 2,
       "version_minor": 0
      },
      "text/plain": [
       "Map:   0%|          | 0/9917 [00:00<?, ? examples/s]"
      ]
     },
     "metadata": {},
     "output_type": "display_data"
    },
    {
     "data": {
      "text/html": [
       "\n",
       "    <div>\n",
       "      \n",
       "      <progress value='4960' max='4960' style='width:300px; height:20px; vertical-align: middle;'></progress>\n",
       "      [4960/4960 03:31, Epoch 2/2]\n",
       "    </div>\n",
       "    <table border=\"1\" class=\"dataframe\">\n",
       "  <thead>\n",
       " <tr style=\"text-align: left;\">\n",
       "      <th>Epoch</th>\n",
       "      <th>Training Loss</th>\n",
       "      <th>Validation Loss</th>\n",
       "      <th>Accuracy</th>\n",
       "      <th>F1</th>\n",
       "    </tr>\n",
       "  </thead>\n",
       "  <tbody>\n",
       "    <tr>\n",
       "      <td>1</td>\n",
       "      <td>0.262700</td>\n",
       "      <td>0.224220</td>\n",
       "      <td>0.911667</td>\n",
       "      <td>0.910080</td>\n",
       "    </tr>\n",
       "    <tr>\n",
       "      <td>2</td>\n",
       "      <td>0.122000</td>\n",
       "      <td>0.235450</td>\n",
       "      <td>0.918927</td>\n",
       "      <td>0.920016</td>\n",
       "    </tr>\n",
       "  </tbody>\n",
       "</table><p>"
      ],
      "text/plain": [
       "<IPython.core.display.HTML object>"
      ]
     },
     "metadata": {},
     "output_type": "display_data"
    },
    {
     "data": {
      "text/html": [],
      "text/plain": [
       "<IPython.core.display.HTML object>"
      ]
     },
     "metadata": {},
     "output_type": "display_data"
    },
    {
     "data": {
      "application/vnd.jupyter.widget-view+json": {
       "model_id": "28a634e4970647339d6f06fa316574d1",
       "version_major": 2,
       "version_minor": 0
      },
      "text/plain": [
       "Map:   0%|          | 0/39666 [00:00<?, ? examples/s]"
      ]
     },
     "metadata": {},
     "output_type": "display_data"
    },
    {
     "data": {
      "application/vnd.jupyter.widget-view+json": {
       "model_id": "13aa7fcb9ebf43369a95bc9e169d46af",
       "version_major": 2,
       "version_minor": 0
      },
      "text/plain": [
       "Map:   0%|          | 0/9916 [00:00<?, ? examples/s]"
      ]
     },
     "metadata": {},
     "output_type": "display_data"
    },
    {
     "data": {
      "text/html": [
       "\n",
       "    <div>\n",
       "      \n",
       "      <progress value='4960' max='4960' style='width:300px; height:20px; vertical-align: middle;'></progress>\n",
       "      [4960/4960 03:38, Epoch 2/2]\n",
       "    </div>\n",
       "    <table border=\"1\" class=\"dataframe\">\n",
       "  <thead>\n",
       " <tr style=\"text-align: left;\">\n",
       "      <th>Epoch</th>\n",
       "      <th>Training Loss</th>\n",
       "      <th>Validation Loss</th>\n",
       "      <th>Accuracy</th>\n",
       "      <th>F1</th>\n",
       "    </tr>\n",
       "  </thead>\n",
       "  <tbody>\n",
       "    <tr>\n",
       "      <td>1</td>\n",
       "      <td>0.265000</td>\n",
       "      <td>0.233508</td>\n",
       "      <td>0.907322</td>\n",
       "      <td>0.905540</td>\n",
       "    </tr>\n",
       "    <tr>\n",
       "      <td>2</td>\n",
       "      <td>0.192800</td>\n",
       "      <td>0.258672</td>\n",
       "      <td>0.914381</td>\n",
       "      <td>0.914750</td>\n",
       "    </tr>\n",
       "  </tbody>\n",
       "</table><p>"
      ],
      "text/plain": [
       "<IPython.core.display.HTML object>"
      ]
     },
     "metadata": {},
     "output_type": "display_data"
    },
    {
     "data": {
      "text/html": [],
      "text/plain": [
       "<IPython.core.display.HTML object>"
      ]
     },
     "metadata": {},
     "output_type": "display_data"
    },
    {
     "data": {
      "application/vnd.jupyter.widget-view+json": {
       "model_id": "e0f4501ddc224b6eb3546583ee22572a",
       "version_major": 2,
       "version_minor": 0
      },
      "text/plain": [
       "Map:   0%|          | 0/39666 [00:00<?, ? examples/s]"
      ]
     },
     "metadata": {},
     "output_type": "display_data"
    },
    {
     "data": {
      "application/vnd.jupyter.widget-view+json": {
       "model_id": "8dbe034e444f42b68369346653b1086b",
       "version_major": 2,
       "version_minor": 0
      },
      "text/plain": [
       "Map:   0%|          | 0/9916 [00:00<?, ? examples/s]"
      ]
     },
     "metadata": {},
     "output_type": "display_data"
    },
    {
     "data": {
      "text/html": [
       "\n",
       "    <div>\n",
       "      \n",
       "      <progress value='4960' max='4960' style='width:300px; height:20px; vertical-align: middle;'></progress>\n",
       "      [4960/4960 03:40, Epoch 2/2]\n",
       "    </div>\n",
       "    <table border=\"1\" class=\"dataframe\">\n",
       "  <thead>\n",
       " <tr style=\"text-align: left;\">\n",
       "      <th>Epoch</th>\n",
       "      <th>Training Loss</th>\n",
       "      <th>Validation Loss</th>\n",
       "      <th>Accuracy</th>\n",
       "      <th>F1</th>\n",
       "    </tr>\n",
       "  </thead>\n",
       "  <tbody>\n",
       "    <tr>\n",
       "      <td>1</td>\n",
       "      <td>0.256800</td>\n",
       "      <td>0.234258</td>\n",
       "      <td>0.905708</td>\n",
       "      <td>0.906993</td>\n",
       "    </tr>\n",
       "    <tr>\n",
       "      <td>2</td>\n",
       "      <td>0.192600</td>\n",
       "      <td>0.272737</td>\n",
       "      <td>0.913372</td>\n",
       "      <td>0.913677</td>\n",
       "    </tr>\n",
       "  </tbody>\n",
       "</table><p>"
      ],
      "text/plain": [
       "<IPython.core.display.HTML object>"
      ]
     },
     "metadata": {},
     "output_type": "display_data"
    },
    {
     "data": {
      "text/html": [],
      "text/plain": [
       "<IPython.core.display.HTML object>"
      ]
     },
     "metadata": {},
     "output_type": "display_data"
    },
    {
     "data": {
      "application/vnd.jupyter.widget-view+json": {
       "model_id": "26535c7fbe87480f8fc125c8c84d0e89",
       "version_major": 2,
       "version_minor": 0
      },
      "text/plain": [
       "Map:   0%|          | 0/39666 [00:00<?, ? examples/s]"
      ]
     },
     "metadata": {},
     "output_type": "display_data"
    },
    {
     "data": {
      "application/vnd.jupyter.widget-view+json": {
       "model_id": "04335135b935412db0b21c3132fb5a9c",
       "version_major": 2,
       "version_minor": 0
      },
      "text/plain": [
       "Map:   0%|          | 0/9916 [00:00<?, ? examples/s]"
      ]
     },
     "metadata": {},
     "output_type": "display_data"
    },
    {
     "data": {
      "text/html": [
       "\n",
       "    <div>\n",
       "      \n",
       "      <progress value='4960' max='4960' style='width:300px; height:20px; vertical-align: middle;'></progress>\n",
       "      [4960/4960 03:38, Epoch 2/2]\n",
       "    </div>\n",
       "    <table border=\"1\" class=\"dataframe\">\n",
       "  <thead>\n",
       " <tr style=\"text-align: left;\">\n",
       "      <th>Epoch</th>\n",
       "      <th>Training Loss</th>\n",
       "      <th>Validation Loss</th>\n",
       "      <th>Accuracy</th>\n",
       "      <th>F1</th>\n",
       "    </tr>\n",
       "  </thead>\n",
       "  <tbody>\n",
       "    <tr>\n",
       "      <td>1</td>\n",
       "      <td>0.226900</td>\n",
       "      <td>0.259744</td>\n",
       "      <td>0.896934</td>\n",
       "      <td>0.894181</td>\n",
       "    </tr>\n",
       "    <tr>\n",
       "      <td>2</td>\n",
       "      <td>0.147400</td>\n",
       "      <td>0.293006</td>\n",
       "      <td>0.910549</td>\n",
       "      <td>0.910917</td>\n",
       "    </tr>\n",
       "  </tbody>\n",
       "</table><p>"
      ],
      "text/plain": [
       "<IPython.core.display.HTML object>"
      ]
     },
     "metadata": {},
     "output_type": "display_data"
    },
    {
     "data": {
      "text/html": [],
      "text/plain": [
       "<IPython.core.display.HTML object>"
      ]
     },
     "metadata": {},
     "output_type": "display_data"
    },
    {
     "data": {
      "application/vnd.jupyter.widget-view+json": {
       "model_id": "3dd9b02352914da69de43dbaecf7e527",
       "version_major": 2,
       "version_minor": 0
      },
      "text/plain": [
       "Map:   0%|          | 0/39665 [00:00<?, ? examples/s]"
      ]
     },
     "metadata": {},
     "output_type": "display_data"
    },
    {
     "data": {
      "application/vnd.jupyter.widget-view+json": {
       "model_id": "bcdfd0a84e604bcf97655b650132fb0e",
       "version_major": 2,
       "version_minor": 0
      },
      "text/plain": [
       "Map:   0%|          | 0/9917 [00:00<?, ? examples/s]"
      ]
     },
     "metadata": {},
     "output_type": "display_data"
    },
    {
     "data": {
      "text/html": [
       "\n",
       "    <div>\n",
       "      \n",
       "      <progress value='7440' max='7440' style='width:300px; height:20px; vertical-align: middle;'></progress>\n",
       "      [7440/7440 06:15, Epoch 3/3]\n",
       "    </div>\n",
       "    <table border=\"1\" class=\"dataframe\">\n",
       "  <thead>\n",
       " <tr style=\"text-align: left;\">\n",
       "      <th>Epoch</th>\n",
       "      <th>Training Loss</th>\n",
       "      <th>Validation Loss</th>\n",
       "      <th>Accuracy</th>\n",
       "      <th>F1</th>\n",
       "    </tr>\n",
       "  </thead>\n",
       "  <tbody>\n",
       "    <tr>\n",
       "      <td>1</td>\n",
       "      <td>0.258800</td>\n",
       "      <td>0.278648</td>\n",
       "      <td>0.897247</td>\n",
       "      <td>0.892928</td>\n",
       "    </tr>\n",
       "    <tr>\n",
       "      <td>2</td>\n",
       "      <td>0.189800</td>\n",
       "      <td>0.285794</td>\n",
       "      <td>0.908339</td>\n",
       "      <td>0.907387</td>\n",
       "    </tr>\n",
       "    <tr>\n",
       "      <td>3</td>\n",
       "      <td>0.108000</td>\n",
       "      <td>0.363260</td>\n",
       "      <td>0.907734</td>\n",
       "      <td>0.908252</td>\n",
       "    </tr>\n",
       "  </tbody>\n",
       "</table><p>"
      ],
      "text/plain": [
       "<IPython.core.display.HTML object>"
      ]
     },
     "metadata": {},
     "output_type": "display_data"
    },
    {
     "data": {
      "text/html": [],
      "text/plain": [
       "<IPython.core.display.HTML object>"
      ]
     },
     "metadata": {},
     "output_type": "display_data"
    },
    {
     "data": {
      "application/vnd.jupyter.widget-view+json": {
       "model_id": "773d82a5e8c647bb84fbe08cd219c070",
       "version_major": 2,
       "version_minor": 0
      },
      "text/plain": [
       "Map:   0%|          | 0/39665 [00:00<?, ? examples/s]"
      ]
     },
     "metadata": {},
     "output_type": "display_data"
    },
    {
     "data": {
      "application/vnd.jupyter.widget-view+json": {
       "model_id": "3617673544e640679d1799860da3e4a2",
       "version_major": 2,
       "version_minor": 0
      },
      "text/plain": [
       "Map:   0%|          | 0/9917 [00:00<?, ? examples/s]"
      ]
     },
     "metadata": {},
     "output_type": "display_data"
    },
    {
     "data": {
      "text/html": [
       "\n",
       "    <div>\n",
       "      \n",
       "      <progress value='7440' max='7440' style='width:300px; height:20px; vertical-align: middle;'></progress>\n",
       "      [7440/7440 06:52, Epoch 3/3]\n",
       "    </div>\n",
       "    <table border=\"1\" class=\"dataframe\">\n",
       "  <thead>\n",
       " <tr style=\"text-align: left;\">\n",
       "      <th>Epoch</th>\n",
       "      <th>Training Loss</th>\n",
       "      <th>Validation Loss</th>\n",
       "      <th>Accuracy</th>\n",
       "      <th>F1</th>\n",
       "    </tr>\n",
       "  </thead>\n",
       "  <tbody>\n",
       "    <tr>\n",
       "      <td>1</td>\n",
       "      <td>0.260800</td>\n",
       "      <td>0.227579</td>\n",
       "      <td>0.910558</td>\n",
       "      <td>0.909240</td>\n",
       "    </tr>\n",
       "    <tr>\n",
       "      <td>2</td>\n",
       "      <td>0.113900</td>\n",
       "      <td>0.266331</td>\n",
       "      <td>0.915700</td>\n",
       "      <td>0.917862</td>\n",
       "    </tr>\n",
       "    <tr>\n",
       "      <td>3</td>\n",
       "      <td>0.154500</td>\n",
       "      <td>0.299093</td>\n",
       "      <td>0.919230</td>\n",
       "      <td>0.919988</td>\n",
       "    </tr>\n",
       "  </tbody>\n",
       "</table><p>"
      ],
      "text/plain": [
       "<IPython.core.display.HTML object>"
      ]
     },
     "metadata": {},
     "output_type": "display_data"
    },
    {
     "data": {
      "text/html": [],
      "text/plain": [
       "<IPython.core.display.HTML object>"
      ]
     },
     "metadata": {},
     "output_type": "display_data"
    },
    {
     "data": {
      "application/vnd.jupyter.widget-view+json": {
       "model_id": "af2ae5135813404b9e5c4589f37f4c67",
       "version_major": 2,
       "version_minor": 0
      },
      "text/plain": [
       "Map:   0%|          | 0/39666 [00:00<?, ? examples/s]"
      ]
     },
     "metadata": {},
     "output_type": "display_data"
    },
    {
     "data": {
      "application/vnd.jupyter.widget-view+json": {
       "model_id": "064d13949a974b408e9b0f2a6825d951",
       "version_major": 2,
       "version_minor": 0
      },
      "text/plain": [
       "Map:   0%|          | 0/9916 [00:00<?, ? examples/s]"
      ]
     },
     "metadata": {},
     "output_type": "display_data"
    },
    {
     "data": {
      "text/html": [
       "\n",
       "    <div>\n",
       "      \n",
       "      <progress value='7440' max='7440' style='width:300px; height:20px; vertical-align: middle;'></progress>\n",
       "      [7440/7440 06:51, Epoch 3/3]\n",
       "    </div>\n",
       "    <table border=\"1\" class=\"dataframe\">\n",
       "  <thead>\n",
       " <tr style=\"text-align: left;\">\n",
       "      <th>Epoch</th>\n",
       "      <th>Training Loss</th>\n",
       "      <th>Validation Loss</th>\n",
       "      <th>Accuracy</th>\n",
       "      <th>F1</th>\n",
       "    </tr>\n",
       "  </thead>\n",
       "  <tbody>\n",
       "    <tr>\n",
       "      <td>1</td>\n",
       "      <td>0.265000</td>\n",
       "      <td>0.245491</td>\n",
       "      <td>0.902783</td>\n",
       "      <td>0.899247</td>\n",
       "    </tr>\n",
       "    <tr>\n",
       "      <td>2</td>\n",
       "      <td>0.209400</td>\n",
       "      <td>0.250132</td>\n",
       "      <td>0.911053</td>\n",
       "      <td>0.913682</td>\n",
       "    </tr>\n",
       "    <tr>\n",
       "      <td>3</td>\n",
       "      <td>0.091200</td>\n",
       "      <td>0.338831</td>\n",
       "      <td>0.914078</td>\n",
       "      <td>0.914851</td>\n",
       "    </tr>\n",
       "  </tbody>\n",
       "</table><p>"
      ],
      "text/plain": [
       "<IPython.core.display.HTML object>"
      ]
     },
     "metadata": {},
     "output_type": "display_data"
    },
    {
     "data": {
      "text/html": [],
      "text/plain": [
       "<IPython.core.display.HTML object>"
      ]
     },
     "metadata": {},
     "output_type": "display_data"
    },
    {
     "data": {
      "application/vnd.jupyter.widget-view+json": {
       "model_id": "8ce93c494d584e6295cd2f1dc5a8829d",
       "version_major": 2,
       "version_minor": 0
      },
      "text/plain": [
       "Map:   0%|          | 0/39666 [00:00<?, ? examples/s]"
      ]
     },
     "metadata": {},
     "output_type": "display_data"
    },
    {
     "data": {
      "application/vnd.jupyter.widget-view+json": {
       "model_id": "274a4cd8dadf4eff9d7a27510cd38b88",
       "version_major": 2,
       "version_minor": 0
      },
      "text/plain": [
       "Map:   0%|          | 0/9916 [00:00<?, ? examples/s]"
      ]
     },
     "metadata": {},
     "output_type": "display_data"
    },
    {
     "data": {
      "text/html": [
       "\n",
       "    <div>\n",
       "      \n",
       "      <progress value='7440' max='7440' style='width:300px; height:20px; vertical-align: middle;'></progress>\n",
       "      [7440/7440 06:53, Epoch 3/3]\n",
       "    </div>\n",
       "    <table border=\"1\" class=\"dataframe\">\n",
       "  <thead>\n",
       " <tr style=\"text-align: left;\">\n",
       "      <th>Epoch</th>\n",
       "      <th>Training Loss</th>\n",
       "      <th>Validation Loss</th>\n",
       "      <th>Accuracy</th>\n",
       "      <th>F1</th>\n",
       "    </tr>\n",
       "  </thead>\n",
       "  <tbody>\n",
       "    <tr>\n",
       "      <td>1</td>\n",
       "      <td>0.246600</td>\n",
       "      <td>0.237161</td>\n",
       "      <td>0.905002</td>\n",
       "      <td>0.904675</td>\n",
       "    </tr>\n",
       "    <tr>\n",
       "      <td>2</td>\n",
       "      <td>0.197500</td>\n",
       "      <td>0.268524</td>\n",
       "      <td>0.910549</td>\n",
       "      <td>0.911451</td>\n",
       "    </tr>\n",
       "    <tr>\n",
       "      <td>3</td>\n",
       "      <td>0.117300</td>\n",
       "      <td>0.351760</td>\n",
       "      <td>0.912566</td>\n",
       "      <td>0.912415</td>\n",
       "    </tr>\n",
       "  </tbody>\n",
       "</table><p>"
      ],
      "text/plain": [
       "<IPython.core.display.HTML object>"
      ]
     },
     "metadata": {},
     "output_type": "display_data"
    },
    {
     "data": {
      "text/html": [],
      "text/plain": [
       "<IPython.core.display.HTML object>"
      ]
     },
     "metadata": {},
     "output_type": "display_data"
    },
    {
     "data": {
      "application/vnd.jupyter.widget-view+json": {
       "model_id": "a46f894273f94d2f94604778241efccc",
       "version_major": 2,
       "version_minor": 0
      },
      "text/plain": [
       "Map:   0%|          | 0/39666 [00:00<?, ? examples/s]"
      ]
     },
     "metadata": {},
     "output_type": "display_data"
    },
    {
     "data": {
      "application/vnd.jupyter.widget-view+json": {
       "model_id": "458336ffcdb8470098f7099e486fa8eb",
       "version_major": 2,
       "version_minor": 0
      },
      "text/plain": [
       "Map:   0%|          | 0/9916 [00:00<?, ? examples/s]"
      ]
     },
     "metadata": {},
     "output_type": "display_data"
    },
    {
     "data": {
      "text/html": [
       "\n",
       "    <div>\n",
       "      \n",
       "      <progress value='7440' max='7440' style='width:300px; height:20px; vertical-align: middle;'></progress>\n",
       "      [7440/7440 07:16, Epoch 3/3]\n",
       "    </div>\n",
       "    <table border=\"1\" class=\"dataframe\">\n",
       "  <thead>\n",
       " <tr style=\"text-align: left;\">\n",
       "      <th>Epoch</th>\n",
       "      <th>Training Loss</th>\n",
       "      <th>Validation Loss</th>\n",
       "      <th>Accuracy</th>\n",
       "      <th>F1</th>\n",
       "    </tr>\n",
       "  </thead>\n",
       "  <tbody>\n",
       "    <tr>\n",
       "      <td>1</td>\n",
       "      <td>0.234500</td>\n",
       "      <td>0.247295</td>\n",
       "      <td>0.903792</td>\n",
       "      <td>0.903167</td>\n",
       "    </tr>\n",
       "    <tr>\n",
       "      <td>2</td>\n",
       "      <td>0.161500</td>\n",
       "      <td>0.289886</td>\n",
       "      <td>0.909238</td>\n",
       "      <td>0.908088</td>\n",
       "    </tr>\n",
       "    <tr>\n",
       "      <td>3</td>\n",
       "      <td>0.109200</td>\n",
       "      <td>0.360705</td>\n",
       "      <td>0.910448</td>\n",
       "      <td>0.911022</td>\n",
       "    </tr>\n",
       "  </tbody>\n",
       "</table><p>"
      ],
      "text/plain": [
       "<IPython.core.display.HTML object>"
      ]
     },
     "metadata": {},
     "output_type": "display_data"
    },
    {
     "data": {
      "text/html": [],
      "text/plain": [
       "<IPython.core.display.HTML object>"
      ]
     },
     "metadata": {},
     "output_type": "display_data"
    },
    {
     "data": {
      "application/vnd.jupyter.widget-view+json": {
       "model_id": "b02102a4ff3e475a9d37dd6a2743bd6b",
       "version_major": 2,
       "version_minor": 0
      },
      "text/plain": [
       "Map:   0%|          | 0/39665 [00:00<?, ? examples/s]"
      ]
     },
     "metadata": {},
     "output_type": "display_data"
    },
    {
     "data": {
      "application/vnd.jupyter.widget-view+json": {
       "model_id": "076a837ae3044006abc3b9ce89eec2d3",
       "version_major": 2,
       "version_minor": 0
      },
      "text/plain": [
       "Map:   0%|          | 0/9917 [00:00<?, ? examples/s]"
      ]
     },
     "metadata": {},
     "output_type": "display_data"
    },
    {
     "data": {
      "text/html": [
       "\n",
       "    <div>\n",
       "      \n",
       "      <progress value='9920' max='9920' style='width:300px; height:20px; vertical-align: middle;'></progress>\n",
       "      [9920/9920 09:47, Epoch 4/4]\n",
       "    </div>\n",
       "    <table border=\"1\" class=\"dataframe\">\n",
       "  <thead>\n",
       " <tr style=\"text-align: left;\">\n",
       "      <th>Epoch</th>\n",
       "      <th>Training Loss</th>\n",
       "      <th>Validation Loss</th>\n",
       "      <th>Accuracy</th>\n",
       "      <th>F1</th>\n",
       "    </tr>\n",
       "  </thead>\n",
       "  <tbody>\n",
       "    <tr>\n",
       "      <td>1</td>\n",
       "      <td>0.267000</td>\n",
       "      <td>0.266386</td>\n",
       "      <td>0.898861</td>\n",
       "      <td>0.895117</td>\n",
       "    </tr>\n",
       "    <tr>\n",
       "      <td>2</td>\n",
       "      <td>0.179100</td>\n",
       "      <td>0.290193</td>\n",
       "      <td>0.908642</td>\n",
       "      <td>0.907267</td>\n",
       "    </tr>\n",
       "    <tr>\n",
       "      <td>3</td>\n",
       "      <td>0.093200</td>\n",
       "      <td>0.388416</td>\n",
       "      <td>0.908642</td>\n",
       "      <td>0.909000</td>\n",
       "    </tr>\n",
       "    <tr>\n",
       "      <td>4</td>\n",
       "      <td>0.042200</td>\n",
       "      <td>0.431855</td>\n",
       "      <td>0.908339</td>\n",
       "      <td>0.909164</td>\n",
       "    </tr>\n",
       "  </tbody>\n",
       "</table><p>"
      ],
      "text/plain": [
       "<IPython.core.display.HTML object>"
      ]
     },
     "metadata": {},
     "output_type": "display_data"
    },
    {
     "data": {
      "text/html": [],
      "text/plain": [
       "<IPython.core.display.HTML object>"
      ]
     },
     "metadata": {},
     "output_type": "display_data"
    },
    {
     "data": {
      "application/vnd.jupyter.widget-view+json": {
       "model_id": "25bf68cec83646efb711e3ea5531c31b",
       "version_major": 2,
       "version_minor": 0
      },
      "text/plain": [
       "Map:   0%|          | 0/39665 [00:00<?, ? examples/s]"
      ]
     },
     "metadata": {},
     "output_type": "display_data"
    },
    {
     "data": {
      "application/vnd.jupyter.widget-view+json": {
       "model_id": "8c31d291c68a48108184b9e8070f5fa4",
       "version_major": 2,
       "version_minor": 0
      },
      "text/plain": [
       "Map:   0%|          | 0/9917 [00:00<?, ? examples/s]"
      ]
     },
     "metadata": {},
     "output_type": "display_data"
    },
    {
     "data": {
      "text/html": [
       "\n",
       "    <div>\n",
       "      \n",
       "      <progress value='9920' max='9920' style='width:300px; height:20px; vertical-align: middle;'></progress>\n",
       "      [9920/9920 07:24, Epoch 4/4]\n",
       "    </div>\n",
       "    <table border=\"1\" class=\"dataframe\">\n",
       "  <thead>\n",
       " <tr style=\"text-align: left;\">\n",
       "      <th>Epoch</th>\n",
       "      <th>Training Loss</th>\n",
       "      <th>Validation Loss</th>\n",
       "      <th>Accuracy</th>\n",
       "      <th>F1</th>\n",
       "    </tr>\n",
       "  </thead>\n",
       "  <tbody>\n",
       "    <tr>\n",
       "      <td>1</td>\n",
       "      <td>0.261400</td>\n",
       "      <td>0.229250</td>\n",
       "      <td>0.911869</td>\n",
       "      <td>0.909580</td>\n",
       "    </tr>\n",
       "    <tr>\n",
       "      <td>2</td>\n",
       "      <td>0.120900</td>\n",
       "      <td>0.252833</td>\n",
       "      <td>0.915700</td>\n",
       "      <td>0.917244</td>\n",
       "    </tr>\n",
       "    <tr>\n",
       "      <td>3</td>\n",
       "      <td>0.153600</td>\n",
       "      <td>0.291754</td>\n",
       "      <td>0.917415</td>\n",
       "      <td>0.917481</td>\n",
       "    </tr>\n",
       "    <tr>\n",
       "      <td>4</td>\n",
       "      <td>0.026300</td>\n",
       "      <td>0.386452</td>\n",
       "      <td>0.917415</td>\n",
       "      <td>0.917779</td>\n",
       "    </tr>\n",
       "  </tbody>\n",
       "</table><p>"
      ],
      "text/plain": [
       "<IPython.core.display.HTML object>"
      ]
     },
     "metadata": {},
     "output_type": "display_data"
    },
    {
     "data": {
      "text/html": [],
      "text/plain": [
       "<IPython.core.display.HTML object>"
      ]
     },
     "metadata": {},
     "output_type": "display_data"
    },
    {
     "data": {
      "application/vnd.jupyter.widget-view+json": {
       "model_id": "9f17f47bbe294d79b7ea822d6987a732",
       "version_major": 2,
       "version_minor": 0
      },
      "text/plain": [
       "Map:   0%|          | 0/39666 [00:00<?, ? examples/s]"
      ]
     },
     "metadata": {},
     "output_type": "display_data"
    },
    {
     "data": {
      "application/vnd.jupyter.widget-view+json": {
       "model_id": "48246dec0bc543cf95f54dde02ac0d06",
       "version_major": 2,
       "version_minor": 0
      },
      "text/plain": [
       "Map:   0%|          | 0/9916 [00:00<?, ? examples/s]"
      ]
     },
     "metadata": {},
     "output_type": "display_data"
    },
    {
     "data": {
      "text/html": [
       "\n",
       "    <div>\n",
       "      \n",
       "      <progress value='9920' max='9920' style='width:300px; height:20px; vertical-align: middle;'></progress>\n",
       "      [9920/9920 07:22, Epoch 4/4]\n",
       "    </div>\n",
       "    <table border=\"1\" class=\"dataframe\">\n",
       "  <thead>\n",
       " <tr style=\"text-align: left;\">\n",
       "      <th>Epoch</th>\n",
       "      <th>Training Loss</th>\n",
       "      <th>Validation Loss</th>\n",
       "      <th>Accuracy</th>\n",
       "      <th>F1</th>\n",
       "    </tr>\n",
       "  </thead>\n",
       "  <tbody>\n",
       "    <tr>\n",
       "      <td>1</td>\n",
       "      <td>0.267700</td>\n",
       "      <td>0.247687</td>\n",
       "      <td>0.902279</td>\n",
       "      <td>0.898587</td>\n",
       "    </tr>\n",
       "    <tr>\n",
       "      <td>2</td>\n",
       "      <td>0.206800</td>\n",
       "      <td>0.243670</td>\n",
       "      <td>0.913070</td>\n",
       "      <td>0.915057</td>\n",
       "    </tr>\n",
       "    <tr>\n",
       "      <td>3</td>\n",
       "      <td>0.097000</td>\n",
       "      <td>0.356659</td>\n",
       "      <td>0.913574</td>\n",
       "      <td>0.914085</td>\n",
       "    </tr>\n",
       "    <tr>\n",
       "      <td>4</td>\n",
       "      <td>0.070300</td>\n",
       "      <td>0.397460</td>\n",
       "      <td>0.914381</td>\n",
       "      <td>0.914802</td>\n",
       "    </tr>\n",
       "  </tbody>\n",
       "</table><p>"
      ],
      "text/plain": [
       "<IPython.core.display.HTML object>"
      ]
     },
     "metadata": {},
     "output_type": "display_data"
    },
    {
     "data": {
      "text/html": [],
      "text/plain": [
       "<IPython.core.display.HTML object>"
      ]
     },
     "metadata": {},
     "output_type": "display_data"
    },
    {
     "data": {
      "application/vnd.jupyter.widget-view+json": {
       "model_id": "b05d7e6945d7494789f8e18ffef48dc4",
       "version_major": 2,
       "version_minor": 0
      },
      "text/plain": [
       "Map:   0%|          | 0/39666 [00:00<?, ? examples/s]"
      ]
     },
     "metadata": {},
     "output_type": "display_data"
    },
    {
     "data": {
      "application/vnd.jupyter.widget-view+json": {
       "model_id": "2fb8441d9b9f494db8cae96f496051c6",
       "version_major": 2,
       "version_minor": 0
      },
      "text/plain": [
       "Map:   0%|          | 0/9916 [00:00<?, ? examples/s]"
      ]
     },
     "metadata": {},
     "output_type": "display_data"
    },
    {
     "data": {
      "text/html": [
       "\n",
       "    <div>\n",
       "      \n",
       "      <progress value='9920' max='9920' style='width:300px; height:20px; vertical-align: middle;'></progress>\n",
       "      [9920/9920 07:20, Epoch 4/4]\n",
       "    </div>\n",
       "    <table border=\"1\" class=\"dataframe\">\n",
       "  <thead>\n",
       " <tr style=\"text-align: left;\">\n",
       "      <th>Epoch</th>\n",
       "      <th>Training Loss</th>\n",
       "      <th>Validation Loss</th>\n",
       "      <th>Accuracy</th>\n",
       "      <th>F1</th>\n",
       "    </tr>\n",
       "  </thead>\n",
       "  <tbody>\n",
       "    <tr>\n",
       "      <td>1</td>\n",
       "      <td>0.257000</td>\n",
       "      <td>0.242126</td>\n",
       "      <td>0.900464</td>\n",
       "      <td>0.902749</td>\n",
       "    </tr>\n",
       "    <tr>\n",
       "      <td>2</td>\n",
       "      <td>0.202500</td>\n",
       "      <td>0.262015</td>\n",
       "      <td>0.911355</td>\n",
       "      <td>0.910987</td>\n",
       "    </tr>\n",
       "    <tr>\n",
       "      <td>3</td>\n",
       "      <td>0.120300</td>\n",
       "      <td>0.367274</td>\n",
       "      <td>0.910246</td>\n",
       "      <td>0.910714</td>\n",
       "    </tr>\n",
       "    <tr>\n",
       "      <td>4</td>\n",
       "      <td>0.050000</td>\n",
       "      <td>0.413232</td>\n",
       "      <td>0.910549</td>\n",
       "      <td>0.911256</td>\n",
       "    </tr>\n",
       "  </tbody>\n",
       "</table><p>"
      ],
      "text/plain": [
       "<IPython.core.display.HTML object>"
      ]
     },
     "metadata": {},
     "output_type": "display_data"
    },
    {
     "data": {
      "text/html": [],
      "text/plain": [
       "<IPython.core.display.HTML object>"
      ]
     },
     "metadata": {},
     "output_type": "display_data"
    },
    {
     "data": {
      "application/vnd.jupyter.widget-view+json": {
       "model_id": "c189d6c5900b428c9fdaec5e7091caa1",
       "version_major": 2,
       "version_minor": 0
      },
      "text/plain": [
       "Map:   0%|          | 0/39666 [00:00<?, ? examples/s]"
      ]
     },
     "metadata": {},
     "output_type": "display_data"
    },
    {
     "data": {
      "application/vnd.jupyter.widget-view+json": {
       "model_id": "bd176ba9a69249dc8e2490c6d80fab08",
       "version_major": 2,
       "version_minor": 0
      },
      "text/plain": [
       "Map:   0%|          | 0/9916 [00:00<?, ? examples/s]"
      ]
     },
     "metadata": {},
     "output_type": "display_data"
    },
    {
     "data": {
      "text/html": [
       "\n",
       "    <div>\n",
       "      \n",
       "      <progress value='9920' max='9920' style='width:300px; height:20px; vertical-align: middle;'></progress>\n",
       "      [9920/9920 07:19, Epoch 4/4]\n",
       "    </div>\n",
       "    <table border=\"1\" class=\"dataframe\">\n",
       "  <thead>\n",
       " <tr style=\"text-align: left;\">\n",
       "      <th>Epoch</th>\n",
       "      <th>Training Loss</th>\n",
       "      <th>Validation Loss</th>\n",
       "      <th>Accuracy</th>\n",
       "      <th>F1</th>\n",
       "    </tr>\n",
       "  </thead>\n",
       "  <tbody>\n",
       "    <tr>\n",
       "      <td>1</td>\n",
       "      <td>0.245900</td>\n",
       "      <td>0.247255</td>\n",
       "      <td>0.903691</td>\n",
       "      <td>0.903232</td>\n",
       "    </tr>\n",
       "    <tr>\n",
       "      <td>2</td>\n",
       "      <td>0.176100</td>\n",
       "      <td>0.283340</td>\n",
       "      <td>0.906212</td>\n",
       "      <td>0.904341</td>\n",
       "    </tr>\n",
       "    <tr>\n",
       "      <td>3</td>\n",
       "      <td>0.113400</td>\n",
       "      <td>0.385961</td>\n",
       "      <td>0.908633</td>\n",
       "      <td>0.910669</td>\n",
       "    </tr>\n",
       "    <tr>\n",
       "      <td>4</td>\n",
       "      <td>0.065300</td>\n",
       "      <td>0.433559</td>\n",
       "      <td>0.910044</td>\n",
       "      <td>0.910996</td>\n",
       "    </tr>\n",
       "  </tbody>\n",
       "</table><p>"
      ],
      "text/plain": [
       "<IPython.core.display.HTML object>"
      ]
     },
     "metadata": {},
     "output_type": "display_data"
    },
    {
     "data": {
      "text/html": [],
      "text/plain": [
       "<IPython.core.display.HTML object>"
      ]
     },
     "metadata": {},
     "output_type": "display_data"
    },
    {
     "data": {
      "application/vnd.jupyter.widget-view+json": {
       "model_id": "aa025755e94e460ea49070932e153c36",
       "version_major": 2,
       "version_minor": 0
      },
      "text/plain": [
       "Map:   0%|          | 0/39665 [00:00<?, ? examples/s]"
      ]
     },
     "metadata": {},
     "output_type": "display_data"
    },
    {
     "data": {
      "application/vnd.jupyter.widget-view+json": {
       "model_id": "c90e4e00e1b449cea2ebda26dae7d66a",
       "version_major": 2,
       "version_minor": 0
      },
      "text/plain": [
       "Map:   0%|          | 0/9917 [00:00<?, ? examples/s]"
      ]
     },
     "metadata": {},
     "output_type": "display_data"
    },
    {
     "data": {
      "text/html": [
       "\n",
       "    <div>\n",
       "      \n",
       "      <progress value='2480' max='2480' style='width:300px; height:20px; vertical-align: middle;'></progress>\n",
       "      [2480/2480 03:14, Epoch 2/2]\n",
       "    </div>\n",
       "    <table border=\"1\" class=\"dataframe\">\n",
       "  <thead>\n",
       " <tr style=\"text-align: left;\">\n",
       "      <th>Epoch</th>\n",
       "      <th>Training Loss</th>\n",
       "      <th>Validation Loss</th>\n",
       "      <th>Accuracy</th>\n",
       "      <th>F1</th>\n",
       "    </tr>\n",
       "  </thead>\n",
       "  <tbody>\n",
       "    <tr>\n",
       "      <td>1</td>\n",
       "      <td>0.270800</td>\n",
       "      <td>0.285453</td>\n",
       "      <td>0.881718</td>\n",
       "      <td>0.873993</td>\n",
       "    </tr>\n",
       "    <tr>\n",
       "      <td>2</td>\n",
       "      <td>0.177700</td>\n",
       "      <td>0.240032</td>\n",
       "      <td>0.908339</td>\n",
       "      <td>0.908817</td>\n",
       "    </tr>\n",
       "  </tbody>\n",
       "</table><p>"
      ],
      "text/plain": [
       "<IPython.core.display.HTML object>"
      ]
     },
     "metadata": {},
     "output_type": "display_data"
    },
    {
     "data": {
      "text/html": [],
      "text/plain": [
       "<IPython.core.display.HTML object>"
      ]
     },
     "metadata": {},
     "output_type": "display_data"
    },
    {
     "data": {
      "application/vnd.jupyter.widget-view+json": {
       "model_id": "3010fa5fd55346f191013732d428adf9",
       "version_major": 2,
       "version_minor": 0
      },
      "text/plain": [
       "Map:   0%|          | 0/39665 [00:00<?, ? examples/s]"
      ]
     },
     "metadata": {},
     "output_type": "display_data"
    },
    {
     "data": {
      "application/vnd.jupyter.widget-view+json": {
       "model_id": "13a4664ce5f742c2941c9518f7ccb7c1",
       "version_major": 2,
       "version_minor": 0
      },
      "text/plain": [
       "Map:   0%|          | 0/9917 [00:00<?, ? examples/s]"
      ]
     },
     "metadata": {},
     "output_type": "display_data"
    },
    {
     "data": {
      "text/html": [
       "\n",
       "    <div>\n",
       "      \n",
       "      <progress value='2480' max='2480' style='width:300px; height:20px; vertical-align: middle;'></progress>\n",
       "      [2480/2480 03:15, Epoch 2/2]\n",
       "    </div>\n",
       "    <table border=\"1\" class=\"dataframe\">\n",
       "  <thead>\n",
       " <tr style=\"text-align: left;\">\n",
       "      <th>Epoch</th>\n",
       "      <th>Training Loss</th>\n",
       "      <th>Validation Loss</th>\n",
       "      <th>Accuracy</th>\n",
       "      <th>F1</th>\n",
       "    </tr>\n",
       "  </thead>\n",
       "  <tbody>\n",
       "    <tr>\n",
       "      <td>1</td>\n",
       "      <td>0.267600</td>\n",
       "      <td>0.228626</td>\n",
       "      <td>0.909045</td>\n",
       "      <td>0.907525</td>\n",
       "    </tr>\n",
       "    <tr>\n",
       "      <td>2</td>\n",
       "      <td>0.208800</td>\n",
       "      <td>0.216253</td>\n",
       "      <td>0.917011</td>\n",
       "      <td>0.918052</td>\n",
       "    </tr>\n",
       "  </tbody>\n",
       "</table><p>"
      ],
      "text/plain": [
       "<IPython.core.display.HTML object>"
      ]
     },
     "metadata": {},
     "output_type": "display_data"
    },
    {
     "data": {
      "text/html": [],
      "text/plain": [
       "<IPython.core.display.HTML object>"
      ]
     },
     "metadata": {},
     "output_type": "display_data"
    },
    {
     "data": {
      "application/vnd.jupyter.widget-view+json": {
       "model_id": "50e86d55bf3d44a4abfa641f69a984f6",
       "version_major": 2,
       "version_minor": 0
      },
      "text/plain": [
       "Map:   0%|          | 0/39666 [00:00<?, ? examples/s]"
      ]
     },
     "metadata": {},
     "output_type": "display_data"
    },
    {
     "data": {
      "application/vnd.jupyter.widget-view+json": {
       "model_id": "dd9b69ab775e422f8c0f4f9be6595987",
       "version_major": 2,
       "version_minor": 0
      },
      "text/plain": [
       "Map:   0%|          | 0/9916 [00:00<?, ? examples/s]"
      ]
     },
     "metadata": {},
     "output_type": "display_data"
    },
    {
     "data": {
      "text/html": [
       "\n",
       "    <div>\n",
       "      \n",
       "      <progress value='2480' max='2480' style='width:300px; height:20px; vertical-align: middle;'></progress>\n",
       "      [2480/2480 03:13, Epoch 2/2]\n",
       "    </div>\n",
       "    <table border=\"1\" class=\"dataframe\">\n",
       "  <thead>\n",
       " <tr style=\"text-align: left;\">\n",
       "      <th>Epoch</th>\n",
       "      <th>Training Loss</th>\n",
       "      <th>Validation Loss</th>\n",
       "      <th>Accuracy</th>\n",
       "      <th>F1</th>\n",
       "    </tr>\n",
       "  </thead>\n",
       "  <tbody>\n",
       "    <tr>\n",
       "      <td>1</td>\n",
       "      <td>0.238000</td>\n",
       "      <td>0.233925</td>\n",
       "      <td>0.906515</td>\n",
       "      <td>0.905166</td>\n",
       "    </tr>\n",
       "    <tr>\n",
       "      <td>2</td>\n",
       "      <td>0.171600</td>\n",
       "      <td>0.233192</td>\n",
       "      <td>0.914582</td>\n",
       "      <td>0.915190</td>\n",
       "    </tr>\n",
       "  </tbody>\n",
       "</table><p>"
      ],
      "text/plain": [
       "<IPython.core.display.HTML object>"
      ]
     },
     "metadata": {},
     "output_type": "display_data"
    },
    {
     "data": {
      "text/html": [],
      "text/plain": [
       "<IPython.core.display.HTML object>"
      ]
     },
     "metadata": {},
     "output_type": "display_data"
    },
    {
     "data": {
      "application/vnd.jupyter.widget-view+json": {
       "model_id": "d3f34a9e53434ce09c99eb219af441fd",
       "version_major": 2,
       "version_minor": 0
      },
      "text/plain": [
       "Map:   0%|          | 0/39666 [00:00<?, ? examples/s]"
      ]
     },
     "metadata": {},
     "output_type": "display_data"
    },
    {
     "data": {
      "application/vnd.jupyter.widget-view+json": {
       "model_id": "f3a0736083f04a45ad28666305608930",
       "version_major": 2,
       "version_minor": 0
      },
      "text/plain": [
       "Map:   0%|          | 0/9916 [00:00<?, ? examples/s]"
      ]
     },
     "metadata": {},
     "output_type": "display_data"
    },
    {
     "data": {
      "text/html": [
       "\n",
       "    <div>\n",
       "      \n",
       "      <progress value='2480' max='2480' style='width:300px; height:20px; vertical-align: middle;'></progress>\n",
       "      [2480/2480 03:12, Epoch 2/2]\n",
       "    </div>\n",
       "    <table border=\"1\" class=\"dataframe\">\n",
       "  <thead>\n",
       " <tr style=\"text-align: left;\">\n",
       "      <th>Epoch</th>\n",
       "      <th>Training Loss</th>\n",
       "      <th>Validation Loss</th>\n",
       "      <th>Accuracy</th>\n",
       "      <th>F1</th>\n",
       "    </tr>\n",
       "  </thead>\n",
       "  <tbody>\n",
       "    <tr>\n",
       "      <td>1</td>\n",
       "      <td>0.270100</td>\n",
       "      <td>0.235636</td>\n",
       "      <td>0.905305</td>\n",
       "      <td>0.906390</td>\n",
       "    </tr>\n",
       "    <tr>\n",
       "      <td>2</td>\n",
       "      <td>0.171400</td>\n",
       "      <td>0.245688</td>\n",
       "      <td>0.911860</td>\n",
       "      <td>0.912178</td>\n",
       "    </tr>\n",
       "  </tbody>\n",
       "</table><p>"
      ],
      "text/plain": [
       "<IPython.core.display.HTML object>"
      ]
     },
     "metadata": {},
     "output_type": "display_data"
    },
    {
     "data": {
      "text/html": [],
      "text/plain": [
       "<IPython.core.display.HTML object>"
      ]
     },
     "metadata": {},
     "output_type": "display_data"
    },
    {
     "data": {
      "application/vnd.jupyter.widget-view+json": {
       "model_id": "88af766107744d1ba5a59b097f2263ee",
       "version_major": 2,
       "version_minor": 0
      },
      "text/plain": [
       "Map:   0%|          | 0/39666 [00:00<?, ? examples/s]"
      ]
     },
     "metadata": {},
     "output_type": "display_data"
    },
    {
     "data": {
      "application/vnd.jupyter.widget-view+json": {
       "model_id": "3b6d15cd84ad4cd0984715faf22b31b8",
       "version_major": 2,
       "version_minor": 0
      },
      "text/plain": [
       "Map:   0%|          | 0/9916 [00:00<?, ? examples/s]"
      ]
     },
     "metadata": {},
     "output_type": "display_data"
    },
    {
     "data": {
      "text/html": [
       "\n",
       "    <div>\n",
       "      \n",
       "      <progress value='2480' max='2480' style='width:300px; height:20px; vertical-align: middle;'></progress>\n",
       "      [2480/2480 03:09, Epoch 2/2]\n",
       "    </div>\n",
       "    <table border=\"1\" class=\"dataframe\">\n",
       "  <thead>\n",
       " <tr style=\"text-align: left;\">\n",
       "      <th>Epoch</th>\n",
       "      <th>Training Loss</th>\n",
       "      <th>Validation Loss</th>\n",
       "      <th>Accuracy</th>\n",
       "      <th>F1</th>\n",
       "    </tr>\n",
       "  </thead>\n",
       "  <tbody>\n",
       "    <tr>\n",
       "      <td>1</td>\n",
       "      <td>0.240400</td>\n",
       "      <td>0.283438</td>\n",
       "      <td>0.885841</td>\n",
       "      <td>0.879446</td>\n",
       "    </tr>\n",
       "    <tr>\n",
       "      <td>2</td>\n",
       "      <td>0.152800</td>\n",
       "      <td>0.251325</td>\n",
       "      <td>0.906918</td>\n",
       "      <td>0.907283</td>\n",
       "    </tr>\n",
       "  </tbody>\n",
       "</table><p>"
      ],
      "text/plain": [
       "<IPython.core.display.HTML object>"
      ]
     },
     "metadata": {},
     "output_type": "display_data"
    },
    {
     "data": {
      "text/html": [],
      "text/plain": [
       "<IPython.core.display.HTML object>"
      ]
     },
     "metadata": {},
     "output_type": "display_data"
    },
    {
     "data": {
      "application/vnd.jupyter.widget-view+json": {
       "model_id": "f2ede736f63249db82d304305790b052",
       "version_major": 2,
       "version_minor": 0
      },
      "text/plain": [
       "Map:   0%|          | 0/39665 [00:00<?, ? examples/s]"
      ]
     },
     "metadata": {},
     "output_type": "display_data"
    },
    {
     "data": {
      "application/vnd.jupyter.widget-view+json": {
       "model_id": "d38f3e14165f43a39573d991de7c6c2f",
       "version_major": 2,
       "version_minor": 0
      },
      "text/plain": [
       "Map:   0%|          | 0/9917 [00:00<?, ? examples/s]"
      ]
     },
     "metadata": {},
     "output_type": "display_data"
    },
    {
     "data": {
      "text/html": [
       "\n",
       "    <div>\n",
       "      \n",
       "      <progress value='3720' max='3720' style='width:300px; height:20px; vertical-align: middle;'></progress>\n",
       "      [3720/3720 09:14, Epoch 3/3]\n",
       "    </div>\n",
       "    <table border=\"1\" class=\"dataframe\">\n",
       "  <thead>\n",
       " <tr style=\"text-align: left;\">\n",
       "      <th>Epoch</th>\n",
       "      <th>Training Loss</th>\n",
       "      <th>Validation Loss</th>\n",
       "      <th>Accuracy</th>\n",
       "      <th>F1</th>\n",
       "    </tr>\n",
       "  </thead>\n",
       "  <tbody>\n",
       "    <tr>\n",
       "      <td>1</td>\n",
       "      <td>0.276800</td>\n",
       "      <td>0.347695</td>\n",
       "      <td>0.859433</td>\n",
       "      <td>0.843476</td>\n",
       "    </tr>\n",
       "    <tr>\n",
       "      <td>2</td>\n",
       "      <td>0.189800</td>\n",
       "      <td>0.247052</td>\n",
       "      <td>0.909247</td>\n",
       "      <td>0.911417</td>\n",
       "    </tr>\n",
       "    <tr>\n",
       "      <td>3</td>\n",
       "      <td>0.098800</td>\n",
       "      <td>0.281545</td>\n",
       "      <td>0.911163</td>\n",
       "      <td>0.912556</td>\n",
       "    </tr>\n",
       "  </tbody>\n",
       "</table><p>"
      ],
      "text/plain": [
       "<IPython.core.display.HTML object>"
      ]
     },
     "metadata": {},
     "output_type": "display_data"
    },
    {
     "data": {
      "text/html": [],
      "text/plain": [
       "<IPython.core.display.HTML object>"
      ]
     },
     "metadata": {},
     "output_type": "display_data"
    },
    {
     "data": {
      "application/vnd.jupyter.widget-view+json": {
       "model_id": "257996d7a24a4a8d89909a6f134dbf31",
       "version_major": 2,
       "version_minor": 0
      },
      "text/plain": [
       "Map:   0%|          | 0/39665 [00:00<?, ? examples/s]"
      ]
     },
     "metadata": {},
     "output_type": "display_data"
    },
    {
     "data": {
      "application/vnd.jupyter.widget-view+json": {
       "model_id": "c8c209fca0304e1c8afb70568039bd88",
       "version_major": 2,
       "version_minor": 0
      },
      "text/plain": [
       "Map:   0%|          | 0/9917 [00:00<?, ? examples/s]"
      ]
     },
     "metadata": {},
     "output_type": "display_data"
    },
    {
     "data": {
      "text/html": [
       "\n",
       "    <div>\n",
       "      \n",
       "      <progress value='3720' max='3720' style='width:300px; height:20px; vertical-align: middle;'></progress>\n",
       "      [3720/3720 12:06, Epoch 3/3]\n",
       "    </div>\n",
       "    <table border=\"1\" class=\"dataframe\">\n",
       "  <thead>\n",
       " <tr style=\"text-align: left;\">\n",
       "      <th>Epoch</th>\n",
       "      <th>Training Loss</th>\n",
       "      <th>Validation Loss</th>\n",
       "      <th>Accuracy</th>\n",
       "      <th>F1</th>\n",
       "    </tr>\n",
       "  </thead>\n",
       "  <tbody>\n",
       "    <tr>\n",
       "      <td>1</td>\n",
       "      <td>0.277600</td>\n",
       "      <td>0.234500</td>\n",
       "      <td>0.907230</td>\n",
       "      <td>0.904167</td>\n",
       "    </tr>\n",
       "    <tr>\n",
       "      <td>2</td>\n",
       "      <td>0.204300</td>\n",
       "      <td>0.217394</td>\n",
       "      <td>0.917818</td>\n",
       "      <td>0.918459</td>\n",
       "    </tr>\n",
       "    <tr>\n",
       "      <td>3</td>\n",
       "      <td>0.141300</td>\n",
       "      <td>0.247125</td>\n",
       "      <td>0.918725</td>\n",
       "      <td>0.919464</td>\n",
       "    </tr>\n",
       "  </tbody>\n",
       "</table><p>"
      ],
      "text/plain": [
       "<IPython.core.display.HTML object>"
      ]
     },
     "metadata": {},
     "output_type": "display_data"
    },
    {
     "data": {
      "text/html": [],
      "text/plain": [
       "<IPython.core.display.HTML object>"
      ]
     },
     "metadata": {},
     "output_type": "display_data"
    },
    {
     "data": {
      "application/vnd.jupyter.widget-view+json": {
       "model_id": "ab9e317a55a94ec0ae572304a2329d43",
       "version_major": 2,
       "version_minor": 0
      },
      "text/plain": [
       "Map:   0%|          | 0/39666 [00:00<?, ? examples/s]"
      ]
     },
     "metadata": {},
     "output_type": "display_data"
    },
    {
     "data": {
      "application/vnd.jupyter.widget-view+json": {
       "model_id": "250a9cabb6844eb98a5be9c948e6cfb8",
       "version_major": 2,
       "version_minor": 0
      },
      "text/plain": [
       "Map:   0%|          | 0/9916 [00:00<?, ? examples/s]"
      ]
     },
     "metadata": {},
     "output_type": "display_data"
    },
    {
     "data": {
      "text/html": [
       "\n",
       "    <div>\n",
       "      \n",
       "      <progress value='3720' max='3720' style='width:300px; height:20px; vertical-align: middle;'></progress>\n",
       "      [3720/3720 10:52, Epoch 3/3]\n",
       "    </div>\n",
       "    <table border=\"1\" class=\"dataframe\">\n",
       "  <thead>\n",
       " <tr style=\"text-align: left;\">\n",
       "      <th>Epoch</th>\n",
       "      <th>Training Loss</th>\n",
       "      <th>Validation Loss</th>\n",
       "      <th>Accuracy</th>\n",
       "      <th>F1</th>\n",
       "    </tr>\n",
       "  </thead>\n",
       "  <tbody>\n",
       "    <tr>\n",
       "      <td>1</td>\n",
       "      <td>0.242600</td>\n",
       "      <td>0.230585</td>\n",
       "      <td>0.907322</td>\n",
       "      <td>0.906311</td>\n",
       "    </tr>\n",
       "    <tr>\n",
       "      <td>2</td>\n",
       "      <td>0.172600</td>\n",
       "      <td>0.228972</td>\n",
       "      <td>0.913574</td>\n",
       "      <td>0.913722</td>\n",
       "    </tr>\n",
       "    <tr>\n",
       "      <td>3</td>\n",
       "      <td>0.101100</td>\n",
       "      <td>0.279462</td>\n",
       "      <td>0.912364</td>\n",
       "      <td>0.913178</td>\n",
       "    </tr>\n",
       "  </tbody>\n",
       "</table><p>"
      ],
      "text/plain": [
       "<IPython.core.display.HTML object>"
      ]
     },
     "metadata": {},
     "output_type": "display_data"
    },
    {
     "data": {
      "text/html": [],
      "text/plain": [
       "<IPython.core.display.HTML object>"
      ]
     },
     "metadata": {},
     "output_type": "display_data"
    },
    {
     "data": {
      "application/vnd.jupyter.widget-view+json": {
       "model_id": "3bc41d9250094212aa1a44f82647c906",
       "version_major": 2,
       "version_minor": 0
      },
      "text/plain": [
       "Map:   0%|          | 0/39666 [00:00<?, ? examples/s]"
      ]
     },
     "metadata": {},
     "output_type": "display_data"
    },
    {
     "data": {
      "application/vnd.jupyter.widget-view+json": {
       "model_id": "104823703b004cbea1bac819cfe9cc34",
       "version_major": 2,
       "version_minor": 0
      },
      "text/plain": [
       "Map:   0%|          | 0/9916 [00:00<?, ? examples/s]"
      ]
     },
     "metadata": {},
     "output_type": "display_data"
    },
    {
     "data": {
      "text/html": [
       "\n",
       "    <div>\n",
       "      \n",
       "      <progress value='3720' max='3720' style='width:300px; height:20px; vertical-align: middle;'></progress>\n",
       "      [3720/3720 10:50, Epoch 3/3]\n",
       "    </div>\n",
       "    <table border=\"1\" class=\"dataframe\">\n",
       "  <thead>\n",
       " <tr style=\"text-align: left;\">\n",
       "      <th>Epoch</th>\n",
       "      <th>Training Loss</th>\n",
       "      <th>Validation Loss</th>\n",
       "      <th>Accuracy</th>\n",
       "      <th>F1</th>\n",
       "    </tr>\n",
       "  </thead>\n",
       "  <tbody>\n",
       "    <tr>\n",
       "      <td>1</td>\n",
       "      <td>0.268000</td>\n",
       "      <td>0.240896</td>\n",
       "      <td>0.903893</td>\n",
       "      <td>0.900884</td>\n",
       "    </tr>\n",
       "    <tr>\n",
       "      <td>2</td>\n",
       "      <td>0.174300</td>\n",
       "      <td>0.247860</td>\n",
       "      <td>0.911053</td>\n",
       "      <td>0.912932</td>\n",
       "    </tr>\n",
       "    <tr>\n",
       "      <td>3</td>\n",
       "      <td>0.100900</td>\n",
       "      <td>0.289125</td>\n",
       "      <td>0.912666</td>\n",
       "      <td>0.912348</td>\n",
       "    </tr>\n",
       "  </tbody>\n",
       "</table><p>"
      ],
      "text/plain": [
       "<IPython.core.display.HTML object>"
      ]
     },
     "metadata": {},
     "output_type": "display_data"
    },
    {
     "data": {
      "text/html": [],
      "text/plain": [
       "<IPython.core.display.HTML object>"
      ]
     },
     "metadata": {},
     "output_type": "display_data"
    },
    {
     "data": {
      "application/vnd.jupyter.widget-view+json": {
       "model_id": "dc0c32775dfe4a0b9d4f6656615085d8",
       "version_major": 2,
       "version_minor": 0
      },
      "text/plain": [
       "Map:   0%|          | 0/39666 [00:00<?, ? examples/s]"
      ]
     },
     "metadata": {},
     "output_type": "display_data"
    },
    {
     "data": {
      "application/vnd.jupyter.widget-view+json": {
       "model_id": "9f61542f261849c6a639221e0b1fcfb3",
       "version_major": 2,
       "version_minor": 0
      },
      "text/plain": [
       "Map:   0%|          | 0/9916 [00:00<?, ? examples/s]"
      ]
     },
     "metadata": {},
     "output_type": "display_data"
    },
    {
     "data": {
      "text/html": [
       "\n",
       "    <div>\n",
       "      \n",
       "      <progress value='3720' max='3720' style='width:300px; height:20px; vertical-align: middle;'></progress>\n",
       "      [3720/3720 10:45, Epoch 3/3]\n",
       "    </div>\n",
       "    <table border=\"1\" class=\"dataframe\">\n",
       "  <thead>\n",
       " <tr style=\"text-align: left;\">\n",
       "      <th>Epoch</th>\n",
       "      <th>Training Loss</th>\n",
       "      <th>Validation Loss</th>\n",
       "      <th>Accuracy</th>\n",
       "      <th>F1</th>\n",
       "    </tr>\n",
       "  </thead>\n",
       "  <tbody>\n",
       "    <tr>\n",
       "      <td>1</td>\n",
       "      <td>0.244100</td>\n",
       "      <td>0.287270</td>\n",
       "      <td>0.884328</td>\n",
       "      <td>0.877050</td>\n",
       "    </tr>\n",
       "    <tr>\n",
       "      <td>2</td>\n",
       "      <td>0.151400</td>\n",
       "      <td>0.258749</td>\n",
       "      <td>0.909540</td>\n",
       "      <td>0.909256</td>\n",
       "    </tr>\n",
       "    <tr>\n",
       "      <td>3</td>\n",
       "      <td>0.105500</td>\n",
       "      <td>0.300200</td>\n",
       "      <td>0.907725</td>\n",
       "      <td>0.907994</td>\n",
       "    </tr>\n",
       "  </tbody>\n",
       "</table><p>"
      ],
      "text/plain": [
       "<IPython.core.display.HTML object>"
      ]
     },
     "metadata": {},
     "output_type": "display_data"
    },
    {
     "data": {
      "text/html": [],
      "text/plain": [
       "<IPython.core.display.HTML object>"
      ]
     },
     "metadata": {},
     "output_type": "display_data"
    },
    {
     "data": {
      "application/vnd.jupyter.widget-view+json": {
       "model_id": "2dc0804e616746a0a960719ad9b3ea24",
       "version_major": 2,
       "version_minor": 0
      },
      "text/plain": [
       "Map:   0%|          | 0/39665 [00:00<?, ? examples/s]"
      ]
     },
     "metadata": {},
     "output_type": "display_data"
    },
    {
     "data": {
      "application/vnd.jupyter.widget-view+json": {
       "model_id": "1e823f995d4f4161b1e2438c2784f99c",
       "version_major": 2,
       "version_minor": 0
      },
      "text/plain": [
       "Map:   0%|          | 0/9917 [00:00<?, ? examples/s]"
      ]
     },
     "metadata": {},
     "output_type": "display_data"
    },
    {
     "data": {
      "text/html": [
       "\n",
       "    <div>\n",
       "      \n",
       "      <progress value='4960' max='4960' style='width:300px; height:20px; vertical-align: middle;'></progress>\n",
       "      [4960/4960 14:29, Epoch 4/4]\n",
       "    </div>\n",
       "    <table border=\"1\" class=\"dataframe\">\n",
       "  <thead>\n",
       " <tr style=\"text-align: left;\">\n",
       "      <th>Epoch</th>\n",
       "      <th>Training Loss</th>\n",
       "      <th>Validation Loss</th>\n",
       "      <th>Accuracy</th>\n",
       "      <th>F1</th>\n",
       "    </tr>\n",
       "  </thead>\n",
       "  <tbody>\n",
       "    <tr>\n",
       "      <td>1</td>\n",
       "      <td>0.269600</td>\n",
       "      <td>0.338635</td>\n",
       "      <td>0.866794</td>\n",
       "      <td>0.853564</td>\n",
       "    </tr>\n",
       "    <tr>\n",
       "      <td>2</td>\n",
       "      <td>0.202800</td>\n",
       "      <td>0.243769</td>\n",
       "      <td>0.909852</td>\n",
       "      <td>0.911555</td>\n",
       "    </tr>\n",
       "    <tr>\n",
       "      <td>3</td>\n",
       "      <td>0.098800</td>\n",
       "      <td>0.288172</td>\n",
       "      <td>0.910356</td>\n",
       "      <td>0.912024</td>\n",
       "    </tr>\n",
       "    <tr>\n",
       "      <td>4</td>\n",
       "      <td>0.068100</td>\n",
       "      <td>0.362849</td>\n",
       "      <td>0.908642</td>\n",
       "      <td>0.909599</td>\n",
       "    </tr>\n",
       "  </tbody>\n",
       "</table><p>"
      ],
      "text/plain": [
       "<IPython.core.display.HTML object>"
      ]
     },
     "metadata": {},
     "output_type": "display_data"
    },
    {
     "data": {
      "text/html": [],
      "text/plain": [
       "<IPython.core.display.HTML object>"
      ]
     },
     "metadata": {},
     "output_type": "display_data"
    },
    {
     "data": {
      "application/vnd.jupyter.widget-view+json": {
       "model_id": "a2a8dc33255e4dbaaf13d90a115d1f40",
       "version_major": 2,
       "version_minor": 0
      },
      "text/plain": [
       "Map:   0%|          | 0/39665 [00:00<?, ? examples/s]"
      ]
     },
     "metadata": {},
     "output_type": "display_data"
    },
    {
     "data": {
      "application/vnd.jupyter.widget-view+json": {
       "model_id": "b83c923dba144d988414595799fdaec6",
       "version_major": 2,
       "version_minor": 0
      },
      "text/plain": [
       "Map:   0%|          | 0/9917 [00:00<?, ? examples/s]"
      ]
     },
     "metadata": {},
     "output_type": "display_data"
    },
    {
     "data": {
      "text/html": [
       "\n",
       "    <div>\n",
       "      \n",
       "      <progress value='4960' max='4960' style='width:300px; height:20px; vertical-align: middle;'></progress>\n",
       "      [4960/4960 14:23, Epoch 4/4]\n",
       "    </div>\n",
       "    <table border=\"1\" class=\"dataframe\">\n",
       "  <thead>\n",
       " <tr style=\"text-align: left;\">\n",
       "      <th>Epoch</th>\n",
       "      <th>Training Loss</th>\n",
       "      <th>Validation Loss</th>\n",
       "      <th>Accuracy</th>\n",
       "      <th>F1</th>\n",
       "    </tr>\n",
       "  </thead>\n",
       "  <tbody>\n",
       "    <tr>\n",
       "      <td>1</td>\n",
       "      <td>0.271500</td>\n",
       "      <td>0.227354</td>\n",
       "      <td>0.907331</td>\n",
       "      <td>0.905150</td>\n",
       "    </tr>\n",
       "    <tr>\n",
       "      <td>2</td>\n",
       "      <td>0.197500</td>\n",
       "      <td>0.226857</td>\n",
       "      <td>0.914994</td>\n",
       "      <td>0.917264</td>\n",
       "    </tr>\n",
       "    <tr>\n",
       "      <td>3</td>\n",
       "      <td>0.142600</td>\n",
       "      <td>0.244511</td>\n",
       "      <td>0.914591</td>\n",
       "      <td>0.914591</td>\n",
       "    </tr>\n",
       "    <tr>\n",
       "      <td>4</td>\n",
       "      <td>0.080700</td>\n",
       "      <td>0.314403</td>\n",
       "      <td>0.916406</td>\n",
       "      <td>0.917025</td>\n",
       "    </tr>\n",
       "  </tbody>\n",
       "</table><p>"
      ],
      "text/plain": [
       "<IPython.core.display.HTML object>"
      ]
     },
     "metadata": {},
     "output_type": "display_data"
    },
    {
     "data": {
      "text/html": [],
      "text/plain": [
       "<IPython.core.display.HTML object>"
      ]
     },
     "metadata": {},
     "output_type": "display_data"
    },
    {
     "data": {
      "application/vnd.jupyter.widget-view+json": {
       "model_id": "b793180884aa41548a897299511f4835",
       "version_major": 2,
       "version_minor": 0
      },
      "text/plain": [
       "Map:   0%|          | 0/39666 [00:00<?, ? examples/s]"
      ]
     },
     "metadata": {},
     "output_type": "display_data"
    },
    {
     "data": {
      "application/vnd.jupyter.widget-view+json": {
       "model_id": "85adb3b1d60f454592eef7af8dfdba27",
       "version_major": 2,
       "version_minor": 0
      },
      "text/plain": [
       "Map:   0%|          | 0/9916 [00:00<?, ? examples/s]"
      ]
     },
     "metadata": {},
     "output_type": "display_data"
    },
    {
     "data": {
      "text/html": [
       "\n",
       "    <div>\n",
       "      \n",
       "      <progress value='4960' max='4960' style='width:300px; height:20px; vertical-align: middle;'></progress>\n",
       "      [4960/4960 14:29, Epoch 4/4]\n",
       "    </div>\n",
       "    <table border=\"1\" class=\"dataframe\">\n",
       "  <thead>\n",
       " <tr style=\"text-align: left;\">\n",
       "      <th>Epoch</th>\n",
       "      <th>Training Loss</th>\n",
       "      <th>Validation Loss</th>\n",
       "      <th>Accuracy</th>\n",
       "      <th>F1</th>\n",
       "    </tr>\n",
       "  </thead>\n",
       "  <tbody>\n",
       "    <tr>\n",
       "      <td>1</td>\n",
       "      <td>0.244300</td>\n",
       "      <td>0.228662</td>\n",
       "      <td>0.908027</td>\n",
       "      <td>0.907505</td>\n",
       "    </tr>\n",
       "    <tr>\n",
       "      <td>2</td>\n",
       "      <td>0.177400</td>\n",
       "      <td>0.228913</td>\n",
       "      <td>0.910952</td>\n",
       "      <td>0.911265</td>\n",
       "    </tr>\n",
       "    <tr>\n",
       "      <td>3</td>\n",
       "      <td>0.104700</td>\n",
       "      <td>0.287256</td>\n",
       "      <td>0.913171</td>\n",
       "      <td>0.914643</td>\n",
       "    </tr>\n",
       "    <tr>\n",
       "      <td>4</td>\n",
       "      <td>0.078200</td>\n",
       "      <td>0.339390</td>\n",
       "      <td>0.912263</td>\n",
       "      <td>0.913208</td>\n",
       "    </tr>\n",
       "  </tbody>\n",
       "</table><p>"
      ],
      "text/plain": [
       "<IPython.core.display.HTML object>"
      ]
     },
     "metadata": {},
     "output_type": "display_data"
    },
    {
     "data": {
      "text/html": [],
      "text/plain": [
       "<IPython.core.display.HTML object>"
      ]
     },
     "metadata": {},
     "output_type": "display_data"
    },
    {
     "data": {
      "application/vnd.jupyter.widget-view+json": {
       "model_id": "4068cedf088f443f9a331abbb0b26326",
       "version_major": 2,
       "version_minor": 0
      },
      "text/plain": [
       "Map:   0%|          | 0/39666 [00:00<?, ? examples/s]"
      ]
     },
     "metadata": {},
     "output_type": "display_data"
    },
    {
     "data": {
      "application/vnd.jupyter.widget-view+json": {
       "model_id": "82a4b90c968644138b9f19f88772e7d0",
       "version_major": 2,
       "version_minor": 0
      },
      "text/plain": [
       "Map:   0%|          | 0/9916 [00:00<?, ? examples/s]"
      ]
     },
     "metadata": {},
     "output_type": "display_data"
    },
    {
     "data": {
      "text/html": [
       "\n",
       "    <div>\n",
       "      \n",
       "      <progress value='4960' max='4960' style='width:300px; height:20px; vertical-align: middle;'></progress>\n",
       "      [4960/4960 14:33, Epoch 4/4]\n",
       "    </div>\n",
       "    <table border=\"1\" class=\"dataframe\">\n",
       "  <thead>\n",
       " <tr style=\"text-align: left;\">\n",
       "      <th>Epoch</th>\n",
       "      <th>Training Loss</th>\n",
       "      <th>Validation Loss</th>\n",
       "      <th>Accuracy</th>\n",
       "      <th>F1</th>\n",
       "    </tr>\n",
       "  </thead>\n",
       "  <tbody>\n",
       "    <tr>\n",
       "      <td>1</td>\n",
       "      <td>0.274400</td>\n",
       "      <td>0.249915</td>\n",
       "      <td>0.900161</td>\n",
       "      <td>0.896292</td>\n",
       "    </tr>\n",
       "    <tr>\n",
       "      <td>2</td>\n",
       "      <td>0.189600</td>\n",
       "      <td>0.234410</td>\n",
       "      <td>0.911456</td>\n",
       "      <td>0.911777</td>\n",
       "    </tr>\n",
       "    <tr>\n",
       "      <td>3</td>\n",
       "      <td>0.104500</td>\n",
       "      <td>0.304083</td>\n",
       "      <td>0.906616</td>\n",
       "      <td>0.909269</td>\n",
       "    </tr>\n",
       "    <tr>\n",
       "      <td>4</td>\n",
       "      <td>0.072100</td>\n",
       "      <td>0.338593</td>\n",
       "      <td>0.910246</td>\n",
       "      <td>0.910571</td>\n",
       "    </tr>\n",
       "  </tbody>\n",
       "</table><p>"
      ],
      "text/plain": [
       "<IPython.core.display.HTML object>"
      ]
     },
     "metadata": {},
     "output_type": "display_data"
    },
    {
     "data": {
      "text/html": [],
      "text/plain": [
       "<IPython.core.display.HTML object>"
      ]
     },
     "metadata": {},
     "output_type": "display_data"
    },
    {
     "data": {
      "application/vnd.jupyter.widget-view+json": {
       "model_id": "177ea6815cb04b9987648a0c85935ca6",
       "version_major": 2,
       "version_minor": 0
      },
      "text/plain": [
       "Map:   0%|          | 0/39666 [00:00<?, ? examples/s]"
      ]
     },
     "metadata": {},
     "output_type": "display_data"
    },
    {
     "data": {
      "application/vnd.jupyter.widget-view+json": {
       "model_id": "e87b5f23cded479eae9f227827f49ec0",
       "version_major": 2,
       "version_minor": 0
      },
      "text/plain": [
       "Map:   0%|          | 0/9916 [00:00<?, ? examples/s]"
      ]
     },
     "metadata": {},
     "output_type": "display_data"
    },
    {
     "data": {
      "text/html": [
       "\n",
       "    <div>\n",
       "      \n",
       "      <progress value='4960' max='4960' style='width:300px; height:20px; vertical-align: middle;'></progress>\n",
       "      [4960/4960 19:01, Epoch 4/4]\n",
       "    </div>\n",
       "    <table border=\"1\" class=\"dataframe\">\n",
       "  <thead>\n",
       " <tr style=\"text-align: left;\">\n",
       "      <th>Epoch</th>\n",
       "      <th>Training Loss</th>\n",
       "      <th>Validation Loss</th>\n",
       "      <th>Accuracy</th>\n",
       "      <th>F1</th>\n",
       "    </tr>\n",
       "  </thead>\n",
       "  <tbody>\n",
       "    <tr>\n",
       "      <td>1</td>\n",
       "      <td>0.246700</td>\n",
       "      <td>0.280228</td>\n",
       "      <td>0.885841</td>\n",
       "      <td>0.879034</td>\n",
       "    </tr>\n",
       "    <tr>\n",
       "      <td>2</td>\n",
       "      <td>0.151400</td>\n",
       "      <td>0.252587</td>\n",
       "      <td>0.908532</td>\n",
       "      <td>0.907590</td>\n",
       "    </tr>\n",
       "    <tr>\n",
       "      <td>3</td>\n",
       "      <td>0.100200</td>\n",
       "      <td>0.305161</td>\n",
       "      <td>0.908935</td>\n",
       "      <td>0.910514</td>\n",
       "    </tr>\n",
       "    <tr>\n",
       "      <td>4</td>\n",
       "      <td>0.062200</td>\n",
       "      <td>0.367791</td>\n",
       "      <td>0.906515</td>\n",
       "      <td>0.907272</td>\n",
       "    </tr>\n",
       "  </tbody>\n",
       "</table><p>"
      ],
      "text/plain": [
       "<IPython.core.display.HTML object>"
      ]
     },
     "metadata": {},
     "output_type": "display_data"
    },
    {
     "data": {
      "text/html": [],
      "text/plain": [
       "<IPython.core.display.HTML object>"
      ]
     },
     "metadata": {},
     "output_type": "display_data"
    },
    {
     "data": {
      "application/vnd.jupyter.widget-view+json": {
       "model_id": "c807b68602234b07a1287c77633fd688",
       "version_major": 2,
       "version_minor": 0
      },
      "text/plain": [
       "Map:   0%|          | 0/39665 [00:00<?, ? examples/s]"
      ]
     },
     "metadata": {},
     "output_type": "display_data"
    },
    {
     "data": {
      "application/vnd.jupyter.widget-view+json": {
       "model_id": "3be4f268e01c42e9a7a98b580c394277",
       "version_major": 2,
       "version_minor": 0
      },
      "text/plain": [
       "Map:   0%|          | 0/9917 [00:00<?, ? examples/s]"
      ]
     },
     "metadata": {},
     "output_type": "display_data"
    },
    {
     "data": {
      "text/html": [
       "\n",
       "    <div>\n",
       "      \n",
       "      <progress value='1240' max='1240' style='width:300px; height:20px; vertical-align: middle;'></progress>\n",
       "      [1240/1240 08:35, Epoch 2/2]\n",
       "    </div>\n",
       "    <table border=\"1\" class=\"dataframe\">\n",
       "  <thead>\n",
       " <tr style=\"text-align: left;\">\n",
       "      <th>Epoch</th>\n",
       "      <th>Training Loss</th>\n",
       "      <th>Validation Loss</th>\n",
       "      <th>Accuracy</th>\n",
       "      <th>F1</th>\n",
       "    </tr>\n",
       "  </thead>\n",
       "  <tbody>\n",
       "    <tr>\n",
       "      <td>1</td>\n",
       "      <td>0.259900</td>\n",
       "      <td>0.252106</td>\n",
       "      <td>0.896743</td>\n",
       "      <td>0.895914</td>\n",
       "    </tr>\n",
       "    <tr>\n",
       "      <td>2</td>\n",
       "      <td>0.197200</td>\n",
       "      <td>0.243482</td>\n",
       "      <td>0.905516</td>\n",
       "      <td>0.905971</td>\n",
       "    </tr>\n",
       "  </tbody>\n",
       "</table><p>"
      ],
      "text/plain": [
       "<IPython.core.display.HTML object>"
      ]
     },
     "metadata": {},
     "output_type": "display_data"
    },
    {
     "data": {
      "text/html": [],
      "text/plain": [
       "<IPython.core.display.HTML object>"
      ]
     },
     "metadata": {},
     "output_type": "display_data"
    },
    {
     "data": {
      "application/vnd.jupyter.widget-view+json": {
       "model_id": "df7c38b4d06241d3bbfc2bc0d4e22c57",
       "version_major": 2,
       "version_minor": 0
      },
      "text/plain": [
       "Map:   0%|          | 0/39665 [00:00<?, ? examples/s]"
      ]
     },
     "metadata": {},
     "output_type": "display_data"
    },
    {
     "data": {
      "application/vnd.jupyter.widget-view+json": {
       "model_id": "f4c3acd1c4434c4aa4b178edaa0f18f4",
       "version_major": 2,
       "version_minor": 0
      },
      "text/plain": [
       "Map:   0%|          | 0/9917 [00:00<?, ? examples/s]"
      ]
     },
     "metadata": {},
     "output_type": "display_data"
    },
    {
     "data": {
      "text/html": [
       "\n",
       "    <div>\n",
       "      \n",
       "      <progress value='1240' max='1240' style='width:300px; height:20px; vertical-align: middle;'></progress>\n",
       "      [1240/1240 08:28, Epoch 2/2]\n",
       "    </div>\n",
       "    <table border=\"1\" class=\"dataframe\">\n",
       "  <thead>\n",
       " <tr style=\"text-align: left;\">\n",
       "      <th>Epoch</th>\n",
       "      <th>Training Loss</th>\n",
       "      <th>Validation Loss</th>\n",
       "      <th>Accuracy</th>\n",
       "      <th>F1</th>\n",
       "    </tr>\n",
       "  </thead>\n",
       "  <tbody>\n",
       "    <tr>\n",
       "      <td>1</td>\n",
       "      <td>0.266000</td>\n",
       "      <td>0.250591</td>\n",
       "      <td>0.898256</td>\n",
       "      <td>0.893442</td>\n",
       "    </tr>\n",
       "    <tr>\n",
       "      <td>2</td>\n",
       "      <td>0.202500</td>\n",
       "      <td>0.220574</td>\n",
       "      <td>0.913280</td>\n",
       "      <td>0.914137</td>\n",
       "    </tr>\n",
       "  </tbody>\n",
       "</table><p>"
      ],
      "text/plain": [
       "<IPython.core.display.HTML object>"
      ]
     },
     "metadata": {},
     "output_type": "display_data"
    },
    {
     "data": {
      "text/html": [],
      "text/plain": [
       "<IPython.core.display.HTML object>"
      ]
     },
     "metadata": {},
     "output_type": "display_data"
    },
    {
     "data": {
      "application/vnd.jupyter.widget-view+json": {
       "model_id": "f99f32cae1cc4c229876d580405b9462",
       "version_major": 2,
       "version_minor": 0
      },
      "text/plain": [
       "Map:   0%|          | 0/39666 [00:00<?, ? examples/s]"
      ]
     },
     "metadata": {},
     "output_type": "display_data"
    },
    {
     "data": {
      "application/vnd.jupyter.widget-view+json": {
       "model_id": "053c09abf3a34f55a083df25337fe39b",
       "version_major": 2,
       "version_minor": 0
      },
      "text/plain": [
       "Map:   0%|          | 0/9916 [00:00<?, ? examples/s]"
      ]
     },
     "metadata": {},
     "output_type": "display_data"
    },
    {
     "data": {
      "text/html": [
       "\n",
       "    <div>\n",
       "      \n",
       "      <progress value='1240' max='1240' style='width:300px; height:20px; vertical-align: middle;'></progress>\n",
       "      [1240/1240 10:08, Epoch 2/2]\n",
       "    </div>\n",
       "    <table border=\"1\" class=\"dataframe\">\n",
       "  <thead>\n",
       " <tr style=\"text-align: left;\">\n",
       "      <th>Epoch</th>\n",
       "      <th>Training Loss</th>\n",
       "      <th>Validation Loss</th>\n",
       "      <th>Accuracy</th>\n",
       "      <th>F1</th>\n",
       "    </tr>\n",
       "  </thead>\n",
       "  <tbody>\n",
       "    <tr>\n",
       "      <td>1</td>\n",
       "      <td>0.242900</td>\n",
       "      <td>0.248448</td>\n",
       "      <td>0.898649</td>\n",
       "      <td>0.894577</td>\n",
       "    </tr>\n",
       "    <tr>\n",
       "      <td>2</td>\n",
       "      <td>0.194900</td>\n",
       "      <td>0.228554</td>\n",
       "      <td>0.911658</td>\n",
       "      <td>0.912084</td>\n",
       "    </tr>\n",
       "  </tbody>\n",
       "</table><p>"
      ],
      "text/plain": [
       "<IPython.core.display.HTML object>"
      ]
     },
     "metadata": {},
     "output_type": "display_data"
    },
    {
     "data": {
      "text/html": [],
      "text/plain": [
       "<IPython.core.display.HTML object>"
      ]
     },
     "metadata": {},
     "output_type": "display_data"
    },
    {
     "data": {
      "application/vnd.jupyter.widget-view+json": {
       "model_id": "aa5961ac705f492089cdefc09ff48c41",
       "version_major": 2,
       "version_minor": 0
      },
      "text/plain": [
       "Map:   0%|          | 0/39666 [00:00<?, ? examples/s]"
      ]
     },
     "metadata": {},
     "output_type": "display_data"
    },
    {
     "data": {
      "application/vnd.jupyter.widget-view+json": {
       "model_id": "6197844b859e400a9de4a04def6b5d70",
       "version_major": 2,
       "version_minor": 0
      },
      "text/plain": [
       "Map:   0%|          | 0/9916 [00:00<?, ? examples/s]"
      ]
     },
     "metadata": {},
     "output_type": "display_data"
    },
    {
     "data": {
      "text/html": [
       "\n",
       "    <div>\n",
       "      \n",
       "      <progress value='1240' max='1240' style='width:300px; height:20px; vertical-align: middle;'></progress>\n",
       "      [1240/1240 07:20, Epoch 2/2]\n",
       "    </div>\n",
       "    <table border=\"1\" class=\"dataframe\">\n",
       "  <thead>\n",
       " <tr style=\"text-align: left;\">\n",
       "      <th>Epoch</th>\n",
       "      <th>Training Loss</th>\n",
       "      <th>Validation Loss</th>\n",
       "      <th>Accuracy</th>\n",
       "      <th>F1</th>\n",
       "    </tr>\n",
       "  </thead>\n",
       "  <tbody>\n",
       "    <tr>\n",
       "      <td>1</td>\n",
       "      <td>0.272100</td>\n",
       "      <td>0.278580</td>\n",
       "      <td>0.886244</td>\n",
       "      <td>0.893404</td>\n",
       "    </tr>\n",
       "    <tr>\n",
       "      <td>2</td>\n",
       "      <td>0.167500</td>\n",
       "      <td>0.240225</td>\n",
       "      <td>0.907120</td>\n",
       "      <td>0.907743</td>\n",
       "    </tr>\n",
       "  </tbody>\n",
       "</table><p>"
      ],
      "text/plain": [
       "<IPython.core.display.HTML object>"
      ]
     },
     "metadata": {},
     "output_type": "display_data"
    },
    {
     "data": {
      "text/html": [],
      "text/plain": [
       "<IPython.core.display.HTML object>"
      ]
     },
     "metadata": {},
     "output_type": "display_data"
    },
    {
     "data": {
      "application/vnd.jupyter.widget-view+json": {
       "model_id": "7bffe108a45b45c8a3fa63dbb2377a82",
       "version_major": 2,
       "version_minor": 0
      },
      "text/plain": [
       "Map:   0%|          | 0/39666 [00:00<?, ? examples/s]"
      ]
     },
     "metadata": {},
     "output_type": "display_data"
    },
    {
     "data": {
      "application/vnd.jupyter.widget-view+json": {
       "model_id": "b435cb5455464bf3b8156b3cab235fb9",
       "version_major": 2,
       "version_minor": 0
      },
      "text/plain": [
       "Map:   0%|          | 0/9916 [00:00<?, ? examples/s]"
      ]
     },
     "metadata": {},
     "output_type": "display_data"
    },
    {
     "data": {
      "text/html": [
       "\n",
       "    <div>\n",
       "      \n",
       "      <progress value='1240' max='1240' style='width:300px; height:20px; vertical-align: middle;'></progress>\n",
       "      [1240/1240 07:07, Epoch 2/2]\n",
       "    </div>\n",
       "    <table border=\"1\" class=\"dataframe\">\n",
       "  <thead>\n",
       " <tr style=\"text-align: left;\">\n",
       "      <th>Epoch</th>\n",
       "      <th>Training Loss</th>\n",
       "      <th>Validation Loss</th>\n",
       "      <th>Accuracy</th>\n",
       "      <th>F1</th>\n",
       "    </tr>\n",
       "  </thead>\n",
       "  <tbody>\n",
       "    <tr>\n",
       "      <td>1</td>\n",
       "      <td>0.260600</td>\n",
       "      <td>0.252730</td>\n",
       "      <td>0.897035</td>\n",
       "      <td>0.895635</td>\n",
       "    </tr>\n",
       "    <tr>\n",
       "      <td>2</td>\n",
       "      <td>0.190100</td>\n",
       "      <td>0.240979</td>\n",
       "      <td>0.903086</td>\n",
       "      <td>0.903871</td>\n",
       "    </tr>\n",
       "  </tbody>\n",
       "</table><p>"
      ],
      "text/plain": [
       "<IPython.core.display.HTML object>"
      ]
     },
     "metadata": {},
     "output_type": "display_data"
    },
    {
     "data": {
      "text/html": [],
      "text/plain": [
       "<IPython.core.display.HTML object>"
      ]
     },
     "metadata": {},
     "output_type": "display_data"
    },
    {
     "data": {
      "application/vnd.jupyter.widget-view+json": {
       "model_id": "dd2810cc8535492e9955d60a9ec5e6be",
       "version_major": 2,
       "version_minor": 0
      },
      "text/plain": [
       "Map:   0%|          | 0/39665 [00:00<?, ? examples/s]"
      ]
     },
     "metadata": {},
     "output_type": "display_data"
    },
    {
     "data": {
      "application/vnd.jupyter.widget-view+json": {
       "model_id": "fbc6fd8e559d4346a0118fa250ac1455",
       "version_major": 2,
       "version_minor": 0
      },
      "text/plain": [
       "Map:   0%|          | 0/9917 [00:00<?, ? examples/s]"
      ]
     },
     "metadata": {},
     "output_type": "display_data"
    },
    {
     "data": {
      "text/html": [
       "\n",
       "    <div>\n",
       "      \n",
       "      <progress value='1860' max='1860' style='width:300px; height:20px; vertical-align: middle;'></progress>\n",
       "      [1860/1860 10:40, Epoch 3/3]\n",
       "    </div>\n",
       "    <table border=\"1\" class=\"dataframe\">\n",
       "  <thead>\n",
       " <tr style=\"text-align: left;\">\n",
       "      <th>Epoch</th>\n",
       "      <th>Training Loss</th>\n",
       "      <th>Validation Loss</th>\n",
       "      <th>Accuracy</th>\n",
       "      <th>F1</th>\n",
       "    </tr>\n",
       "  </thead>\n",
       "  <tbody>\n",
       "    <tr>\n",
       "      <td>1</td>\n",
       "      <td>0.264500</td>\n",
       "      <td>0.261105</td>\n",
       "      <td>0.892407</td>\n",
       "      <td>0.888307</td>\n",
       "    </tr>\n",
       "    <tr>\n",
       "      <td>2</td>\n",
       "      <td>0.192400</td>\n",
       "      <td>0.245127</td>\n",
       "      <td>0.908843</td>\n",
       "      <td>0.908981</td>\n",
       "    </tr>\n",
       "    <tr>\n",
       "      <td>3</td>\n",
       "      <td>0.126200</td>\n",
       "      <td>0.257777</td>\n",
       "      <td>0.907533</td>\n",
       "      <td>0.908125</td>\n",
       "    </tr>\n",
       "  </tbody>\n",
       "</table><p>"
      ],
      "text/plain": [
       "<IPython.core.display.HTML object>"
      ]
     },
     "metadata": {},
     "output_type": "display_data"
    },
    {
     "data": {
      "text/html": [],
      "text/plain": [
       "<IPython.core.display.HTML object>"
      ]
     },
     "metadata": {},
     "output_type": "display_data"
    },
    {
     "data": {
      "application/vnd.jupyter.widget-view+json": {
       "model_id": "6c05534c175d4314a6fa6d6f355099ea",
       "version_major": 2,
       "version_minor": 0
      },
      "text/plain": [
       "Map:   0%|          | 0/39665 [00:00<?, ? examples/s]"
      ]
     },
     "metadata": {},
     "output_type": "display_data"
    },
    {
     "data": {
      "application/vnd.jupyter.widget-view+json": {
       "model_id": "4806eec4fcd1474fbcf793eac69a3e6b",
       "version_major": 2,
       "version_minor": 0
      },
      "text/plain": [
       "Map:   0%|          | 0/9917 [00:00<?, ? examples/s]"
      ]
     },
     "metadata": {},
     "output_type": "display_data"
    },
    {
     "data": {
      "text/html": [
       "\n",
       "    <div>\n",
       "      \n",
       "      <progress value='1781' max='1860' style='width:300px; height:20px; vertical-align: middle;'></progress>\n",
       "      [1781/1860 10:10 < 00:27, 2.91 it/s, Epoch 2.87/3]\n",
       "    </div>\n",
       "    <table border=\"1\" class=\"dataframe\">\n",
       "  <thead>\n",
       " <tr style=\"text-align: left;\">\n",
       "      <th>Epoch</th>\n",
       "      <th>Training Loss</th>\n",
       "      <th>Validation Loss</th>\n",
       "      <th>Accuracy</th>\n",
       "      <th>F1</th>\n",
       "    </tr>\n",
       "  </thead>\n",
       "  <tbody>\n",
       "    <tr>\n",
       "      <td>1</td>\n",
       "      <td>0.255800</td>\n",
       "      <td>0.227808</td>\n",
       "      <td>0.909045</td>\n",
       "      <td>0.907790</td>\n",
       "    </tr>\n",
       "    <tr>\n",
       "      <td>2</td>\n",
       "      <td>0.192500</td>\n",
       "      <td>0.215698</td>\n",
       "      <td>0.913079</td>\n",
       "      <td>0.914382</td>\n",
       "    </tr>\n",
       "  </tbody>\n",
       "</table><p>"
      ],
      "text/plain": [
       "<IPython.core.display.HTML object>"
      ]
     },
     "metadata": {},
     "output_type": "display_data"
    }
   ],
   "source": [
    "cv = StratifiedKFold(n_splits=5, shuffle=True, random_state=42)\n",
    "all_rows = []           # one row per (hp, fold)\n",
    "agg_preds = {}          # (hp_idx) -> list of (y_true, y_pred) for confusion matrices\n",
    "\n",
    "for hp_idx, hp in enumerate(hp_list):\n",
    "    agg_preds[hp_idx] = []\n",
    "    for fold_id, (tr_idx, va_idx) in enumerate(cv.split(X, y), start=1):\n",
    "        m = train_eval_one_fold(tr_idx, va_idx, hp)\n",
    "        all_rows.append({\n",
    "            \"hp_idx\": hp_idx,\n",
    "            \"fold\": fold_id,\n",
    "            \"lr\": hp[\"lr\"],\n",
    "            \"bsz\": hp[\"bsz\"],\n",
    "            \"epochs\": hp[\"epochs\"],\n",
    "            \"wd\": hp[\"wd\"],\n",
    "            \"acc\": m[\"eval_accuracy\"],\n",
    "            \"f1\":  m[\"eval_f1\"],\n",
    "        })\n",
    "        agg_preds[hp_idx].append( (m[\"y_true\"], m[\"y_pred\"]) )\n",
    "\n",
    "results_df = pd.DataFrame(all_rows)"
   ]
  },
  {
   "cell_type": "code",
   "execution_count": null,
   "id": "1af2e90d-640c-4fbc-9ee4-ea53d85d0877",
   "metadata": {},
   "outputs": [],
   "source": [
    "summary = (\n",
    "    results_df\n",
    "    .groupby([\"hp_idx\",\"lr\",\"bsz\",\"epochs\",\"wd\"], as_index=False)\n",
    "    .agg(mean_acc=(\"acc\",\"mean\"), std_acc=(\"acc\",\"std\"),\n",
    "         mean_f1=(\"f1\",\"mean\"),   std_f1=(\"f1\",\"std\"))\n",
    "    .sort_values([\"mean_f1\",\"mean_acc\"], ascending=False)\n",
    "    .reset_index(drop=True)\n",
    ")\n",
    "\n",
    "display(summary)\n",
    "\n",
    "# ---- pick best & worst by mean_f1\n",
    "best_row  = summary.iloc[0]\n",
    "worst_row = summary.iloc[-1]\n",
    "best_hp_idx  = int(best_row[\"hp_idx\"])\n",
    "worst_hp_idx = int(worst_row[\"hp_idx\"])\n",
    "\n",
    "print(\"Best HP:\",  dict(best_row[[\"lr\",\"bsz\",\"epochs\",\"wd\"]]))\n",
    "print(\"Worst HP:\", dict(worst_row[[\"lr\",\"bsz\",\"epochs\",\"wd\"]]))"
   ]
  },
  {
   "cell_type": "code",
   "execution_count": null,
   "id": "32993d83-0ab1-4aa3-8341-b17e13a5e109",
   "metadata": {},
   "outputs": [],
   "source": [
    "fig, ax = plt.subplots(figsize=(10,5))\n",
    "ax.plot(results_df.loc[results_df.hp_idx==best_hp_idx,\"fold\"],\n",
    "        results_df.loc[results_df.hp_idx==best_hp_idx,\"acc\"], marker=\"o\", label=\"best (acc)\")\n",
    "ax.plot(results_df.loc[results_df.hp_idx==worst_hp_idx,\"fold\"],\n",
    "        results_df.loc[results_df.hp_idx==worst_hp_idx,\"acc\"], marker=\"o\", label=\"worst (acc)\")\n",
    "ax.set_title(\"Per-fold accuracy: best vs worst hyperparams\")\n",
    "ax.set_xlabel(\"fold\"); ax.set_ylabel(\"accuracy\"); ax.set_xticks([1,2,3,4,5]); ax.legend()\n",
    "plt.tight_layout(); plt.show()\n",
    "\n",
    "# ---- aggregate confusion matrices (sum over folds) for best vs worst\n",
    "def sum_conf_mat(pairs):\n",
    "    cm_sum = np.zeros((2,2), dtype=int)\n",
    "    for y_true, y_pred in pairs:\n",
    "        cm_sum += confusion_matrix(y_true, y_pred, labels=[0,1])\n",
    "    return cm_sum\n",
    "\n",
    "cm_best  = sum_conf_mat(agg_preds[best_hp_idx])\n",
    "cm_worst = sum_conf_mat(agg_preds[worst_hp_idx])"
   ]
  },
  {
   "cell_type": "code",
   "execution_count": null,
   "id": "66bf19ce-fcb4-4bf3-b7b6-0a2243571a4a",
   "metadata": {},
   "outputs": [],
   "source": [
    "fig, axes = plt.subplots(1,2, figsize=(10,4))\n",
    "for ax, cm, title in [(axes[0], cm_best,  \"Best HP (sum over folds)\"),\n",
    "                      (axes[1], cm_worst, \"Worst HP (sum over folds)\")]:\n",
    "    disp = ConfusionMatrixDisplay(cm, display_labels=[\"neg\",\"pos\"])\n",
    "    disp.plot(ax=ax, cmap=\"Blues\", values_format=\"d\", colorbar=False)\n",
    "    ax.set_title(title)\n",
    "plt.tight_layout(); plt.show()"
   ]
  },
  {
   "cell_type": "code",
   "execution_count": null,
   "id": "e1ddfe97-0c5c-4031-9fcb-80f7c64d0de8",
   "metadata": {},
   "outputs": [],
   "source": []
  },
  {
   "cell_type": "code",
   "execution_count": null,
   "id": "d99c40ed-3ab0-43ff-9d48-ed612c035725",
   "metadata": {},
   "outputs": [],
   "source": []
  }
 ],
 "metadata": {
  "kernelspec": {
   "display_name": "text",
   "language": "python",
   "name": "text"
  },
  "language_info": {
   "codemirror_mode": {
    "name": "ipython",
    "version": 3
   },
   "file_extension": ".py",
   "mimetype": "text/x-python",
   "name": "python",
   "nbconvert_exporter": "python",
   "pygments_lexer": "ipython3",
   "version": "3.10.18"
  }
 },
 "nbformat": 4,
 "nbformat_minor": 5
}

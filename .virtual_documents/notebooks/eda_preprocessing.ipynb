


import warnings
warnings.filterwarnings("ignore")
import os, sys
import numpy as np
import pandas as pd
import seaborn as sns
import matplotlib.pyplot as plt
from nltk.corpus import stopwords
from nltk.stem import WordNetLemmatizer
from nltk.tokenize import word_tokenize
from wordcloud import WordCloud,STOPWORDS
from bs4 import BeautifulSoup
import re,string,unicodedata

from pathlib import Path


from IPython.display import HTML
import matplotlib.pyplot as plt

plt.rcParams["figure.figsize"] = (16, 6)

HTML("""
<style>
.container { width:100% !important; }
.output_png { display: block; margin-left: auto; margin-right: auto; }
</style>
""")





notebook_dir = Path().resolve()
csv_path = notebook_dir.parent / "data" / "IMDB_Dataset.csv"

data = pd.read_csv(csv_path)





data.head()


data.describe(include="all").T


data.info()


null_values = data.isnull().sum()
print(f"There are {null_values[0]} missing values for {null_values.index[0]} and {null_values[1]} for {null_values.index[1]}.")


num_duplicates = data.duplicated().sum() #identify duplicates
print(f"There are {num_duplicates} duplicate reviews present in the dataset")


review_data = data['review']
duplicated_review = data[review_data.isin(review_data[review_data.duplicated()])].sort_values("review")
duplicated_review.head()


data.drop_duplicates(inplace = True)
print('The dataset contains {} rows and {} columns after removing duplicates'.format(data.shape[0],data.shape[1]))


sys.path.append(str(notebook_dir.parent / "src"))
from preprocessor.preprocessing import IMDBPreprocessor


preprocessor = IMDBPreprocessor()


backup_data = data.copy()

data["review"] = data["review"].apply(preprocessor.preprocess)


data["sentiment"] = [1 if sentiment == "positive" else 0 for sentiment in data["sentiment"]]


data.head()


sns.set(style = "whitegrid" , font_scale = 1.2)
sns.countplot(data, x="sentiment", palette = ['green','red'],order = [1,0])
plt.xticks(ticks = np.arange(2),labels = ['positive','negative'])
plt.title('Target count for IMBD reviews')
plt.show()



